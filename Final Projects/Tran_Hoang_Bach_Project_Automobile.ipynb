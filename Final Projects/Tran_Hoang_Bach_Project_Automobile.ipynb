{
 "cells": [
  {
   "cell_type": "markdown",
   "metadata": {},
   "source": [
    "<a href=\"https://archive.ics.uci.edu/ml/datasets/wine+quality\"><img src=\"https://archive.ics.uci.edu/ml/assets/logo.gif\" width=\"400\" align=\"center\"></a>\n",
    "\n",
    "<h1 align=\"center\"><font size=\"5\">Project: Automobile - Predict \"Price\"</font></h1>\n",
    "<h2 align=\"center\"><font size=\"5\">Deadline: 2020-11-29 18:00:00</font></h2>\n",
    "<h3 align=\"center\"><font size=\"5\"> Total marks: 4.0</font></h3>"
   ]
  },
  {
   "cell_type": "markdown",
   "metadata": {},
   "source": [
    "### Your information:\n",
    "- Fullname:\n",
    "- Date of birth:\n",
    "- Place of birth:\n",
    "- Email:\n",
    "- Mobile phone:"
   ]
  },
  {
   "cell_type": "markdown",
   "metadata": {},
   "source": [
    "In this notebook, we practice all the knowledge and skills that we learned in this course.\n",
    "\n",
    "We apply the **Linear Algorithm** to predict: \"price of car\" by accuracy evaluation methods."
   ]
  },
  {
   "cell_type": "markdown",
   "metadata": {},
   "source": [
    "Please read [Automobile information](https://archive.ics.uci.edu/ml/datasets/Automobile) carefully before you do this project!"
   ]
  },
  {
   "cell_type": "code",
   "execution_count": 12,
   "metadata": {},
   "outputs": [],
   "source": [
    "import numpy as np\n",
    "import pandas as pd\n",
    "import matplotlib.pyplot as plt\n",
    "import seaborn as sb\n",
    "%matplotlib inline\n",
    "import re"
   ]
  },
  {
   "cell_type": "markdown",
   "metadata": {},
   "source": [
    "Dataset: imports_85.csv"
   ]
  },
  {
   "cell_type": "markdown",
   "metadata": {},
   "source": [
    "#### Attribute Information:\n",
    "Attribute: Attribute Range\n",
    "\n",
    "1. symboling: -3, -2, -1, 0, 1, 2, 3.\n",
    "2. normalized-losses: continuous from 65 to 256.\n",
    "3. make:\n",
    "alfa-romero, audi, bmw, chevrolet, dodge, honda,\n",
    "isuzu, jaguar, mazda, mercedes-benz, mercury,\n",
    "mitsubishi, nissan, peugot, plymouth, porsche,\n",
    "renault, saab, subaru, toyota, volkswagen, volvo\n",
    "4. fuel-type: diesel, gas.\n",
    "5. aspiration: std, turbo.\n",
    "6. num-of-doors: four, two.\n",
    "7. body-style: hardtop, wagon, sedan, hatchback, convertible.\n",
    "8. drive-wheels: 4wd, fwd, rwd.\n",
    "9. engine-location: front, rear.\n",
    "10. wheel-base: continuous from 86.6 120.9.\n",
    "11. length: continuous from 141.1 to 208.1.\n",
    "12. width: continuous from 60.3 to 72.3.\n",
    "13. height: continuous from 47.8 to 59.8.\n",
    "14. curb-weight: continuous from 1488 to 4066.\n",
    "15. engine-type: dohc, dohcv, l, ohc, ohcf, ohcv, rotor.\n",
    "16. num-of-cylinders: eight, five, four, six, three, twelve, two.\n",
    "17. engine-size: continuous from 61 to 326.\n",
    "18. fuel-system: 1bbl, 2bbl, 4bbl, idi, mfi, mpfi, spdi, spfi.\n",
    "19. bore: continuous from 2.54 to 3.94.\n",
    "20. stroke: continuous from 2.07 to 4.17.\n",
    "21. compression-ratio: continuous from 7 to 23.\n",
    "22. horsepower: continuous from 48 to 288.\n",
    "23. peak-rpm: continuous from 4150 to 6600.\n",
    "24. city-mpg: continuous from 13 to 49.\n",
    "25. highway-mpg: continuous from 16 to 54.\n",
    "26. price: continuous from 5118 to 45400."
   ]
  },
  {
   "cell_type": "code",
   "execution_count": 46,
   "metadata": {},
   "outputs": [],
   "source": [
    "info_string = 'symboling: -3, -2, -1, 0, 1, 2, 3. normalized-losses: continuous: from 65 to 256. make: alfa-romero, audi, bmw, chevrolet, dodge, honda, isuzu, jaguar, mazda, mercedes-benz, mercury, mitsubishi, nissan, peugot, plymouth, porsche, renault, saab, subaru, toyota, volkswagen, volvo. fuel-type: diesel, gas. aspiration: std, turbo. num-of-doors: four, two. body-style: hardtop, wagon, sedan, hatchback, convertible. drive-wheels: 4wd, fwd, rwd. engine-location: front, rear. wheel-base: continuous: from 86.6 to 120.9. length: continuous: from 141.1 to 208.1. width: continuous: from 60.3 to 72.3. height: continuous: from 47.8 to 59.8. curb-weight: continuous: from 1488 to 4066. engine-type: dohc, dohcv, l, ohc, ohcf, ohcv, rotor. num-of-cylinders: eight, five, four, six, three, twelve, two. engine-size: continuous: from 61 to 326. fuel-system: 1bbl, 2bbl, 4bbl, idi, mfi, mpfi, spdi, spfi. bore: continuous: from 2.54 to 3.94. stroke: continuous: from 2.07 to 4.17. compression-ratio: continuous: from 7 to 23. horsepower: continuous: from 48 to 288. peak-rpm: continuous: from 4150 to 6600. city-mpg: continuous: from 13 to 49. highway-mpg: continuous: from 16 to 54. price: continuous: from 5118 to 45400.'"
   ]
  },
  {
   "cell_type": "code",
   "execution_count": 47,
   "metadata": {},
   "outputs": [
    {
     "output_type": "execute_result",
     "data": {
      "text/plain": [
       "'from 86.6 120.9'"
      ]
     },
     "metadata": {},
     "execution_count": 47
    }
   ],
   "source": [
    "a = 'from 86.6 120.9'\n",
    "re.split('from (\\d*\\.*\\d*) to (\\d*\\.*\\d*)', a)[0]"
   ]
  },
  {
   "cell_type": "code",
   "execution_count": 54,
   "metadata": {},
   "outputs": [
    {
     "output_type": "execute_result",
     "data": {
      "text/plain": [
       "                  col        type  \\\n",
       "0           symboling    category   \n",
       "1   normalized-losses  continuous   \n",
       "2                make    category   \n",
       "3           fuel-type    category   \n",
       "4          aspiration    category   \n",
       "5        num-of-doors    category   \n",
       "6          body-style    category   \n",
       "7        drive-wheels    category   \n",
       "8     engine-location    category   \n",
       "9          wheel-base  continuous   \n",
       "10             length  continuous   \n",
       "11              width  continuous   \n",
       "12             height  continuous   \n",
       "13        curb-weight  continuous   \n",
       "14        engine-type    category   \n",
       "15   num-of-cylinders    category   \n",
       "16        engine-size  continuous   \n",
       "17        fuel-system    category   \n",
       "18               bore  continuous   \n",
       "19             stroke  continuous   \n",
       "20  compression-ratio  continuous   \n",
       "21         horsepower  continuous   \n",
       "22           peak-rpm  continuous   \n",
       "23           city-mpg  continuous   \n",
       "24        highway-mpg  continuous   \n",
       "25              price  continuous   \n",
       "\n",
       "                                       category_label n_label  \\\n",
       "0                            [-3, -2, -1, 0, 1, 2, 3]       7   \n",
       "1                                                               \n",
       "2   [alfa-romero, audi, bmw, chevrolet, dodge, hon...      22   \n",
       "3                                       [diesel, gas]       2   \n",
       "4                                        [std, turbo]       2   \n",
       "5                                         [four, two]       2   \n",
       "6     [hardtop, wagon, sedan, hatchback, convertible]       5   \n",
       "7                                     [4wd, fwd, rwd]       3   \n",
       "8                                       [front, rear]       2   \n",
       "9                                                               \n",
       "10                                                              \n",
       "11                                                              \n",
       "12                                                              \n",
       "13                                                              \n",
       "14           [dohc, dohcv, l, ohc, ohcf, ohcv, rotor]       7   \n",
       "15       [eight, five, four, six, three, twelve, two]       7   \n",
       "16                                                              \n",
       "17     [1bbl, 2bbl, 4bbl, idi, mfi, mpfi, spdi, spfi]       8   \n",
       "18                                                              \n",
       "19                                                              \n",
       "20                                                              \n",
       "21                                                              \n",
       "22                                                              \n",
       "23                                                              \n",
       "24                                                              \n",
       "25                                                              \n",
       "\n",
       "                range    min    max  \n",
       "0                                    \n",
       "1           [65, 256]     65    256  \n",
       "2                                    \n",
       "3                                    \n",
       "4                                    \n",
       "5                                    \n",
       "6                                    \n",
       "7                                    \n",
       "8                                    \n",
       "9       [86.6, 120.9]   86.6  120.9  \n",
       "10     [141.1, 208.1]  141.1  208.1  \n",
       "11       [60.3, 72.3]   60.3   72.3  \n",
       "12       [47.8, 59.8]   47.8   59.8  \n",
       "13       [1488, 4066]   1488   4066  \n",
       "14                                   \n",
       "15                                   \n",
       "16          [61, 326]     61    326  \n",
       "17                                   \n",
       "18       [2.54, 3.94]   2.54   3.94  \n",
       "19       [2.07, 4.17]   2.07   4.17  \n",
       "20            [7, 23]      7     23  \n",
       "21          [48, 288]     48    288  \n",
       "22       [4150, 6600]   4150   6600  \n",
       "23           [13, 49]     13     49  \n",
       "24           [16, 54]     16     54  \n",
       "25  [5118.0, 45400.0]   5118  45400  "
      ],
      "text/html": "<div>\n<style scoped>\n    .dataframe tbody tr th:only-of-type {\n        vertical-align: middle;\n    }\n\n    .dataframe tbody tr th {\n        vertical-align: top;\n    }\n\n    .dataframe thead th {\n        text-align: right;\n    }\n</style>\n<table border=\"1\" class=\"dataframe\">\n  <thead>\n    <tr style=\"text-align: right;\">\n      <th></th>\n      <th>col</th>\n      <th>type</th>\n      <th>category_label</th>\n      <th>n_label</th>\n      <th>range</th>\n      <th>min</th>\n      <th>max</th>\n    </tr>\n  </thead>\n  <tbody>\n    <tr>\n      <th>0</th>\n      <td>symboling</td>\n      <td>category</td>\n      <td>[-3, -2, -1, 0, 1, 2, 3]</td>\n      <td>7</td>\n      <td></td>\n      <td></td>\n      <td></td>\n    </tr>\n    <tr>\n      <th>1</th>\n      <td>normalized-losses</td>\n      <td>continuous</td>\n      <td></td>\n      <td></td>\n      <td>[65, 256]</td>\n      <td>65</td>\n      <td>256</td>\n    </tr>\n    <tr>\n      <th>2</th>\n      <td>make</td>\n      <td>category</td>\n      <td>[alfa-romero, audi, bmw, chevrolet, dodge, hon...</td>\n      <td>22</td>\n      <td></td>\n      <td></td>\n      <td></td>\n    </tr>\n    <tr>\n      <th>3</th>\n      <td>fuel-type</td>\n      <td>category</td>\n      <td>[diesel, gas]</td>\n      <td>2</td>\n      <td></td>\n      <td></td>\n      <td></td>\n    </tr>\n    <tr>\n      <th>4</th>\n      <td>aspiration</td>\n      <td>category</td>\n      <td>[std, turbo]</td>\n      <td>2</td>\n      <td></td>\n      <td></td>\n      <td></td>\n    </tr>\n    <tr>\n      <th>5</th>\n      <td>num-of-doors</td>\n      <td>category</td>\n      <td>[four, two]</td>\n      <td>2</td>\n      <td></td>\n      <td></td>\n      <td></td>\n    </tr>\n    <tr>\n      <th>6</th>\n      <td>body-style</td>\n      <td>category</td>\n      <td>[hardtop, wagon, sedan, hatchback, convertible]</td>\n      <td>5</td>\n      <td></td>\n      <td></td>\n      <td></td>\n    </tr>\n    <tr>\n      <th>7</th>\n      <td>drive-wheels</td>\n      <td>category</td>\n      <td>[4wd, fwd, rwd]</td>\n      <td>3</td>\n      <td></td>\n      <td></td>\n      <td></td>\n    </tr>\n    <tr>\n      <th>8</th>\n      <td>engine-location</td>\n      <td>category</td>\n      <td>[front, rear]</td>\n      <td>2</td>\n      <td></td>\n      <td></td>\n      <td></td>\n    </tr>\n    <tr>\n      <th>9</th>\n      <td>wheel-base</td>\n      <td>continuous</td>\n      <td></td>\n      <td></td>\n      <td>[86.6, 120.9]</td>\n      <td>86.6</td>\n      <td>120.9</td>\n    </tr>\n    <tr>\n      <th>10</th>\n      <td>length</td>\n      <td>continuous</td>\n      <td></td>\n      <td></td>\n      <td>[141.1, 208.1]</td>\n      <td>141.1</td>\n      <td>208.1</td>\n    </tr>\n    <tr>\n      <th>11</th>\n      <td>width</td>\n      <td>continuous</td>\n      <td></td>\n      <td></td>\n      <td>[60.3, 72.3]</td>\n      <td>60.3</td>\n      <td>72.3</td>\n    </tr>\n    <tr>\n      <th>12</th>\n      <td>height</td>\n      <td>continuous</td>\n      <td></td>\n      <td></td>\n      <td>[47.8, 59.8]</td>\n      <td>47.8</td>\n      <td>59.8</td>\n    </tr>\n    <tr>\n      <th>13</th>\n      <td>curb-weight</td>\n      <td>continuous</td>\n      <td></td>\n      <td></td>\n      <td>[1488, 4066]</td>\n      <td>1488</td>\n      <td>4066</td>\n    </tr>\n    <tr>\n      <th>14</th>\n      <td>engine-type</td>\n      <td>category</td>\n      <td>[dohc, dohcv, l, ohc, ohcf, ohcv, rotor]</td>\n      <td>7</td>\n      <td></td>\n      <td></td>\n      <td></td>\n    </tr>\n    <tr>\n      <th>15</th>\n      <td>num-of-cylinders</td>\n      <td>category</td>\n      <td>[eight, five, four, six, three, twelve, two]</td>\n      <td>7</td>\n      <td></td>\n      <td></td>\n      <td></td>\n    </tr>\n    <tr>\n      <th>16</th>\n      <td>engine-size</td>\n      <td>continuous</td>\n      <td></td>\n      <td></td>\n      <td>[61, 326]</td>\n      <td>61</td>\n      <td>326</td>\n    </tr>\n    <tr>\n      <th>17</th>\n      <td>fuel-system</td>\n      <td>category</td>\n      <td>[1bbl, 2bbl, 4bbl, idi, mfi, mpfi, spdi, spfi]</td>\n      <td>8</td>\n      <td></td>\n      <td></td>\n      <td></td>\n    </tr>\n    <tr>\n      <th>18</th>\n      <td>bore</td>\n      <td>continuous</td>\n      <td></td>\n      <td></td>\n      <td>[2.54, 3.94]</td>\n      <td>2.54</td>\n      <td>3.94</td>\n    </tr>\n    <tr>\n      <th>19</th>\n      <td>stroke</td>\n      <td>continuous</td>\n      <td></td>\n      <td></td>\n      <td>[2.07, 4.17]</td>\n      <td>2.07</td>\n      <td>4.17</td>\n    </tr>\n    <tr>\n      <th>20</th>\n      <td>compression-ratio</td>\n      <td>continuous</td>\n      <td></td>\n      <td></td>\n      <td>[7, 23]</td>\n      <td>7</td>\n      <td>23</td>\n    </tr>\n    <tr>\n      <th>21</th>\n      <td>horsepower</td>\n      <td>continuous</td>\n      <td></td>\n      <td></td>\n      <td>[48, 288]</td>\n      <td>48</td>\n      <td>288</td>\n    </tr>\n    <tr>\n      <th>22</th>\n      <td>peak-rpm</td>\n      <td>continuous</td>\n      <td></td>\n      <td></td>\n      <td>[4150, 6600]</td>\n      <td>4150</td>\n      <td>6600</td>\n    </tr>\n    <tr>\n      <th>23</th>\n      <td>city-mpg</td>\n      <td>continuous</td>\n      <td></td>\n      <td></td>\n      <td>[13, 49]</td>\n      <td>13</td>\n      <td>49</td>\n    </tr>\n    <tr>\n      <th>24</th>\n      <td>highway-mpg</td>\n      <td>continuous</td>\n      <td></td>\n      <td></td>\n      <td>[16, 54]</td>\n      <td>16</td>\n      <td>54</td>\n    </tr>\n    <tr>\n      <th>25</th>\n      <td>price</td>\n      <td>continuous</td>\n      <td></td>\n      <td></td>\n      <td>[5118.0, 45400.0]</td>\n      <td>5118</td>\n      <td>45400</td>\n    </tr>\n  </tbody>\n</table>\n</div>"
     },
     "metadata": {},
     "execution_count": 54
    }
   ],
   "source": [
    "info = pd.DataFrame(info_string.split('. '), columns=['detail'])\n",
    "info['detail'] = info['detail'].apply(lambda x: x.split(': '))\n",
    "# info['detail'] = info['detail'].apply(lambda x: [s.strip() for s in x])\n",
    "info['col'] = info['detail'].apply(lambda x: x[0])\n",
    "info['type'] = info['detail'].apply(lambda x: 'continuous' if x[1]=='continuous' else 'category')\n",
    "info['category_label'] = info.apply(lambda x: x['detail'][1].split(', ') if x['type']=='category' else '', axis=1)\n",
    "info['n_label'] = info['category_label'].apply(lambda x: len(x) if len(x)>0 else '')\n",
    "info['range'] = info.apply(lambda x: x['detail'][2] if x['type'] == 'continuous' else '', axis=1)\n",
    "info['range'] = info.apply(lambda x: pd.to_numeric(re.findall('from (\\d*\\.*\\d*) to (\\d*\\.*\\d*)', x['detail'][2])[0]) if x['type'] == 'continuous' else '', axis=1)\n",
    "info['min'] = info.apply(lambda x: x['range'][0] if x['type']=='continuous' else '', axis=1)\n",
    "info['max'] = info.apply(lambda x: x['range'][1] if x['type']=='continuous' else '', axis=1)\n",
    "info.drop(columns=['detail'], inplace=True)\n",
    "info"
   ]
  },
  {
   "cell_type": "code",
   "execution_count": 55,
   "metadata": {},
   "outputs": [
    {
     "output_type": "error",
     "ename": "FileNotFoundError",
     "evalue": "[Errno 2] No such file or directory: 'imports_85.csv'",
     "traceback": [
      "\u001b[0;31m---------------------------------------------------------------------------\u001b[0m",
      "\u001b[0;31mFileNotFoundError\u001b[0m                         Traceback (most recent call last)",
      "\u001b[0;32m<ipython-input-55-858e6b0086b2>\u001b[0m in \u001b[0;36m<module>\u001b[0;34m\u001b[0m\n\u001b[0;32m----> 1\u001b[0;31m \u001b[0mdf\u001b[0m \u001b[0;34m=\u001b[0m \u001b[0mpd\u001b[0m\u001b[0;34m.\u001b[0m\u001b[0mread_csv\u001b[0m\u001b[0;34m(\u001b[0m\u001b[0;34m'imports_85.csv'\u001b[0m\u001b[0;34m,\u001b[0m \u001b[0mheader\u001b[0m\u001b[0;34m=\u001b[0m\u001b[0;32mNone\u001b[0m\u001b[0;34m,\u001b[0m \u001b[0mnames\u001b[0m\u001b[0;34m=\u001b[0m\u001b[0minfo\u001b[0m\u001b[0;34m[\u001b[0m\u001b[0;34m'col'\u001b[0m\u001b[0;34m]\u001b[0m\u001b[0;34m)\u001b[0m\u001b[0;34m\u001b[0m\u001b[0;34m\u001b[0m\u001b[0m\n\u001b[0m\u001b[1;32m      2\u001b[0m \u001b[0mdf\u001b[0m\u001b[0;34m\u001b[0m\u001b[0;34m\u001b[0m\u001b[0m\n",
      "\u001b[0;32m~/opt/anaconda3/envs/ai_learn/lib/python3.7/site-packages/pandas/io/parsers.py\u001b[0m in \u001b[0;36mread_csv\u001b[0;34m(filepath_or_buffer, sep, delimiter, header, names, index_col, usecols, squeeze, prefix, mangle_dupe_cols, dtype, engine, converters, true_values, false_values, skipinitialspace, skiprows, skipfooter, nrows, na_values, keep_default_na, na_filter, verbose, skip_blank_lines, parse_dates, infer_datetime_format, keep_date_col, date_parser, dayfirst, cache_dates, iterator, chunksize, compression, thousands, decimal, lineterminator, quotechar, quoting, doublequote, escapechar, comment, encoding, dialect, error_bad_lines, warn_bad_lines, delim_whitespace, low_memory, memory_map, float_precision)\u001b[0m\n\u001b[1;32m    684\u001b[0m     )\n\u001b[1;32m    685\u001b[0m \u001b[0;34m\u001b[0m\u001b[0m\n\u001b[0;32m--> 686\u001b[0;31m     \u001b[0;32mreturn\u001b[0m \u001b[0m_read\u001b[0m\u001b[0;34m(\u001b[0m\u001b[0mfilepath_or_buffer\u001b[0m\u001b[0;34m,\u001b[0m \u001b[0mkwds\u001b[0m\u001b[0;34m)\u001b[0m\u001b[0;34m\u001b[0m\u001b[0;34m\u001b[0m\u001b[0m\n\u001b[0m\u001b[1;32m    687\u001b[0m \u001b[0;34m\u001b[0m\u001b[0m\n\u001b[1;32m    688\u001b[0m \u001b[0;34m\u001b[0m\u001b[0m\n",
      "\u001b[0;32m~/opt/anaconda3/envs/ai_learn/lib/python3.7/site-packages/pandas/io/parsers.py\u001b[0m in \u001b[0;36m_read\u001b[0;34m(filepath_or_buffer, kwds)\u001b[0m\n\u001b[1;32m    450\u001b[0m \u001b[0;34m\u001b[0m\u001b[0m\n\u001b[1;32m    451\u001b[0m     \u001b[0;31m# Create the parser.\u001b[0m\u001b[0;34m\u001b[0m\u001b[0;34m\u001b[0m\u001b[0;34m\u001b[0m\u001b[0m\n\u001b[0;32m--> 452\u001b[0;31m     \u001b[0mparser\u001b[0m \u001b[0;34m=\u001b[0m \u001b[0mTextFileReader\u001b[0m\u001b[0;34m(\u001b[0m\u001b[0mfp_or_buf\u001b[0m\u001b[0;34m,\u001b[0m \u001b[0;34m**\u001b[0m\u001b[0mkwds\u001b[0m\u001b[0;34m)\u001b[0m\u001b[0;34m\u001b[0m\u001b[0;34m\u001b[0m\u001b[0m\n\u001b[0m\u001b[1;32m    453\u001b[0m \u001b[0;34m\u001b[0m\u001b[0m\n\u001b[1;32m    454\u001b[0m     \u001b[0;32mif\u001b[0m \u001b[0mchunksize\u001b[0m \u001b[0;32mor\u001b[0m \u001b[0miterator\u001b[0m\u001b[0;34m:\u001b[0m\u001b[0;34m\u001b[0m\u001b[0;34m\u001b[0m\u001b[0m\n",
      "\u001b[0;32m~/opt/anaconda3/envs/ai_learn/lib/python3.7/site-packages/pandas/io/parsers.py\u001b[0m in \u001b[0;36m__init__\u001b[0;34m(self, f, engine, **kwds)\u001b[0m\n\u001b[1;32m    934\u001b[0m             \u001b[0mself\u001b[0m\u001b[0;34m.\u001b[0m\u001b[0moptions\u001b[0m\u001b[0;34m[\u001b[0m\u001b[0;34m\"has_index_names\"\u001b[0m\u001b[0;34m]\u001b[0m \u001b[0;34m=\u001b[0m \u001b[0mkwds\u001b[0m\u001b[0;34m[\u001b[0m\u001b[0;34m\"has_index_names\"\u001b[0m\u001b[0;34m]\u001b[0m\u001b[0;34m\u001b[0m\u001b[0;34m\u001b[0m\u001b[0m\n\u001b[1;32m    935\u001b[0m \u001b[0;34m\u001b[0m\u001b[0m\n\u001b[0;32m--> 936\u001b[0;31m         \u001b[0mself\u001b[0m\u001b[0;34m.\u001b[0m\u001b[0m_make_engine\u001b[0m\u001b[0;34m(\u001b[0m\u001b[0mself\u001b[0m\u001b[0;34m.\u001b[0m\u001b[0mengine\u001b[0m\u001b[0;34m)\u001b[0m\u001b[0;34m\u001b[0m\u001b[0;34m\u001b[0m\u001b[0m\n\u001b[0m\u001b[1;32m    937\u001b[0m \u001b[0;34m\u001b[0m\u001b[0m\n\u001b[1;32m    938\u001b[0m     \u001b[0;32mdef\u001b[0m \u001b[0mclose\u001b[0m\u001b[0;34m(\u001b[0m\u001b[0mself\u001b[0m\u001b[0;34m)\u001b[0m\u001b[0;34m:\u001b[0m\u001b[0;34m\u001b[0m\u001b[0;34m\u001b[0m\u001b[0m\n",
      "\u001b[0;32m~/opt/anaconda3/envs/ai_learn/lib/python3.7/site-packages/pandas/io/parsers.py\u001b[0m in \u001b[0;36m_make_engine\u001b[0;34m(self, engine)\u001b[0m\n\u001b[1;32m   1166\u001b[0m     \u001b[0;32mdef\u001b[0m \u001b[0m_make_engine\u001b[0m\u001b[0;34m(\u001b[0m\u001b[0mself\u001b[0m\u001b[0;34m,\u001b[0m \u001b[0mengine\u001b[0m\u001b[0;34m=\u001b[0m\u001b[0;34m\"c\"\u001b[0m\u001b[0;34m)\u001b[0m\u001b[0;34m:\u001b[0m\u001b[0;34m\u001b[0m\u001b[0;34m\u001b[0m\u001b[0m\n\u001b[1;32m   1167\u001b[0m         \u001b[0;32mif\u001b[0m \u001b[0mengine\u001b[0m \u001b[0;34m==\u001b[0m \u001b[0;34m\"c\"\u001b[0m\u001b[0;34m:\u001b[0m\u001b[0;34m\u001b[0m\u001b[0;34m\u001b[0m\u001b[0m\n\u001b[0;32m-> 1168\u001b[0;31m             \u001b[0mself\u001b[0m\u001b[0;34m.\u001b[0m\u001b[0m_engine\u001b[0m \u001b[0;34m=\u001b[0m \u001b[0mCParserWrapper\u001b[0m\u001b[0;34m(\u001b[0m\u001b[0mself\u001b[0m\u001b[0;34m.\u001b[0m\u001b[0mf\u001b[0m\u001b[0;34m,\u001b[0m \u001b[0;34m**\u001b[0m\u001b[0mself\u001b[0m\u001b[0;34m.\u001b[0m\u001b[0moptions\u001b[0m\u001b[0;34m)\u001b[0m\u001b[0;34m\u001b[0m\u001b[0;34m\u001b[0m\u001b[0m\n\u001b[0m\u001b[1;32m   1169\u001b[0m         \u001b[0;32melse\u001b[0m\u001b[0;34m:\u001b[0m\u001b[0;34m\u001b[0m\u001b[0;34m\u001b[0m\u001b[0m\n\u001b[1;32m   1170\u001b[0m             \u001b[0;32mif\u001b[0m \u001b[0mengine\u001b[0m \u001b[0;34m==\u001b[0m \u001b[0;34m\"python\"\u001b[0m\u001b[0;34m:\u001b[0m\u001b[0;34m\u001b[0m\u001b[0;34m\u001b[0m\u001b[0m\n",
      "\u001b[0;32m~/opt/anaconda3/envs/ai_learn/lib/python3.7/site-packages/pandas/io/parsers.py\u001b[0m in \u001b[0;36m__init__\u001b[0;34m(self, src, **kwds)\u001b[0m\n\u001b[1;32m   1996\u001b[0m         \u001b[0mkwds\u001b[0m\u001b[0;34m[\u001b[0m\u001b[0;34m\"usecols\"\u001b[0m\u001b[0;34m]\u001b[0m \u001b[0;34m=\u001b[0m \u001b[0mself\u001b[0m\u001b[0;34m.\u001b[0m\u001b[0musecols\u001b[0m\u001b[0;34m\u001b[0m\u001b[0;34m\u001b[0m\u001b[0m\n\u001b[1;32m   1997\u001b[0m \u001b[0;34m\u001b[0m\u001b[0m\n\u001b[0;32m-> 1998\u001b[0;31m         \u001b[0mself\u001b[0m\u001b[0;34m.\u001b[0m\u001b[0m_reader\u001b[0m \u001b[0;34m=\u001b[0m \u001b[0mparsers\u001b[0m\u001b[0;34m.\u001b[0m\u001b[0mTextReader\u001b[0m\u001b[0;34m(\u001b[0m\u001b[0msrc\u001b[0m\u001b[0;34m,\u001b[0m \u001b[0;34m**\u001b[0m\u001b[0mkwds\u001b[0m\u001b[0;34m)\u001b[0m\u001b[0;34m\u001b[0m\u001b[0;34m\u001b[0m\u001b[0m\n\u001b[0m\u001b[1;32m   1999\u001b[0m         \u001b[0mself\u001b[0m\u001b[0;34m.\u001b[0m\u001b[0munnamed_cols\u001b[0m \u001b[0;34m=\u001b[0m \u001b[0mself\u001b[0m\u001b[0;34m.\u001b[0m\u001b[0m_reader\u001b[0m\u001b[0;34m.\u001b[0m\u001b[0munnamed_cols\u001b[0m\u001b[0;34m\u001b[0m\u001b[0;34m\u001b[0m\u001b[0m\n\u001b[1;32m   2000\u001b[0m \u001b[0;34m\u001b[0m\u001b[0m\n",
      "\u001b[0;32mpandas/_libs/parsers.pyx\u001b[0m in \u001b[0;36mpandas._libs.parsers.TextReader.__cinit__\u001b[0;34m()\u001b[0m\n",
      "\u001b[0;32mpandas/_libs/parsers.pyx\u001b[0m in \u001b[0;36mpandas._libs.parsers.TextReader._setup_parser_source\u001b[0;34m()\u001b[0m\n",
      "\u001b[0;31mFileNotFoundError\u001b[0m: [Errno 2] No such file or directory: 'imports_85.csv'"
     ]
    }
   ],
   "source": [
    "df = pd.read_csv('imports_85.csv', header=None, names=info['col'])\n",
    "df"
   ]
  },
  {
   "cell_type": "code",
   "execution_count": 6,
   "metadata": {},
   "outputs": [
    {
     "output_type": "stream",
     "name": "stdout",
     "text": [
      "<class 'pandas.core.frame.DataFrame'>\nRangeIndex: 205 entries, 0 to 204\nData columns (total 26 columns):\n #   Column  Non-Null Count  Dtype  \n---  ------  --------------  -----  \n 0   0       205 non-null    int64  \n 1   1       205 non-null    object \n 2   2       205 non-null    object \n 3   3       205 non-null    object \n 4   4       205 non-null    object \n 5   5       205 non-null    object \n 6   6       205 non-null    object \n 7   7       205 non-null    object \n 8   8       205 non-null    object \n 9   9       205 non-null    float64\n 10  10      205 non-null    float64\n 11  11      205 non-null    float64\n 12  12      205 non-null    float64\n 13  13      205 non-null    int64  \n 14  14      205 non-null    object \n 15  15      205 non-null    object \n 16  16      205 non-null    int64  \n 17  17      205 non-null    object \n 18  18      205 non-null    object \n 19  19      205 non-null    object \n 20  20      205 non-null    float64\n 21  21      205 non-null    object \n 22  22      205 non-null    object \n 23  23      205 non-null    int64  \n 24  24      205 non-null    int64  \n 25  25      205 non-null    object \ndtypes: float64(5), int64(5), object(16)\nmemory usage: 41.8+ KB\n"
     ]
    }
   ],
   "source": [
    "df.info()"
   ]
  },
  {
   "cell_type": "markdown",
   "metadata": {},
   "source": [
    "### Requirements:"
   ]
  },
  {
   "cell_type": "markdown",
   "metadata": {},
   "source": [
    "- Data exploration\n",
    "- Data visualization\n",
    "- Pre-processing: Feature selection/extraction\n",
    "- Linear Regression\n",
    "    - Model Evaluation using Test set\n",
    "    - Report"
   ]
  },
  {
   "cell_type": "code",
   "execution_count": null,
   "metadata": {},
   "outputs": [],
   "source": [
    "# Idea: Write a function to extract Variable attribute range from detail above, make it to data frame\n",
    "# Then use for-loops to check back to data set, change the inputs cell if they not meet attribute range from data-frame created\n",
    "# "
   ]
  },
  {
   "cell_type": "code",
   "execution_count": 5,
   "metadata": {},
   "outputs": [
    {
     "output_type": "execute_result",
     "data": {
      "text/plain": [
       "    Col     Type  Total_NaN  Percent  \\\n",
       "0     0  Numeric          0      0.0   \n",
       "1     1   Object          0      0.0   \n",
       "2     2   Object          0      0.0   \n",
       "3     3   Object          0      0.0   \n",
       "4     4   Object          0      0.0   \n",
       "5     5   Object          0      0.0   \n",
       "6     6   Object          0      0.0   \n",
       "7     7   Object          0      0.0   \n",
       "8     8   Object          0      0.0   \n",
       "9     9  Numeric          0      0.0   \n",
       "10   10  Numeric          0      0.0   \n",
       "11   11  Numeric          0      0.0   \n",
       "12   12  Numeric          0      0.0   \n",
       "13   13  Numeric          0      0.0   \n",
       "14   14   Object          0      0.0   \n",
       "15   15   Object          0      0.0   \n",
       "16   16  Numeric          0      0.0   \n",
       "17   17   Object          0      0.0   \n",
       "18   18   Object          0      0.0   \n",
       "19   19   Object          0      0.0   \n",
       "20   20  Numeric          0      0.0   \n",
       "21   21   Object          0      0.0   \n",
       "22   22   Object          0      0.0   \n",
       "23   23  Numeric          0      0.0   \n",
       "24   24  Numeric          0      0.0   \n",
       "25   25   Object          0      0.0   \n",
       "\n",
       "                                               Unique  \n",
       "0                                                      \n",
       "1   [?, 164, 158, 192, 188, 121, 98, 81, 118, 148,...  \n",
       "2   [alfa-romero, audi, bmw, chevrolet, dodge, hon...  \n",
       "3                                       [gas, diesel]  \n",
       "4                                        [std, turbo]  \n",
       "5                                      [two, four, ?]  \n",
       "6     [convertible, hatchback, sedan, wagon, hardtop]  \n",
       "7                                     [rwd, fwd, 4wd]  \n",
       "8                                       [front, rear]  \n",
       "9                                                      \n",
       "10                                                     \n",
       "11                                                     \n",
       "12                                                     \n",
       "13                                                     \n",
       "14           [dohc, ohcv, ohc, l, rotor, ohcf, dohcv]  \n",
       "15       [four, six, five, three, twelve, two, eight]  \n",
       "16                                                     \n",
       "17     [mpfi, 2bbl, mfi, 1bbl, spfi, 4bbl, idi, spdi]  \n",
       "18  [3.47, 2.68, 3.19, 3.13, 3.50, 3.31, 3.62, 2.9...  \n",
       "19  [2.68, 3.47, 3.40, 2.80, 3.19, 3.39, 3.03, 3.1...  \n",
       "20                                                     \n",
       "21  [111, 154, 102, 115, 110, 140, 160, 101, 121, ...  \n",
       "22  [5000, 5500, 5800, 4250, 5400, 5100, 4800, 600...  \n",
       "23                                                     \n",
       "24                                                     \n",
       "25  [13495, 16500, 13950, 17450, 15250, 17710, 189...  "
      ],
      "text/html": "<div>\n<style scoped>\n    .dataframe tbody tr th:only-of-type {\n        vertical-align: middle;\n    }\n\n    .dataframe tbody tr th {\n        vertical-align: top;\n    }\n\n    .dataframe thead th {\n        text-align: right;\n    }\n</style>\n<table border=\"1\" class=\"dataframe\">\n  <thead>\n    <tr style=\"text-align: right;\">\n      <th></th>\n      <th>Col</th>\n      <th>Type</th>\n      <th>Total_NaN</th>\n      <th>Percent</th>\n      <th>Unique</th>\n    </tr>\n  </thead>\n  <tbody>\n    <tr>\n      <th>0</th>\n      <td>0</td>\n      <td>Numeric</td>\n      <td>0</td>\n      <td>0.0</td>\n      <td></td>\n    </tr>\n    <tr>\n      <th>1</th>\n      <td>1</td>\n      <td>Object</td>\n      <td>0</td>\n      <td>0.0</td>\n      <td>[?, 164, 158, 192, 188, 121, 98, 81, 118, 148,...</td>\n    </tr>\n    <tr>\n      <th>2</th>\n      <td>2</td>\n      <td>Object</td>\n      <td>0</td>\n      <td>0.0</td>\n      <td>[alfa-romero, audi, bmw, chevrolet, dodge, hon...</td>\n    </tr>\n    <tr>\n      <th>3</th>\n      <td>3</td>\n      <td>Object</td>\n      <td>0</td>\n      <td>0.0</td>\n      <td>[gas, diesel]</td>\n    </tr>\n    <tr>\n      <th>4</th>\n      <td>4</td>\n      <td>Object</td>\n      <td>0</td>\n      <td>0.0</td>\n      <td>[std, turbo]</td>\n    </tr>\n    <tr>\n      <th>5</th>\n      <td>5</td>\n      <td>Object</td>\n      <td>0</td>\n      <td>0.0</td>\n      <td>[two, four, ?]</td>\n    </tr>\n    <tr>\n      <th>6</th>\n      <td>6</td>\n      <td>Object</td>\n      <td>0</td>\n      <td>0.0</td>\n      <td>[convertible, hatchback, sedan, wagon, hardtop]</td>\n    </tr>\n    <tr>\n      <th>7</th>\n      <td>7</td>\n      <td>Object</td>\n      <td>0</td>\n      <td>0.0</td>\n      <td>[rwd, fwd, 4wd]</td>\n    </tr>\n    <tr>\n      <th>8</th>\n      <td>8</td>\n      <td>Object</td>\n      <td>0</td>\n      <td>0.0</td>\n      <td>[front, rear]</td>\n    </tr>\n    <tr>\n      <th>9</th>\n      <td>9</td>\n      <td>Numeric</td>\n      <td>0</td>\n      <td>0.0</td>\n      <td></td>\n    </tr>\n    <tr>\n      <th>10</th>\n      <td>10</td>\n      <td>Numeric</td>\n      <td>0</td>\n      <td>0.0</td>\n      <td></td>\n    </tr>\n    <tr>\n      <th>11</th>\n      <td>11</td>\n      <td>Numeric</td>\n      <td>0</td>\n      <td>0.0</td>\n      <td></td>\n    </tr>\n    <tr>\n      <th>12</th>\n      <td>12</td>\n      <td>Numeric</td>\n      <td>0</td>\n      <td>0.0</td>\n      <td></td>\n    </tr>\n    <tr>\n      <th>13</th>\n      <td>13</td>\n      <td>Numeric</td>\n      <td>0</td>\n      <td>0.0</td>\n      <td></td>\n    </tr>\n    <tr>\n      <th>14</th>\n      <td>14</td>\n      <td>Object</td>\n      <td>0</td>\n      <td>0.0</td>\n      <td>[dohc, ohcv, ohc, l, rotor, ohcf, dohcv]</td>\n    </tr>\n    <tr>\n      <th>15</th>\n      <td>15</td>\n      <td>Object</td>\n      <td>0</td>\n      <td>0.0</td>\n      <td>[four, six, five, three, twelve, two, eight]</td>\n    </tr>\n    <tr>\n      <th>16</th>\n      <td>16</td>\n      <td>Numeric</td>\n      <td>0</td>\n      <td>0.0</td>\n      <td></td>\n    </tr>\n    <tr>\n      <th>17</th>\n      <td>17</td>\n      <td>Object</td>\n      <td>0</td>\n      <td>0.0</td>\n      <td>[mpfi, 2bbl, mfi, 1bbl, spfi, 4bbl, idi, spdi]</td>\n    </tr>\n    <tr>\n      <th>18</th>\n      <td>18</td>\n      <td>Object</td>\n      <td>0</td>\n      <td>0.0</td>\n      <td>[3.47, 2.68, 3.19, 3.13, 3.50, 3.31, 3.62, 2.9...</td>\n    </tr>\n    <tr>\n      <th>19</th>\n      <td>19</td>\n      <td>Object</td>\n      <td>0</td>\n      <td>0.0</td>\n      <td>[2.68, 3.47, 3.40, 2.80, 3.19, 3.39, 3.03, 3.1...</td>\n    </tr>\n    <tr>\n      <th>20</th>\n      <td>20</td>\n      <td>Numeric</td>\n      <td>0</td>\n      <td>0.0</td>\n      <td></td>\n    </tr>\n    <tr>\n      <th>21</th>\n      <td>21</td>\n      <td>Object</td>\n      <td>0</td>\n      <td>0.0</td>\n      <td>[111, 154, 102, 115, 110, 140, 160, 101, 121, ...</td>\n    </tr>\n    <tr>\n      <th>22</th>\n      <td>22</td>\n      <td>Object</td>\n      <td>0</td>\n      <td>0.0</td>\n      <td>[5000, 5500, 5800, 4250, 5400, 5100, 4800, 600...</td>\n    </tr>\n    <tr>\n      <th>23</th>\n      <td>23</td>\n      <td>Numeric</td>\n      <td>0</td>\n      <td>0.0</td>\n      <td></td>\n    </tr>\n    <tr>\n      <th>24</th>\n      <td>24</td>\n      <td>Numeric</td>\n      <td>0</td>\n      <td>0.0</td>\n      <td></td>\n    </tr>\n    <tr>\n      <th>25</th>\n      <td>25</td>\n      <td>Object</td>\n      <td>0</td>\n      <td>0.0</td>\n      <td>[13495, 16500, 13950, 17450, 15250, 17710, 189...</td>\n    </tr>\n  </tbody>\n</table>\n</div>"
     },
     "metadata": {},
     "execution_count": 5
    }
   ],
   "source": [
    "# Create a function to evaluate missing in data, check unique in object (categorical col)\n",
    "def check_nan(df):\n",
    "\n",
    "    check = []\n",
    "\n",
    "    for col in df.columns:\n",
    "\n",
    "        if df.dtypes[col] == 'object':\n",
    "            type = 'Object'\n",
    "            unique_obj = df[col].unique()\n",
    "        else:\n",
    "            type = 'Numeric'\n",
    "            unique_obj = ''\n",
    "\n",
    "        total_nan = df[col].isnull().sum()\n",
    "        percent_nan = total_nan/len(df[col])\n",
    "        check.append([col, type, total_nan, percent_nan, unique_obj])\n",
    "\n",
    "    check_df = pd.DataFrame(check, columns=['Col', 'Type', 'Total_NaN', 'Percent', 'Unique'])\n",
    "\n",
    "    return check_df\n",
    "\n",
    "check = check_nan(df)\n",
    "check"
   ]
  },
  {
   "cell_type": "code",
   "execution_count": null,
   "metadata": {},
   "outputs": [],
   "source": []
  }
 ],
 "metadata": {
  "kernelspec": {
   "display_name": "Python 3.7.7 64-bit ('ai_learn': conda)",
   "language": "python",
   "name": "python37764bitailearncondac55bf7adc40a450a9629c3e2b471f312"
  },
  "language_info": {
   "codemirror_mode": {
    "name": "ipython",
    "version": 3
   },
   "file_extension": ".py",
   "mimetype": "text/x-python",
   "name": "python",
   "nbconvert_exporter": "python",
   "pygments_lexer": "ipython3",
   "version": "3.7.7-final"
  }
 },
 "nbformat": 4,
 "nbformat_minor": 2
}