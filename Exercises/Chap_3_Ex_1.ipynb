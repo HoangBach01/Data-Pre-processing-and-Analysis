{
 "metadata": {
  "language_info": {
   "codemirror_mode": {
    "name": "ipython",
    "version": 3
   },
   "file_extension": ".py",
   "mimetype": "text/x-python",
   "name": "python",
   "nbconvert_exporter": "python",
   "pygments_lexer": "ipython3",
   "version": "3.7.7-final"
  },
  "orig_nbformat": 2,
  "kernelspec": {
   "name": "python37764bitailearncondac55bf7adc40a450a9629c3e2b471f312",
   "display_name": "Python 3.7.7 64-bit ('ai_learn': conda)"
  }
 },
 "nbformat": 4,
 "nbformat_minor": 2,
 "cells": [
  {
   "cell_type": "code",
   "execution_count": 5,
   "metadata": {},
   "outputs": [],
   "source": [
    "import numpy as np\n",
    "import pandas as pd\n",
    "import re"
   ]
  },
  {
   "cell_type": "code",
   "execution_count": 2,
   "metadata": {},
   "outputs": [
    {
     "output_type": "execute_result",
     "data": {
      "text/plain": [
       "       Country  Y1980  Y1981  Y1982  Y1983\n",
       "0  Afghanistan  21.48  21.46  21.45  21.44\n",
       "1      Albania  25.22  25.24  25.26  25.27\n",
       "2      Algeria  22.26  22.35  22.44  22.52"
      ],
      "text/html": "<div>\n<style scoped>\n    .dataframe tbody tr th:only-of-type {\n        vertical-align: middle;\n    }\n\n    .dataframe tbody tr th {\n        vertical-align: top;\n    }\n\n    .dataframe thead th {\n        text-align: right;\n    }\n</style>\n<table border=\"1\" class=\"dataframe\">\n  <thead>\n    <tr style=\"text-align: right;\">\n      <th></th>\n      <th>Country</th>\n      <th>Y1980</th>\n      <th>Y1981</th>\n      <th>Y1982</th>\n      <th>Y1983</th>\n    </tr>\n  </thead>\n  <tbody>\n    <tr>\n      <th>0</th>\n      <td>Afghanistan</td>\n      <td>21.48</td>\n      <td>21.46</td>\n      <td>21.45</td>\n      <td>21.44</td>\n    </tr>\n    <tr>\n      <th>1</th>\n      <td>Albania</td>\n      <td>25.22</td>\n      <td>25.24</td>\n      <td>25.26</td>\n      <td>25.27</td>\n    </tr>\n    <tr>\n      <th>2</th>\n      <td>Algeria</td>\n      <td>22.26</td>\n      <td>22.35</td>\n      <td>22.44</td>\n      <td>22.52</td>\n    </tr>\n  </tbody>\n</table>\n</div>"
     },
     "metadata": {},
     "execution_count": 2
    }
   ],
   "source": [
    "df = pd.read_excel('data/BMI.xlsx')\n",
    "df"
   ]
  },
  {
   "cell_type": "code",
   "execution_count": 4,
   "metadata": {},
   "outputs": [
    {
     "output_type": "execute_result",
     "data": {
      "text/plain": [
       "        Country   Year    BMI\n",
       "0   Afghanistan  Y1980  21.48\n",
       "1       Albania  Y1980  25.22\n",
       "2       Algeria  Y1980  22.26\n",
       "3   Afghanistan  Y1981  21.46\n",
       "4       Albania  Y1981  25.24\n",
       "5       Algeria  Y1981  22.35\n",
       "6   Afghanistan  Y1982  21.45\n",
       "7       Albania  Y1982  25.26\n",
       "8       Algeria  Y1982  22.44\n",
       "9   Afghanistan  Y1983  21.44\n",
       "10      Albania  Y1983  25.27\n",
       "11      Algeria  Y1983  22.52"
      ],
      "text/html": "<div>\n<style scoped>\n    .dataframe tbody tr th:only-of-type {\n        vertical-align: middle;\n    }\n\n    .dataframe tbody tr th {\n        vertical-align: top;\n    }\n\n    .dataframe thead th {\n        text-align: right;\n    }\n</style>\n<table border=\"1\" class=\"dataframe\">\n  <thead>\n    <tr style=\"text-align: right;\">\n      <th></th>\n      <th>Country</th>\n      <th>Year</th>\n      <th>BMI</th>\n    </tr>\n  </thead>\n  <tbody>\n    <tr>\n      <th>0</th>\n      <td>Afghanistan</td>\n      <td>Y1980</td>\n      <td>21.48</td>\n    </tr>\n    <tr>\n      <th>1</th>\n      <td>Albania</td>\n      <td>Y1980</td>\n      <td>25.22</td>\n    </tr>\n    <tr>\n      <th>2</th>\n      <td>Algeria</td>\n      <td>Y1980</td>\n      <td>22.26</td>\n    </tr>\n    <tr>\n      <th>3</th>\n      <td>Afghanistan</td>\n      <td>Y1981</td>\n      <td>21.46</td>\n    </tr>\n    <tr>\n      <th>4</th>\n      <td>Albania</td>\n      <td>Y1981</td>\n      <td>25.24</td>\n    </tr>\n    <tr>\n      <th>5</th>\n      <td>Algeria</td>\n      <td>Y1981</td>\n      <td>22.35</td>\n    </tr>\n    <tr>\n      <th>6</th>\n      <td>Afghanistan</td>\n      <td>Y1982</td>\n      <td>21.45</td>\n    </tr>\n    <tr>\n      <th>7</th>\n      <td>Albania</td>\n      <td>Y1982</td>\n      <td>25.26</td>\n    </tr>\n    <tr>\n      <th>8</th>\n      <td>Algeria</td>\n      <td>Y1982</td>\n      <td>22.44</td>\n    </tr>\n    <tr>\n      <th>9</th>\n      <td>Afghanistan</td>\n      <td>Y1983</td>\n      <td>21.44</td>\n    </tr>\n    <tr>\n      <th>10</th>\n      <td>Albania</td>\n      <td>Y1983</td>\n      <td>25.27</td>\n    </tr>\n    <tr>\n      <th>11</th>\n      <td>Algeria</td>\n      <td>Y1983</td>\n      <td>22.52</td>\n    </tr>\n  </tbody>\n</table>\n</div>"
     },
     "metadata": {},
     "execution_count": 4
    }
   ],
   "source": [
    "df_tiny = pd.melt(df, id_vars='Country', var_name='Year', value_name='BMI')\n",
    "df_tiny"
   ]
  },
  {
   "cell_type": "code",
   "execution_count": 6,
   "metadata": {},
   "outputs": [
    {
     "output_type": "execute_result",
     "data": {
      "text/plain": [
       "        Country  Year    BMI\n",
       "0   Afghanistan  1980  21.48\n",
       "1       Albania  1980  25.22\n",
       "2       Algeria  1980  22.26\n",
       "3   Afghanistan  1981  21.46\n",
       "4       Albania  1981  25.24\n",
       "5       Algeria  1981  22.35\n",
       "6   Afghanistan  1982  21.45\n",
       "7       Albania  1982  25.26\n",
       "8       Algeria  1982  22.44\n",
       "9   Afghanistan  1983  21.44\n",
       "10      Albania  1983  25.27\n",
       "11      Algeria  1983  22.52"
      ],
      "text/html": "<div>\n<style scoped>\n    .dataframe tbody tr th:only-of-type {\n        vertical-align: middle;\n    }\n\n    .dataframe tbody tr th {\n        vertical-align: top;\n    }\n\n    .dataframe thead th {\n        text-align: right;\n    }\n</style>\n<table border=\"1\" class=\"dataframe\">\n  <thead>\n    <tr style=\"text-align: right;\">\n      <th></th>\n      <th>Country</th>\n      <th>Year</th>\n      <th>BMI</th>\n    </tr>\n  </thead>\n  <tbody>\n    <tr>\n      <th>0</th>\n      <td>Afghanistan</td>\n      <td>1980</td>\n      <td>21.48</td>\n    </tr>\n    <tr>\n      <th>1</th>\n      <td>Albania</td>\n      <td>1980</td>\n      <td>25.22</td>\n    </tr>\n    <tr>\n      <th>2</th>\n      <td>Algeria</td>\n      <td>1980</td>\n      <td>22.26</td>\n    </tr>\n    <tr>\n      <th>3</th>\n      <td>Afghanistan</td>\n      <td>1981</td>\n      <td>21.46</td>\n    </tr>\n    <tr>\n      <th>4</th>\n      <td>Albania</td>\n      <td>1981</td>\n      <td>25.24</td>\n    </tr>\n    <tr>\n      <th>5</th>\n      <td>Algeria</td>\n      <td>1981</td>\n      <td>22.35</td>\n    </tr>\n    <tr>\n      <th>6</th>\n      <td>Afghanistan</td>\n      <td>1982</td>\n      <td>21.45</td>\n    </tr>\n    <tr>\n      <th>7</th>\n      <td>Albania</td>\n      <td>1982</td>\n      <td>25.26</td>\n    </tr>\n    <tr>\n      <th>8</th>\n      <td>Algeria</td>\n      <td>1982</td>\n      <td>22.44</td>\n    </tr>\n    <tr>\n      <th>9</th>\n      <td>Afghanistan</td>\n      <td>1983</td>\n      <td>21.44</td>\n    </tr>\n    <tr>\n      <th>10</th>\n      <td>Albania</td>\n      <td>1983</td>\n      <td>25.27</td>\n    </tr>\n    <tr>\n      <th>11</th>\n      <td>Algeria</td>\n      <td>1983</td>\n      <td>22.52</td>\n    </tr>\n  </tbody>\n</table>\n</div>"
     },
     "metadata": {},
     "execution_count": 6
    }
   ],
   "source": [
    "df_tiny['Year'] = df_tiny['Year'].str.replace('Y', '').astype('int')\n",
    "df_tiny"
   ]
  },
  {
   "cell_type": "code",
   "execution_count": 43,
   "metadata": {},
   "outputs": [
    {
     "output_type": "execute_result",
     "data": {
      "text/plain": [
       "Year          1980   1981   1982   1983\n",
       "Country                                \n",
       "Afghanistan  21.48  21.46  21.45  21.44\n",
       "Albania      25.22  25.24  25.26  25.27\n",
       "Algeria      22.26  22.35  22.44  22.52"
      ],
      "text/html": "<div>\n<style scoped>\n    .dataframe tbody tr th:only-of-type {\n        vertical-align: middle;\n    }\n\n    .dataframe tbody tr th {\n        vertical-align: top;\n    }\n\n    .dataframe thead th {\n        text-align: right;\n    }\n</style>\n<table border=\"1\" class=\"dataframe\">\n  <thead>\n    <tr style=\"text-align: right;\">\n      <th>Year</th>\n      <th>1980</th>\n      <th>1981</th>\n      <th>1982</th>\n      <th>1983</th>\n    </tr>\n    <tr>\n      <th>Country</th>\n      <th></th>\n      <th></th>\n      <th></th>\n      <th></th>\n    </tr>\n  </thead>\n  <tbody>\n    <tr>\n      <th>Afghanistan</th>\n      <td>21.48</td>\n      <td>21.46</td>\n      <td>21.45</td>\n      <td>21.44</td>\n    </tr>\n    <tr>\n      <th>Albania</th>\n      <td>25.22</td>\n      <td>25.24</td>\n      <td>25.26</td>\n      <td>25.27</td>\n    </tr>\n    <tr>\n      <th>Algeria</th>\n      <td>22.26</td>\n      <td>22.35</td>\n      <td>22.44</td>\n      <td>22.52</td>\n    </tr>\n  </tbody>\n</table>\n</div>"
     },
     "metadata": {},
     "execution_count": 43
    }
   ],
   "source": [
    "df_pivot = pd.pivot(df_tiny, index='Country', columns='Year', values='BMI')\n",
    "df_pivot"
   ]
  },
  {
   "cell_type": "code",
   "execution_count": 36,
   "metadata": {},
   "outputs": [
    {
     "output_type": "execute_result",
     "data": {
      "text/plain": [
       "  Student  Physics  Chemistry  English  Math\n",
       "0    John       78         79       56    95\n",
       "1   Alice       58         72       91    81\n",
       "2  Rachel       22         61       88    64\n",
       "3     Tom       78         89       56    83"
      ],
      "text/html": "<div>\n<style scoped>\n    .dataframe tbody tr th:only-of-type {\n        vertical-align: middle;\n    }\n\n    .dataframe tbody tr th {\n        vertical-align: top;\n    }\n\n    .dataframe thead th {\n        text-align: right;\n    }\n</style>\n<table border=\"1\" class=\"dataframe\">\n  <thead>\n    <tr style=\"text-align: right;\">\n      <th></th>\n      <th>Student</th>\n      <th>Physics</th>\n      <th>Chemistry</th>\n      <th>English</th>\n      <th>Math</th>\n    </tr>\n  </thead>\n  <tbody>\n    <tr>\n      <th>0</th>\n      <td>John</td>\n      <td>78</td>\n      <td>79</td>\n      <td>56</td>\n      <td>95</td>\n    </tr>\n    <tr>\n      <th>1</th>\n      <td>Alice</td>\n      <td>58</td>\n      <td>72</td>\n      <td>91</td>\n      <td>81</td>\n    </tr>\n    <tr>\n      <th>2</th>\n      <td>Rachel</td>\n      <td>22</td>\n      <td>61</td>\n      <td>88</td>\n      <td>64</td>\n    </tr>\n    <tr>\n      <th>3</th>\n      <td>Tom</td>\n      <td>78</td>\n      <td>89</td>\n      <td>56</td>\n      <td>83</td>\n    </tr>\n  </tbody>\n</table>\n</div>"
     },
     "metadata": {},
     "execution_count": 36
    }
   ],
   "source": [
    "df2 = pd.read_excel('data/student.xlsx')\n",
    "df2"
   ]
  },
  {
   "cell_type": "code",
   "execution_count": 37,
   "metadata": {},
   "outputs": [
    {
     "output_type": "execute_result",
     "data": {
      "text/plain": [
       "   Student   Subjects  Grade\n",
       "0     John    Physics     78\n",
       "1    Alice    Physics     58\n",
       "2   Rachel    Physics     22\n",
       "3      Tom    Physics     78\n",
       "4     John  Chemistry     79\n",
       "5    Alice  Chemistry     72\n",
       "6   Rachel  Chemistry     61\n",
       "7      Tom  Chemistry     89\n",
       "8     John    English     56\n",
       "9    Alice    English     91\n",
       "10  Rachel    English     88\n",
       "11     Tom    English     56\n",
       "12    John       Math     95\n",
       "13   Alice       Math     81\n",
       "14  Rachel       Math     64\n",
       "15     Tom       Math     83"
      ],
      "text/html": "<div>\n<style scoped>\n    .dataframe tbody tr th:only-of-type {\n        vertical-align: middle;\n    }\n\n    .dataframe tbody tr th {\n        vertical-align: top;\n    }\n\n    .dataframe thead th {\n        text-align: right;\n    }\n</style>\n<table border=\"1\" class=\"dataframe\">\n  <thead>\n    <tr style=\"text-align: right;\">\n      <th></th>\n      <th>Student</th>\n      <th>Subjects</th>\n      <th>Grade</th>\n    </tr>\n  </thead>\n  <tbody>\n    <tr>\n      <th>0</th>\n      <td>John</td>\n      <td>Physics</td>\n      <td>78</td>\n    </tr>\n    <tr>\n      <th>1</th>\n      <td>Alice</td>\n      <td>Physics</td>\n      <td>58</td>\n    </tr>\n    <tr>\n      <th>2</th>\n      <td>Rachel</td>\n      <td>Physics</td>\n      <td>22</td>\n    </tr>\n    <tr>\n      <th>3</th>\n      <td>Tom</td>\n      <td>Physics</td>\n      <td>78</td>\n    </tr>\n    <tr>\n      <th>4</th>\n      <td>John</td>\n      <td>Chemistry</td>\n      <td>79</td>\n    </tr>\n    <tr>\n      <th>5</th>\n      <td>Alice</td>\n      <td>Chemistry</td>\n      <td>72</td>\n    </tr>\n    <tr>\n      <th>6</th>\n      <td>Rachel</td>\n      <td>Chemistry</td>\n      <td>61</td>\n    </tr>\n    <tr>\n      <th>7</th>\n      <td>Tom</td>\n      <td>Chemistry</td>\n      <td>89</td>\n    </tr>\n    <tr>\n      <th>8</th>\n      <td>John</td>\n      <td>English</td>\n      <td>56</td>\n    </tr>\n    <tr>\n      <th>9</th>\n      <td>Alice</td>\n      <td>English</td>\n      <td>91</td>\n    </tr>\n    <tr>\n      <th>10</th>\n      <td>Rachel</td>\n      <td>English</td>\n      <td>88</td>\n    </tr>\n    <tr>\n      <th>11</th>\n      <td>Tom</td>\n      <td>English</td>\n      <td>56</td>\n    </tr>\n    <tr>\n      <th>12</th>\n      <td>John</td>\n      <td>Math</td>\n      <td>95</td>\n    </tr>\n    <tr>\n      <th>13</th>\n      <td>Alice</td>\n      <td>Math</td>\n      <td>81</td>\n    </tr>\n    <tr>\n      <th>14</th>\n      <td>Rachel</td>\n      <td>Math</td>\n      <td>64</td>\n    </tr>\n    <tr>\n      <th>15</th>\n      <td>Tom</td>\n      <td>Math</td>\n      <td>83</td>\n    </tr>\n  </tbody>\n</table>\n</div>"
     },
     "metadata": {},
     "execution_count": 37
    }
   ],
   "source": [
    "df2_tiny = pd.melt(df2, id_vars='Student', var_name='Subjects', value_name='Grade')\n",
    "df2_tiny"
   ]
  },
  {
   "cell_type": "code",
   "execution_count": 46,
   "metadata": {},
   "outputs": [
    {
     "output_type": "execute_result",
     "data": {
      "text/plain": [
       "Subjects  Chemistry  English  Math  Physics\n",
       "Student                                    \n",
       "Alice            72       91    81       58\n",
       "John             79       56    95       78\n",
       "Rachel           61       88    64       22\n",
       "Tom              89       56    83       78"
      ],
      "text/html": "<div>\n<style scoped>\n    .dataframe tbody tr th:only-of-type {\n        vertical-align: middle;\n    }\n\n    .dataframe tbody tr th {\n        vertical-align: top;\n    }\n\n    .dataframe thead th {\n        text-align: right;\n    }\n</style>\n<table border=\"1\" class=\"dataframe\">\n  <thead>\n    <tr style=\"text-align: right;\">\n      <th>Subjects</th>\n      <th>Chemistry</th>\n      <th>English</th>\n      <th>Math</th>\n      <th>Physics</th>\n    </tr>\n    <tr>\n      <th>Student</th>\n      <th></th>\n      <th></th>\n      <th></th>\n      <th></th>\n    </tr>\n  </thead>\n  <tbody>\n    <tr>\n      <th>Alice</th>\n      <td>72</td>\n      <td>91</td>\n      <td>81</td>\n      <td>58</td>\n    </tr>\n    <tr>\n      <th>John</th>\n      <td>79</td>\n      <td>56</td>\n      <td>95</td>\n      <td>78</td>\n    </tr>\n    <tr>\n      <th>Rachel</th>\n      <td>61</td>\n      <td>88</td>\n      <td>64</td>\n      <td>22</td>\n    </tr>\n    <tr>\n      <th>Tom</th>\n      <td>89</td>\n      <td>56</td>\n      <td>83</td>\n      <td>78</td>\n    </tr>\n  </tbody>\n</table>\n</div>"
     },
     "metadata": {},
     "execution_count": 46
    }
   ],
   "source": [
    "df2_pivot = pd.pivot(df2_tiny, index='Student', columns='Subjects', values='Grade')\n",
    "df2_pivot"
   ]
  },
  {
   "cell_type": "code",
   "execution_count": null,
   "metadata": {},
   "outputs": [],
   "source": []
  }
 ]
}