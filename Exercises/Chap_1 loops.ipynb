{
 "cells": [
  {
   "cell_type": "code",
   "execution_count": 1,
   "metadata": {},
   "outputs": [],
   "source": [
    "import numpy as np\n",
    "import pandas as pd\n",
    "import re"
   ]
  },
  {
   "cell_type": "code",
   "execution_count": 2,
   "metadata": {},
   "outputs": [],
   "source": [
    "data = pd.read_csv('Diemthi_thpt_quocgia_2016.csv')"
   ]
  },
  {
   "cell_type": "code",
   "execution_count": 3,
   "metadata": {},
   "outputs": [
    {
     "output_type": "execute_result",
     "data": {
      "text/plain": "       SOBAODANH          HO_TEN   NGAY_SINH  \\\n0       18000001   DƯƠNG VIỆT AN  12/03/1998   \n1       18000002       ĐỖ VĂN AN   9/12/1998   \n2       18000003      ĐỖ XUÂN AN  12/08/1997   \n3       18000004    ĐẶNG PHÚC AN  19/03/1998   \n4       18000005     ĐẶNG VĂN AN  25/10/1998   \n...          ...             ...         ...   \n34821  HUI014539   VÒNG NGỌC YẾN  15/05/1998   \n34822  HUI014540  VÒNG THANH YẾN   9/09/1998   \n34823  HUI014541  VŨ THỊ BẢO YẾN  19/05/1998   \n34824  HUI014542      VŨ THỊ YẾN  13/01/1998   \n34825  HUI014543   VƯƠNG THỊ YẾN   5/02/1998   \n\n                               TEN_CUMTHI GIOI_TINH  \\\n0                       Sở GDĐT Bắc Giang       Nam   \n1                       Sở GDĐT Bắc Giang       Nam   \n2                       Sở GDĐT Bắc Giang       Nam   \n3                       Sở GDĐT Bắc Giang        Nữ   \n4                       Sở GDĐT Bắc Giang       Nam   \n...                                   ...       ...   \n34821  Trường Đại học Công nghiệp Tp. HCM        Nữ   \n34822  Trường Đại học Công nghiệp Tp. HCM        Nữ   \n34823  Trường Đại học Công nghiệp Tp. HCM        Nữ   \n34824  Trường Đại học Công nghiệp Tp. HCM        Nữ   \n34825  Trường Đại học Công nghiệp Tp. HCM        Nữ   \n\n                                                DIEM_THI  \n0      Toán:   2.00   Ngữ văn:   5.50   Lịch sử:   3....  \n1      Toán:   5.50   Ngữ văn:   5.25   Địa lí:   5.5...  \n2      Toán:   4.50   Ngữ văn:   5.50   Địa lí:   3.7...  \n3      Toán:   3.00   Ngữ văn:   6.00   Địa lí:   5.5...  \n4      Toán:   2.25   Ngữ văn:   4.75   Địa lí:   5.2...  \n...                                                  ...  \n34821  Toán:   0.75   Ngữ văn:   5.00   Hóa học:   4....  \n34822  Toán:   4.75   Ngữ văn:   5.75   Vật lí:   6.8...  \n34823  Toán:   4.00   Ngữ văn:   5.50   Vật lí:   5.6...  \n34824  Toán:   5.75   Ngữ văn:   6.00   Vật lí:   7.4...  \n34825  Toán:   2.50   Ngữ văn:   4.25   Vật lí:   4.2...  \n\n[34826 rows x 6 columns]",
      "text/html": "<div>\n<style scoped>\n    .dataframe tbody tr th:only-of-type {\n        vertical-align: middle;\n    }\n\n    .dataframe tbody tr th {\n        vertical-align: top;\n    }\n\n    .dataframe thead th {\n        text-align: right;\n    }\n</style>\n<table border=\"1\" class=\"dataframe\">\n  <thead>\n    <tr style=\"text-align: right;\">\n      <th></th>\n      <th>SOBAODANH</th>\n      <th>HO_TEN</th>\n      <th>NGAY_SINH</th>\n      <th>TEN_CUMTHI</th>\n      <th>GIOI_TINH</th>\n      <th>DIEM_THI</th>\n    </tr>\n  </thead>\n  <tbody>\n    <tr>\n      <th>0</th>\n      <td>18000001</td>\n      <td>DƯƠNG VIỆT AN</td>\n      <td>12/03/1998</td>\n      <td>Sở GDĐT Bắc Giang</td>\n      <td>Nam</td>\n      <td>Toán:   2.00   Ngữ văn:   5.50   Lịch sử:   3....</td>\n    </tr>\n    <tr>\n      <th>1</th>\n      <td>18000002</td>\n      <td>ĐỖ VĂN AN</td>\n      <td>9/12/1998</td>\n      <td>Sở GDĐT Bắc Giang</td>\n      <td>Nam</td>\n      <td>Toán:   5.50   Ngữ văn:   5.25   Địa lí:   5.5...</td>\n    </tr>\n    <tr>\n      <th>2</th>\n      <td>18000003</td>\n      <td>ĐỖ XUÂN AN</td>\n      <td>12/08/1997</td>\n      <td>Sở GDĐT Bắc Giang</td>\n      <td>Nam</td>\n      <td>Toán:   4.50   Ngữ văn:   5.50   Địa lí:   3.7...</td>\n    </tr>\n    <tr>\n      <th>3</th>\n      <td>18000004</td>\n      <td>ĐẶNG PHÚC AN</td>\n      <td>19/03/1998</td>\n      <td>Sở GDĐT Bắc Giang</td>\n      <td>Nữ</td>\n      <td>Toán:   3.00   Ngữ văn:   6.00   Địa lí:   5.5...</td>\n    </tr>\n    <tr>\n      <th>4</th>\n      <td>18000005</td>\n      <td>ĐẶNG VĂN AN</td>\n      <td>25/10/1998</td>\n      <td>Sở GDĐT Bắc Giang</td>\n      <td>Nam</td>\n      <td>Toán:   2.25   Ngữ văn:   4.75   Địa lí:   5.2...</td>\n    </tr>\n    <tr>\n      <th>...</th>\n      <td>...</td>\n      <td>...</td>\n      <td>...</td>\n      <td>...</td>\n      <td>...</td>\n      <td>...</td>\n    </tr>\n    <tr>\n      <th>34821</th>\n      <td>HUI014539</td>\n      <td>VÒNG NGỌC YẾN</td>\n      <td>15/05/1998</td>\n      <td>Trường Đại học Công nghiệp Tp. HCM</td>\n      <td>Nữ</td>\n      <td>Toán:   0.75   Ngữ văn:   5.00   Hóa học:   4....</td>\n    </tr>\n    <tr>\n      <th>34822</th>\n      <td>HUI014540</td>\n      <td>VÒNG THANH YẾN</td>\n      <td>9/09/1998</td>\n      <td>Trường Đại học Công nghiệp Tp. HCM</td>\n      <td>Nữ</td>\n      <td>Toán:   4.75   Ngữ văn:   5.75   Vật lí:   6.8...</td>\n    </tr>\n    <tr>\n      <th>34823</th>\n      <td>HUI014541</td>\n      <td>VŨ THỊ BẢO YẾN</td>\n      <td>19/05/1998</td>\n      <td>Trường Đại học Công nghiệp Tp. HCM</td>\n      <td>Nữ</td>\n      <td>Toán:   4.00   Ngữ văn:   5.50   Vật lí:   5.6...</td>\n    </tr>\n    <tr>\n      <th>34824</th>\n      <td>HUI014542</td>\n      <td>VŨ THỊ YẾN</td>\n      <td>13/01/1998</td>\n      <td>Trường Đại học Công nghiệp Tp. HCM</td>\n      <td>Nữ</td>\n      <td>Toán:   5.75   Ngữ văn:   6.00   Vật lí:   7.4...</td>\n    </tr>\n    <tr>\n      <th>34825</th>\n      <td>HUI014543</td>\n      <td>VƯƠNG THỊ YẾN</td>\n      <td>5/02/1998</td>\n      <td>Trường Đại học Công nghiệp Tp. HCM</td>\n      <td>Nữ</td>\n      <td>Toán:   2.50   Ngữ văn:   4.25   Vật lí:   4.2...</td>\n    </tr>\n  </tbody>\n</table>\n<p>34826 rows × 6 columns</p>\n</div>"
     },
     "metadata": {},
     "execution_count": 3
    }
   ],
   "source": [
    "data"
   ]
  },
  {
   "cell_type": "code",
   "execution_count": 4,
   "metadata": {},
   "outputs": [],
   "source": [
    "def split_by_diem(x):\n",
    "    path = \"(\\d?\\d\\.\\d\\d)\"\n",
    "    splited = re.split(path,x)\n",
    "    splited_done = list(map(lambda x: x.strip().strip(':'),splited))\n",
    "    return splited_done"
   ]
  },
  {
   "cell_type": "code",
   "execution_count": 5,
   "metadata": {
    "tags": []
   },
   "outputs": [
    {
     "output_type": "execute_result",
     "data": {
      "text/plain": "  SOBAODANH         HO_TEN   NGAY_SINH         TEN_CUMTHI GIOI_TINH  \\\n0  18000001  DƯƠNG VIỆT AN  12/03/1998  Sở GDĐT Bắc Giang       Nam   \n1  18000002      ĐỖ VĂN AN   9/12/1998  Sở GDĐT Bắc Giang       Nam   \n2  18000003     ĐỖ XUÂN AN  12/08/1997  Sở GDĐT Bắc Giang       Nam   \n3  18000004   ĐẶNG PHÚC AN  19/03/1998  Sở GDĐT Bắc Giang        Nữ   \n4  18000005    ĐẶNG VĂN AN  25/10/1998  Sở GDĐT Bắc Giang       Nam   \n\n                                            DIEM_THI  \\\n0  Toán:   2.00   Ngữ văn:   5.50   Lịch sử:   3....   \n1  Toán:   5.50   Ngữ văn:   5.25   Địa lí:   5.5...   \n2  Toán:   4.50   Ngữ văn:   5.50   Địa lí:   3.7...   \n3  Toán:   3.00   Ngữ văn:   6.00   Địa lí:   5.5...   \n4  Toán:   2.25   Ngữ văn:   4.75   Địa lí:   5.2...   \n\n                                             SPLITED  \n0  [Toán, 2.00, Ngữ văn, 5.50, Lịch sử, 3.00, Địa...  \n1  [Toán, 5.50, Ngữ văn, 5.25, Địa lí, 5.50, Tiến...  \n2  [Toán, 4.50, Ngữ văn, 5.50, Địa lí, 3.75, Tiến...  \n3  [Toán, 3.00, Ngữ văn, 6.00, Địa lí, 5.50, Tiến...  \n4  [Toán, 2.25, Ngữ văn, 4.75, Địa lí, 5.25, Tiến...  ",
      "text/html": "<div>\n<style scoped>\n    .dataframe tbody tr th:only-of-type {\n        vertical-align: middle;\n    }\n\n    .dataframe tbody tr th {\n        vertical-align: top;\n    }\n\n    .dataframe thead th {\n        text-align: right;\n    }\n</style>\n<table border=\"1\" class=\"dataframe\">\n  <thead>\n    <tr style=\"text-align: right;\">\n      <th></th>\n      <th>SOBAODANH</th>\n      <th>HO_TEN</th>\n      <th>NGAY_SINH</th>\n      <th>TEN_CUMTHI</th>\n      <th>GIOI_TINH</th>\n      <th>DIEM_THI</th>\n      <th>SPLITED</th>\n    </tr>\n  </thead>\n  <tbody>\n    <tr>\n      <th>0</th>\n      <td>18000001</td>\n      <td>DƯƠNG VIỆT AN</td>\n      <td>12/03/1998</td>\n      <td>Sở GDĐT Bắc Giang</td>\n      <td>Nam</td>\n      <td>Toán:   2.00   Ngữ văn:   5.50   Lịch sử:   3....</td>\n      <td>[Toán, 2.00, Ngữ văn, 5.50, Lịch sử, 3.00, Địa...</td>\n    </tr>\n    <tr>\n      <th>1</th>\n      <td>18000002</td>\n      <td>ĐỖ VĂN AN</td>\n      <td>9/12/1998</td>\n      <td>Sở GDĐT Bắc Giang</td>\n      <td>Nam</td>\n      <td>Toán:   5.50   Ngữ văn:   5.25   Địa lí:   5.5...</td>\n      <td>[Toán, 5.50, Ngữ văn, 5.25, Địa lí, 5.50, Tiến...</td>\n    </tr>\n    <tr>\n      <th>2</th>\n      <td>18000003</td>\n      <td>ĐỖ XUÂN AN</td>\n      <td>12/08/1997</td>\n      <td>Sở GDĐT Bắc Giang</td>\n      <td>Nam</td>\n      <td>Toán:   4.50   Ngữ văn:   5.50   Địa lí:   3.7...</td>\n      <td>[Toán, 4.50, Ngữ văn, 5.50, Địa lí, 3.75, Tiến...</td>\n    </tr>\n    <tr>\n      <th>3</th>\n      <td>18000004</td>\n      <td>ĐẶNG PHÚC AN</td>\n      <td>19/03/1998</td>\n      <td>Sở GDĐT Bắc Giang</td>\n      <td>Nữ</td>\n      <td>Toán:   3.00   Ngữ văn:   6.00   Địa lí:   5.5...</td>\n      <td>[Toán, 3.00, Ngữ văn, 6.00, Địa lí, 5.50, Tiến...</td>\n    </tr>\n    <tr>\n      <th>4</th>\n      <td>18000005</td>\n      <td>ĐẶNG VĂN AN</td>\n      <td>25/10/1998</td>\n      <td>Sở GDĐT Bắc Giang</td>\n      <td>Nam</td>\n      <td>Toán:   2.25   Ngữ văn:   4.75   Địa lí:   5.2...</td>\n      <td>[Toán, 2.25, Ngữ văn, 4.75, Địa lí, 5.25, Tiến...</td>\n    </tr>\n  </tbody>\n</table>\n</div>"
     },
     "metadata": {},
     "execution_count": 5
    }
   ],
   "source": [
    "data['SPLITED'] = data['DIEM_THI'].apply(lambda x: split_by_diem(x))\n",
    "data.head()"
   ]
  },
  {
   "cell_type": "code",
   "execution_count": 6,
   "metadata": {},
   "outputs": [],
   "source": [
    "def tung_mon(splited, index):\n",
    "    for i in range(0,len(splited)-1,2):\n",
    "        data.loc[index, splited[i]] = float(splited[i+1])\n",
    "    return"
   ]
  },
  {
   "cell_type": "code",
   "execution_count": 7,
   "metadata": {},
   "outputs": [],
   "source": [
    "for i in range(data.shape[0]):\n",
    "    tung_mon(data.loc[i,'SPLITED'], i)"
   ]
  },
  {
   "cell_type": "code",
   "execution_count": 8,
   "metadata": {},
   "outputs": [
    {
     "output_type": "execute_result",
     "data": {
      "text/plain": "  SOBAODANH         HO_TEN   NGAY_SINH         TEN_CUMTHI GIOI_TINH  \\\n0  18000001  DƯƠNG VIỆT AN  12/03/1998  Sở GDĐT Bắc Giang       Nam   \n1  18000002      ĐỖ VĂN AN   9/12/1998  Sở GDĐT Bắc Giang       Nam   \n2  18000003     ĐỖ XUÂN AN  12/08/1997  Sở GDĐT Bắc Giang       Nam   \n3  18000004   ĐẶNG PHÚC AN  19/03/1998  Sở GDĐT Bắc Giang        Nữ   \n4  18000005    ĐẶNG VĂN AN  25/10/1998  Sở GDĐT Bắc Giang       Nam   \n\n                                            DIEM_THI  \\\n0  Toán:   2.00   Ngữ văn:   5.50   Lịch sử:   3....   \n1  Toán:   5.50   Ngữ văn:   5.25   Địa lí:   5.5...   \n2  Toán:   4.50   Ngữ văn:   5.50   Địa lí:   3.7...   \n3  Toán:   3.00   Ngữ văn:   6.00   Địa lí:   5.5...   \n4  Toán:   2.25   Ngữ văn:   4.75   Địa lí:   5.2...   \n\n                                             SPLITED  Toán  Ngữ văn  Lịch sử  \\\n0  [Toán, 2.00, Ngữ văn, 5.50, Lịch sử, 3.00, Địa...  2.00     5.50      3.0   \n1  [Toán, 5.50, Ngữ văn, 5.25, Địa lí, 5.50, Tiến...  5.50     5.25      NaN   \n2  [Toán, 4.50, Ngữ văn, 5.50, Địa lí, 3.75, Tiến...  4.50     5.50      NaN   \n3  [Toán, 3.00, Ngữ văn, 6.00, Địa lí, 5.50, Tiến...  3.00     6.00      NaN   \n4  [Toán, 2.25, Ngữ văn, 4.75, Địa lí, 5.25, Tiến...  2.25     4.75      NaN   \n\n   Địa lí  Tiếng Anh  Sinh học  Vật lí  Hóa học  Tiếng Nhật  Tiếng Pháp  \\\n0    5.00        NaN       NaN     NaN      NaN         NaN         NaN   \n1    5.50       3.68       NaN     NaN      NaN         NaN         NaN   \n2    3.75       2.25       NaN     NaN      NaN         NaN         NaN   \n3    5.50       1.50       NaN     NaN      NaN         NaN         NaN   \n4    5.25       2.00       NaN     NaN      NaN         NaN         NaN   \n\n   Tiếng Trung  Tiếng Đức  \n0          NaN        NaN  \n1          NaN        NaN  \n2          NaN        NaN  \n3          NaN        NaN  \n4          NaN        NaN  ",
      "text/html": "<div>\n<style scoped>\n    .dataframe tbody tr th:only-of-type {\n        vertical-align: middle;\n    }\n\n    .dataframe tbody tr th {\n        vertical-align: top;\n    }\n\n    .dataframe thead th {\n        text-align: right;\n    }\n</style>\n<table border=\"1\" class=\"dataframe\">\n  <thead>\n    <tr style=\"text-align: right;\">\n      <th></th>\n      <th>SOBAODANH</th>\n      <th>HO_TEN</th>\n      <th>NGAY_SINH</th>\n      <th>TEN_CUMTHI</th>\n      <th>GIOI_TINH</th>\n      <th>DIEM_THI</th>\n      <th>SPLITED</th>\n      <th>Toán</th>\n      <th>Ngữ văn</th>\n      <th>Lịch sử</th>\n      <th>Địa lí</th>\n      <th>Tiếng Anh</th>\n      <th>Sinh học</th>\n      <th>Vật lí</th>\n      <th>Hóa học</th>\n      <th>Tiếng Nhật</th>\n      <th>Tiếng Pháp</th>\n      <th>Tiếng Trung</th>\n      <th>Tiếng Đức</th>\n    </tr>\n  </thead>\n  <tbody>\n    <tr>\n      <th>0</th>\n      <td>18000001</td>\n      <td>DƯƠNG VIỆT AN</td>\n      <td>12/03/1998</td>\n      <td>Sở GDĐT Bắc Giang</td>\n      <td>Nam</td>\n      <td>Toán:   2.00   Ngữ văn:   5.50   Lịch sử:   3....</td>\n      <td>[Toán, 2.00, Ngữ văn, 5.50, Lịch sử, 3.00, Địa...</td>\n      <td>2.00</td>\n      <td>5.50</td>\n      <td>3.0</td>\n      <td>5.00</td>\n      <td>NaN</td>\n      <td>NaN</td>\n      <td>NaN</td>\n      <td>NaN</td>\n      <td>NaN</td>\n      <td>NaN</td>\n      <td>NaN</td>\n      <td>NaN</td>\n    </tr>\n    <tr>\n      <th>1</th>\n      <td>18000002</td>\n      <td>ĐỖ VĂN AN</td>\n      <td>9/12/1998</td>\n      <td>Sở GDĐT Bắc Giang</td>\n      <td>Nam</td>\n      <td>Toán:   5.50   Ngữ văn:   5.25   Địa lí:   5.5...</td>\n      <td>[Toán, 5.50, Ngữ văn, 5.25, Địa lí, 5.50, Tiến...</td>\n      <td>5.50</td>\n      <td>5.25</td>\n      <td>NaN</td>\n      <td>5.50</td>\n      <td>3.68</td>\n      <td>NaN</td>\n      <td>NaN</td>\n      <td>NaN</td>\n      <td>NaN</td>\n      <td>NaN</td>\n      <td>NaN</td>\n      <td>NaN</td>\n    </tr>\n    <tr>\n      <th>2</th>\n      <td>18000003</td>\n      <td>ĐỖ XUÂN AN</td>\n      <td>12/08/1997</td>\n      <td>Sở GDĐT Bắc Giang</td>\n      <td>Nam</td>\n      <td>Toán:   4.50   Ngữ văn:   5.50   Địa lí:   3.7...</td>\n      <td>[Toán, 4.50, Ngữ văn, 5.50, Địa lí, 3.75, Tiến...</td>\n      <td>4.50</td>\n      <td>5.50</td>\n      <td>NaN</td>\n      <td>3.75</td>\n      <td>2.25</td>\n      <td>NaN</td>\n      <td>NaN</td>\n      <td>NaN</td>\n      <td>NaN</td>\n      <td>NaN</td>\n      <td>NaN</td>\n      <td>NaN</td>\n    </tr>\n    <tr>\n      <th>3</th>\n      <td>18000004</td>\n      <td>ĐẶNG PHÚC AN</td>\n      <td>19/03/1998</td>\n      <td>Sở GDĐT Bắc Giang</td>\n      <td>Nữ</td>\n      <td>Toán:   3.00   Ngữ văn:   6.00   Địa lí:   5.5...</td>\n      <td>[Toán, 3.00, Ngữ văn, 6.00, Địa lí, 5.50, Tiến...</td>\n      <td>3.00</td>\n      <td>6.00</td>\n      <td>NaN</td>\n      <td>5.50</td>\n      <td>1.50</td>\n      <td>NaN</td>\n      <td>NaN</td>\n      <td>NaN</td>\n      <td>NaN</td>\n      <td>NaN</td>\n      <td>NaN</td>\n      <td>NaN</td>\n    </tr>\n    <tr>\n      <th>4</th>\n      <td>18000005</td>\n      <td>ĐẶNG VĂN AN</td>\n      <td>25/10/1998</td>\n      <td>Sở GDĐT Bắc Giang</td>\n      <td>Nam</td>\n      <td>Toán:   2.25   Ngữ văn:   4.75   Địa lí:   5.2...</td>\n      <td>[Toán, 2.25, Ngữ văn, 4.75, Địa lí, 5.25, Tiến...</td>\n      <td>2.25</td>\n      <td>4.75</td>\n      <td>NaN</td>\n      <td>5.25</td>\n      <td>2.00</td>\n      <td>NaN</td>\n      <td>NaN</td>\n      <td>NaN</td>\n      <td>NaN</td>\n      <td>NaN</td>\n      <td>NaN</td>\n      <td>NaN</td>\n    </tr>\n  </tbody>\n</table>\n</div>"
     },
     "metadata": {},
     "execution_count": 8
    }
   ],
   "source": [
    "data.head()"
   ]
  }
 ],
 "metadata": {
  "language_info": {
   "codemirror_mode": {
    "name": "ipython",
    "version": 3
   },
   "file_extension": ".py",
   "mimetype": "text/x-python",
   "name": "python",
   "nbconvert_exporter": "python",
   "pygments_lexer": "ipython3",
   "version": "3.7.7-final"
  },
  "orig_nbformat": 2,
  "kernelspec": {
   "name": "python37764bitailearncondac55bf7adc40a450a9629c3e2b471f312",
   "display_name": "Python 3.7.7 64-bit ('ai_learn': conda)"
  }
 },
 "nbformat": 4,
 "nbformat_minor": 2
}