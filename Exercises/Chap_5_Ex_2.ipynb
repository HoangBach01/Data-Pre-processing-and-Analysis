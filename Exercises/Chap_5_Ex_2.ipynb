{
 "metadata": {
  "language_info": {
   "codemirror_mode": {
    "name": "ipython",
    "version": 3
   },
   "file_extension": ".py",
   "mimetype": "text/x-python",
   "name": "python",
   "nbconvert_exporter": "python",
   "pygments_lexer": "ipython3",
   "version": "3.7.7-final"
  },
  "orig_nbformat": 2,
  "kernelspec": {
   "name": "Python 3.7.7 64-bit ('ai_learn': conda)",
   "display_name": "Python 3.7.7 64-bit ('ai_learn': conda)",
   "metadata": {
    "interpreter": {
     "hash": "0d8bca8ec97c097c371db1b56209bb3af580e9a9345b8f0104eadaeed7f26ccc"
    }
   }
  }
 },
 "nbformat": 4,
 "nbformat_minor": 2,
 "cells": [
  {
   "cell_type": "code",
   "execution_count": 282,
   "metadata": {},
   "outputs": [],
   "source": [
    "import numpy as np\n",
    "import pandas as pd\n",
    "import matplotlib.pyplot as plt\n",
    "import seaborn as sb\n",
    "%matplotlib inline\n",
    "\n",
    "import re\n",
    "from sklearn.experimental import enable_iterative_imputer\n",
    "from sklearn.preprocessing import OrdinalEncoder, LabelEncoder, OneHotEncoder, StandardScaler, MinMaxScaler, RobustScaler\n",
    "from sklearn.impute import KNNImputer, SimpleImputer, IterativeImputer\n",
    "from sklearn.pipeline import Pipeline\n",
    "from sklearn.compose import ColumnTransformer"
   ]
  },
  {
   "cell_type": "code",
   "execution_count": 187,
   "metadata": {},
   "outputs": [
    {
     "output_type": "execute_result",
     "data": {
      "text/plain": [
       "      age    bp     sg   al   su     rbc        pc         pcc          ba  \\\n",
       "id                                                                           \n",
       "0    48.0  80.0  1.020  1.0  0.0     NaN    normal  notpresent  notpresent   \n",
       "1     7.0  50.0  1.020  4.0  0.0     NaN    normal  notpresent  notpresent   \n",
       "2    62.0  80.0  1.010  2.0  3.0  normal    normal  notpresent  notpresent   \n",
       "3    48.0  70.0  1.005  4.0  0.0  normal  abnormal     present  notpresent   \n",
       "4    51.0  80.0  1.010  2.0  0.0  normal    normal  notpresent  notpresent   \n",
       "..    ...   ...    ...  ...  ...     ...       ...         ...         ...   \n",
       "395  55.0  80.0  1.020  0.0  0.0  normal    normal  notpresent  notpresent   \n",
       "396  42.0  70.0  1.025  0.0  0.0  normal    normal  notpresent  notpresent   \n",
       "397  12.0  80.0  1.020  0.0  0.0  normal    normal  notpresent  notpresent   \n",
       "398  17.0  60.0  1.025  0.0  0.0  normal    normal  notpresent  notpresent   \n",
       "399  58.0  80.0  1.025  0.0  0.0  normal    normal  notpresent  notpresent   \n",
       "\n",
       "       bgr  ...  pcv    wc   rc  htn   dm cad appet   pe  ane classification  \n",
       "id          ...                                                               \n",
       "0    121.0  ...   44  7800  5.2  yes  yes  no  good   no   no            ckd  \n",
       "1      NaN  ...   38  6000  NaN   no   no  no  good   no   no            ckd  \n",
       "2    423.0  ...   31  7500  NaN   no  yes  no  poor   no  yes            ckd  \n",
       "3    117.0  ...   32  6700  3.9  yes   no  no  poor  yes  yes            ckd  \n",
       "4    106.0  ...   35  7300  4.6   no   no  no  good   no   no            ckd  \n",
       "..     ...  ...  ...   ...  ...  ...  ...  ..   ...  ...  ...            ...  \n",
       "395  140.0  ...   47  6700  4.9   no   no  no  good   no   no         notckd  \n",
       "396   75.0  ...   54  7800  6.2   no   no  no  good   no   no         notckd  \n",
       "397  100.0  ...   49  6600  5.4   no   no  no  good   no   no         notckd  \n",
       "398  114.0  ...   51  7200  5.9   no   no  no  good   no   no         notckd  \n",
       "399  131.0  ...   53  6800  6.1   no   no  no  good   no   no         notckd  \n",
       "\n",
       "[400 rows x 25 columns]"
      ],
      "text/html": "<div>\n<style scoped>\n    .dataframe tbody tr th:only-of-type {\n        vertical-align: middle;\n    }\n\n    .dataframe tbody tr th {\n        vertical-align: top;\n    }\n\n    .dataframe thead th {\n        text-align: right;\n    }\n</style>\n<table border=\"1\" class=\"dataframe\">\n  <thead>\n    <tr style=\"text-align: right;\">\n      <th></th>\n      <th>age</th>\n      <th>bp</th>\n      <th>sg</th>\n      <th>al</th>\n      <th>su</th>\n      <th>rbc</th>\n      <th>pc</th>\n      <th>pcc</th>\n      <th>ba</th>\n      <th>bgr</th>\n      <th>...</th>\n      <th>pcv</th>\n      <th>wc</th>\n      <th>rc</th>\n      <th>htn</th>\n      <th>dm</th>\n      <th>cad</th>\n      <th>appet</th>\n      <th>pe</th>\n      <th>ane</th>\n      <th>classification</th>\n    </tr>\n    <tr>\n      <th>id</th>\n      <th></th>\n      <th></th>\n      <th></th>\n      <th></th>\n      <th></th>\n      <th></th>\n      <th></th>\n      <th></th>\n      <th></th>\n      <th></th>\n      <th></th>\n      <th></th>\n      <th></th>\n      <th></th>\n      <th></th>\n      <th></th>\n      <th></th>\n      <th></th>\n      <th></th>\n      <th></th>\n      <th></th>\n    </tr>\n  </thead>\n  <tbody>\n    <tr>\n      <th>0</th>\n      <td>48.0</td>\n      <td>80.0</td>\n      <td>1.020</td>\n      <td>1.0</td>\n      <td>0.0</td>\n      <td>NaN</td>\n      <td>normal</td>\n      <td>notpresent</td>\n      <td>notpresent</td>\n      <td>121.0</td>\n      <td>...</td>\n      <td>44</td>\n      <td>7800</td>\n      <td>5.2</td>\n      <td>yes</td>\n      <td>yes</td>\n      <td>no</td>\n      <td>good</td>\n      <td>no</td>\n      <td>no</td>\n      <td>ckd</td>\n    </tr>\n    <tr>\n      <th>1</th>\n      <td>7.0</td>\n      <td>50.0</td>\n      <td>1.020</td>\n      <td>4.0</td>\n      <td>0.0</td>\n      <td>NaN</td>\n      <td>normal</td>\n      <td>notpresent</td>\n      <td>notpresent</td>\n      <td>NaN</td>\n      <td>...</td>\n      <td>38</td>\n      <td>6000</td>\n      <td>NaN</td>\n      <td>no</td>\n      <td>no</td>\n      <td>no</td>\n      <td>good</td>\n      <td>no</td>\n      <td>no</td>\n      <td>ckd</td>\n    </tr>\n    <tr>\n      <th>2</th>\n      <td>62.0</td>\n      <td>80.0</td>\n      <td>1.010</td>\n      <td>2.0</td>\n      <td>3.0</td>\n      <td>normal</td>\n      <td>normal</td>\n      <td>notpresent</td>\n      <td>notpresent</td>\n      <td>423.0</td>\n      <td>...</td>\n      <td>31</td>\n      <td>7500</td>\n      <td>NaN</td>\n      <td>no</td>\n      <td>yes</td>\n      <td>no</td>\n      <td>poor</td>\n      <td>no</td>\n      <td>yes</td>\n      <td>ckd</td>\n    </tr>\n    <tr>\n      <th>3</th>\n      <td>48.0</td>\n      <td>70.0</td>\n      <td>1.005</td>\n      <td>4.0</td>\n      <td>0.0</td>\n      <td>normal</td>\n      <td>abnormal</td>\n      <td>present</td>\n      <td>notpresent</td>\n      <td>117.0</td>\n      <td>...</td>\n      <td>32</td>\n      <td>6700</td>\n      <td>3.9</td>\n      <td>yes</td>\n      <td>no</td>\n      <td>no</td>\n      <td>poor</td>\n      <td>yes</td>\n      <td>yes</td>\n      <td>ckd</td>\n    </tr>\n    <tr>\n      <th>4</th>\n      <td>51.0</td>\n      <td>80.0</td>\n      <td>1.010</td>\n      <td>2.0</td>\n      <td>0.0</td>\n      <td>normal</td>\n      <td>normal</td>\n      <td>notpresent</td>\n      <td>notpresent</td>\n      <td>106.0</td>\n      <td>...</td>\n      <td>35</td>\n      <td>7300</td>\n      <td>4.6</td>\n      <td>no</td>\n      <td>no</td>\n      <td>no</td>\n      <td>good</td>\n      <td>no</td>\n      <td>no</td>\n      <td>ckd</td>\n    </tr>\n    <tr>\n      <th>...</th>\n      <td>...</td>\n      <td>...</td>\n      <td>...</td>\n      <td>...</td>\n      <td>...</td>\n      <td>...</td>\n      <td>...</td>\n      <td>...</td>\n      <td>...</td>\n      <td>...</td>\n      <td>...</td>\n      <td>...</td>\n      <td>...</td>\n      <td>...</td>\n      <td>...</td>\n      <td>...</td>\n      <td>...</td>\n      <td>...</td>\n      <td>...</td>\n      <td>...</td>\n      <td>...</td>\n    </tr>\n    <tr>\n      <th>395</th>\n      <td>55.0</td>\n      <td>80.0</td>\n      <td>1.020</td>\n      <td>0.0</td>\n      <td>0.0</td>\n      <td>normal</td>\n      <td>normal</td>\n      <td>notpresent</td>\n      <td>notpresent</td>\n      <td>140.0</td>\n      <td>...</td>\n      <td>47</td>\n      <td>6700</td>\n      <td>4.9</td>\n      <td>no</td>\n      <td>no</td>\n      <td>no</td>\n      <td>good</td>\n      <td>no</td>\n      <td>no</td>\n      <td>notckd</td>\n    </tr>\n    <tr>\n      <th>396</th>\n      <td>42.0</td>\n      <td>70.0</td>\n      <td>1.025</td>\n      <td>0.0</td>\n      <td>0.0</td>\n      <td>normal</td>\n      <td>normal</td>\n      <td>notpresent</td>\n      <td>notpresent</td>\n      <td>75.0</td>\n      <td>...</td>\n      <td>54</td>\n      <td>7800</td>\n      <td>6.2</td>\n      <td>no</td>\n      <td>no</td>\n      <td>no</td>\n      <td>good</td>\n      <td>no</td>\n      <td>no</td>\n      <td>notckd</td>\n    </tr>\n    <tr>\n      <th>397</th>\n      <td>12.0</td>\n      <td>80.0</td>\n      <td>1.020</td>\n      <td>0.0</td>\n      <td>0.0</td>\n      <td>normal</td>\n      <td>normal</td>\n      <td>notpresent</td>\n      <td>notpresent</td>\n      <td>100.0</td>\n      <td>...</td>\n      <td>49</td>\n      <td>6600</td>\n      <td>5.4</td>\n      <td>no</td>\n      <td>no</td>\n      <td>no</td>\n      <td>good</td>\n      <td>no</td>\n      <td>no</td>\n      <td>notckd</td>\n    </tr>\n    <tr>\n      <th>398</th>\n      <td>17.0</td>\n      <td>60.0</td>\n      <td>1.025</td>\n      <td>0.0</td>\n      <td>0.0</td>\n      <td>normal</td>\n      <td>normal</td>\n      <td>notpresent</td>\n      <td>notpresent</td>\n      <td>114.0</td>\n      <td>...</td>\n      <td>51</td>\n      <td>7200</td>\n      <td>5.9</td>\n      <td>no</td>\n      <td>no</td>\n      <td>no</td>\n      <td>good</td>\n      <td>no</td>\n      <td>no</td>\n      <td>notckd</td>\n    </tr>\n    <tr>\n      <th>399</th>\n      <td>58.0</td>\n      <td>80.0</td>\n      <td>1.025</td>\n      <td>0.0</td>\n      <td>0.0</td>\n      <td>normal</td>\n      <td>normal</td>\n      <td>notpresent</td>\n      <td>notpresent</td>\n      <td>131.0</td>\n      <td>...</td>\n      <td>53</td>\n      <td>6800</td>\n      <td>6.1</td>\n      <td>no</td>\n      <td>no</td>\n      <td>no</td>\n      <td>good</td>\n      <td>no</td>\n      <td>no</td>\n      <td>notckd</td>\n    </tr>\n  </tbody>\n</table>\n<p>400 rows × 25 columns</p>\n</div>"
     },
     "metadata": {},
     "execution_count": 187
    }
   ],
   "source": [
    "df = pd.read_csv('data/kidney_disease.csv', index_col=0)\n",
    "df"
   ]
  },
  {
   "cell_type": "code",
   "execution_count": 61,
   "metadata": {},
   "outputs": [
    {
     "output_type": "stream",
     "name": "stdout",
     "text": [
      "<class 'pandas.core.frame.DataFrame'>\nInt64Index: 400 entries, 0 to 399\nData columns (total 25 columns):\n #   Column          Non-Null Count  Dtype  \n---  ------          --------------  -----  \n 0   age             391 non-null    float64\n 1   bp              388 non-null    float64\n 2   sg              353 non-null    float64\n 3   al              354 non-null    float64\n 4   su              351 non-null    float64\n 5   rbc             248 non-null    object \n 6   pc              335 non-null    object \n 7   pcc             396 non-null    object \n 8   ba              396 non-null    object \n 9   bgr             356 non-null    float64\n 10  bu              381 non-null    float64\n 11  sc              383 non-null    float64\n 12  sod             313 non-null    float64\n 13  pot             312 non-null    float64\n 14  hemo            348 non-null    float64\n 15  pcv             330 non-null    object \n 16  wc              295 non-null    object \n 17  rc              270 non-null    object \n 18  htn             398 non-null    object \n 19  dm              398 non-null    object \n 20  cad             398 non-null    object \n 21  appet           399 non-null    object \n 22  pe              399 non-null    object \n 23  ane             399 non-null    object \n 24  classification  400 non-null    object \ndtypes: float64(11), object(14)\nmemory usage: 81.2+ KB\n"
     ]
    }
   ],
   "source": [
    "df.info()"
   ]
  },
  {
   "cell_type": "code",
   "execution_count": 179,
   "metadata": {},
   "outputs": [
    {
     "output_type": "execute_result",
     "data": {
      "text/plain": [
       "              Name     Type  Total_na  Percent  \\\n",
       "0              age  Numeric         9     2.25   \n",
       "1               bp  Numeric        12     3.00   \n",
       "2               sg  Numeric        47    11.75   \n",
       "3               al  Numeric        46    11.50   \n",
       "4               su  Numeric        49    12.25   \n",
       "5              rbc   Object       152    38.00   \n",
       "6               pc   Object        65    16.25   \n",
       "7              pcc   Object         4     1.00   \n",
       "8               ba   Object         4     1.00   \n",
       "9              bgr  Numeric        44    11.00   \n",
       "10              bu  Numeric        19     4.75   \n",
       "11              sc  Numeric        17     4.25   \n",
       "12             sod  Numeric        87    21.75   \n",
       "13             pot  Numeric        88    22.00   \n",
       "14            hemo  Numeric        52    13.00   \n",
       "15             pcv   Object        70    17.50   \n",
       "16              wc   Object       105    26.25   \n",
       "17              rc   Object       130    32.50   \n",
       "18             htn   Object         2     0.50   \n",
       "19              dm   Object         2     0.50   \n",
       "20             cad   Object         2     0.50   \n",
       "21           appet   Object         1     0.25   \n",
       "22              pe   Object         1     0.25   \n",
       "23             ane   Object         1     0.25   \n",
       "24  classification   Object         0     0.00   \n",
       "\n",
       "                                               Unique  \\\n",
       "0                                                       \n",
       "1                                                       \n",
       "2                                                       \n",
       "3                                                       \n",
       "4                                                       \n",
       "5                             [nan, normal, abnormal]   \n",
       "6                             [normal, abnormal, nan]   \n",
       "7                          [notpresent, present, nan]   \n",
       "8                          [notpresent, present, nan]   \n",
       "9                                                       \n",
       "10                                                      \n",
       "11                                                      \n",
       "12                                                      \n",
       "13                                                      \n",
       "14                                                      \n",
       "15  [44, 38, 31, 32, 35, 39, 36, 33, 29, 28, nan, ...   \n",
       "16  [7800, 6000, 7500, 6700, 7300, nan, 6900, 9600...   \n",
       "17  [5.2, nan, 3.9, 4.6, 4.4, 5, 4.0, 3.7, 3.8, 3....   \n",
       "18                                     [yes, no, nan]   \n",
       "19                  [yes, no,  yes, \\tno, \\tyes, nan]   \n",
       "20                               [no, yes, \\tno, nan]   \n",
       "21                                  [good, poor, nan]   \n",
       "22                                     [no, yes, nan]   \n",
       "23                                     [no, yes, nan]   \n",
       "24                               [ckd, ckd\\t, notckd]   \n",
       "\n",
       "                              Weird_obj  \n",
       "0                                        \n",
       "1                                        \n",
       "2                                        \n",
       "3                                        \n",
       "4                                        \n",
       "5                                        \n",
       "6                                        \n",
       "7                                        \n",
       "8                                        \n",
       "9                                        \n",
       "10                                       \n",
       "11                                       \n",
       "12                                       \n",
       "13                                       \n",
       "14                                       \n",
       "15                    ['\\t', '?']['\\t']  \n",
       "16              ['\\t']['\\t']['\\t', '?']  \n",
       "17                          ['\\t', '?']  \n",
       "18                                       \n",
       "19  [' ']['\\t']['\\t']['\\t']['\\t']['\\t']  \n",
       "20                         ['\\t']['\\t']  \n",
       "21                                       \n",
       "22                                       \n",
       "23                                       \n",
       "24                         ['\\t']['\\t']  "
      ],
      "text/html": "<div>\n<style scoped>\n    .dataframe tbody tr th:only-of-type {\n        vertical-align: middle;\n    }\n\n    .dataframe tbody tr th {\n        vertical-align: top;\n    }\n\n    .dataframe thead th {\n        text-align: right;\n    }\n</style>\n<table border=\"1\" class=\"dataframe\">\n  <thead>\n    <tr style=\"text-align: right;\">\n      <th></th>\n      <th>Name</th>\n      <th>Type</th>\n      <th>Total_na</th>\n      <th>Percent</th>\n      <th>Unique</th>\n      <th>Weird_obj</th>\n    </tr>\n  </thead>\n  <tbody>\n    <tr>\n      <th>0</th>\n      <td>age</td>\n      <td>Numeric</td>\n      <td>9</td>\n      <td>2.25</td>\n      <td></td>\n      <td></td>\n    </tr>\n    <tr>\n      <th>1</th>\n      <td>bp</td>\n      <td>Numeric</td>\n      <td>12</td>\n      <td>3.00</td>\n      <td></td>\n      <td></td>\n    </tr>\n    <tr>\n      <th>2</th>\n      <td>sg</td>\n      <td>Numeric</td>\n      <td>47</td>\n      <td>11.75</td>\n      <td></td>\n      <td></td>\n    </tr>\n    <tr>\n      <th>3</th>\n      <td>al</td>\n      <td>Numeric</td>\n      <td>46</td>\n      <td>11.50</td>\n      <td></td>\n      <td></td>\n    </tr>\n    <tr>\n      <th>4</th>\n      <td>su</td>\n      <td>Numeric</td>\n      <td>49</td>\n      <td>12.25</td>\n      <td></td>\n      <td></td>\n    </tr>\n    <tr>\n      <th>5</th>\n      <td>rbc</td>\n      <td>Object</td>\n      <td>152</td>\n      <td>38.00</td>\n      <td>[nan, normal, abnormal]</td>\n      <td></td>\n    </tr>\n    <tr>\n      <th>6</th>\n      <td>pc</td>\n      <td>Object</td>\n      <td>65</td>\n      <td>16.25</td>\n      <td>[normal, abnormal, nan]</td>\n      <td></td>\n    </tr>\n    <tr>\n      <th>7</th>\n      <td>pcc</td>\n      <td>Object</td>\n      <td>4</td>\n      <td>1.00</td>\n      <td>[notpresent, present, nan]</td>\n      <td></td>\n    </tr>\n    <tr>\n      <th>8</th>\n      <td>ba</td>\n      <td>Object</td>\n      <td>4</td>\n      <td>1.00</td>\n      <td>[notpresent, present, nan]</td>\n      <td></td>\n    </tr>\n    <tr>\n      <th>9</th>\n      <td>bgr</td>\n      <td>Numeric</td>\n      <td>44</td>\n      <td>11.00</td>\n      <td></td>\n      <td></td>\n    </tr>\n    <tr>\n      <th>10</th>\n      <td>bu</td>\n      <td>Numeric</td>\n      <td>19</td>\n      <td>4.75</td>\n      <td></td>\n      <td></td>\n    </tr>\n    <tr>\n      <th>11</th>\n      <td>sc</td>\n      <td>Numeric</td>\n      <td>17</td>\n      <td>4.25</td>\n      <td></td>\n      <td></td>\n    </tr>\n    <tr>\n      <th>12</th>\n      <td>sod</td>\n      <td>Numeric</td>\n      <td>87</td>\n      <td>21.75</td>\n      <td></td>\n      <td></td>\n    </tr>\n    <tr>\n      <th>13</th>\n      <td>pot</td>\n      <td>Numeric</td>\n      <td>88</td>\n      <td>22.00</td>\n      <td></td>\n      <td></td>\n    </tr>\n    <tr>\n      <th>14</th>\n      <td>hemo</td>\n      <td>Numeric</td>\n      <td>52</td>\n      <td>13.00</td>\n      <td></td>\n      <td></td>\n    </tr>\n    <tr>\n      <th>15</th>\n      <td>pcv</td>\n      <td>Object</td>\n      <td>70</td>\n      <td>17.50</td>\n      <td>[44, 38, 31, 32, 35, 39, 36, 33, 29, 28, nan, ...</td>\n      <td>['\\t', '?']['\\t']</td>\n    </tr>\n    <tr>\n      <th>16</th>\n      <td>wc</td>\n      <td>Object</td>\n      <td>105</td>\n      <td>26.25</td>\n      <td>[7800, 6000, 7500, 6700, 7300, nan, 6900, 9600...</td>\n      <td>['\\t']['\\t']['\\t', '?']</td>\n    </tr>\n    <tr>\n      <th>17</th>\n      <td>rc</td>\n      <td>Object</td>\n      <td>130</td>\n      <td>32.50</td>\n      <td>[5.2, nan, 3.9, 4.6, 4.4, 5, 4.0, 3.7, 3.8, 3....</td>\n      <td>['\\t', '?']</td>\n    </tr>\n    <tr>\n      <th>18</th>\n      <td>htn</td>\n      <td>Object</td>\n      <td>2</td>\n      <td>0.50</td>\n      <td>[yes, no, nan]</td>\n      <td></td>\n    </tr>\n    <tr>\n      <th>19</th>\n      <td>dm</td>\n      <td>Object</td>\n      <td>2</td>\n      <td>0.50</td>\n      <td>[yes, no,  yes, \\tno, \\tyes, nan]</td>\n      <td>[' ']['\\t']['\\t']['\\t']['\\t']['\\t']</td>\n    </tr>\n    <tr>\n      <th>20</th>\n      <td>cad</td>\n      <td>Object</td>\n      <td>2</td>\n      <td>0.50</td>\n      <td>[no, yes, \\tno, nan]</td>\n      <td>['\\t']['\\t']</td>\n    </tr>\n    <tr>\n      <th>21</th>\n      <td>appet</td>\n      <td>Object</td>\n      <td>1</td>\n      <td>0.25</td>\n      <td>[good, poor, nan]</td>\n      <td></td>\n    </tr>\n    <tr>\n      <th>22</th>\n      <td>pe</td>\n      <td>Object</td>\n      <td>1</td>\n      <td>0.25</td>\n      <td>[no, yes, nan]</td>\n      <td></td>\n    </tr>\n    <tr>\n      <th>23</th>\n      <td>ane</td>\n      <td>Object</td>\n      <td>1</td>\n      <td>0.25</td>\n      <td>[no, yes, nan]</td>\n      <td></td>\n    </tr>\n    <tr>\n      <th>24</th>\n      <td>classification</td>\n      <td>Object</td>\n      <td>0</td>\n      <td>0.00</td>\n      <td>[ckd, ckd\\t, notckd]</td>\n      <td>['\\t']['\\t']</td>\n    </tr>\n  </tbody>\n</table>\n</div>"
     },
     "metadata": {},
     "execution_count": 179
    }
   ],
   "source": [
    "# Create a function to evaluate missing in data, check unique in object (categorical col)\n",
    "def check_overview(df):\n",
    "\n",
    "    check = []\n",
    "\n",
    "    for col in df.columns:\n",
    "        weird_obj = ''\n",
    "        \n",
    "        if df.dtypes[col] == 'object':\n",
    "            type = 'Object'\n",
    "            unique_obj = df[col].unique()\n",
    "            for i in df[col]:\n",
    "                obj = re.findall(r'[^A-Za-z\\d\\.]', str(i))\n",
    "                if obj != []:\n",
    "                    weird_obj += str(obj)\n",
    "\n",
    "        else:\n",
    "            type = 'Numeric'\n",
    "            unique_obj = ''\n",
    "\n",
    "        total_nan = df[col].isnull().sum()\n",
    "        percent_nan = total_nan/len(df[col])*100\n",
    "        check.append([col, type, total_nan, percent_nan, unique_obj, weird_obj])\n",
    "\n",
    "    check_df = pd.DataFrame(check, columns=['Name', 'Type', 'Total_na', 'Percent', 'Unique', 'Weird_obj'])\n",
    "\n",
    "    return check_df\n",
    "\n",
    "check = check_overview(df)\n",
    "check"
   ]
  },
  {
   "cell_type": "code",
   "execution_count": 188,
   "metadata": {},
   "outputs": [],
   "source": [
    "# Clean weird object first\n",
    "for col in ['pcv', 'wc', 'rc']:\n",
    "    df[col] = pd.to_numeric(df[col].str.replace(r'[^A-Za-z\\d\\.]', ''))\n",
    "for col in ['dm', 'cad', 'classification']:\n",
    "    df[col] = df[col].str.replace(r'[^A-Za-z\\d\\.]', '')"
   ]
  },
  {
   "cell_type": "code",
   "execution_count": 191,
   "metadata": {},
   "outputs": [],
   "source": [
    "# Some columns have too many nan, not enough to predict and too bad for use imputer, let's drop some col with percent_na > 25%\n",
    "df.drop(columns=['rbc', 'sod', 'wc', 'rc'], inplace=True)"
   ]
  },
  {
   "cell_type": "code",
   "execution_count": 189,
   "metadata": {},
   "outputs": [
    {
     "output_type": "execute_result",
     "data": {
      "text/plain": [
       "              Name     Type  Total_na  Percent                      Unique  \\\n",
       "0              age  Numeric         9     2.25                               \n",
       "1               bp  Numeric        12     3.00                               \n",
       "2               sg  Numeric        47    11.75                               \n",
       "3               al  Numeric        46    11.50                               \n",
       "4               su  Numeric        49    12.25                               \n",
       "5              rbc   Object       152    38.00     [nan, normal, abnormal]   \n",
       "6               pc   Object        65    16.25     [normal, abnormal, nan]   \n",
       "7              pcc   Object         4     1.00  [notpresent, present, nan]   \n",
       "8               ba   Object         4     1.00  [notpresent, present, nan]   \n",
       "9              bgr  Numeric        44    11.00                               \n",
       "10              bu  Numeric        19     4.75                               \n",
       "11              sc  Numeric        17     4.25                               \n",
       "12             sod  Numeric        87    21.75                               \n",
       "13             pot  Numeric        88    22.00                               \n",
       "14            hemo  Numeric        52    13.00                               \n",
       "15             pcv  Numeric        71    17.75                               \n",
       "16              wc  Numeric       106    26.50                               \n",
       "17              rc  Numeric       131    32.75                               \n",
       "18             htn   Object         2     0.50              [yes, no, nan]   \n",
       "19              dm   Object         2     0.50              [yes, no, nan]   \n",
       "20             cad   Object         2     0.50              [no, yes, nan]   \n",
       "21           appet   Object         1     0.25           [good, poor, nan]   \n",
       "22              pe   Object         1     0.25              [no, yes, nan]   \n",
       "23             ane   Object         1     0.25              [no, yes, nan]   \n",
       "24  classification   Object         0     0.00               [ckd, notckd]   \n",
       "\n",
       "   Weird_obj  \n",
       "0             \n",
       "1             \n",
       "2             \n",
       "3             \n",
       "4             \n",
       "5             \n",
       "6             \n",
       "7             \n",
       "8             \n",
       "9             \n",
       "10            \n",
       "11            \n",
       "12            \n",
       "13            \n",
       "14            \n",
       "15            \n",
       "16            \n",
       "17            \n",
       "18            \n",
       "19            \n",
       "20            \n",
       "21            \n",
       "22            \n",
       "23            \n",
       "24            "
      ],
      "text/html": "<div>\n<style scoped>\n    .dataframe tbody tr th:only-of-type {\n        vertical-align: middle;\n    }\n\n    .dataframe tbody tr th {\n        vertical-align: top;\n    }\n\n    .dataframe thead th {\n        text-align: right;\n    }\n</style>\n<table border=\"1\" class=\"dataframe\">\n  <thead>\n    <tr style=\"text-align: right;\">\n      <th></th>\n      <th>Name</th>\n      <th>Type</th>\n      <th>Total_na</th>\n      <th>Percent</th>\n      <th>Unique</th>\n      <th>Weird_obj</th>\n    </tr>\n  </thead>\n  <tbody>\n    <tr>\n      <th>0</th>\n      <td>age</td>\n      <td>Numeric</td>\n      <td>9</td>\n      <td>2.25</td>\n      <td></td>\n      <td></td>\n    </tr>\n    <tr>\n      <th>1</th>\n      <td>bp</td>\n      <td>Numeric</td>\n      <td>12</td>\n      <td>3.00</td>\n      <td></td>\n      <td></td>\n    </tr>\n    <tr>\n      <th>2</th>\n      <td>sg</td>\n      <td>Numeric</td>\n      <td>47</td>\n      <td>11.75</td>\n      <td></td>\n      <td></td>\n    </tr>\n    <tr>\n      <th>3</th>\n      <td>al</td>\n      <td>Numeric</td>\n      <td>46</td>\n      <td>11.50</td>\n      <td></td>\n      <td></td>\n    </tr>\n    <tr>\n      <th>4</th>\n      <td>su</td>\n      <td>Numeric</td>\n      <td>49</td>\n      <td>12.25</td>\n      <td></td>\n      <td></td>\n    </tr>\n    <tr>\n      <th>5</th>\n      <td>rbc</td>\n      <td>Object</td>\n      <td>152</td>\n      <td>38.00</td>\n      <td>[nan, normal, abnormal]</td>\n      <td></td>\n    </tr>\n    <tr>\n      <th>6</th>\n      <td>pc</td>\n      <td>Object</td>\n      <td>65</td>\n      <td>16.25</td>\n      <td>[normal, abnormal, nan]</td>\n      <td></td>\n    </tr>\n    <tr>\n      <th>7</th>\n      <td>pcc</td>\n      <td>Object</td>\n      <td>4</td>\n      <td>1.00</td>\n      <td>[notpresent, present, nan]</td>\n      <td></td>\n    </tr>\n    <tr>\n      <th>8</th>\n      <td>ba</td>\n      <td>Object</td>\n      <td>4</td>\n      <td>1.00</td>\n      <td>[notpresent, present, nan]</td>\n      <td></td>\n    </tr>\n    <tr>\n      <th>9</th>\n      <td>bgr</td>\n      <td>Numeric</td>\n      <td>44</td>\n      <td>11.00</td>\n      <td></td>\n      <td></td>\n    </tr>\n    <tr>\n      <th>10</th>\n      <td>bu</td>\n      <td>Numeric</td>\n      <td>19</td>\n      <td>4.75</td>\n      <td></td>\n      <td></td>\n    </tr>\n    <tr>\n      <th>11</th>\n      <td>sc</td>\n      <td>Numeric</td>\n      <td>17</td>\n      <td>4.25</td>\n      <td></td>\n      <td></td>\n    </tr>\n    <tr>\n      <th>12</th>\n      <td>sod</td>\n      <td>Numeric</td>\n      <td>87</td>\n      <td>21.75</td>\n      <td></td>\n      <td></td>\n    </tr>\n    <tr>\n      <th>13</th>\n      <td>pot</td>\n      <td>Numeric</td>\n      <td>88</td>\n      <td>22.00</td>\n      <td></td>\n      <td></td>\n    </tr>\n    <tr>\n      <th>14</th>\n      <td>hemo</td>\n      <td>Numeric</td>\n      <td>52</td>\n      <td>13.00</td>\n      <td></td>\n      <td></td>\n    </tr>\n    <tr>\n      <th>15</th>\n      <td>pcv</td>\n      <td>Numeric</td>\n      <td>71</td>\n      <td>17.75</td>\n      <td></td>\n      <td></td>\n    </tr>\n    <tr>\n      <th>16</th>\n      <td>wc</td>\n      <td>Numeric</td>\n      <td>106</td>\n      <td>26.50</td>\n      <td></td>\n      <td></td>\n    </tr>\n    <tr>\n      <th>17</th>\n      <td>rc</td>\n      <td>Numeric</td>\n      <td>131</td>\n      <td>32.75</td>\n      <td></td>\n      <td></td>\n    </tr>\n    <tr>\n      <th>18</th>\n      <td>htn</td>\n      <td>Object</td>\n      <td>2</td>\n      <td>0.50</td>\n      <td>[yes, no, nan]</td>\n      <td></td>\n    </tr>\n    <tr>\n      <th>19</th>\n      <td>dm</td>\n      <td>Object</td>\n      <td>2</td>\n      <td>0.50</td>\n      <td>[yes, no, nan]</td>\n      <td></td>\n    </tr>\n    <tr>\n      <th>20</th>\n      <td>cad</td>\n      <td>Object</td>\n      <td>2</td>\n      <td>0.50</td>\n      <td>[no, yes, nan]</td>\n      <td></td>\n    </tr>\n    <tr>\n      <th>21</th>\n      <td>appet</td>\n      <td>Object</td>\n      <td>1</td>\n      <td>0.25</td>\n      <td>[good, poor, nan]</td>\n      <td></td>\n    </tr>\n    <tr>\n      <th>22</th>\n      <td>pe</td>\n      <td>Object</td>\n      <td>1</td>\n      <td>0.25</td>\n      <td>[no, yes, nan]</td>\n      <td></td>\n    </tr>\n    <tr>\n      <th>23</th>\n      <td>ane</td>\n      <td>Object</td>\n      <td>1</td>\n      <td>0.25</td>\n      <td>[no, yes, nan]</td>\n      <td></td>\n    </tr>\n    <tr>\n      <th>24</th>\n      <td>classification</td>\n      <td>Object</td>\n      <td>0</td>\n      <td>0.00</td>\n      <td>[ckd, notckd]</td>\n      <td></td>\n    </tr>\n  </tbody>\n</table>\n</div>"
     },
     "metadata": {},
     "execution_count": 189
    }
   ],
   "source": [
    "check = check_overview(df)\n",
    "check"
   ]
  },
  {
   "cell_type": "code",
   "execution_count": 308,
   "metadata": {},
   "outputs": [
    {
     "output_type": "stream",
     "name": "stdout",
     "text": [
      "<class 'pandas.core.frame.DataFrame'>\nRangeIndex: 400 entries, 0 to 399\nData columns (total 20 columns):\n #   Column   Non-Null Count  Dtype  \n---  ------   --------------  -----  \n 0   age      400 non-null    float64\n 1   bp       400 non-null    float64\n 2   sg       400 non-null    float64\n 3   al       400 non-null    float64\n 4   su       400 non-null    float64\n 5   bgr      400 non-null    float64\n 6   bu       400 non-null    float64\n 7   sc       400 non-null    float64\n 8   pot      400 non-null    float64\n 9   hemo     400 non-null    float64\n 10  pcv      400 non-null    float64\n 11  pc_2     400 non-null    uint8  \n 12  pcc_2    400 non-null    uint8  \n 13  ba_2     400 non-null    uint8  \n 14  htn_2    400 non-null    uint8  \n 15  dm_2     400 non-null    uint8  \n 16  cad_2    400 non-null    uint8  \n 17  appet_2  400 non-null    uint8  \n 18  pe_2     400 non-null    uint8  \n 19  ane_2    400 non-null    uint8  \ndtypes: float64(11), uint8(9)\nmemory usage: 38.0 KB\n"
     ]
    }
   ],
   "source": [
    "X = df.drop(columns='classification')\n",
    "y = df['classification']\n",
    "num_col = X.select_dtypes(include='float64').columns\n",
    "cate_col = X.select_dtypes(include='object').columns\n",
    "all_col = num_col.append(cate_col)\n",
    "\n",
    "\n",
    "num_pipeline = Pipeline([\n",
    "        ('scaler', StandardScaler())])\n",
    "\n",
    "cate_pipeline = Pipeline([\n",
    "        ('fill_missing', SimpleImputer(strategy='constant', fill_value='_')),\n",
    "        ('ordinal_encoder', OrdinalEncoder()),\n",
    "        ('reverse_missing', SimpleImputer(strategy='constant', missing_values=0, fill_value=np.nan))])\n",
    "\n",
    "prepare_for_imputer = ColumnTransformer([\n",
    "        ('num_var', num_pipeline, num_col),\n",
    "        ('cate_var', cate_pipeline, cate_col)])\n",
    "\n",
    "X_prepare_for_imputer = pd.DataFrame(prepare_for_imputer.fit_transform(X), columns=all_col)\n",
    "\n",
    "knn_imputer = KNNImputer(n_neighbors=3)\n",
    "\n",
    "X_imputed = pd.DataFrame(knn_imputer.fit_transform(X_prepare_for_imputer), columns=X_prepare_for_imputer.columns)\n",
    "X_imputed[cate_col] = X_imputed[cate_col].astype('int64')\n",
    "\n",
    "X_final = pd.get_dummies(X_imputed, columns=cate_col, drop_first=True)\n",
    "X_final.info()"
   ]
  },
  {
   "cell_type": "code",
   "execution_count": null,
   "metadata": {},
   "outputs": [],
   "source": []
  }
 ]
}