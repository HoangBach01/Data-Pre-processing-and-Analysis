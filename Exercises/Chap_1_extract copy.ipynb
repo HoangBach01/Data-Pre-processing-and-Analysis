{
 "cells": [
  {
   "cell_type": "code",
   "execution_count": 36,
   "metadata": {},
   "outputs": [],
   "source": [
    "import numpy as np\n",
    "import pandas as pd\n",
    "import re\n",
    "from collections import Counter"
   ]
  },
  {
   "cell_type": "code",
   "execution_count": 37,
   "metadata": {},
   "outputs": [],
   "source": [
    "data = pd.read_csv('Diemthi_thpt_quocgia_2016.csv')"
   ]
  },
  {
   "cell_type": "code",
   "execution_count": 38,
   "metadata": {},
   "outputs": [
    {
     "output_type": "execute_result",
     "data": {
      "text/plain": "  SOBAODANH         HO_TEN   NGAY_SINH         TEN_CUMTHI GIOI_TINH  \\\n0  18000001  DƯƠNG VIỆT AN  12/03/1998  Sở GDĐT Bắc Giang       Nam   \n1  18000002      ĐỖ VĂN AN   9/12/1998  Sở GDĐT Bắc Giang       Nam   \n2  18000003     ĐỖ XUÂN AN  12/08/1997  Sở GDĐT Bắc Giang       Nam   \n3  18000004   ĐẶNG PHÚC AN  19/03/1998  Sở GDĐT Bắc Giang        Nữ   \n4  18000005    ĐẶNG VĂN AN  25/10/1998  Sở GDĐT Bắc Giang       Nam   \n\n                                            DIEM_THI  \n0  Toán:   2.00   Ngữ văn:   5.50   Lịch sử:   3....  \n1  Toán:   5.50   Ngữ văn:   5.25   Địa lí:   5.5...  \n2  Toán:   4.50   Ngữ văn:   5.50   Địa lí:   3.7...  \n3  Toán:   3.00   Ngữ văn:   6.00   Địa lí:   5.5...  \n4  Toán:   2.25   Ngữ văn:   4.75   Địa lí:   5.2...  ",
      "text/html": "<div>\n<style scoped>\n    .dataframe tbody tr th:only-of-type {\n        vertical-align: middle;\n    }\n\n    .dataframe tbody tr th {\n        vertical-align: top;\n    }\n\n    .dataframe thead th {\n        text-align: right;\n    }\n</style>\n<table border=\"1\" class=\"dataframe\">\n  <thead>\n    <tr style=\"text-align: right;\">\n      <th></th>\n      <th>SOBAODANH</th>\n      <th>HO_TEN</th>\n      <th>NGAY_SINH</th>\n      <th>TEN_CUMTHI</th>\n      <th>GIOI_TINH</th>\n      <th>DIEM_THI</th>\n    </tr>\n  </thead>\n  <tbody>\n    <tr>\n      <th>0</th>\n      <td>18000001</td>\n      <td>DƯƠNG VIỆT AN</td>\n      <td>12/03/1998</td>\n      <td>Sở GDĐT Bắc Giang</td>\n      <td>Nam</td>\n      <td>Toán:   2.00   Ngữ văn:   5.50   Lịch sử:   3....</td>\n    </tr>\n    <tr>\n      <th>1</th>\n      <td>18000002</td>\n      <td>ĐỖ VĂN AN</td>\n      <td>9/12/1998</td>\n      <td>Sở GDĐT Bắc Giang</td>\n      <td>Nam</td>\n      <td>Toán:   5.50   Ngữ văn:   5.25   Địa lí:   5.5...</td>\n    </tr>\n    <tr>\n      <th>2</th>\n      <td>18000003</td>\n      <td>ĐỖ XUÂN AN</td>\n      <td>12/08/1997</td>\n      <td>Sở GDĐT Bắc Giang</td>\n      <td>Nam</td>\n      <td>Toán:   4.50   Ngữ văn:   5.50   Địa lí:   3.7...</td>\n    </tr>\n    <tr>\n      <th>3</th>\n      <td>18000004</td>\n      <td>ĐẶNG PHÚC AN</td>\n      <td>19/03/1998</td>\n      <td>Sở GDĐT Bắc Giang</td>\n      <td>Nữ</td>\n      <td>Toán:   3.00   Ngữ văn:   6.00   Địa lí:   5.5...</td>\n    </tr>\n    <tr>\n      <th>4</th>\n      <td>18000005</td>\n      <td>ĐẶNG VĂN AN</td>\n      <td>25/10/1998</td>\n      <td>Sở GDĐT Bắc Giang</td>\n      <td>Nam</td>\n      <td>Toán:   2.25   Ngữ văn:   4.75   Địa lí:   5.2...</td>\n    </tr>\n  </tbody>\n</table>\n</div>"
     },
     "metadata": {},
     "execution_count": 38
    }
   ],
   "source": [
    "data.head()"
   ]
  },
  {
   "cell_type": "code",
   "execution_count": 39,
   "metadata": {},
   "outputs": [
    {
     "output_type": "execute_result",
     "data": {
      "text/plain": "  SOBAODANH         HO_TEN   NGAY_SINH         TEN_CUMTHI GIOI_TINH  \\\n0  18000001  DƯƠNG VIỆT AN  12/03/1998  Sở GDĐT Bắc Giang       Nam   \n1  18000002      ĐỖ VĂN AN   9/12/1998  Sở GDĐT Bắc Giang       Nam   \n2  18000003     ĐỖ XUÂN AN  12/08/1997  Sở GDĐT Bắc Giang       Nam   \n3  18000004   ĐẶNG PHÚC AN  19/03/1998  Sở GDĐT Bắc Giang        Nữ   \n4  18000005    ĐẶNG VĂN AN  25/10/1998  Sở GDĐT Bắc Giang       Nam   \n\n                                            DIEM_THI  \\\n0  Toán:   2.00   Ngữ văn:   5.50   Lịch sử:   3....   \n1  Toán:   5.50   Ngữ văn:   5.25   Địa lí:   5.5...   \n2  Toán:   4.50   Ngữ văn:   5.50   Địa lí:   3.7...   \n3  Toán:   3.00   Ngữ văn:   6.00   Địa lí:   5.5...   \n4  Toán:   2.25   Ngữ văn:   4.75   Địa lí:   5.2...   \n\n                                SPLITED  \n0    [Toán, Ngữ văn, Lịch sử, Địa lí, ]  \n1  [Toán, Ngữ văn, Địa lí, Tiếng Anh, ]  \n2  [Toán, Ngữ văn, Địa lí, Tiếng Anh, ]  \n3  [Toán, Ngữ văn, Địa lí, Tiếng Anh, ]  \n4  [Toán, Ngữ văn, Địa lí, Tiếng Anh, ]  ",
      "text/html": "<div>\n<style scoped>\n    .dataframe tbody tr th:only-of-type {\n        vertical-align: middle;\n    }\n\n    .dataframe tbody tr th {\n        vertical-align: top;\n    }\n\n    .dataframe thead th {\n        text-align: right;\n    }\n</style>\n<table border=\"1\" class=\"dataframe\">\n  <thead>\n    <tr style=\"text-align: right;\">\n      <th></th>\n      <th>SOBAODANH</th>\n      <th>HO_TEN</th>\n      <th>NGAY_SINH</th>\n      <th>TEN_CUMTHI</th>\n      <th>GIOI_TINH</th>\n      <th>DIEM_THI</th>\n      <th>SPLITED</th>\n    </tr>\n  </thead>\n  <tbody>\n    <tr>\n      <th>0</th>\n      <td>18000001</td>\n      <td>DƯƠNG VIỆT AN</td>\n      <td>12/03/1998</td>\n      <td>Sở GDĐT Bắc Giang</td>\n      <td>Nam</td>\n      <td>Toán:   2.00   Ngữ văn:   5.50   Lịch sử:   3....</td>\n      <td>[Toán, Ngữ văn, Lịch sử, Địa lí, ]</td>\n    </tr>\n    <tr>\n      <th>1</th>\n      <td>18000002</td>\n      <td>ĐỖ VĂN AN</td>\n      <td>9/12/1998</td>\n      <td>Sở GDĐT Bắc Giang</td>\n      <td>Nam</td>\n      <td>Toán:   5.50   Ngữ văn:   5.25   Địa lí:   5.5...</td>\n      <td>[Toán, Ngữ văn, Địa lí, Tiếng Anh, ]</td>\n    </tr>\n    <tr>\n      <th>2</th>\n      <td>18000003</td>\n      <td>ĐỖ XUÂN AN</td>\n      <td>12/08/1997</td>\n      <td>Sở GDĐT Bắc Giang</td>\n      <td>Nam</td>\n      <td>Toán:   4.50   Ngữ văn:   5.50   Địa lí:   3.7...</td>\n      <td>[Toán, Ngữ văn, Địa lí, Tiếng Anh, ]</td>\n    </tr>\n    <tr>\n      <th>3</th>\n      <td>18000004</td>\n      <td>ĐẶNG PHÚC AN</td>\n      <td>19/03/1998</td>\n      <td>Sở GDĐT Bắc Giang</td>\n      <td>Nữ</td>\n      <td>Toán:   3.00   Ngữ văn:   6.00   Địa lí:   5.5...</td>\n      <td>[Toán, Ngữ văn, Địa lí, Tiếng Anh, ]</td>\n    </tr>\n    <tr>\n      <th>4</th>\n      <td>18000005</td>\n      <td>ĐẶNG VĂN AN</td>\n      <td>25/10/1998</td>\n      <td>Sở GDĐT Bắc Giang</td>\n      <td>Nam</td>\n      <td>Toán:   2.25   Ngữ văn:   4.75   Địa lí:   5.2...</td>\n      <td>[Toán, Ngữ văn, Địa lí, Tiếng Anh, ]</td>\n    </tr>\n  </tbody>\n</table>\n</div>"
     },
     "metadata": {},
     "execution_count": 39
    }
   ],
   "source": [
    "data['SPLITED'] = data['DIEM_THI'].apply(lambda x: re.split(':\\s*\\d?\\d\\.\\d\\d\\s*',x))\n",
    "data.head()"
   ]
  },
  {
   "cell_type": "code",
   "execution_count": 40,
   "metadata": {},
   "outputs": [
    {
     "output_type": "execute_result",
     "data": {
      "text/plain": "['Toán',\n 'Ngữ văn',\n 'Lịch sử',\n 'Địa lí',\n 'Tiếng Anh',\n 'Sinh học',\n 'Vật lí',\n 'Hóa học',\n 'Tiếng Nhật',\n 'Tiếng Pháp',\n 'Tiếng Trung',\n 'Tiếng Đức']"
     },
     "metadata": {},
     "execution_count": 40
    }
   ],
   "source": [
    "dict_mon_hoc = Counter()\n",
    "for i in data['SPLITED']:\n",
    "    dict_mon_hoc.update(i)\n",
    "lst_mon_thi = list(filter(None,dict_mon_hoc.keys()))\n",
    "lst_mon_thi"
   ]
  },
  {
   "cell_type": "code",
   "execution_count": 41,
   "metadata": {},
   "outputs": [],
   "source": [
    "def diem_thi(mon_thi):\n",
    "    path = ''+mon_thi+':\\s*(\\d?\\d\\.\\d\\d)'\n",
    "    split = data['DIEM_THI'].str.extract(path)\n",
    "    if split.isnull().all()[0] == False:\n",
    "        data[mon_thi] = pd.to_numeric(split[0])\n",
    "    data['DIEM_THI'] = data['DIEM_THI'].str.replace(''+mon_thi+':\\s*\\d?\\d\\.\\d\\d','/')"
   ]
  },
  {
   "cell_type": "code",
   "execution_count": 42,
   "metadata": {},
   "outputs": [],
   "source": [
    "for mon_thi in lst_mon_thi:\n",
    "    diem_thi(mon_thi)"
   ]
  },
  {
   "cell_type": "code",
   "execution_count": 43,
   "metadata": {},
   "outputs": [
    {
     "output_type": "execute_result",
     "data": {
      "text/plain": "       SOBAODANH          HO_TEN  Toán  Ngữ văn  Lịch sử  Địa lí  Tiếng Anh  \\\n0       18000001   DƯƠNG VIỆT AN  2.00     5.50      3.0    5.00        NaN   \n1       18000002       ĐỖ VĂN AN  5.50     5.25      NaN    5.50       3.68   \n2       18000003      ĐỖ XUÂN AN  4.50     5.50      NaN    3.75       2.25   \n3       18000004    ĐẶNG PHÚC AN  3.00     6.00      NaN    5.50       1.50   \n4       18000005     ĐẶNG VĂN AN  2.25     4.75      NaN    5.25       2.00   \n...          ...             ...   ...      ...      ...     ...        ...   \n34821  HUI014539   VÒNG NGỌC YẾN  0.75     5.00      NaN     NaN        NaN   \n34822  HUI014540  VÒNG THANH YẾN  4.75     5.75      NaN     NaN       3.33   \n34823  HUI014541  VŨ THỊ BẢO YẾN  4.00     5.50      NaN     NaN       3.60   \n34824  HUI014542      VŨ THỊ YẾN  5.75     6.00      NaN     NaN       2.88   \n34825  HUI014543   VƯƠNG THỊ YẾN  2.50     4.25      NaN     NaN       3.00   \n\n       Sinh học  Vật lí  Hóa học  Tiếng Nhật  Tiếng Pháp  Tiếng Trung  \\\n0           NaN     NaN      NaN         NaN         NaN          NaN   \n1           NaN     NaN      NaN         NaN         NaN          NaN   \n2           NaN     NaN      NaN         NaN         NaN          NaN   \n3           NaN     NaN      NaN         NaN         NaN          NaN   \n4           NaN     NaN      NaN         NaN         NaN          NaN   \n...         ...     ...      ...         ...         ...          ...   \n34821       5.2     NaN      4.8         NaN         NaN          NaN   \n34822       4.6     6.8      4.6         NaN         NaN          NaN   \n34823       NaN     5.6      NaN         NaN         NaN          NaN   \n34824       NaN     7.4      4.8         NaN         NaN          NaN   \n34825       4.4     4.2      4.4         NaN         NaN          NaN   \n\n       Tiếng Đức  \n0            NaN  \n1            NaN  \n2            NaN  \n3            NaN  \n4            NaN  \n...          ...  \n34821        NaN  \n34822        NaN  \n34823        NaN  \n34824        NaN  \n34825        NaN  \n\n[34826 rows x 14 columns]",
      "text/html": "<div>\n<style scoped>\n    .dataframe tbody tr th:only-of-type {\n        vertical-align: middle;\n    }\n\n    .dataframe tbody tr th {\n        vertical-align: top;\n    }\n\n    .dataframe thead th {\n        text-align: right;\n    }\n</style>\n<table border=\"1\" class=\"dataframe\">\n  <thead>\n    <tr style=\"text-align: right;\">\n      <th></th>\n      <th>SOBAODANH</th>\n      <th>HO_TEN</th>\n      <th>Toán</th>\n      <th>Ngữ văn</th>\n      <th>Lịch sử</th>\n      <th>Địa lí</th>\n      <th>Tiếng Anh</th>\n      <th>Sinh học</th>\n      <th>Vật lí</th>\n      <th>Hóa học</th>\n      <th>Tiếng Nhật</th>\n      <th>Tiếng Pháp</th>\n      <th>Tiếng Trung</th>\n      <th>Tiếng Đức</th>\n    </tr>\n  </thead>\n  <tbody>\n    <tr>\n      <th>0</th>\n      <td>18000001</td>\n      <td>DƯƠNG VIỆT AN</td>\n      <td>2.00</td>\n      <td>5.50</td>\n      <td>3.0</td>\n      <td>5.00</td>\n      <td>NaN</td>\n      <td>NaN</td>\n      <td>NaN</td>\n      <td>NaN</td>\n      <td>NaN</td>\n      <td>NaN</td>\n      <td>NaN</td>\n      <td>NaN</td>\n    </tr>\n    <tr>\n      <th>1</th>\n      <td>18000002</td>\n      <td>ĐỖ VĂN AN</td>\n      <td>5.50</td>\n      <td>5.25</td>\n      <td>NaN</td>\n      <td>5.50</td>\n      <td>3.68</td>\n      <td>NaN</td>\n      <td>NaN</td>\n      <td>NaN</td>\n      <td>NaN</td>\n      <td>NaN</td>\n      <td>NaN</td>\n      <td>NaN</td>\n    </tr>\n    <tr>\n      <th>2</th>\n      <td>18000003</td>\n      <td>ĐỖ XUÂN AN</td>\n      <td>4.50</td>\n      <td>5.50</td>\n      <td>NaN</td>\n      <td>3.75</td>\n      <td>2.25</td>\n      <td>NaN</td>\n      <td>NaN</td>\n      <td>NaN</td>\n      <td>NaN</td>\n      <td>NaN</td>\n      <td>NaN</td>\n      <td>NaN</td>\n    </tr>\n    <tr>\n      <th>3</th>\n      <td>18000004</td>\n      <td>ĐẶNG PHÚC AN</td>\n      <td>3.00</td>\n      <td>6.00</td>\n      <td>NaN</td>\n      <td>5.50</td>\n      <td>1.50</td>\n      <td>NaN</td>\n      <td>NaN</td>\n      <td>NaN</td>\n      <td>NaN</td>\n      <td>NaN</td>\n      <td>NaN</td>\n      <td>NaN</td>\n    </tr>\n    <tr>\n      <th>4</th>\n      <td>18000005</td>\n      <td>ĐẶNG VĂN AN</td>\n      <td>2.25</td>\n      <td>4.75</td>\n      <td>NaN</td>\n      <td>5.25</td>\n      <td>2.00</td>\n      <td>NaN</td>\n      <td>NaN</td>\n      <td>NaN</td>\n      <td>NaN</td>\n      <td>NaN</td>\n      <td>NaN</td>\n      <td>NaN</td>\n    </tr>\n    <tr>\n      <th>...</th>\n      <td>...</td>\n      <td>...</td>\n      <td>...</td>\n      <td>...</td>\n      <td>...</td>\n      <td>...</td>\n      <td>...</td>\n      <td>...</td>\n      <td>...</td>\n      <td>...</td>\n      <td>...</td>\n      <td>...</td>\n      <td>...</td>\n      <td>...</td>\n    </tr>\n    <tr>\n      <th>34821</th>\n      <td>HUI014539</td>\n      <td>VÒNG NGỌC YẾN</td>\n      <td>0.75</td>\n      <td>5.00</td>\n      <td>NaN</td>\n      <td>NaN</td>\n      <td>NaN</td>\n      <td>5.2</td>\n      <td>NaN</td>\n      <td>4.8</td>\n      <td>NaN</td>\n      <td>NaN</td>\n      <td>NaN</td>\n      <td>NaN</td>\n    </tr>\n    <tr>\n      <th>34822</th>\n      <td>HUI014540</td>\n      <td>VÒNG THANH YẾN</td>\n      <td>4.75</td>\n      <td>5.75</td>\n      <td>NaN</td>\n      <td>NaN</td>\n      <td>3.33</td>\n      <td>4.6</td>\n      <td>6.8</td>\n      <td>4.6</td>\n      <td>NaN</td>\n      <td>NaN</td>\n      <td>NaN</td>\n      <td>NaN</td>\n    </tr>\n    <tr>\n      <th>34823</th>\n      <td>HUI014541</td>\n      <td>VŨ THỊ BẢO YẾN</td>\n      <td>4.00</td>\n      <td>5.50</td>\n      <td>NaN</td>\n      <td>NaN</td>\n      <td>3.60</td>\n      <td>NaN</td>\n      <td>5.6</td>\n      <td>NaN</td>\n      <td>NaN</td>\n      <td>NaN</td>\n      <td>NaN</td>\n      <td>NaN</td>\n    </tr>\n    <tr>\n      <th>34824</th>\n      <td>HUI014542</td>\n      <td>VŨ THỊ YẾN</td>\n      <td>5.75</td>\n      <td>6.00</td>\n      <td>NaN</td>\n      <td>NaN</td>\n      <td>2.88</td>\n      <td>NaN</td>\n      <td>7.4</td>\n      <td>4.8</td>\n      <td>NaN</td>\n      <td>NaN</td>\n      <td>NaN</td>\n      <td>NaN</td>\n    </tr>\n    <tr>\n      <th>34825</th>\n      <td>HUI014543</td>\n      <td>VƯƠNG THỊ YẾN</td>\n      <td>2.50</td>\n      <td>4.25</td>\n      <td>NaN</td>\n      <td>NaN</td>\n      <td>3.00</td>\n      <td>4.4</td>\n      <td>4.2</td>\n      <td>4.4</td>\n      <td>NaN</td>\n      <td>NaN</td>\n      <td>NaN</td>\n      <td>NaN</td>\n    </tr>\n  </tbody>\n</table>\n<p>34826 rows × 14 columns</p>\n</div>"
     },
     "metadata": {},
     "execution_count": 43
    }
   ],
   "source": [
    "lst_show = ['SOBAODANH','HO_TEN']\n",
    "lst_show.extend(lst_mon_thi)\n",
    "data[lst_show]"
   ]
  },
  {
   "cell_type": "code",
   "execution_count": 44,
   "metadata": {
    "tags": []
   },
   "outputs": [
    {
     "output_type": "stream",
     "name": "stdout",
     "text": "<class 'pandas.core.frame.DataFrame'>\nRangeIndex: 34826 entries, 0 to 34825\nData columns (total 19 columns):\n #   Column       Non-Null Count  Dtype  \n---  ------       --------------  -----  \n 0   SOBAODANH    34826 non-null  object \n 1   HO_TEN       34826 non-null  object \n 2   NGAY_SINH    34826 non-null  object \n 3   TEN_CUMTHI   34826 non-null  object \n 4   GIOI_TINH    34826 non-null  object \n 5   DIEM_THI     34826 non-null  object \n 6   SPLITED      34826 non-null  object \n 7   Toán         34500 non-null  float64\n 8   Ngữ văn      33894 non-null  float64\n 9   Lịch sử      3235 non-null   float64\n 10  Địa lí       22171 non-null  float64\n 11  Tiếng Anh    30200 non-null  float64\n 12  Sinh học     3573 non-null   float64\n 13  Vật lí       10157 non-null  float64\n 14  Hóa học      8098 non-null   float64\n 15  Tiếng Nhật   8 non-null      float64\n 16  Tiếng Pháp   10 non-null     float64\n 17  Tiếng Trung  27 non-null     float64\n 18  Tiếng Đức    1 non-null      float64\ndtypes: float64(12), object(7)\nmemory usage: 5.0+ MB\n"
    }
   ],
   "source": [
    "data.info()"
   ]
  },
  {
   "cell_type": "code",
   "execution_count": null,
   "metadata": {},
   "outputs": [],
   "source": []
  }
 ],
 "metadata": {
  "language_info": {
   "codemirror_mode": {
    "name": "ipython",
    "version": 3
   },
   "file_extension": ".py",
   "mimetype": "text/x-python",
   "name": "python",
   "nbconvert_exporter": "python",
   "pygments_lexer": "ipython3",
   "version": "3.7.7-final"
  },
  "orig_nbformat": 2,
  "kernelspec": {
   "name": "python37764bitailearncondac55bf7adc40a450a9629c3e2b471f312",
   "display_name": "Python 3.7.7 64-bit ('ai_learn': conda)"
  }
 },
 "nbformat": 4,
 "nbformat_minor": 2
}