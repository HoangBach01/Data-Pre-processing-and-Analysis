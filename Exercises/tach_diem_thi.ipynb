{
 "cells": [
  {
   "cell_type": "code",
   "execution_count": 1,
   "metadata": {},
   "outputs": [],
   "source": [
    "import numpy as np\n",
    "import pandas as pd\n",
    "import re"
   ]
  },
  {
   "cell_type": "code",
   "execution_count": 3,
   "metadata": {},
   "outputs": [],
   "source": [
    "df = pd.read_excel(\"data/Diemthi_thpt_quocgia_2016.xlsx\", sheet_name=\"Export Worksheet\")"
   ]
  },
  {
   "cell_type": "code",
   "execution_count": 4,
   "metadata": {},
   "outputs": [
    {
     "data": {
      "text/plain": [
       "(34826, 6)"
      ]
     },
     "execution_count": 4,
     "metadata": {},
     "output_type": "execute_result"
    }
   ],
   "source": [
    "df.shape"
   ]
  },
  {
   "cell_type": "code",
   "execution_count": 5,
   "metadata": {},
   "outputs": [
    {
     "name": "stdout",
     "output_type": "stream",
     "text": [
      "<class 'pandas.core.frame.DataFrame'>\n",
      "RangeIndex: 34826 entries, 0 to 34825\n",
      "Data columns (total 6 columns):\n",
      "SOBAODANH     34826 non-null object\n",
      "HO_TEN        34826 non-null object\n",
      "NGAY_SINH     34826 non-null object\n",
      "TEN_CUMTHI    34826 non-null object\n",
      "GIOI_TINH     34826 non-null object\n",
      "DIEM_THI      34826 non-null object\n",
      "dtypes: object(6)\n",
      "memory usage: 1.6+ MB\n"
     ]
    }
   ],
   "source": [
    "df.info()"
   ]
  },
  {
   "cell_type": "code",
   "execution_count": 7,
   "metadata": {},
   "outputs": [
    {
     "data": {
      "text/html": [
       "<div>\n",
       "<style scoped>\n",
       "    .dataframe tbody tr th:only-of-type {\n",
       "        vertical-align: middle;\n",
       "    }\n",
       "\n",
       "    .dataframe tbody tr th {\n",
       "        vertical-align: top;\n",
       "    }\n",
       "\n",
       "    .dataframe thead th {\n",
       "        text-align: right;\n",
       "    }\n",
       "</style>\n",
       "<table border=\"1\" class=\"dataframe\">\n",
       "  <thead>\n",
       "    <tr style=\"text-align: right;\">\n",
       "      <th></th>\n",
       "      <th>SOBAODANH</th>\n",
       "      <th>HO_TEN</th>\n",
       "      <th>NGAY_SINH</th>\n",
       "      <th>TEN_CUMTHI</th>\n",
       "      <th>GIOI_TINH</th>\n",
       "      <th>DIEM_THI</th>\n",
       "    </tr>\n",
       "  </thead>\n",
       "  <tbody>\n",
       "    <tr>\n",
       "      <th>0</th>\n",
       "      <td>018000001</td>\n",
       "      <td>DƯƠNG VIỆT AN</td>\n",
       "      <td>12/03/1998</td>\n",
       "      <td>Sở GDĐT Bắc Giang</td>\n",
       "      <td>Nam</td>\n",
       "      <td>Toán:   2.00   Ngữ văn:   5.50   Lịch sử:   3....</td>\n",
       "    </tr>\n",
       "    <tr>\n",
       "      <th>1</th>\n",
       "      <td>018000002</td>\n",
       "      <td>ĐỖ VĂN AN</td>\n",
       "      <td>09/12/1998</td>\n",
       "      <td>Sở GDĐT Bắc Giang</td>\n",
       "      <td>Nam</td>\n",
       "      <td>Toán:   5.50   Ngữ văn:   5.25   Địa lí:   5.5...</td>\n",
       "    </tr>\n",
       "    <tr>\n",
       "      <th>2</th>\n",
       "      <td>018000003</td>\n",
       "      <td>ĐỖ XUÂN AN</td>\n",
       "      <td>12/08/1997</td>\n",
       "      <td>Sở GDĐT Bắc Giang</td>\n",
       "      <td>Nam</td>\n",
       "      <td>Toán:   4.50   Ngữ văn:   5.50   Địa lí:   3.7...</td>\n",
       "    </tr>\n",
       "    <tr>\n",
       "      <th>3</th>\n",
       "      <td>018000004</td>\n",
       "      <td>ĐẶNG PHÚC AN</td>\n",
       "      <td>19/03/1998</td>\n",
       "      <td>Sở GDĐT Bắc Giang</td>\n",
       "      <td>Nữ</td>\n",
       "      <td>Toán:   3.00   Ngữ văn:   6.00   Địa lí:   5.5...</td>\n",
       "    </tr>\n",
       "    <tr>\n",
       "      <th>4</th>\n",
       "      <td>018000005</td>\n",
       "      <td>ĐẶNG VĂN AN</td>\n",
       "      <td>25/10/1998</td>\n",
       "      <td>Sở GDĐT Bắc Giang</td>\n",
       "      <td>Nam</td>\n",
       "      <td>Toán:   2.25   Ngữ văn:   4.75   Địa lí:   5.2...</td>\n",
       "    </tr>\n",
       "    <tr>\n",
       "      <th>5</th>\n",
       "      <td>018000006</td>\n",
       "      <td>HÀ THỊ AN</td>\n",
       "      <td>22/06/1998</td>\n",
       "      <td>Sở GDĐT Bắc Giang</td>\n",
       "      <td>Nữ</td>\n",
       "      <td>Toán:   5.75   Ngữ văn:   5.50   Địa lí:   5.5...</td>\n",
       "    </tr>\n",
       "    <tr>\n",
       "      <th>6</th>\n",
       "      <td>018000007</td>\n",
       "      <td>HÀ THỊ AN</td>\n",
       "      <td>23/04/1997</td>\n",
       "      <td>Sở GDĐT Bắc Giang</td>\n",
       "      <td>Nữ</td>\n",
       "      <td>Toán:   1.75   Ngữ văn:   5.25   Địa lí:   4.7...</td>\n",
       "    </tr>\n",
       "    <tr>\n",
       "      <th>7</th>\n",
       "      <td>018000008</td>\n",
       "      <td>HỨA VĂN AN</td>\n",
       "      <td>25/05/1998</td>\n",
       "      <td>Sở GDĐT Bắc Giang</td>\n",
       "      <td>Nam</td>\n",
       "      <td>Toán:   2.00   Ngữ văn:   4.75   Địa lí:   5.5...</td>\n",
       "    </tr>\n",
       "    <tr>\n",
       "      <th>8</th>\n",
       "      <td>018000009</td>\n",
       "      <td>HOÀNG VĂN AN</td>\n",
       "      <td>22/02/1998</td>\n",
       "      <td>Sở GDĐT Bắc Giang</td>\n",
       "      <td>Nam</td>\n",
       "      <td>Toán:   3.75   Ngữ văn:   5.00   Địa lí:   6.5...</td>\n",
       "    </tr>\n",
       "    <tr>\n",
       "      <th>9</th>\n",
       "      <td>018000010</td>\n",
       "      <td>LA VĂN AN</td>\n",
       "      <td>19/08/1998</td>\n",
       "      <td>Sở GDĐT Bắc Giang</td>\n",
       "      <td>Nam</td>\n",
       "      <td>Toán:   3.50   Ngữ văn:   5.00   Địa lí:   4.2...</td>\n",
       "    </tr>\n",
       "  </tbody>\n",
       "</table>\n",
       "</div>"
      ],
      "text/plain": [
       "   SOBAODANH         HO_TEN   NGAY_SINH         TEN_CUMTHI GIOI_TINH  \\\n",
       "0  018000001  DƯƠNG VIỆT AN  12/03/1998  Sở GDĐT Bắc Giang       Nam   \n",
       "1  018000002      ĐỖ VĂN AN  09/12/1998  Sở GDĐT Bắc Giang       Nam   \n",
       "2  018000003     ĐỖ XUÂN AN  12/08/1997  Sở GDĐT Bắc Giang       Nam   \n",
       "3  018000004   ĐẶNG PHÚC AN  19/03/1998  Sở GDĐT Bắc Giang        Nữ   \n",
       "4  018000005    ĐẶNG VĂN AN  25/10/1998  Sở GDĐT Bắc Giang       Nam   \n",
       "5  018000006      HÀ THỊ AN  22/06/1998  Sở GDĐT Bắc Giang        Nữ   \n",
       "6  018000007      HÀ THỊ AN  23/04/1997  Sở GDĐT Bắc Giang        Nữ   \n",
       "7  018000008     HỨA VĂN AN  25/05/1998  Sở GDĐT Bắc Giang       Nam   \n",
       "8  018000009   HOÀNG VĂN AN  22/02/1998  Sở GDĐT Bắc Giang       Nam   \n",
       "9  018000010      LA VĂN AN  19/08/1998  Sở GDĐT Bắc Giang       Nam   \n",
       "\n",
       "                                            DIEM_THI  \n",
       "0  Toán:   2.00   Ngữ văn:   5.50   Lịch sử:   3....  \n",
       "1  Toán:   5.50   Ngữ văn:   5.25   Địa lí:   5.5...  \n",
       "2  Toán:   4.50   Ngữ văn:   5.50   Địa lí:   3.7...  \n",
       "3  Toán:   3.00   Ngữ văn:   6.00   Địa lí:   5.5...  \n",
       "4  Toán:   2.25   Ngữ văn:   4.75   Địa lí:   5.2...  \n",
       "5  Toán:   5.75   Ngữ văn:   5.50   Địa lí:   5.5...  \n",
       "6  Toán:   1.75   Ngữ văn:   5.25   Địa lí:   4.7...  \n",
       "7  Toán:   2.00   Ngữ văn:   4.75   Địa lí:   5.5...  \n",
       "8  Toán:   3.75   Ngữ văn:   5.00   Địa lí:   6.5...  \n",
       "9  Toán:   3.50   Ngữ văn:   5.00   Địa lí:   4.2...  "
      ]
     },
     "execution_count": 7,
     "metadata": {},
     "output_type": "execute_result"
    }
   ],
   "source": [
    "df.head(10)"
   ]
  },
  {
   "cell_type": "code",
   "execution_count": 8,
   "metadata": {},
   "outputs": [
    {
     "data": {
      "text/html": [
       "<div>\n",
       "<style scoped>\n",
       "    .dataframe tbody tr th:only-of-type {\n",
       "        vertical-align: middle;\n",
       "    }\n",
       "\n",
       "    .dataframe tbody tr th {\n",
       "        vertical-align: top;\n",
       "    }\n",
       "\n",
       "    .dataframe thead th {\n",
       "        text-align: right;\n",
       "    }\n",
       "</style>\n",
       "<table border=\"1\" class=\"dataframe\">\n",
       "  <thead>\n",
       "    <tr style=\"text-align: right;\">\n",
       "      <th></th>\n",
       "      <th>SOBAODANH</th>\n",
       "      <th>HO_TEN</th>\n",
       "      <th>NGAY_SINH</th>\n",
       "      <th>TEN_CUMTHI</th>\n",
       "      <th>GIOI_TINH</th>\n",
       "      <th>DIEM_THI</th>\n",
       "    </tr>\n",
       "  </thead>\n",
       "  <tbody>\n",
       "  </tbody>\n",
       "</table>\n",
       "</div>"
      ],
      "text/plain": [
       "Empty DataFrame\n",
       "Columns: [SOBAODANH, HO_TEN, NGAY_SINH, TEN_CUMTHI, GIOI_TINH, DIEM_THI]\n",
       "Index: []"
      ]
     },
     "execution_count": 8,
     "metadata": {},
     "output_type": "execute_result"
    }
   ],
   "source": [
    "df[df[\"GIOI_TINH\"]==\"?\"]"
   ]
  },
  {
   "cell_type": "code",
   "execution_count": 9,
   "metadata": {},
   "outputs": [
    {
     "data": {
      "text/plain": [
       "array(['Nam', 'Nữ'], dtype=object)"
      ]
     },
     "execution_count": 9,
     "metadata": {},
     "output_type": "execute_result"
    }
   ],
   "source": [
    "df['GIOI_TINH'].unique()"
   ]
  },
  {
   "cell_type": "code",
   "execution_count": 10,
   "metadata": {},
   "outputs": [
    {
     "data": {
      "text/plain": [
       "Nữ     17833\n",
       "Nam    16993\n",
       "Name: GIOI_TINH, dtype: int64"
      ]
     },
     "execution_count": 10,
     "metadata": {},
     "output_type": "execute_result"
    }
   ],
   "source": [
    "df['GIOI_TINH'].value_counts()"
   ]
  },
  {
   "cell_type": "code",
   "execution_count": 34,
   "metadata": {},
   "outputs": [],
   "source": [
    "chuoi_diem= \"Toán:   2.00   Ngữ văn:   5.50   Lịch sử:   3.00   Địa lí:   5.00\""
   ]
  },
  {
   "cell_type": "code",
   "execution_count": 43,
   "metadata": {},
   "outputs": [],
   "source": [
    "gia_tri_tim = \"Địa lí:\\s\\s\\s\\d+.\\d+\"\n",
    "gia_tri_tim = \"Địa lí:\\s\\s\\s\\d+.\\d+\"\n",
    "result = re.search(gia_tri_tim, chuoi_diem)"
   ]
  },
  {
   "cell_type": "code",
   "execution_count": 44,
   "metadata": {},
   "outputs": [
    {
     "name": "stdout",
     "output_type": "stream",
     "text": [
      "{'Địa lí': '5.00'}\n"
     ]
    }
   ],
   "source": [
    "dict_diem = {}\n",
    "if result:\n",
    "    tmp = list(result.group().partition(\":   \"))\n",
    "    dict_diem[tmp[0]] = tmp[2]\n",
    "print(dict_diem)"
   ]
  },
  {
   "cell_type": "code",
   "execution_count": 40,
   "metadata": {},
   "outputs": [],
   "source": [
    "ds_cac_mon_thi=(\"Toán\", \"Ngữ văn\", \"Địa lí\", \"Tiếng Anh\", \"Sinh học\", \"Vật lí\", \"Hóa học\", \"Lịch sử\")"
   ]
  },
  {
   "cell_type": "code",
   "execution_count": 63,
   "metadata": {},
   "outputs": [],
   "source": [
    "def tach_diem_thi(chuoi_diem):\n",
    "    dict_diem = {}\n",
    "    for mon in ds_cac_mon_thi:\n",
    "        gia_tri_tim = mon + \":\\s\\s\\s\\d+.\\d+\"\n",
    "        result = re.search(gia_tri_tim, chuoi_diem)\n",
    "        if result:\n",
    "            tmp = list(result.group().partition(\":   \"))\n",
    "            dict_diem[mon] = [float(tmp[2])]\n",
    "        else:\n",
    "            dict_diem[mon] = [np.nan]\n",
    "    return pd.DataFrame(dict_diem)"
   ]
  },
  {
   "cell_type": "code",
   "execution_count": 64,
   "metadata": {},
   "outputs": [
    {
     "data": {
      "text/html": [
       "<div>\n",
       "<style scoped>\n",
       "    .dataframe tbody tr th:only-of-type {\n",
       "        vertical-align: middle;\n",
       "    }\n",
       "\n",
       "    .dataframe tbody tr th {\n",
       "        vertical-align: top;\n",
       "    }\n",
       "\n",
       "    .dataframe thead th {\n",
       "        text-align: right;\n",
       "    }\n",
       "</style>\n",
       "<table border=\"1\" class=\"dataframe\">\n",
       "  <thead>\n",
       "    <tr style=\"text-align: right;\">\n",
       "      <th></th>\n",
       "      <th>Toán</th>\n",
       "      <th>Ngữ văn</th>\n",
       "      <th>Địa lí</th>\n",
       "      <th>Tiếng Anh</th>\n",
       "      <th>Sinh học</th>\n",
       "      <th>Vật lí</th>\n",
       "      <th>Hóa học</th>\n",
       "      <th>Lịch sử</th>\n",
       "    </tr>\n",
       "  </thead>\n",
       "  <tbody>\n",
       "    <tr>\n",
       "      <th>0</th>\n",
       "      <td>2.0</td>\n",
       "      <td>5.5</td>\n",
       "      <td>5.0</td>\n",
       "      <td>NaN</td>\n",
       "      <td>NaN</td>\n",
       "      <td>NaN</td>\n",
       "      <td>NaN</td>\n",
       "      <td>3.0</td>\n",
       "    </tr>\n",
       "  </tbody>\n",
       "</table>\n",
       "</div>"
      ],
      "text/plain": [
       "   Toán  Ngữ văn  Địa lí  Tiếng Anh  Sinh học  Vật lí  Hóa học  Lịch sử\n",
       "0   2.0      5.5     5.0        NaN       NaN     NaN      NaN      3.0"
      ]
     },
     "execution_count": 64,
     "metadata": {},
     "output_type": "execute_result"
    }
   ],
   "source": [
    "tach_diem_thi(chuoi_diem)"
   ]
  },
  {
   "cell_type": "code",
   "execution_count": 66,
   "metadata": {},
   "outputs": [
    {
     "data": {
      "text/html": [
       "<div>\n",
       "<style scoped>\n",
       "    .dataframe tbody tr th:only-of-type {\n",
       "        vertical-align: middle;\n",
       "    }\n",
       "\n",
       "    .dataframe tbody tr th {\n",
       "        vertical-align: top;\n",
       "    }\n",
       "\n",
       "    .dataframe thead th {\n",
       "        text-align: right;\n",
       "    }\n",
       "</style>\n",
       "<table border=\"1\" class=\"dataframe\">\n",
       "  <thead>\n",
       "    <tr style=\"text-align: right;\">\n",
       "      <th></th>\n",
       "      <th>Toán</th>\n",
       "      <th>Ngữ văn</th>\n",
       "      <th>Địa lí</th>\n",
       "      <th>Tiếng Anh</th>\n",
       "      <th>Sinh học</th>\n",
       "      <th>Vật lí</th>\n",
       "      <th>Hóa học</th>\n",
       "      <th>Lịch sử</th>\n",
       "    </tr>\n",
       "  </thead>\n",
       "  <tbody>\n",
       "  </tbody>\n",
       "</table>\n",
       "</div>"
      ],
      "text/plain": [
       "Empty DataFrame\n",
       "Columns: [Toán, Ngữ văn, Địa lí, Tiếng Anh, Sinh học, Vật lí, Hóa học, Lịch sử]\n",
       "Index: []"
      ]
     },
     "execution_count": 66,
     "metadata": {},
     "output_type": "execute_result"
    }
   ],
   "source": [
    "df_diem = pd.DataFrame(columns=ds_cac_mon_thi)\n",
    "df_diem"
   ]
  },
  {
   "cell_type": "code",
   "execution_count": 67,
   "metadata": {},
   "outputs": [],
   "source": [
    "for chi_so_dong in range(df.shape[0]):\n",
    "    diem_thi = df['DIEM_THI'][chi_so_dong]\n",
    "    df_temp = tach_diem_thi(diem_thi)\n",
    "    df_diem = pd.concat([df_diem, df_temp], sort=False, ignore_index=True)\n"
   ]
  },
  {
   "cell_type": "code",
   "execution_count": 68,
   "metadata": {},
   "outputs": [
    {
     "data": {
      "text/html": [
       "<div>\n",
       "<style scoped>\n",
       "    .dataframe tbody tr th:only-of-type {\n",
       "        vertical-align: middle;\n",
       "    }\n",
       "\n",
       "    .dataframe tbody tr th {\n",
       "        vertical-align: top;\n",
       "    }\n",
       "\n",
       "    .dataframe thead th {\n",
       "        text-align: right;\n",
       "    }\n",
       "</style>\n",
       "<table border=\"1\" class=\"dataframe\">\n",
       "  <thead>\n",
       "    <tr style=\"text-align: right;\">\n",
       "      <th></th>\n",
       "      <th>Toán</th>\n",
       "      <th>Ngữ văn</th>\n",
       "      <th>Địa lí</th>\n",
       "      <th>Tiếng Anh</th>\n",
       "      <th>Sinh học</th>\n",
       "      <th>Vật lí</th>\n",
       "      <th>Hóa học</th>\n",
       "      <th>Lịch sử</th>\n",
       "    </tr>\n",
       "  </thead>\n",
       "  <tbody>\n",
       "    <tr>\n",
       "      <th>0</th>\n",
       "      <td>2.00</td>\n",
       "      <td>5.50</td>\n",
       "      <td>5.00</td>\n",
       "      <td>NaN</td>\n",
       "      <td>NaN</td>\n",
       "      <td>NaN</td>\n",
       "      <td>NaN</td>\n",
       "      <td>3.0</td>\n",
       "    </tr>\n",
       "    <tr>\n",
       "      <th>1</th>\n",
       "      <td>5.50</td>\n",
       "      <td>5.25</td>\n",
       "      <td>5.50</td>\n",
       "      <td>3.68</td>\n",
       "      <td>NaN</td>\n",
       "      <td>NaN</td>\n",
       "      <td>NaN</td>\n",
       "      <td>NaN</td>\n",
       "    </tr>\n",
       "    <tr>\n",
       "      <th>2</th>\n",
       "      <td>4.50</td>\n",
       "      <td>5.50</td>\n",
       "      <td>3.75</td>\n",
       "      <td>2.25</td>\n",
       "      <td>NaN</td>\n",
       "      <td>NaN</td>\n",
       "      <td>NaN</td>\n",
       "      <td>NaN</td>\n",
       "    </tr>\n",
       "    <tr>\n",
       "      <th>3</th>\n",
       "      <td>3.00</td>\n",
       "      <td>6.00</td>\n",
       "      <td>5.50</td>\n",
       "      <td>1.50</td>\n",
       "      <td>NaN</td>\n",
       "      <td>NaN</td>\n",
       "      <td>NaN</td>\n",
       "      <td>NaN</td>\n",
       "    </tr>\n",
       "    <tr>\n",
       "      <th>4</th>\n",
       "      <td>2.25</td>\n",
       "      <td>4.75</td>\n",
       "      <td>5.25</td>\n",
       "      <td>2.00</td>\n",
       "      <td>NaN</td>\n",
       "      <td>NaN</td>\n",
       "      <td>NaN</td>\n",
       "      <td>NaN</td>\n",
       "    </tr>\n",
       "  </tbody>\n",
       "</table>\n",
       "</div>"
      ],
      "text/plain": [
       "   Toán  Ngữ văn  Địa lí  Tiếng Anh  Sinh học  Vật lí  Hóa học  Lịch sử\n",
       "0  2.00     5.50    5.00        NaN       NaN     NaN      NaN      3.0\n",
       "1  5.50     5.25    5.50       3.68       NaN     NaN      NaN      NaN\n",
       "2  4.50     5.50    3.75       2.25       NaN     NaN      NaN      NaN\n",
       "3  3.00     6.00    5.50       1.50       NaN     NaN      NaN      NaN\n",
       "4  2.25     4.75    5.25       2.00       NaN     NaN      NaN      NaN"
      ]
     },
     "execution_count": 68,
     "metadata": {},
     "output_type": "execute_result"
    }
   ],
   "source": [
    "df_diem.head()"
   ]
  },
  {
   "cell_type": "code",
   "execution_count": 69,
   "metadata": {},
   "outputs": [],
   "source": [
    "df_result = pd.concat([df, df_diem], axis=1)"
   ]
  },
  {
   "cell_type": "code",
   "execution_count": 70,
   "metadata": {},
   "outputs": [
    {
     "data": {
      "text/plain": [
       "(34826, 14)"
      ]
     },
     "execution_count": 70,
     "metadata": {},
     "output_type": "execute_result"
    }
   ],
   "source": [
    "df_result.shape"
   ]
  },
  {
   "cell_type": "code",
   "execution_count": 71,
   "metadata": {},
   "outputs": [
    {
     "data": {
      "text/html": [
       "<div>\n",
       "<style scoped>\n",
       "    .dataframe tbody tr th:only-of-type {\n",
       "        vertical-align: middle;\n",
       "    }\n",
       "\n",
       "    .dataframe tbody tr th {\n",
       "        vertical-align: top;\n",
       "    }\n",
       "\n",
       "    .dataframe thead th {\n",
       "        text-align: right;\n",
       "    }\n",
       "</style>\n",
       "<table border=\"1\" class=\"dataframe\">\n",
       "  <thead>\n",
       "    <tr style=\"text-align: right;\">\n",
       "      <th></th>\n",
       "      <th>SOBAODANH</th>\n",
       "      <th>HO_TEN</th>\n",
       "      <th>NGAY_SINH</th>\n",
       "      <th>TEN_CUMTHI</th>\n",
       "      <th>GIOI_TINH</th>\n",
       "      <th>DIEM_THI</th>\n",
       "      <th>Toán</th>\n",
       "      <th>Ngữ văn</th>\n",
       "      <th>Địa lí</th>\n",
       "      <th>Tiếng Anh</th>\n",
       "      <th>Sinh học</th>\n",
       "      <th>Vật lí</th>\n",
       "      <th>Hóa học</th>\n",
       "      <th>Lịch sử</th>\n",
       "    </tr>\n",
       "  </thead>\n",
       "  <tbody>\n",
       "    <tr>\n",
       "      <th>0</th>\n",
       "      <td>018000001</td>\n",
       "      <td>DƯƠNG VIỆT AN</td>\n",
       "      <td>12/03/1998</td>\n",
       "      <td>Sở GDĐT Bắc Giang</td>\n",
       "      <td>Nam</td>\n",
       "      <td>Toán:   2.00   Ngữ văn:   5.50   Lịch sử:   3....</td>\n",
       "      <td>2.00</td>\n",
       "      <td>5.50</td>\n",
       "      <td>5.00</td>\n",
       "      <td>NaN</td>\n",
       "      <td>NaN</td>\n",
       "      <td>NaN</td>\n",
       "      <td>NaN</td>\n",
       "      <td>3.0</td>\n",
       "    </tr>\n",
       "    <tr>\n",
       "      <th>1</th>\n",
       "      <td>018000002</td>\n",
       "      <td>ĐỖ VĂN AN</td>\n",
       "      <td>09/12/1998</td>\n",
       "      <td>Sở GDĐT Bắc Giang</td>\n",
       "      <td>Nam</td>\n",
       "      <td>Toán:   5.50   Ngữ văn:   5.25   Địa lí:   5.5...</td>\n",
       "      <td>5.50</td>\n",
       "      <td>5.25</td>\n",
       "      <td>5.50</td>\n",
       "      <td>3.68</td>\n",
       "      <td>NaN</td>\n",
       "      <td>NaN</td>\n",
       "      <td>NaN</td>\n",
       "      <td>NaN</td>\n",
       "    </tr>\n",
       "    <tr>\n",
       "      <th>2</th>\n",
       "      <td>018000003</td>\n",
       "      <td>ĐỖ XUÂN AN</td>\n",
       "      <td>12/08/1997</td>\n",
       "      <td>Sở GDĐT Bắc Giang</td>\n",
       "      <td>Nam</td>\n",
       "      <td>Toán:   4.50   Ngữ văn:   5.50   Địa lí:   3.7...</td>\n",
       "      <td>4.50</td>\n",
       "      <td>5.50</td>\n",
       "      <td>3.75</td>\n",
       "      <td>2.25</td>\n",
       "      <td>NaN</td>\n",
       "      <td>NaN</td>\n",
       "      <td>NaN</td>\n",
       "      <td>NaN</td>\n",
       "    </tr>\n",
       "    <tr>\n",
       "      <th>3</th>\n",
       "      <td>018000004</td>\n",
       "      <td>ĐẶNG PHÚC AN</td>\n",
       "      <td>19/03/1998</td>\n",
       "      <td>Sở GDĐT Bắc Giang</td>\n",
       "      <td>Nữ</td>\n",
       "      <td>Toán:   3.00   Ngữ văn:   6.00   Địa lí:   5.5...</td>\n",
       "      <td>3.00</td>\n",
       "      <td>6.00</td>\n",
       "      <td>5.50</td>\n",
       "      <td>1.50</td>\n",
       "      <td>NaN</td>\n",
       "      <td>NaN</td>\n",
       "      <td>NaN</td>\n",
       "      <td>NaN</td>\n",
       "    </tr>\n",
       "    <tr>\n",
       "      <th>4</th>\n",
       "      <td>018000005</td>\n",
       "      <td>ĐẶNG VĂN AN</td>\n",
       "      <td>25/10/1998</td>\n",
       "      <td>Sở GDĐT Bắc Giang</td>\n",
       "      <td>Nam</td>\n",
       "      <td>Toán:   2.25   Ngữ văn:   4.75   Địa lí:   5.2...</td>\n",
       "      <td>2.25</td>\n",
       "      <td>4.75</td>\n",
       "      <td>5.25</td>\n",
       "      <td>2.00</td>\n",
       "      <td>NaN</td>\n",
       "      <td>NaN</td>\n",
       "      <td>NaN</td>\n",
       "      <td>NaN</td>\n",
       "    </tr>\n",
       "  </tbody>\n",
       "</table>\n",
       "</div>"
      ],
      "text/plain": [
       "   SOBAODANH         HO_TEN   NGAY_SINH         TEN_CUMTHI GIOI_TINH  \\\n",
       "0  018000001  DƯƠNG VIỆT AN  12/03/1998  Sở GDĐT Bắc Giang       Nam   \n",
       "1  018000002      ĐỖ VĂN AN  09/12/1998  Sở GDĐT Bắc Giang       Nam   \n",
       "2  018000003     ĐỖ XUÂN AN  12/08/1997  Sở GDĐT Bắc Giang       Nam   \n",
       "3  018000004   ĐẶNG PHÚC AN  19/03/1998  Sở GDĐT Bắc Giang        Nữ   \n",
       "4  018000005    ĐẶNG VĂN AN  25/10/1998  Sở GDĐT Bắc Giang       Nam   \n",
       "\n",
       "                                            DIEM_THI  Toán  Ngữ văn  Địa lí  \\\n",
       "0  Toán:   2.00   Ngữ văn:   5.50   Lịch sử:   3....  2.00     5.50    5.00   \n",
       "1  Toán:   5.50   Ngữ văn:   5.25   Địa lí:   5.5...  5.50     5.25    5.50   \n",
       "2  Toán:   4.50   Ngữ văn:   5.50   Địa lí:   3.7...  4.50     5.50    3.75   \n",
       "3  Toán:   3.00   Ngữ văn:   6.00   Địa lí:   5.5...  3.00     6.00    5.50   \n",
       "4  Toán:   2.25   Ngữ văn:   4.75   Địa lí:   5.2...  2.25     4.75    5.25   \n",
       "\n",
       "   Tiếng Anh  Sinh học  Vật lí  Hóa học  Lịch sử  \n",
       "0        NaN       NaN     NaN      NaN      3.0  \n",
       "1       3.68       NaN     NaN      NaN      NaN  \n",
       "2       2.25       NaN     NaN      NaN      NaN  \n",
       "3       1.50       NaN     NaN      NaN      NaN  \n",
       "4       2.00       NaN     NaN      NaN      NaN  "
      ]
     },
     "execution_count": 71,
     "metadata": {},
     "output_type": "execute_result"
    }
   ],
   "source": [
    "df_result.head()"
   ]
  },
  {
   "cell_type": "code",
   "execution_count": null,
   "metadata": {},
   "outputs": [],
   "source": []
  }
 ],
 "metadata": {
  "kernelspec": {
   "display_name": "Python 3",
   "language": "python",
   "name": "python3"
  },
  "language_info": {
   "codemirror_mode": {
    "name": "ipython",
    "version": 3
   },
   "file_extension": ".py",
   "mimetype": "text/x-python",
   "name": "python",
   "nbconvert_exporter": "python",
   "pygments_lexer": "ipython3",
   "version": "3.6.8"
  }
 },
 "nbformat": 4,
 "nbformat_minor": 2
}
