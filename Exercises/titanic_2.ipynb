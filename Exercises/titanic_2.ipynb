{
 "metadata": {
  "language_info": {
   "codemirror_mode": {
    "name": "ipython",
    "version": 3
   },
   "file_extension": ".py",
   "mimetype": "text/x-python",
   "name": "python",
   "nbconvert_exporter": "python",
   "pygments_lexer": "ipython3",
   "version": "3.7.7-final"
  },
  "orig_nbformat": 2,
  "kernelspec": {
   "name": "python37764bitailearncondac55bf7adc40a450a9629c3e2b471f312",
   "display_name": "Python 3.7.7 64-bit ('ai_learn': conda)"
  }
 },
 "nbformat": 4,
 "nbformat_minor": 2,
 "cells": [
  {
   "cell_type": "code",
   "execution_count": 1,
   "metadata": {},
   "outputs": [],
   "source": [
    "import numpy as np\n",
    "import pandas as pd\n",
    "import matplotlib.pyplot as plt\n",
    "import seaborn as sb\n",
    "%matplotlib inline\n",
    "import re\n",
    "from sklearn.base import BaseEstimator, TransformerMixin\n",
    "from sklearn.experimental import enable_iterative_imputer\n",
    "from sklearn.preprocessing import OrdinalEncoder, LabelEncoder, OneHotEncoder, StandardScaler, MinMaxScaler, RobustScaler\n",
    "from sklearn.impute import KNNImputer, SimpleImputer, IterativeImputer\n",
    "from sklearn.pipeline import Pipeline, make_pipeline, make_union\n",
    "from sklearn.compose import ColumnTransformer"
   ]
  },
  {
   "cell_type": "code",
   "execution_count": 2,
   "metadata": {},
   "outputs": [
    {
     "output_type": "execute_result",
     "data": {
      "text/plain": [
       "             Survived  Pclass  \\\n",
       "PassengerId                     \n",
       "1                   0       3   \n",
       "2                   1       1   \n",
       "3                   1       3   \n",
       "4                   1       1   \n",
       "5                   0       3   \n",
       "...               ...     ...   \n",
       "887                 0       2   \n",
       "888                 1       1   \n",
       "889                 0       3   \n",
       "890                 1       1   \n",
       "891                 0       3   \n",
       "\n",
       "                                                          Name     Sex   Age  \\\n",
       "PassengerId                                                                    \n",
       "1                                      Braund, Mr. Owen Harris    male  22.0   \n",
       "2            Cumings, Mrs. John Bradley (Florence Briggs Th...  female  38.0   \n",
       "3                                       Heikkinen, Miss. Laina  female  26.0   \n",
       "4                 Futrelle, Mrs. Jacques Heath (Lily May Peel)  female  35.0   \n",
       "5                                     Allen, Mr. William Henry    male  35.0   \n",
       "...                                                        ...     ...   ...   \n",
       "887                                      Montvila, Rev. Juozas    male  27.0   \n",
       "888                               Graham, Miss. Margaret Edith  female  19.0   \n",
       "889                   Johnston, Miss. Catherine Helen \"Carrie\"  female   NaN   \n",
       "890                                      Behr, Mr. Karl Howell    male  26.0   \n",
       "891                                        Dooley, Mr. Patrick    male  32.0   \n",
       "\n",
       "             SibSp  Parch            Ticket     Fare Cabin Embarked  \n",
       "PassengerId                                                          \n",
       "1                1      0         A/5 21171   7.2500   NaN        S  \n",
       "2                1      0          PC 17599  71.2833   C85        C  \n",
       "3                0      0  STON/O2. 3101282   7.9250   NaN        S  \n",
       "4                1      0            113803  53.1000  C123        S  \n",
       "5                0      0            373450   8.0500   NaN        S  \n",
       "...            ...    ...               ...      ...   ...      ...  \n",
       "887              0      0            211536  13.0000   NaN        S  \n",
       "888              0      0            112053  30.0000   B42        S  \n",
       "889              1      2        W./C. 6607  23.4500   NaN        S  \n",
       "890              0      0            111369  30.0000  C148        C  \n",
       "891              0      0            370376   7.7500   NaN        Q  \n",
       "\n",
       "[891 rows x 11 columns]"
      ],
      "text/html": "<div>\n<style scoped>\n    .dataframe tbody tr th:only-of-type {\n        vertical-align: middle;\n    }\n\n    .dataframe tbody tr th {\n        vertical-align: top;\n    }\n\n    .dataframe thead th {\n        text-align: right;\n    }\n</style>\n<table border=\"1\" class=\"dataframe\">\n  <thead>\n    <tr style=\"text-align: right;\">\n      <th></th>\n      <th>Survived</th>\n      <th>Pclass</th>\n      <th>Name</th>\n      <th>Sex</th>\n      <th>Age</th>\n      <th>SibSp</th>\n      <th>Parch</th>\n      <th>Ticket</th>\n      <th>Fare</th>\n      <th>Cabin</th>\n      <th>Embarked</th>\n    </tr>\n    <tr>\n      <th>PassengerId</th>\n      <th></th>\n      <th></th>\n      <th></th>\n      <th></th>\n      <th></th>\n      <th></th>\n      <th></th>\n      <th></th>\n      <th></th>\n      <th></th>\n      <th></th>\n    </tr>\n  </thead>\n  <tbody>\n    <tr>\n      <th>1</th>\n      <td>0</td>\n      <td>3</td>\n      <td>Braund, Mr. Owen Harris</td>\n      <td>male</td>\n      <td>22.0</td>\n      <td>1</td>\n      <td>0</td>\n      <td>A/5 21171</td>\n      <td>7.2500</td>\n      <td>NaN</td>\n      <td>S</td>\n    </tr>\n    <tr>\n      <th>2</th>\n      <td>1</td>\n      <td>1</td>\n      <td>Cumings, Mrs. John Bradley (Florence Briggs Th...</td>\n      <td>female</td>\n      <td>38.0</td>\n      <td>1</td>\n      <td>0</td>\n      <td>PC 17599</td>\n      <td>71.2833</td>\n      <td>C85</td>\n      <td>C</td>\n    </tr>\n    <tr>\n      <th>3</th>\n      <td>1</td>\n      <td>3</td>\n      <td>Heikkinen, Miss. Laina</td>\n      <td>female</td>\n      <td>26.0</td>\n      <td>0</td>\n      <td>0</td>\n      <td>STON/O2. 3101282</td>\n      <td>7.9250</td>\n      <td>NaN</td>\n      <td>S</td>\n    </tr>\n    <tr>\n      <th>4</th>\n      <td>1</td>\n      <td>1</td>\n      <td>Futrelle, Mrs. Jacques Heath (Lily May Peel)</td>\n      <td>female</td>\n      <td>35.0</td>\n      <td>1</td>\n      <td>0</td>\n      <td>113803</td>\n      <td>53.1000</td>\n      <td>C123</td>\n      <td>S</td>\n    </tr>\n    <tr>\n      <th>5</th>\n      <td>0</td>\n      <td>3</td>\n      <td>Allen, Mr. William Henry</td>\n      <td>male</td>\n      <td>35.0</td>\n      <td>0</td>\n      <td>0</td>\n      <td>373450</td>\n      <td>8.0500</td>\n      <td>NaN</td>\n      <td>S</td>\n    </tr>\n    <tr>\n      <th>...</th>\n      <td>...</td>\n      <td>...</td>\n      <td>...</td>\n      <td>...</td>\n      <td>...</td>\n      <td>...</td>\n      <td>...</td>\n      <td>...</td>\n      <td>...</td>\n      <td>...</td>\n      <td>...</td>\n    </tr>\n    <tr>\n      <th>887</th>\n      <td>0</td>\n      <td>2</td>\n      <td>Montvila, Rev. Juozas</td>\n      <td>male</td>\n      <td>27.0</td>\n      <td>0</td>\n      <td>0</td>\n      <td>211536</td>\n      <td>13.0000</td>\n      <td>NaN</td>\n      <td>S</td>\n    </tr>\n    <tr>\n      <th>888</th>\n      <td>1</td>\n      <td>1</td>\n      <td>Graham, Miss. Margaret Edith</td>\n      <td>female</td>\n      <td>19.0</td>\n      <td>0</td>\n      <td>0</td>\n      <td>112053</td>\n      <td>30.0000</td>\n      <td>B42</td>\n      <td>S</td>\n    </tr>\n    <tr>\n      <th>889</th>\n      <td>0</td>\n      <td>3</td>\n      <td>Johnston, Miss. Catherine Helen \"Carrie\"</td>\n      <td>female</td>\n      <td>NaN</td>\n      <td>1</td>\n      <td>2</td>\n      <td>W./C. 6607</td>\n      <td>23.4500</td>\n      <td>NaN</td>\n      <td>S</td>\n    </tr>\n    <tr>\n      <th>890</th>\n      <td>1</td>\n      <td>1</td>\n      <td>Behr, Mr. Karl Howell</td>\n      <td>male</td>\n      <td>26.0</td>\n      <td>0</td>\n      <td>0</td>\n      <td>111369</td>\n      <td>30.0000</td>\n      <td>C148</td>\n      <td>C</td>\n    </tr>\n    <tr>\n      <th>891</th>\n      <td>0</td>\n      <td>3</td>\n      <td>Dooley, Mr. Patrick</td>\n      <td>male</td>\n      <td>32.0</td>\n      <td>0</td>\n      <td>0</td>\n      <td>370376</td>\n      <td>7.7500</td>\n      <td>NaN</td>\n      <td>Q</td>\n    </tr>\n  </tbody>\n</table>\n<p>891 rows × 11 columns</p>\n</div>"
     },
     "metadata": {},
     "execution_count": 2
    }
   ],
   "source": [
    "train = pd.read_csv('data/titanic/train.csv', index_col=0)\n",
    "test = pd.read_csv('data/titanic/test.csv', index_col=0)\n",
    "train"
   ]
  },
  {
   "cell_type": "code",
   "execution_count": 3,
   "metadata": {},
   "outputs": [
    {
     "output_type": "execute_result",
     "data": {
      "text/plain": [
       "       Name     Type  Total_na    Percent  \\\n",
       "0    Pclass  Numeric         0   0.000000   \n",
       "1      Name   Object         0   0.000000   \n",
       "2       Sex   Object         0   0.000000   \n",
       "3       Age  Numeric        86  20.574163   \n",
       "4     SibSp  Numeric         0   0.000000   \n",
       "5     Parch  Numeric         0   0.000000   \n",
       "6    Ticket   Object         0   0.000000   \n",
       "7      Fare  Numeric         1   0.239234   \n",
       "8     Cabin   Object       327  78.229665   \n",
       "9  Embarked   Object         0   0.000000   \n",
       "\n",
       "                                              Unique  \\\n",
       "0                                                      \n",
       "1  [Kelly, Mr. James, Wilkes, Mrs. James (Ellen N...   \n",
       "2                                     [male, female]   \n",
       "3                                                      \n",
       "4                                                      \n",
       "5                                                      \n",
       "6  [330911, 363272, 240276, 315154, 3101298, 7538...   \n",
       "7                                                      \n",
       "8  [nan, B45, E31, B57 B59 B63 B66, B36, A21, C78...   \n",
       "9                                          [Q, S, C]   \n",
       "\n",
       "                                           Weird_obj  \n",
       "0                                                     \n",
       "1  ['(', ')']['(', ')']['(', ')']['(', ')']['(', ...  \n",
       "2                                                     \n",
       "3                                                     \n",
       "4                                                     \n",
       "5                                                     \n",
       "6                                                     \n",
       "7                                                     \n",
       "8                                                     \n",
       "9                                                     "
      ],
      "text/html": "<div>\n<style scoped>\n    .dataframe tbody tr th:only-of-type {\n        vertical-align: middle;\n    }\n\n    .dataframe tbody tr th {\n        vertical-align: top;\n    }\n\n    .dataframe thead th {\n        text-align: right;\n    }\n</style>\n<table border=\"1\" class=\"dataframe\">\n  <thead>\n    <tr style=\"text-align: right;\">\n      <th></th>\n      <th>Name</th>\n      <th>Type</th>\n      <th>Total_na</th>\n      <th>Percent</th>\n      <th>Unique</th>\n      <th>Weird_obj</th>\n    </tr>\n  </thead>\n  <tbody>\n    <tr>\n      <th>0</th>\n      <td>Pclass</td>\n      <td>Numeric</td>\n      <td>0</td>\n      <td>0.000000</td>\n      <td></td>\n      <td></td>\n    </tr>\n    <tr>\n      <th>1</th>\n      <td>Name</td>\n      <td>Object</td>\n      <td>0</td>\n      <td>0.000000</td>\n      <td>[Kelly, Mr. James, Wilkes, Mrs. James (Ellen N...</td>\n      <td>['(', ')']['(', ')']['(', ')']['(', ')']['(', ...</td>\n    </tr>\n    <tr>\n      <th>2</th>\n      <td>Sex</td>\n      <td>Object</td>\n      <td>0</td>\n      <td>0.000000</td>\n      <td>[male, female]</td>\n      <td></td>\n    </tr>\n    <tr>\n      <th>3</th>\n      <td>Age</td>\n      <td>Numeric</td>\n      <td>86</td>\n      <td>20.574163</td>\n      <td></td>\n      <td></td>\n    </tr>\n    <tr>\n      <th>4</th>\n      <td>SibSp</td>\n      <td>Numeric</td>\n      <td>0</td>\n      <td>0.000000</td>\n      <td></td>\n      <td></td>\n    </tr>\n    <tr>\n      <th>5</th>\n      <td>Parch</td>\n      <td>Numeric</td>\n      <td>0</td>\n      <td>0.000000</td>\n      <td></td>\n      <td></td>\n    </tr>\n    <tr>\n      <th>6</th>\n      <td>Ticket</td>\n      <td>Object</td>\n      <td>0</td>\n      <td>0.000000</td>\n      <td>[330911, 363272, 240276, 315154, 3101298, 7538...</td>\n      <td></td>\n    </tr>\n    <tr>\n      <th>7</th>\n      <td>Fare</td>\n      <td>Numeric</td>\n      <td>1</td>\n      <td>0.239234</td>\n      <td></td>\n      <td></td>\n    </tr>\n    <tr>\n      <th>8</th>\n      <td>Cabin</td>\n      <td>Object</td>\n      <td>327</td>\n      <td>78.229665</td>\n      <td>[nan, B45, E31, B57 B59 B63 B66, B36, A21, C78...</td>\n      <td></td>\n    </tr>\n    <tr>\n      <th>9</th>\n      <td>Embarked</td>\n      <td>Object</td>\n      <td>0</td>\n      <td>0.000000</td>\n      <td>[Q, S, C]</td>\n      <td></td>\n    </tr>\n  </tbody>\n</table>\n</div>"
     },
     "metadata": {},
     "execution_count": 3
    }
   ],
   "source": [
    "# Create a function to evaluate missing in data, check unique in object (categorical col)\n",
    "def check_overview(df):\n",
    "\n",
    "    check = []\n",
    "    for col in df.columns:\n",
    "        weird_obj = ''\n",
    "        if df.dtypes[col] == 'object':\n",
    "            type = 'Object'\n",
    "            unique_obj = df[col].unique()\n",
    "            for i in df[col]:\n",
    "                obj = re.findall(r'[^A-Za-z\\d\\.\\s\\/\\,]', str(i))\n",
    "                if obj != []:\n",
    "                    weird_obj += str(obj)\n",
    "        else:\n",
    "            type = 'Numeric'\n",
    "            unique_obj = ''\n",
    "        total_nan = df[col].isnull().sum()\n",
    "        percent_nan = total_nan/len(df[col])*100\n",
    "        check.append([col, type, total_nan, percent_nan, unique_obj, weird_obj])\n",
    "\n",
    "    check_df = pd.DataFrame(check, columns=['Name', 'Type', 'Total_na', 'Percent', 'Unique', 'Weird_obj'])\n",
    "    return check_df\n",
    "\n",
    "check = check_overview(test)\n",
    "check"
   ]
  },
  {
   "cell_type": "code",
   "execution_count": 5,
   "metadata": {},
   "outputs": [],
   "source": [
    "def same_index_ticket_cabin(group, x):\n",
    "    if np.sum(group['value']==x) != 0:\n",
    "        return group[group['value']==x].index[0]\n",
    "    else:\n",
    "        return -1\n",
    "\n",
    "def same_value_ticket_cabin(group, x):\n",
    "    if np.sum(group['value']==x) != 0:\n",
    "        return group[group['value']==x].num.values[0]\n",
    "    else:\n",
    "        return 0\n",
    "\n",
    "cabin_concat = pd.concat([train['Cabin'],test['Cabin']])\n",
    "cabin_g = pd.Series(cabin_concat.value_counts()[cabin_concat.value_counts()>1])\\\n",
    "                .reset_index()\\\n",
    "                .rename(columns={'index': 'value', 'Cabin': 'num'})\n",
    "\n",
    "ticket_concat = pd.concat([train['Ticket'],test['Ticket']])\n",
    "ticket_g = pd.Series(ticket_concat.value_counts()[ticket_concat.value_counts()>1])\\\n",
    "                .reset_index()\\\n",
    "                .rename(columns={'index': 'value', 'Ticket': 'num'})"
   ]
  },
  {
   "cell_type": "code",
   "execution_count": 6,
   "metadata": {},
   "outputs": [
    {
     "output_type": "stream",
     "name": "stdout",
     "text": [
      "<class 'pandas.core.frame.DataFrame'>\nInt64Index: 891 entries, 1 to 891\nData columns (total 16 columns):\n #   Column           Non-Null Count  Dtype  \n---  ------           --------------  -----  \n 0   Survived         891 non-null    int64  \n 1   Pclass           891 non-null    int64  \n 2   Age              714 non-null    float64\n 3   SibSp            891 non-null    int64  \n 4   Parch            891 non-null    int64  \n 5   Fare             891 non-null    float64\n 6   Embarked         891 non-null    object \n 7   Name_title       891 non-null    object \n 8   Cabin_class      891 non-null    object \n 9   Same_ticket      891 non-null    int64  \n 10  Num_same_ticket  891 non-null    int64  \n 11  Ticket_alone     891 non-null    int64  \n 12  Same_cabin       891 non-null    int64  \n 13  Num_same_cabin   891 non-null    int64  \n 14  Cabin_alone      891 non-null    int64  \n 15  Sex_M            891 non-null    int64  \ndtypes: float64(2), int64(11), object(3)\nmemory usage: 118.3+ KB\n"
     ]
    }
   ],
   "source": [
    "name_path = r',\\s([^.]*)\\.'\n",
    "cabin_path = r'(\\w)'\n",
    "\n",
    "def Attributes_Add(X, name_path, cabin_path, ticket_g, cabin_g):\n",
    "\n",
    "    X['Name_title'] = X['Name'].str.extract(name_path)\n",
    "    X['Cabin_class'] = X['Cabin'].fillna('U').str.extract(cabin_path)\n",
    "\n",
    "    X['Same_ticket'] = X['Ticket'].map(lambda x: same_index_ticket_cabin(ticket_g, x))\n",
    "    X['Num_same_ticket'] = X['Ticket'].map(lambda x: same_value_ticket_cabin(ticket_g, x))\n",
    "    X['Ticket_alone'] = X['Num_same_ticket'].map(lambda x: 1 if x ==0 else 0)\n",
    "\n",
    "    X['Same_cabin'] = X['Cabin'].map(lambda x: same_index_ticket_cabin(cabin_g, x))\n",
    "    X['Num_same_cabin'] = X['Cabin'].map(lambda x: same_value_ticket_cabin(cabin_g, x))\n",
    "    X['Cabin_alone'] = X['Num_same_cabin'].map(lambda x: 1 if x ==0 else 0)\n",
    "\n",
    "    X['Sex_M'] = X['Sex'].map(lambda x: 1 if x=='male' else 0)\n",
    "    X['Embarked'] = X['Embarked'].fillna('U')\n",
    "\n",
    "    return X\n",
    "\n",
    "train_new = Attributes_Add(train, name_path, cabin_path, ticket_g, cabin_g).drop(columns=['Name', 'Ticket', 'Cabin', 'Sex'])\n",
    "test_new = Attributes_Add(test, name_path, cabin_path, ticket_g, cabin_g).drop(columns=['Name', 'Ticket', 'Cabin', 'Sex'])\n",
    "train_new.info()\n",
    "# test okie"
   ]
  },
  {
   "cell_type": "code",
   "execution_count": 7,
   "metadata": {},
   "outputs": [
    {
     "output_type": "stream",
     "name": "stdout",
     "text": [
      "<class 'pandas.core.frame.DataFrame'>\nInt64Index: 418 entries, 892 to 1309\nData columns (total 15 columns):\n #   Column           Non-Null Count  Dtype  \n---  ------           --------------  -----  \n 0   Pclass           418 non-null    int64  \n 1   Age              332 non-null    float64\n 2   SibSp            418 non-null    int64  \n 3   Parch            418 non-null    int64  \n 4   Fare             417 non-null    float64\n 5   Embarked         418 non-null    object \n 6   Name_title       418 non-null    object \n 7   Cabin_class      418 non-null    object \n 8   Same_ticket      418 non-null    int64  \n 9   Num_same_ticket  418 non-null    int64  \n 10  Ticket_alone     418 non-null    int64  \n 11  Same_cabin       418 non-null    int64  \n 12  Num_same_cabin   418 non-null    int64  \n 13  Cabin_alone      418 non-null    int64  \n 14  Sex_M            418 non-null    int64  \ndtypes: float64(2), int64(10), object(3)\nmemory usage: 52.2+ KB\n"
     ]
    }
   ],
   "source": [
    "test_new.info()"
   ]
  },
  {
   "cell_type": "code",
   "execution_count": 8,
   "metadata": {},
   "outputs": [],
   "source": [
    "cate_col = ['Embarked', 'Name_title']\n",
    "\n",
    "ordinal_encoder = OrdinalEncoder()\n",
    "\n",
    "ordinal_encoder.fit(pd.concat([train_new[cate_col], test_new[cate_col]], axis=0))\n",
    "train_new[cate_col] = ordinal_encoder.transform(train_new[cate_col])\n",
    "test_new[cate_col] = ordinal_encoder.transform(test_new[cate_col])"
   ]
  },
  {
   "cell_type": "code",
   "execution_count": 9,
   "metadata": {},
   "outputs": [
    {
     "output_type": "execute_result",
     "data": {
      "text/plain": [
       "             Survived  Pclass   Age  SibSp  Parch     Fare  Embarked  \\\n",
       "PassengerId                                                            \n",
       "1                   0       3  22.0      1      0   7.2500       2.0   \n",
       "2                   1       1  38.0      1      0  71.2833       0.0   \n",
       "3                   1       3  26.0      0      0   7.9250       2.0   \n",
       "4                   1       1  35.0      1      0  53.1000       2.0   \n",
       "5                   0       3  35.0      0      0   8.0500       2.0   \n",
       "...               ...     ...   ...    ...    ...      ...       ...   \n",
       "887                 0       2  27.0      0      0  13.0000       2.0   \n",
       "888                 1       1  19.0      0      0  30.0000       2.0   \n",
       "889                 0       3   NaN      1      2  23.4500       2.0   \n",
       "890                 1       1  26.0      0      0  30.0000       0.0   \n",
       "891                 0       3  32.0      0      0   7.7500       1.0   \n",
       "\n",
       "             Name_title Cabin_class  Same_ticket  Num_same_ticket  \\\n",
       "PassengerId                                                         \n",
       "1                  12.0           U           -1                0   \n",
       "2                  13.0           C          168                2   \n",
       "3                   9.0           U           -1                0   \n",
       "4                  13.0           C          197                2   \n",
       "5                  12.0           U           -1                0   \n",
       "...                 ...         ...          ...              ...   \n",
       "887                15.0           U           -1                0   \n",
       "888                 9.0           B           -1                0   \n",
       "889                 9.0           U           31                4   \n",
       "890                12.0           C           -1                0   \n",
       "891                12.0           U           -1                0   \n",
       "\n",
       "             Ticket_alone  Same_cabin  Num_same_cabin  Cabin_alone  Sex_M  \n",
       "PassengerId                                                                \n",
       "1                       1          -1               0            1      1  \n",
       "2                       0          77               2            0      0  \n",
       "3                       1          -1               0            1      0  \n",
       "4                       0          56               2            0      0  \n",
       "5                       1          -1               0            1      1  \n",
       "...                   ...         ...             ...          ...    ...  \n",
       "887                     1          -1               0            1      1  \n",
       "888                     1          -1               0            1      0  \n",
       "889                     0          -1               0            1      0  \n",
       "890                     1          -1               0            1      1  \n",
       "891                     1          -1               0            1      1  \n",
       "\n",
       "[891 rows x 16 columns]"
      ],
      "text/html": "<div>\n<style scoped>\n    .dataframe tbody tr th:only-of-type {\n        vertical-align: middle;\n    }\n\n    .dataframe tbody tr th {\n        vertical-align: top;\n    }\n\n    .dataframe thead th {\n        text-align: right;\n    }\n</style>\n<table border=\"1\" class=\"dataframe\">\n  <thead>\n    <tr style=\"text-align: right;\">\n      <th></th>\n      <th>Survived</th>\n      <th>Pclass</th>\n      <th>Age</th>\n      <th>SibSp</th>\n      <th>Parch</th>\n      <th>Fare</th>\n      <th>Embarked</th>\n      <th>Name_title</th>\n      <th>Cabin_class</th>\n      <th>Same_ticket</th>\n      <th>Num_same_ticket</th>\n      <th>Ticket_alone</th>\n      <th>Same_cabin</th>\n      <th>Num_same_cabin</th>\n      <th>Cabin_alone</th>\n      <th>Sex_M</th>\n    </tr>\n    <tr>\n      <th>PassengerId</th>\n      <th></th>\n      <th></th>\n      <th></th>\n      <th></th>\n      <th></th>\n      <th></th>\n      <th></th>\n      <th></th>\n      <th></th>\n      <th></th>\n      <th></th>\n      <th></th>\n      <th></th>\n      <th></th>\n      <th></th>\n      <th></th>\n    </tr>\n  </thead>\n  <tbody>\n    <tr>\n      <th>1</th>\n      <td>0</td>\n      <td>3</td>\n      <td>22.0</td>\n      <td>1</td>\n      <td>0</td>\n      <td>7.2500</td>\n      <td>2.0</td>\n      <td>12.0</td>\n      <td>U</td>\n      <td>-1</td>\n      <td>0</td>\n      <td>1</td>\n      <td>-1</td>\n      <td>0</td>\n      <td>1</td>\n      <td>1</td>\n    </tr>\n    <tr>\n      <th>2</th>\n      <td>1</td>\n      <td>1</td>\n      <td>38.0</td>\n      <td>1</td>\n      <td>0</td>\n      <td>71.2833</td>\n      <td>0.0</td>\n      <td>13.0</td>\n      <td>C</td>\n      <td>168</td>\n      <td>2</td>\n      <td>0</td>\n      <td>77</td>\n      <td>2</td>\n      <td>0</td>\n      <td>0</td>\n    </tr>\n    <tr>\n      <th>3</th>\n      <td>1</td>\n      <td>3</td>\n      <td>26.0</td>\n      <td>0</td>\n      <td>0</td>\n      <td>7.9250</td>\n      <td>2.0</td>\n      <td>9.0</td>\n      <td>U</td>\n      <td>-1</td>\n      <td>0</td>\n      <td>1</td>\n      <td>-1</td>\n      <td>0</td>\n      <td>1</td>\n      <td>0</td>\n    </tr>\n    <tr>\n      <th>4</th>\n      <td>1</td>\n      <td>1</td>\n      <td>35.0</td>\n      <td>1</td>\n      <td>0</td>\n      <td>53.1000</td>\n      <td>2.0</td>\n      <td>13.0</td>\n      <td>C</td>\n      <td>197</td>\n      <td>2</td>\n      <td>0</td>\n      <td>56</td>\n      <td>2</td>\n      <td>0</td>\n      <td>0</td>\n    </tr>\n    <tr>\n      <th>5</th>\n      <td>0</td>\n      <td>3</td>\n      <td>35.0</td>\n      <td>0</td>\n      <td>0</td>\n      <td>8.0500</td>\n      <td>2.0</td>\n      <td>12.0</td>\n      <td>U</td>\n      <td>-1</td>\n      <td>0</td>\n      <td>1</td>\n      <td>-1</td>\n      <td>0</td>\n      <td>1</td>\n      <td>1</td>\n    </tr>\n    <tr>\n      <th>...</th>\n      <td>...</td>\n      <td>...</td>\n      <td>...</td>\n      <td>...</td>\n      <td>...</td>\n      <td>...</td>\n      <td>...</td>\n      <td>...</td>\n      <td>...</td>\n      <td>...</td>\n      <td>...</td>\n      <td>...</td>\n      <td>...</td>\n      <td>...</td>\n      <td>...</td>\n      <td>...</td>\n    </tr>\n    <tr>\n      <th>887</th>\n      <td>0</td>\n      <td>2</td>\n      <td>27.0</td>\n      <td>0</td>\n      <td>0</td>\n      <td>13.0000</td>\n      <td>2.0</td>\n      <td>15.0</td>\n      <td>U</td>\n      <td>-1</td>\n      <td>0</td>\n      <td>1</td>\n      <td>-1</td>\n      <td>0</td>\n      <td>1</td>\n      <td>1</td>\n    </tr>\n    <tr>\n      <th>888</th>\n      <td>1</td>\n      <td>1</td>\n      <td>19.0</td>\n      <td>0</td>\n      <td>0</td>\n      <td>30.0000</td>\n      <td>2.0</td>\n      <td>9.0</td>\n      <td>B</td>\n      <td>-1</td>\n      <td>0</td>\n      <td>1</td>\n      <td>-1</td>\n      <td>0</td>\n      <td>1</td>\n      <td>0</td>\n    </tr>\n    <tr>\n      <th>889</th>\n      <td>0</td>\n      <td>3</td>\n      <td>NaN</td>\n      <td>1</td>\n      <td>2</td>\n      <td>23.4500</td>\n      <td>2.0</td>\n      <td>9.0</td>\n      <td>U</td>\n      <td>31</td>\n      <td>4</td>\n      <td>0</td>\n      <td>-1</td>\n      <td>0</td>\n      <td>1</td>\n      <td>0</td>\n    </tr>\n    <tr>\n      <th>890</th>\n      <td>1</td>\n      <td>1</td>\n      <td>26.0</td>\n      <td>0</td>\n      <td>0</td>\n      <td>30.0000</td>\n      <td>0.0</td>\n      <td>12.0</td>\n      <td>C</td>\n      <td>-1</td>\n      <td>0</td>\n      <td>1</td>\n      <td>-1</td>\n      <td>0</td>\n      <td>1</td>\n      <td>1</td>\n    </tr>\n    <tr>\n      <th>891</th>\n      <td>0</td>\n      <td>3</td>\n      <td>32.0</td>\n      <td>0</td>\n      <td>0</td>\n      <td>7.7500</td>\n      <td>1.0</td>\n      <td>12.0</td>\n      <td>U</td>\n      <td>-1</td>\n      <td>0</td>\n      <td>1</td>\n      <td>-1</td>\n      <td>0</td>\n      <td>1</td>\n      <td>1</td>\n    </tr>\n  </tbody>\n</table>\n<p>891 rows × 16 columns</p>\n</div>"
     },
     "metadata": {},
     "execution_count": 9
    }
   ],
   "source": [
    "train_new"
   ]
  },
  {
   "cell_type": "code",
   "execution_count": 10,
   "metadata": {},
   "outputs": [
    {
     "output_type": "execute_result",
     "data": {
      "text/plain": [
       "             Survived  Pclass       Age  SibSp  Parch      Fare  Embarked  \\\n",
       "PassengerId                                                                 \n",
       "1                   0       3 -0.530377      1      0 -0.502445       2.0   \n",
       "2                   1       1  0.571831      1      0  0.786845       0.0   \n",
       "3                   1       3 -0.254825      0      0 -0.488854       2.0   \n",
       "4                   1       1  0.365167      1      0  0.420730       2.0   \n",
       "5                   0       3  0.365167      0      0 -0.486337       2.0   \n",
       "...               ...     ...       ...    ...    ...       ...       ...   \n",
       "887                 0       2 -0.185937      0      0 -0.386671       2.0   \n",
       "888                 1       1 -0.737041      0      0 -0.044381       2.0   \n",
       "889                 0       3       NaN      1      2 -0.176263       2.0   \n",
       "890                 1       1 -0.254825      0      0 -0.044381       0.0   \n",
       "891                 0       3  0.158503      0      0 -0.492378       1.0   \n",
       "\n",
       "             Name_title Cabin_class  Same_ticket  Num_same_ticket  \\\n",
       "PassengerId                                                         \n",
       "1                  12.0           U           -1                0   \n",
       "2                  13.0           C          168                2   \n",
       "3                   9.0           U           -1                0   \n",
       "4                  13.0           C          197                2   \n",
       "5                  12.0           U           -1                0   \n",
       "...                 ...         ...          ...              ...   \n",
       "887                15.0           U           -1                0   \n",
       "888                 9.0           B           -1                0   \n",
       "889                 9.0           U           31                4   \n",
       "890                12.0           C           -1                0   \n",
       "891                12.0           U           -1                0   \n",
       "\n",
       "             Ticket_alone  Same_cabin  Num_same_cabin  Cabin_alone  Sex_M  \n",
       "PassengerId                                                                \n",
       "1                       1          -1               0            1      1  \n",
       "2                       0          77               2            0      0  \n",
       "3                       1          -1               0            1      0  \n",
       "4                       0          56               2            0      0  \n",
       "5                       1          -1               0            1      1  \n",
       "...                   ...         ...             ...          ...    ...  \n",
       "887                     1          -1               0            1      1  \n",
       "888                     1          -1               0            1      0  \n",
       "889                     0          -1               0            1      0  \n",
       "890                     1          -1               0            1      1  \n",
       "891                     1          -1               0            1      1  \n",
       "\n",
       "[891 rows x 16 columns]"
      ],
      "text/html": "<div>\n<style scoped>\n    .dataframe tbody tr th:only-of-type {\n        vertical-align: middle;\n    }\n\n    .dataframe tbody tr th {\n        vertical-align: top;\n    }\n\n    .dataframe thead th {\n        text-align: right;\n    }\n</style>\n<table border=\"1\" class=\"dataframe\">\n  <thead>\n    <tr style=\"text-align: right;\">\n      <th></th>\n      <th>Survived</th>\n      <th>Pclass</th>\n      <th>Age</th>\n      <th>SibSp</th>\n      <th>Parch</th>\n      <th>Fare</th>\n      <th>Embarked</th>\n      <th>Name_title</th>\n      <th>Cabin_class</th>\n      <th>Same_ticket</th>\n      <th>Num_same_ticket</th>\n      <th>Ticket_alone</th>\n      <th>Same_cabin</th>\n      <th>Num_same_cabin</th>\n      <th>Cabin_alone</th>\n      <th>Sex_M</th>\n    </tr>\n    <tr>\n      <th>PassengerId</th>\n      <th></th>\n      <th></th>\n      <th></th>\n      <th></th>\n      <th></th>\n      <th></th>\n      <th></th>\n      <th></th>\n      <th></th>\n      <th></th>\n      <th></th>\n      <th></th>\n      <th></th>\n      <th></th>\n      <th></th>\n      <th></th>\n    </tr>\n  </thead>\n  <tbody>\n    <tr>\n      <th>1</th>\n      <td>0</td>\n      <td>3</td>\n      <td>-0.530377</td>\n      <td>1</td>\n      <td>0</td>\n      <td>-0.502445</td>\n      <td>2.0</td>\n      <td>12.0</td>\n      <td>U</td>\n      <td>-1</td>\n      <td>0</td>\n      <td>1</td>\n      <td>-1</td>\n      <td>0</td>\n      <td>1</td>\n      <td>1</td>\n    </tr>\n    <tr>\n      <th>2</th>\n      <td>1</td>\n      <td>1</td>\n      <td>0.571831</td>\n      <td>1</td>\n      <td>0</td>\n      <td>0.786845</td>\n      <td>0.0</td>\n      <td>13.0</td>\n      <td>C</td>\n      <td>168</td>\n      <td>2</td>\n      <td>0</td>\n      <td>77</td>\n      <td>2</td>\n      <td>0</td>\n      <td>0</td>\n    </tr>\n    <tr>\n      <th>3</th>\n      <td>1</td>\n      <td>3</td>\n      <td>-0.254825</td>\n      <td>0</td>\n      <td>0</td>\n      <td>-0.488854</td>\n      <td>2.0</td>\n      <td>9.0</td>\n      <td>U</td>\n      <td>-1</td>\n      <td>0</td>\n      <td>1</td>\n      <td>-1</td>\n      <td>0</td>\n      <td>1</td>\n      <td>0</td>\n    </tr>\n    <tr>\n      <th>4</th>\n      <td>1</td>\n      <td>1</td>\n      <td>0.365167</td>\n      <td>1</td>\n      <td>0</td>\n      <td>0.420730</td>\n      <td>2.0</td>\n      <td>13.0</td>\n      <td>C</td>\n      <td>197</td>\n      <td>2</td>\n      <td>0</td>\n      <td>56</td>\n      <td>2</td>\n      <td>0</td>\n      <td>0</td>\n    </tr>\n    <tr>\n      <th>5</th>\n      <td>0</td>\n      <td>3</td>\n      <td>0.365167</td>\n      <td>0</td>\n      <td>0</td>\n      <td>-0.486337</td>\n      <td>2.0</td>\n      <td>12.0</td>\n      <td>U</td>\n      <td>-1</td>\n      <td>0</td>\n      <td>1</td>\n      <td>-1</td>\n      <td>0</td>\n      <td>1</td>\n      <td>1</td>\n    </tr>\n    <tr>\n      <th>...</th>\n      <td>...</td>\n      <td>...</td>\n      <td>...</td>\n      <td>...</td>\n      <td>...</td>\n      <td>...</td>\n      <td>...</td>\n      <td>...</td>\n      <td>...</td>\n      <td>...</td>\n      <td>...</td>\n      <td>...</td>\n      <td>...</td>\n      <td>...</td>\n      <td>...</td>\n      <td>...</td>\n    </tr>\n    <tr>\n      <th>887</th>\n      <td>0</td>\n      <td>2</td>\n      <td>-0.185937</td>\n      <td>0</td>\n      <td>0</td>\n      <td>-0.386671</td>\n      <td>2.0</td>\n      <td>15.0</td>\n      <td>U</td>\n      <td>-1</td>\n      <td>0</td>\n      <td>1</td>\n      <td>-1</td>\n      <td>0</td>\n      <td>1</td>\n      <td>1</td>\n    </tr>\n    <tr>\n      <th>888</th>\n      <td>1</td>\n      <td>1</td>\n      <td>-0.737041</td>\n      <td>0</td>\n      <td>0</td>\n      <td>-0.044381</td>\n      <td>2.0</td>\n      <td>9.0</td>\n      <td>B</td>\n      <td>-1</td>\n      <td>0</td>\n      <td>1</td>\n      <td>-1</td>\n      <td>0</td>\n      <td>1</td>\n      <td>0</td>\n    </tr>\n    <tr>\n      <th>889</th>\n      <td>0</td>\n      <td>3</td>\n      <td>NaN</td>\n      <td>1</td>\n      <td>2</td>\n      <td>-0.176263</td>\n      <td>2.0</td>\n      <td>9.0</td>\n      <td>U</td>\n      <td>31</td>\n      <td>4</td>\n      <td>0</td>\n      <td>-1</td>\n      <td>0</td>\n      <td>1</td>\n      <td>0</td>\n    </tr>\n    <tr>\n      <th>890</th>\n      <td>1</td>\n      <td>1</td>\n      <td>-0.254825</td>\n      <td>0</td>\n      <td>0</td>\n      <td>-0.044381</td>\n      <td>0.0</td>\n      <td>12.0</td>\n      <td>C</td>\n      <td>-1</td>\n      <td>0</td>\n      <td>1</td>\n      <td>-1</td>\n      <td>0</td>\n      <td>1</td>\n      <td>1</td>\n    </tr>\n    <tr>\n      <th>891</th>\n      <td>0</td>\n      <td>3</td>\n      <td>0.158503</td>\n      <td>0</td>\n      <td>0</td>\n      <td>-0.492378</td>\n      <td>1.0</td>\n      <td>12.0</td>\n      <td>U</td>\n      <td>-1</td>\n      <td>0</td>\n      <td>1</td>\n      <td>-1</td>\n      <td>0</td>\n      <td>1</td>\n      <td>1</td>\n    </tr>\n  </tbody>\n</table>\n<p>891 rows × 16 columns</p>\n</div>"
     },
     "metadata": {},
     "execution_count": 10
    }
   ],
   "source": [
    "scale_col = ['Age', 'Fare']\n",
    "\n",
    "std_scaler = StandardScaler()\n",
    "\n",
    "std_scaler.fit(train_new[scale_col])\n",
    "train_new[scale_col] = std_scaler.transform(train_new[scale_col])\n",
    "test_new[scale_col] = std_scaler.transform(test_new[scale_col])\n",
    "train_new"
   ]
  },
  {
   "cell_type": "code",
   "execution_count": 11,
   "metadata": {},
   "outputs": [
    {
     "output_type": "execute_result",
     "data": {
      "text/plain": [
       "             Survived  Pclass       Age  SibSp  Parch      Fare  Embarked  \\\n",
       "PassengerId                                                                 \n",
       "1                   0     3.0 -0.530377    1.0    0.0 -0.502445       2.0   \n",
       "2                   1     1.0  0.571831    1.0    0.0  0.786845       0.0   \n",
       "3                   1     3.0 -0.254825    0.0    0.0 -0.488854       2.0   \n",
       "4                   1     1.0  0.365167    1.0    0.0  0.420730       2.0   \n",
       "5                   0     3.0  0.365167    0.0    0.0 -0.486337       2.0   \n",
       "...               ...     ...       ...    ...    ...       ...       ...   \n",
       "887                 0     2.0 -0.185937    0.0    0.0 -0.386671       2.0   \n",
       "888                 1     1.0 -0.737041    0.0    0.0 -0.044381       2.0   \n",
       "889                 0     3.0 -1.697569    1.0    2.0 -0.176263       2.0   \n",
       "890                 1     1.0 -0.254825    0.0    0.0 -0.044381       0.0   \n",
       "891                 0     3.0  0.158503    0.0    0.0 -0.492378       1.0   \n",
       "\n",
       "             Name_title Cabin_class  Same_ticket  Num_same_ticket  \\\n",
       "PassengerId                                                         \n",
       "1                  12.0           U         -1.0                0   \n",
       "2                  13.0           C        168.0                2   \n",
       "3                   9.0           U         -1.0                0   \n",
       "4                  13.0           C        197.0                2   \n",
       "5                  12.0           U         -1.0                0   \n",
       "...                 ...         ...          ...              ...   \n",
       "887                15.0           U         -1.0                0   \n",
       "888                 9.0           B         -1.0                0   \n",
       "889                 9.0           U         31.0                4   \n",
       "890                12.0           C         -1.0                0   \n",
       "891                12.0           U         -1.0                0   \n",
       "\n",
       "             Ticket_alone  Same_cabin  Num_same_cabin  Cabin_alone  Sex_M  \n",
       "PassengerId                                                                \n",
       "1                       1          -1               0            1    1.0  \n",
       "2                       0          77               2            0    0.0  \n",
       "3                       1          -1               0            1    0.0  \n",
       "4                       0          56               2            0    0.0  \n",
       "5                       1          -1               0            1    1.0  \n",
       "...                   ...         ...             ...          ...    ...  \n",
       "887                     1          -1               0            1    1.0  \n",
       "888                     1          -1               0            1    0.0  \n",
       "889                     0          -1               0            1    0.0  \n",
       "890                     1          -1               0            1    1.0  \n",
       "891                     1          -1               0            1    1.0  \n",
       "\n",
       "[891 rows x 16 columns]"
      ],
      "text/html": "<div>\n<style scoped>\n    .dataframe tbody tr th:only-of-type {\n        vertical-align: middle;\n    }\n\n    .dataframe tbody tr th {\n        vertical-align: top;\n    }\n\n    .dataframe thead th {\n        text-align: right;\n    }\n</style>\n<table border=\"1\" class=\"dataframe\">\n  <thead>\n    <tr style=\"text-align: right;\">\n      <th></th>\n      <th>Survived</th>\n      <th>Pclass</th>\n      <th>Age</th>\n      <th>SibSp</th>\n      <th>Parch</th>\n      <th>Fare</th>\n      <th>Embarked</th>\n      <th>Name_title</th>\n      <th>Cabin_class</th>\n      <th>Same_ticket</th>\n      <th>Num_same_ticket</th>\n      <th>Ticket_alone</th>\n      <th>Same_cabin</th>\n      <th>Num_same_cabin</th>\n      <th>Cabin_alone</th>\n      <th>Sex_M</th>\n    </tr>\n    <tr>\n      <th>PassengerId</th>\n      <th></th>\n      <th></th>\n      <th></th>\n      <th></th>\n      <th></th>\n      <th></th>\n      <th></th>\n      <th></th>\n      <th></th>\n      <th></th>\n      <th></th>\n      <th></th>\n      <th></th>\n      <th></th>\n      <th></th>\n      <th></th>\n    </tr>\n  </thead>\n  <tbody>\n    <tr>\n      <th>1</th>\n      <td>0</td>\n      <td>3.0</td>\n      <td>-0.530377</td>\n      <td>1.0</td>\n      <td>0.0</td>\n      <td>-0.502445</td>\n      <td>2.0</td>\n      <td>12.0</td>\n      <td>U</td>\n      <td>-1.0</td>\n      <td>0</td>\n      <td>1</td>\n      <td>-1</td>\n      <td>0</td>\n      <td>1</td>\n      <td>1.0</td>\n    </tr>\n    <tr>\n      <th>2</th>\n      <td>1</td>\n      <td>1.0</td>\n      <td>0.571831</td>\n      <td>1.0</td>\n      <td>0.0</td>\n      <td>0.786845</td>\n      <td>0.0</td>\n      <td>13.0</td>\n      <td>C</td>\n      <td>168.0</td>\n      <td>2</td>\n      <td>0</td>\n      <td>77</td>\n      <td>2</td>\n      <td>0</td>\n      <td>0.0</td>\n    </tr>\n    <tr>\n      <th>3</th>\n      <td>1</td>\n      <td>3.0</td>\n      <td>-0.254825</td>\n      <td>0.0</td>\n      <td>0.0</td>\n      <td>-0.488854</td>\n      <td>2.0</td>\n      <td>9.0</td>\n      <td>U</td>\n      <td>-1.0</td>\n      <td>0</td>\n      <td>1</td>\n      <td>-1</td>\n      <td>0</td>\n      <td>1</td>\n      <td>0.0</td>\n    </tr>\n    <tr>\n      <th>4</th>\n      <td>1</td>\n      <td>1.0</td>\n      <td>0.365167</td>\n      <td>1.0</td>\n      <td>0.0</td>\n      <td>0.420730</td>\n      <td>2.0</td>\n      <td>13.0</td>\n      <td>C</td>\n      <td>197.0</td>\n      <td>2</td>\n      <td>0</td>\n      <td>56</td>\n      <td>2</td>\n      <td>0</td>\n      <td>0.0</td>\n    </tr>\n    <tr>\n      <th>5</th>\n      <td>0</td>\n      <td>3.0</td>\n      <td>0.365167</td>\n      <td>0.0</td>\n      <td>0.0</td>\n      <td>-0.486337</td>\n      <td>2.0</td>\n      <td>12.0</td>\n      <td>U</td>\n      <td>-1.0</td>\n      <td>0</td>\n      <td>1</td>\n      <td>-1</td>\n      <td>0</td>\n      <td>1</td>\n      <td>1.0</td>\n    </tr>\n    <tr>\n      <th>...</th>\n      <td>...</td>\n      <td>...</td>\n      <td>...</td>\n      <td>...</td>\n      <td>...</td>\n      <td>...</td>\n      <td>...</td>\n      <td>...</td>\n      <td>...</td>\n      <td>...</td>\n      <td>...</td>\n      <td>...</td>\n      <td>...</td>\n      <td>...</td>\n      <td>...</td>\n      <td>...</td>\n    </tr>\n    <tr>\n      <th>887</th>\n      <td>0</td>\n      <td>2.0</td>\n      <td>-0.185937</td>\n      <td>0.0</td>\n      <td>0.0</td>\n      <td>-0.386671</td>\n      <td>2.0</td>\n      <td>15.0</td>\n      <td>U</td>\n      <td>-1.0</td>\n      <td>0</td>\n      <td>1</td>\n      <td>-1</td>\n      <td>0</td>\n      <td>1</td>\n      <td>1.0</td>\n    </tr>\n    <tr>\n      <th>888</th>\n      <td>1</td>\n      <td>1.0</td>\n      <td>-0.737041</td>\n      <td>0.0</td>\n      <td>0.0</td>\n      <td>-0.044381</td>\n      <td>2.0</td>\n      <td>9.0</td>\n      <td>B</td>\n      <td>-1.0</td>\n      <td>0</td>\n      <td>1</td>\n      <td>-1</td>\n      <td>0</td>\n      <td>1</td>\n      <td>0.0</td>\n    </tr>\n    <tr>\n      <th>889</th>\n      <td>0</td>\n      <td>3.0</td>\n      <td>-1.697569</td>\n      <td>1.0</td>\n      <td>2.0</td>\n      <td>-0.176263</td>\n      <td>2.0</td>\n      <td>9.0</td>\n      <td>U</td>\n      <td>31.0</td>\n      <td>4</td>\n      <td>0</td>\n      <td>-1</td>\n      <td>0</td>\n      <td>1</td>\n      <td>0.0</td>\n    </tr>\n    <tr>\n      <th>890</th>\n      <td>1</td>\n      <td>1.0</td>\n      <td>-0.254825</td>\n      <td>0.0</td>\n      <td>0.0</td>\n      <td>-0.044381</td>\n      <td>0.0</td>\n      <td>12.0</td>\n      <td>C</td>\n      <td>-1.0</td>\n      <td>0</td>\n      <td>1</td>\n      <td>-1</td>\n      <td>0</td>\n      <td>1</td>\n      <td>1.0</td>\n    </tr>\n    <tr>\n      <th>891</th>\n      <td>0</td>\n      <td>3.0</td>\n      <td>0.158503</td>\n      <td>0.0</td>\n      <td>0.0</td>\n      <td>-0.492378</td>\n      <td>1.0</td>\n      <td>12.0</td>\n      <td>U</td>\n      <td>-1.0</td>\n      <td>0</td>\n      <td>1</td>\n      <td>-1</td>\n      <td>0</td>\n      <td>1</td>\n      <td>1.0</td>\n    </tr>\n  </tbody>\n</table>\n<p>891 rows × 16 columns</p>\n</div>"
     },
     "metadata": {},
     "execution_count": 11
    }
   ],
   "source": [
    "imputation_col = ['Pclass', 'Sex_M', 'Age', 'SibSp', 'Parch', 'Fare', 'Embarked', 'Name_title', 'Same_ticket']\n",
    "\n",
    "knn_imputer = KNNImputer(n_neighbors=3)\n",
    "knn_imputer.fit(pd.concat([train_new[imputation_col], test_new[imputation_col]], axis=0))\n",
    "train_new[imputation_col] = knn_imputer.transform(train_new[imputation_col])\n",
    "test_new[imputation_col] = knn_imputer.transform(test_new[imputation_col])\n",
    "train_new\n",
    "# Result will be fill: Age, Embarked train, and Fare for test"
   ]
  },
  {
   "cell_type": "code",
   "execution_count": 12,
   "metadata": {},
   "outputs": [
    {
     "output_type": "stream",
     "name": "stdout",
     "text": [
      "<class 'pandas.core.frame.DataFrame'>\nInt64Index: 891 entries, 1 to 891\nData columns (total 9 columns):\n #   Column       Non-Null Count  Dtype  \n---  ------       --------------  -----  \n 0   Pclass       891 non-null    float64\n 1   Sex_M        891 non-null    float64\n 2   Age          891 non-null    float64\n 3   SibSp        891 non-null    float64\n 4   Parch        891 non-null    float64\n 5   Fare         891 non-null    float64\n 6   Embarked     891 non-null    float64\n 7   Name_title   891 non-null    float64\n 8   Same_ticket  891 non-null    float64\ndtypes: float64(9)\nmemory usage: 69.6 KB\n"
     ]
    }
   ],
   "source": [
    "train_new[imputation_col].info()"
   ]
  },
  {
   "cell_type": "code",
   "execution_count": 14,
   "metadata": {},
   "outputs": [
    {
     "output_type": "execute_result",
     "data": {
      "text/plain": [
       "Index(['Pclass', 'Sex', 'Age', 'SibSp', 'Parch', 'Fare', 'Embarked',\n",
       "       'Name_title', 'Cabin_class', 'Same_ticket', 'Num_same_ticket',\n",
       "       'Ticket_alone', 'Same_cabin', 'Num_same_cabin', 'Cabin_alone', 'Sex_M'],\n",
       "      dtype='object')"
      ]
     },
     "metadata": {},
     "execution_count": 14
    }
   ],
   "source": [
    "feature_selected = train.drop(columns=['Survived', 'Name', 'Ticket', 'Cabin']).columns\n",
    "feature_selected"
   ]
  },
  {
   "cell_type": "code",
   "execution_count": null,
   "metadata": {},
   "outputs": [],
   "source": [
    "pi"
   ]
  }
 ]
}