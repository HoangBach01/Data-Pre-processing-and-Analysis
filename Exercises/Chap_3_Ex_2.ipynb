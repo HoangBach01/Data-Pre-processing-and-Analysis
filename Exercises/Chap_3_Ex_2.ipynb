{
 "metadata": {
  "language_info": {
   "codemirror_mode": {
    "name": "ipython",
    "version": 3
   },
   "file_extension": ".py",
   "mimetype": "text/x-python",
   "name": "python",
   "nbconvert_exporter": "python",
   "pygments_lexer": "ipython3",
   "version": "3.8.2-final"
  },
  "orig_nbformat": 2,
  "kernelspec": {
   "name": "Python 3.8.2 64-bit ('bach': conda)",
   "display_name": "Python 3.8.2 64-bit ('bach': conda)",
   "metadata": {
    "interpreter": {
     "hash": "44248fc6fba31ccd316020c39f5d180d1c53a792904f744ffa1532e2b735bc52"
    }
   }
  }
 },
 "nbformat": 4,
 "nbformat_minor": 2,
 "cells": [
  {
   "cell_type": "code",
   "execution_count": 137,
   "metadata": {},
   "outputs": [],
   "source": [
    "import numpy as np\n",
    "import pandas as pd\n",
    "from datetime import timedelta, datetime"
   ]
  },
  {
   "cell_type": "code",
   "execution_count": 138,
   "metadata": {},
   "outputs": [
    {
     "output_type": "execute_result",
     "data": {
      "text/plain": [
       "                   religion   <$10k   $10-20k  $20-30k  $30-40k   $40-50k  \\\n",
       "0                  Agnostic      27        34       60       81        76   \n",
       "1                   Atheist      12        27       37       52        35   \n",
       "2                  Buddhist      27        21       30       34        33   \n",
       "3                  Catholic     418       617      732      670       638   \n",
       "4         Dont know/refused      15        14       15       11        10   \n",
       "5         Evangelical Prot      575       869     1064      982       881   \n",
       "6                    Hindu        1         9        7        9        11   \n",
       "7  Historically Black Prot      228       244      236      238       197   \n",
       "8         Jehovahs Witness       20        27       24       24        21   \n",
       "9                   Jewish       19        19       25       25        30   \n",
       "\n",
       "   $50-75k  \n",
       "0      137  \n",
       "1       70  \n",
       "2       58  \n",
       "3     1116  \n",
       "4       35  \n",
       "5     1486  \n",
       "6       34  \n",
       "7      223  \n",
       "8       30  \n",
       "9       95  "
      ],
      "text/html": "<div>\n<style scoped>\n    .dataframe tbody tr th:only-of-type {\n        vertical-align: middle;\n    }\n\n    .dataframe tbody tr th {\n        vertical-align: top;\n    }\n\n    .dataframe thead th {\n        text-align: right;\n    }\n</style>\n<table border=\"1\" class=\"dataframe\">\n  <thead>\n    <tr style=\"text-align: right;\">\n      <th></th>\n      <th>religion</th>\n      <th>&lt;$10k</th>\n      <th>$10-20k</th>\n      <th>$20-30k</th>\n      <th>$30-40k</th>\n      <th>$40-50k</th>\n      <th>$50-75k</th>\n    </tr>\n  </thead>\n  <tbody>\n    <tr>\n      <th>0</th>\n      <td>Agnostic</td>\n      <td>27</td>\n      <td>34</td>\n      <td>60</td>\n      <td>81</td>\n      <td>76</td>\n      <td>137</td>\n    </tr>\n    <tr>\n      <th>1</th>\n      <td>Atheist</td>\n      <td>12</td>\n      <td>27</td>\n      <td>37</td>\n      <td>52</td>\n      <td>35</td>\n      <td>70</td>\n    </tr>\n    <tr>\n      <th>2</th>\n      <td>Buddhist</td>\n      <td>27</td>\n      <td>21</td>\n      <td>30</td>\n      <td>34</td>\n      <td>33</td>\n      <td>58</td>\n    </tr>\n    <tr>\n      <th>3</th>\n      <td>Catholic</td>\n      <td>418</td>\n      <td>617</td>\n      <td>732</td>\n      <td>670</td>\n      <td>638</td>\n      <td>1116</td>\n    </tr>\n    <tr>\n      <th>4</th>\n      <td>Dont know/refused</td>\n      <td>15</td>\n      <td>14</td>\n      <td>15</td>\n      <td>11</td>\n      <td>10</td>\n      <td>35</td>\n    </tr>\n    <tr>\n      <th>5</th>\n      <td>Evangelical Prot</td>\n      <td>575</td>\n      <td>869</td>\n      <td>1064</td>\n      <td>982</td>\n      <td>881</td>\n      <td>1486</td>\n    </tr>\n    <tr>\n      <th>6</th>\n      <td>Hindu</td>\n      <td>1</td>\n      <td>9</td>\n      <td>7</td>\n      <td>9</td>\n      <td>11</td>\n      <td>34</td>\n    </tr>\n    <tr>\n      <th>7</th>\n      <td>Historically Black Prot</td>\n      <td>228</td>\n      <td>244</td>\n      <td>236</td>\n      <td>238</td>\n      <td>197</td>\n      <td>223</td>\n    </tr>\n    <tr>\n      <th>8</th>\n      <td>Jehovahs Witness</td>\n      <td>20</td>\n      <td>27</td>\n      <td>24</td>\n      <td>24</td>\n      <td>21</td>\n      <td>30</td>\n    </tr>\n    <tr>\n      <th>9</th>\n      <td>Jewish</td>\n      <td>19</td>\n      <td>19</td>\n      <td>25</td>\n      <td>25</td>\n      <td>30</td>\n      <td>95</td>\n    </tr>\n  </tbody>\n</table>\n</div>"
     },
     "metadata": {},
     "execution_count": 138
    }
   ],
   "source": [
    "df1 = pd.read_csv('data/pew-raw.csv')\n",
    "df1"
   ]
  },
  {
   "cell_type": "code",
   "execution_count": 139,
   "metadata": {},
   "outputs": [
    {
     "output_type": "execute_result",
     "data": {
      "text/plain": [
       "            religion  income  count\n",
       "0           Agnostic   <$10k     27\n",
       "1            Atheist   <$10k     12\n",
       "2           Buddhist   <$10k     27\n",
       "3           Catholic   <$10k    418\n",
       "4  Dont know/refused   <$10k     15"
      ],
      "text/html": "<div>\n<style scoped>\n    .dataframe tbody tr th:only-of-type {\n        vertical-align: middle;\n    }\n\n    .dataframe tbody tr th {\n        vertical-align: top;\n    }\n\n    .dataframe thead th {\n        text-align: right;\n    }\n</style>\n<table border=\"1\" class=\"dataframe\">\n  <thead>\n    <tr style=\"text-align: right;\">\n      <th></th>\n      <th>religion</th>\n      <th>income</th>\n      <th>count</th>\n    </tr>\n  </thead>\n  <tbody>\n    <tr>\n      <th>0</th>\n      <td>Agnostic</td>\n      <td>&lt;$10k</td>\n      <td>27</td>\n    </tr>\n    <tr>\n      <th>1</th>\n      <td>Atheist</td>\n      <td>&lt;$10k</td>\n      <td>12</td>\n    </tr>\n    <tr>\n      <th>2</th>\n      <td>Buddhist</td>\n      <td>&lt;$10k</td>\n      <td>27</td>\n    </tr>\n    <tr>\n      <th>3</th>\n      <td>Catholic</td>\n      <td>&lt;$10k</td>\n      <td>418</td>\n    </tr>\n    <tr>\n      <th>4</th>\n      <td>Dont know/refused</td>\n      <td>&lt;$10k</td>\n      <td>15</td>\n    </tr>\n  </tbody>\n</table>\n</div>"
     },
     "metadata": {},
     "execution_count": 139
    }
   ],
   "source": [
    "df1_tidy = pd.melt(df1, id_vars='religion', var_name='income', value_name='count')\n",
    "df1_tidy.head()"
   ]
  },
  {
   "cell_type": "code",
   "execution_count": 140,
   "metadata": {},
   "outputs": [
    {
     "output_type": "execute_result",
     "data": {
      "text/plain": [
       "     year      artist.inverted                                  track  time  \\\n",
       "0    2000      Destiny's Child               Independent Women Part I  3:38   \n",
       "1    2000              Santana                           Maria, Maria  4:18   \n",
       "2    2000        Savage Garden                     I Knew I Loved You  4:07   \n",
       "3    2000              Madonna                                  Music  3:45   \n",
       "4    2000  Aguilera, Christina  Come On Over Baby (All I Want Is You)  3:38   \n",
       "..    ...                  ...                                    ...   ...   \n",
       "312  2000     Ghostface Killah                       Cherchez LaGhost  3:04   \n",
       "313  2000          Smith, Will                            Freakin' It  3:58   \n",
       "314  2000        Zombie Nation                          Kernkraft 400  3:30   \n",
       "315  2000       Eastsidaz, The                               Got Beef  3:58   \n",
       "316  2000               Fragma                         Toca's Miracle  3:22   \n",
       "\n",
       "    genre date.entered date.peaked  x1st.week  x2nd.week  x3rd.week  ...  \\\n",
       "0    Rock   2000-09-23  2000-11-18         78       63.0       49.0  ...   \n",
       "1    Rock   2000-02-12  2000-04-08         15        8.0        6.0  ...   \n",
       "2    Rock   1999-10-23  2000-01-29         71       48.0       43.0  ...   \n",
       "3    Rock   2000-08-12  2000-09-16         41       23.0       18.0  ...   \n",
       "4    Rock   2000-08-05  2000-10-14         57       47.0       45.0  ...   \n",
       "..    ...          ...         ...        ...        ...        ...  ...   \n",
       "312   R&B   2000-08-05  2000-08-05         98        NaN        NaN  ...   \n",
       "313   Rap   2000-02-12  2000-02-12         99       99.0       99.0  ...   \n",
       "314  Rock   2000-09-02  2000-09-02         99       99.0        NaN  ...   \n",
       "315   Rap   2000-07-01  2000-07-01         99       99.0        NaN  ...   \n",
       "316   R&B   2000-10-28  2000-10-28         99        NaN        NaN  ...   \n",
       "\n",
       "     x67th.week  x68th.week  x69th.week  x70th.week  x71st.week  x72nd.week  \\\n",
       "0           NaN         NaN         NaN         NaN         NaN         NaN   \n",
       "1           NaN         NaN         NaN         NaN         NaN         NaN   \n",
       "2           NaN         NaN         NaN         NaN         NaN         NaN   \n",
       "3           NaN         NaN         NaN         NaN         NaN         NaN   \n",
       "4           NaN         NaN         NaN         NaN         NaN         NaN   \n",
       "..          ...         ...         ...         ...         ...         ...   \n",
       "312         NaN         NaN         NaN         NaN         NaN         NaN   \n",
       "313         NaN         NaN         NaN         NaN         NaN         NaN   \n",
       "314         NaN         NaN         NaN         NaN         NaN         NaN   \n",
       "315         NaN         NaN         NaN         NaN         NaN         NaN   \n",
       "316         NaN         NaN         NaN         NaN         NaN         NaN   \n",
       "\n",
       "     x73rd.week  x74th.week  x75th.week  x76th.week  \n",
       "0           NaN         NaN         NaN         NaN  \n",
       "1           NaN         NaN         NaN         NaN  \n",
       "2           NaN         NaN         NaN         NaN  \n",
       "3           NaN         NaN         NaN         NaN  \n",
       "4           NaN         NaN         NaN         NaN  \n",
       "..          ...         ...         ...         ...  \n",
       "312         NaN         NaN         NaN         NaN  \n",
       "313         NaN         NaN         NaN         NaN  \n",
       "314         NaN         NaN         NaN         NaN  \n",
       "315         NaN         NaN         NaN         NaN  \n",
       "316         NaN         NaN         NaN         NaN  \n",
       "\n",
       "[317 rows x 83 columns]"
      ],
      "text/html": "<div>\n<style scoped>\n    .dataframe tbody tr th:only-of-type {\n        vertical-align: middle;\n    }\n\n    .dataframe tbody tr th {\n        vertical-align: top;\n    }\n\n    .dataframe thead th {\n        text-align: right;\n    }\n</style>\n<table border=\"1\" class=\"dataframe\">\n  <thead>\n    <tr style=\"text-align: right;\">\n      <th></th>\n      <th>year</th>\n      <th>artist.inverted</th>\n      <th>track</th>\n      <th>time</th>\n      <th>genre</th>\n      <th>date.entered</th>\n      <th>date.peaked</th>\n      <th>x1st.week</th>\n      <th>x2nd.week</th>\n      <th>x3rd.week</th>\n      <th>...</th>\n      <th>x67th.week</th>\n      <th>x68th.week</th>\n      <th>x69th.week</th>\n      <th>x70th.week</th>\n      <th>x71st.week</th>\n      <th>x72nd.week</th>\n      <th>x73rd.week</th>\n      <th>x74th.week</th>\n      <th>x75th.week</th>\n      <th>x76th.week</th>\n    </tr>\n  </thead>\n  <tbody>\n    <tr>\n      <th>0</th>\n      <td>2000</td>\n      <td>Destiny's Child</td>\n      <td>Independent Women Part I</td>\n      <td>3:38</td>\n      <td>Rock</td>\n      <td>2000-09-23</td>\n      <td>2000-11-18</td>\n      <td>78</td>\n      <td>63.0</td>\n      <td>49.0</td>\n      <td>...</td>\n      <td>NaN</td>\n      <td>NaN</td>\n      <td>NaN</td>\n      <td>NaN</td>\n      <td>NaN</td>\n      <td>NaN</td>\n      <td>NaN</td>\n      <td>NaN</td>\n      <td>NaN</td>\n      <td>NaN</td>\n    </tr>\n    <tr>\n      <th>1</th>\n      <td>2000</td>\n      <td>Santana</td>\n      <td>Maria, Maria</td>\n      <td>4:18</td>\n      <td>Rock</td>\n      <td>2000-02-12</td>\n      <td>2000-04-08</td>\n      <td>15</td>\n      <td>8.0</td>\n      <td>6.0</td>\n      <td>...</td>\n      <td>NaN</td>\n      <td>NaN</td>\n      <td>NaN</td>\n      <td>NaN</td>\n      <td>NaN</td>\n      <td>NaN</td>\n      <td>NaN</td>\n      <td>NaN</td>\n      <td>NaN</td>\n      <td>NaN</td>\n    </tr>\n    <tr>\n      <th>2</th>\n      <td>2000</td>\n      <td>Savage Garden</td>\n      <td>I Knew I Loved You</td>\n      <td>4:07</td>\n      <td>Rock</td>\n      <td>1999-10-23</td>\n      <td>2000-01-29</td>\n      <td>71</td>\n      <td>48.0</td>\n      <td>43.0</td>\n      <td>...</td>\n      <td>NaN</td>\n      <td>NaN</td>\n      <td>NaN</td>\n      <td>NaN</td>\n      <td>NaN</td>\n      <td>NaN</td>\n      <td>NaN</td>\n      <td>NaN</td>\n      <td>NaN</td>\n      <td>NaN</td>\n    </tr>\n    <tr>\n      <th>3</th>\n      <td>2000</td>\n      <td>Madonna</td>\n      <td>Music</td>\n      <td>3:45</td>\n      <td>Rock</td>\n      <td>2000-08-12</td>\n      <td>2000-09-16</td>\n      <td>41</td>\n      <td>23.0</td>\n      <td>18.0</td>\n      <td>...</td>\n      <td>NaN</td>\n      <td>NaN</td>\n      <td>NaN</td>\n      <td>NaN</td>\n      <td>NaN</td>\n      <td>NaN</td>\n      <td>NaN</td>\n      <td>NaN</td>\n      <td>NaN</td>\n      <td>NaN</td>\n    </tr>\n    <tr>\n      <th>4</th>\n      <td>2000</td>\n      <td>Aguilera, Christina</td>\n      <td>Come On Over Baby (All I Want Is You)</td>\n      <td>3:38</td>\n      <td>Rock</td>\n      <td>2000-08-05</td>\n      <td>2000-10-14</td>\n      <td>57</td>\n      <td>47.0</td>\n      <td>45.0</td>\n      <td>...</td>\n      <td>NaN</td>\n      <td>NaN</td>\n      <td>NaN</td>\n      <td>NaN</td>\n      <td>NaN</td>\n      <td>NaN</td>\n      <td>NaN</td>\n      <td>NaN</td>\n      <td>NaN</td>\n      <td>NaN</td>\n    </tr>\n    <tr>\n      <th>...</th>\n      <td>...</td>\n      <td>...</td>\n      <td>...</td>\n      <td>...</td>\n      <td>...</td>\n      <td>...</td>\n      <td>...</td>\n      <td>...</td>\n      <td>...</td>\n      <td>...</td>\n      <td>...</td>\n      <td>...</td>\n      <td>...</td>\n      <td>...</td>\n      <td>...</td>\n      <td>...</td>\n      <td>...</td>\n      <td>...</td>\n      <td>...</td>\n      <td>...</td>\n      <td>...</td>\n    </tr>\n    <tr>\n      <th>312</th>\n      <td>2000</td>\n      <td>Ghostface Killah</td>\n      <td>Cherchez LaGhost</td>\n      <td>3:04</td>\n      <td>R&amp;B</td>\n      <td>2000-08-05</td>\n      <td>2000-08-05</td>\n      <td>98</td>\n      <td>NaN</td>\n      <td>NaN</td>\n      <td>...</td>\n      <td>NaN</td>\n      <td>NaN</td>\n      <td>NaN</td>\n      <td>NaN</td>\n      <td>NaN</td>\n      <td>NaN</td>\n      <td>NaN</td>\n      <td>NaN</td>\n      <td>NaN</td>\n      <td>NaN</td>\n    </tr>\n    <tr>\n      <th>313</th>\n      <td>2000</td>\n      <td>Smith, Will</td>\n      <td>Freakin' It</td>\n      <td>3:58</td>\n      <td>Rap</td>\n      <td>2000-02-12</td>\n      <td>2000-02-12</td>\n      <td>99</td>\n      <td>99.0</td>\n      <td>99.0</td>\n      <td>...</td>\n      <td>NaN</td>\n      <td>NaN</td>\n      <td>NaN</td>\n      <td>NaN</td>\n      <td>NaN</td>\n      <td>NaN</td>\n      <td>NaN</td>\n      <td>NaN</td>\n      <td>NaN</td>\n      <td>NaN</td>\n    </tr>\n    <tr>\n      <th>314</th>\n      <td>2000</td>\n      <td>Zombie Nation</td>\n      <td>Kernkraft 400</td>\n      <td>3:30</td>\n      <td>Rock</td>\n      <td>2000-09-02</td>\n      <td>2000-09-02</td>\n      <td>99</td>\n      <td>99.0</td>\n      <td>NaN</td>\n      <td>...</td>\n      <td>NaN</td>\n      <td>NaN</td>\n      <td>NaN</td>\n      <td>NaN</td>\n      <td>NaN</td>\n      <td>NaN</td>\n      <td>NaN</td>\n      <td>NaN</td>\n      <td>NaN</td>\n      <td>NaN</td>\n    </tr>\n    <tr>\n      <th>315</th>\n      <td>2000</td>\n      <td>Eastsidaz, The</td>\n      <td>Got Beef</td>\n      <td>3:58</td>\n      <td>Rap</td>\n      <td>2000-07-01</td>\n      <td>2000-07-01</td>\n      <td>99</td>\n      <td>99.0</td>\n      <td>NaN</td>\n      <td>...</td>\n      <td>NaN</td>\n      <td>NaN</td>\n      <td>NaN</td>\n      <td>NaN</td>\n      <td>NaN</td>\n      <td>NaN</td>\n      <td>NaN</td>\n      <td>NaN</td>\n      <td>NaN</td>\n      <td>NaN</td>\n    </tr>\n    <tr>\n      <th>316</th>\n      <td>2000</td>\n      <td>Fragma</td>\n      <td>Toca's Miracle</td>\n      <td>3:22</td>\n      <td>R&amp;B</td>\n      <td>2000-10-28</td>\n      <td>2000-10-28</td>\n      <td>99</td>\n      <td>NaN</td>\n      <td>NaN</td>\n      <td>...</td>\n      <td>NaN</td>\n      <td>NaN</td>\n      <td>NaN</td>\n      <td>NaN</td>\n      <td>NaN</td>\n      <td>NaN</td>\n      <td>NaN</td>\n      <td>NaN</td>\n      <td>NaN</td>\n      <td>NaN</td>\n    </tr>\n  </tbody>\n</table>\n<p>317 rows × 83 columns</p>\n</div>"
     },
     "metadata": {},
     "execution_count": 140
    }
   ],
   "source": [
    "df2 = pd.read_csv('data/billboard.csv', encoding='mac-latin2')\n",
    "df2"
   ]
  },
  {
   "cell_type": "code",
   "execution_count": 141,
   "metadata": {},
   "outputs": [
    {
     "output_type": "execute_result",
     "data": {
      "text/plain": [
       "       year      artist.inverted                                  track  time  \\\n",
       "0      2000      Destiny's Child               Independent Women Part I  3:38   \n",
       "1      2000              Santana                           Maria, Maria  4:18   \n",
       "2      2000        Savage Garden                     I Knew I Loved You  4:07   \n",
       "3      2000              Madonna                                  Music  3:45   \n",
       "4      2000  Aguilera, Christina  Come On Over Baby (All I Want Is You)  3:38   \n",
       "...     ...                  ...                                    ...   ...   \n",
       "24087  2000     Ghostface Killah                       Cherchez LaGhost  3:04   \n",
       "24088  2000          Smith, Will                            Freakin' It  3:58   \n",
       "24089  2000        Zombie Nation                          Kernkraft 400  3:30   \n",
       "24090  2000       Eastsidaz, The                               Got Beef  3:58   \n",
       "24091  2000               Fragma                         Toca's Miracle  3:22   \n",
       "\n",
       "      genre date.entered date.peaked        week  rank  \n",
       "0      Rock   2000-09-23  2000-11-18   x1st.week  78.0  \n",
       "1      Rock   2000-02-12  2000-04-08   x1st.week  15.0  \n",
       "2      Rock   1999-10-23  2000-01-29   x1st.week  71.0  \n",
       "3      Rock   2000-08-12  2000-09-16   x1st.week  41.0  \n",
       "4      Rock   2000-08-05  2000-10-14   x1st.week  57.0  \n",
       "...     ...          ...         ...         ...   ...  \n",
       "24087   R&B   2000-08-05  2000-08-05  x76th.week   NaN  \n",
       "24088   Rap   2000-02-12  2000-02-12  x76th.week   NaN  \n",
       "24089  Rock   2000-09-02  2000-09-02  x76th.week   NaN  \n",
       "24090   Rap   2000-07-01  2000-07-01  x76th.week   NaN  \n",
       "24091   R&B   2000-10-28  2000-10-28  x76th.week   NaN  \n",
       "\n",
       "[24092 rows x 9 columns]"
      ],
      "text/html": "<div>\n<style scoped>\n    .dataframe tbody tr th:only-of-type {\n        vertical-align: middle;\n    }\n\n    .dataframe tbody tr th {\n        vertical-align: top;\n    }\n\n    .dataframe thead th {\n        text-align: right;\n    }\n</style>\n<table border=\"1\" class=\"dataframe\">\n  <thead>\n    <tr style=\"text-align: right;\">\n      <th></th>\n      <th>year</th>\n      <th>artist.inverted</th>\n      <th>track</th>\n      <th>time</th>\n      <th>genre</th>\n      <th>date.entered</th>\n      <th>date.peaked</th>\n      <th>week</th>\n      <th>rank</th>\n    </tr>\n  </thead>\n  <tbody>\n    <tr>\n      <th>0</th>\n      <td>2000</td>\n      <td>Destiny's Child</td>\n      <td>Independent Women Part I</td>\n      <td>3:38</td>\n      <td>Rock</td>\n      <td>2000-09-23</td>\n      <td>2000-11-18</td>\n      <td>x1st.week</td>\n      <td>78.0</td>\n    </tr>\n    <tr>\n      <th>1</th>\n      <td>2000</td>\n      <td>Santana</td>\n      <td>Maria, Maria</td>\n      <td>4:18</td>\n      <td>Rock</td>\n      <td>2000-02-12</td>\n      <td>2000-04-08</td>\n      <td>x1st.week</td>\n      <td>15.0</td>\n    </tr>\n    <tr>\n      <th>2</th>\n      <td>2000</td>\n      <td>Savage Garden</td>\n      <td>I Knew I Loved You</td>\n      <td>4:07</td>\n      <td>Rock</td>\n      <td>1999-10-23</td>\n      <td>2000-01-29</td>\n      <td>x1st.week</td>\n      <td>71.0</td>\n    </tr>\n    <tr>\n      <th>3</th>\n      <td>2000</td>\n      <td>Madonna</td>\n      <td>Music</td>\n      <td>3:45</td>\n      <td>Rock</td>\n      <td>2000-08-12</td>\n      <td>2000-09-16</td>\n      <td>x1st.week</td>\n      <td>41.0</td>\n    </tr>\n    <tr>\n      <th>4</th>\n      <td>2000</td>\n      <td>Aguilera, Christina</td>\n      <td>Come On Over Baby (All I Want Is You)</td>\n      <td>3:38</td>\n      <td>Rock</td>\n      <td>2000-08-05</td>\n      <td>2000-10-14</td>\n      <td>x1st.week</td>\n      <td>57.0</td>\n    </tr>\n    <tr>\n      <th>...</th>\n      <td>...</td>\n      <td>...</td>\n      <td>...</td>\n      <td>...</td>\n      <td>...</td>\n      <td>...</td>\n      <td>...</td>\n      <td>...</td>\n      <td>...</td>\n    </tr>\n    <tr>\n      <th>24087</th>\n      <td>2000</td>\n      <td>Ghostface Killah</td>\n      <td>Cherchez LaGhost</td>\n      <td>3:04</td>\n      <td>R&amp;B</td>\n      <td>2000-08-05</td>\n      <td>2000-08-05</td>\n      <td>x76th.week</td>\n      <td>NaN</td>\n    </tr>\n    <tr>\n      <th>24088</th>\n      <td>2000</td>\n      <td>Smith, Will</td>\n      <td>Freakin' It</td>\n      <td>3:58</td>\n      <td>Rap</td>\n      <td>2000-02-12</td>\n      <td>2000-02-12</td>\n      <td>x76th.week</td>\n      <td>NaN</td>\n    </tr>\n    <tr>\n      <th>24089</th>\n      <td>2000</td>\n      <td>Zombie Nation</td>\n      <td>Kernkraft 400</td>\n      <td>3:30</td>\n      <td>Rock</td>\n      <td>2000-09-02</td>\n      <td>2000-09-02</td>\n      <td>x76th.week</td>\n      <td>NaN</td>\n    </tr>\n    <tr>\n      <th>24090</th>\n      <td>2000</td>\n      <td>Eastsidaz, The</td>\n      <td>Got Beef</td>\n      <td>3:58</td>\n      <td>Rap</td>\n      <td>2000-07-01</td>\n      <td>2000-07-01</td>\n      <td>x76th.week</td>\n      <td>NaN</td>\n    </tr>\n    <tr>\n      <th>24091</th>\n      <td>2000</td>\n      <td>Fragma</td>\n      <td>Toca's Miracle</td>\n      <td>3:22</td>\n      <td>R&amp;B</td>\n      <td>2000-10-28</td>\n      <td>2000-10-28</td>\n      <td>x76th.week</td>\n      <td>NaN</td>\n    </tr>\n  </tbody>\n</table>\n<p>24092 rows × 9 columns</p>\n</div>"
     },
     "metadata": {},
     "execution_count": 141
    }
   ],
   "source": [
    "df2_tidy = pd.melt(df2, id_vars=['year', 'artist.inverted', 'track', 'time', 'genre', 'date.entered', 'date.peaked'], var_name='week', value_name='rank')\n",
    "df2_tidy"
   ]
  },
  {
   "cell_type": "code",
   "execution_count": 142,
   "metadata": {},
   "outputs": [
    {
     "output_type": "execute_result",
     "data": {
      "text/plain": [
       "       year      artist.inverted                                  track  \\\n",
       "0      2000      Destiny's Child               Independent Women Part I   \n",
       "1      2000              Santana                           Maria, Maria   \n",
       "2      2000        Savage Garden                     I Knew I Loved You   \n",
       "3      2000              Madonna                                  Music   \n",
       "4      2000  Aguilera, Christina  Come On Over Baby (All I Want Is You)   \n",
       "...     ...                  ...                                    ...   \n",
       "19663  2000             Lonestar                                 Amazed   \n",
       "19700  2000                Creed                                 Higher   \n",
       "19980  2000             Lonestar                                 Amazed   \n",
       "20017  2000                Creed                                 Higher   \n",
       "20334  2000                Creed                                 Higher   \n",
       "\n",
       "                     time    genre date.entered date.peaked  week  rank  \n",
       "0     1900-01-01 00:03:38     Rock   2000-09-23  2000-11-18     1    78  \n",
       "1     1900-01-01 00:04:18     Rock   2000-02-12  2000-04-08     1    15  \n",
       "2     1900-01-01 00:04:07     Rock   1999-10-23  2000-01-29     1    71  \n",
       "3     1900-01-01 00:03:45     Rock   2000-08-12  2000-09-16     1    41  \n",
       "4     1900-01-01 00:03:38     Rock   2000-08-05  2000-10-14     1    57  \n",
       "...                   ...      ...          ...         ...   ...   ...  \n",
       "19663 1900-01-01 00:04:25  Country   1999-06-05  2000-03-04    63    45  \n",
       "19700 1900-01-01 00:05:16     Rock   1999-09-11  2000-07-22    63    50  \n",
       "19980 1900-01-01 00:04:25  Country   1999-06-05  2000-03-04    64    50  \n",
       "20017 1900-01-01 00:05:16     Rock   1999-09-11  2000-07-22    64    50  \n",
       "20334 1900-01-01 00:05:16     Rock   1999-09-11  2000-07-22    65    49  \n",
       "\n",
       "[5307 rows x 9 columns]"
      ],
      "text/html": "<div>\n<style scoped>\n    .dataframe tbody tr th:only-of-type {\n        vertical-align: middle;\n    }\n\n    .dataframe tbody tr th {\n        vertical-align: top;\n    }\n\n    .dataframe thead th {\n        text-align: right;\n    }\n</style>\n<table border=\"1\" class=\"dataframe\">\n  <thead>\n    <tr style=\"text-align: right;\">\n      <th></th>\n      <th>year</th>\n      <th>artist.inverted</th>\n      <th>track</th>\n      <th>time</th>\n      <th>genre</th>\n      <th>date.entered</th>\n      <th>date.peaked</th>\n      <th>week</th>\n      <th>rank</th>\n    </tr>\n  </thead>\n  <tbody>\n    <tr>\n      <th>0</th>\n      <td>2000</td>\n      <td>Destiny's Child</td>\n      <td>Independent Women Part I</td>\n      <td>1900-01-01 00:03:38</td>\n      <td>Rock</td>\n      <td>2000-09-23</td>\n      <td>2000-11-18</td>\n      <td>1</td>\n      <td>78</td>\n    </tr>\n    <tr>\n      <th>1</th>\n      <td>2000</td>\n      <td>Santana</td>\n      <td>Maria, Maria</td>\n      <td>1900-01-01 00:04:18</td>\n      <td>Rock</td>\n      <td>2000-02-12</td>\n      <td>2000-04-08</td>\n      <td>1</td>\n      <td>15</td>\n    </tr>\n    <tr>\n      <th>2</th>\n      <td>2000</td>\n      <td>Savage Garden</td>\n      <td>I Knew I Loved You</td>\n      <td>1900-01-01 00:04:07</td>\n      <td>Rock</td>\n      <td>1999-10-23</td>\n      <td>2000-01-29</td>\n      <td>1</td>\n      <td>71</td>\n    </tr>\n    <tr>\n      <th>3</th>\n      <td>2000</td>\n      <td>Madonna</td>\n      <td>Music</td>\n      <td>1900-01-01 00:03:45</td>\n      <td>Rock</td>\n      <td>2000-08-12</td>\n      <td>2000-09-16</td>\n      <td>1</td>\n      <td>41</td>\n    </tr>\n    <tr>\n      <th>4</th>\n      <td>2000</td>\n      <td>Aguilera, Christina</td>\n      <td>Come On Over Baby (All I Want Is You)</td>\n      <td>1900-01-01 00:03:38</td>\n      <td>Rock</td>\n      <td>2000-08-05</td>\n      <td>2000-10-14</td>\n      <td>1</td>\n      <td>57</td>\n    </tr>\n    <tr>\n      <th>...</th>\n      <td>...</td>\n      <td>...</td>\n      <td>...</td>\n      <td>...</td>\n      <td>...</td>\n      <td>...</td>\n      <td>...</td>\n      <td>...</td>\n      <td>...</td>\n    </tr>\n    <tr>\n      <th>19663</th>\n      <td>2000</td>\n      <td>Lonestar</td>\n      <td>Amazed</td>\n      <td>1900-01-01 00:04:25</td>\n      <td>Country</td>\n      <td>1999-06-05</td>\n      <td>2000-03-04</td>\n      <td>63</td>\n      <td>45</td>\n    </tr>\n    <tr>\n      <th>19700</th>\n      <td>2000</td>\n      <td>Creed</td>\n      <td>Higher</td>\n      <td>1900-01-01 00:05:16</td>\n      <td>Rock</td>\n      <td>1999-09-11</td>\n      <td>2000-07-22</td>\n      <td>63</td>\n      <td>50</td>\n    </tr>\n    <tr>\n      <th>19980</th>\n      <td>2000</td>\n      <td>Lonestar</td>\n      <td>Amazed</td>\n      <td>1900-01-01 00:04:25</td>\n      <td>Country</td>\n      <td>1999-06-05</td>\n      <td>2000-03-04</td>\n      <td>64</td>\n      <td>50</td>\n    </tr>\n    <tr>\n      <th>20017</th>\n      <td>2000</td>\n      <td>Creed</td>\n      <td>Higher</td>\n      <td>1900-01-01 00:05:16</td>\n      <td>Rock</td>\n      <td>1999-09-11</td>\n      <td>2000-07-22</td>\n      <td>64</td>\n      <td>50</td>\n    </tr>\n    <tr>\n      <th>20334</th>\n      <td>2000</td>\n      <td>Creed</td>\n      <td>Higher</td>\n      <td>1900-01-01 00:05:16</td>\n      <td>Rock</td>\n      <td>1999-09-11</td>\n      <td>2000-07-22</td>\n      <td>65</td>\n      <td>49</td>\n    </tr>\n  </tbody>\n</table>\n<p>5307 rows × 9 columns</p>\n</div>"
     },
     "metadata": {},
     "execution_count": 142
    }
   ],
   "source": [
    "df2_tidy = pd.melt(df2, id_vars=['year', 'artist.inverted', 'track', 'time', 'genre', 'date.entered', 'date.peaked'], var_name='week', value_name='rank').dropna()\n",
    "df2_tidy['week'] = df2_tidy['week'].str.extract('(\\d+)').astype('int')\n",
    "df2_tidy['rank'] = df2_tidy['rank'].astype('int')\n",
    "df2_tidy['date.entered'] = pd.to_datetime(df2_tidy['date.entered'])\n",
    "df2_tidy['date.peaked'] = pd.to_datetime(df2_tidy['date.peaked'])\n",
    "df2_tidy['time'] = pd.to_datetime(df2_tidy['time'], format='%M:%S')\n",
    "df2_tidy"
   ]
  },
  {
   "cell_type": "code",
   "execution_count": 143,
   "metadata": {},
   "outputs": [
    {
     "output_type": "stream",
     "name": "stdout",
     "text": [
      "<class 'pandas.core.frame.DataFrame'>\nInt64Index: 5307 entries, 0 to 20334\nData columns (total 9 columns):\n #   Column           Non-Null Count  Dtype         \n---  ------           --------------  -----         \n 0   year             5307 non-null   int64         \n 1   artist.inverted  5307 non-null   object        \n 2   track            5307 non-null   object        \n 3   time             5307 non-null   datetime64[ns]\n 4   genre            5307 non-null   object        \n 5   date.entered     5307 non-null   datetime64[ns]\n 6   date.peaked      5307 non-null   datetime64[ns]\n 7   week             5307 non-null   int64         \n 8   rank             5307 non-null   int64         \ndtypes: datetime64[ns](3), int64(3), object(3)\nmemory usage: 414.6+ KB\n"
     ]
    }
   ],
   "source": [
    "df2_tidy.info()"
   ]
  },
  {
   "cell_type": "code",
   "execution_count": 144,
   "metadata": {},
   "outputs": [
    {
     "output_type": "execute_result",
     "data": {
      "text/plain": [
       "     year      artist.inverted                                  track  \\\n",
       "0    2000      Destiny's Child               Independent Women Part I   \n",
       "1    2000              Santana                           Maria, Maria   \n",
       "2    2000        Savage Garden                     I Knew I Loved You   \n",
       "3    2000              Madonna                                  Music   \n",
       "4    2000  Aguilera, Christina  Come On Over Baby (All I Want Is You)   \n",
       "..    ...                  ...                                    ...   \n",
       "312  2000     Ghostface Killah                       Cherchez LaGhost   \n",
       "313  2000          Smith, Will                            Freakin' It   \n",
       "314  2000        Zombie Nation                          Kernkraft 400   \n",
       "315  2000       Eastsidaz, The                               Got Beef   \n",
       "316  2000               Fragma                         Toca's Miracle   \n",
       "\n",
       "                   time genre date.entered date.peaked   ID  \n",
       "0   1900-01-01 00:03:38  Rock   2000-09-23  2000-11-18    0  \n",
       "1   1900-01-01 00:04:18  Rock   2000-02-12  2000-04-08    1  \n",
       "2   1900-01-01 00:04:07  Rock   1999-10-23  2000-01-29    2  \n",
       "3   1900-01-01 00:03:45  Rock   2000-08-12  2000-09-16    3  \n",
       "4   1900-01-01 00:03:38  Rock   2000-08-05  2000-10-14    4  \n",
       "..                  ...   ...          ...         ...  ...  \n",
       "312 1900-01-01 00:03:04   R&B   2000-08-05  2000-08-05  312  \n",
       "313 1900-01-01 00:03:58   Rap   2000-02-12  2000-02-12  313  \n",
       "314 1900-01-01 00:03:30  Rock   2000-09-02  2000-09-02  314  \n",
       "315 1900-01-01 00:03:58   Rap   2000-07-01  2000-07-01  315  \n",
       "316 1900-01-01 00:03:22   R&B   2000-10-28  2000-10-28  316  \n",
       "\n",
       "[317 rows x 8 columns]"
      ],
      "text/html": "<div>\n<style scoped>\n    .dataframe tbody tr th:only-of-type {\n        vertical-align: middle;\n    }\n\n    .dataframe tbody tr th {\n        vertical-align: top;\n    }\n\n    .dataframe thead th {\n        text-align: right;\n    }\n</style>\n<table border=\"1\" class=\"dataframe\">\n  <thead>\n    <tr style=\"text-align: right;\">\n      <th></th>\n      <th>year</th>\n      <th>artist.inverted</th>\n      <th>track</th>\n      <th>time</th>\n      <th>genre</th>\n      <th>date.entered</th>\n      <th>date.peaked</th>\n      <th>ID</th>\n    </tr>\n  </thead>\n  <tbody>\n    <tr>\n      <th>0</th>\n      <td>2000</td>\n      <td>Destiny's Child</td>\n      <td>Independent Women Part I</td>\n      <td>1900-01-01 00:03:38</td>\n      <td>Rock</td>\n      <td>2000-09-23</td>\n      <td>2000-11-18</td>\n      <td>0</td>\n    </tr>\n    <tr>\n      <th>1</th>\n      <td>2000</td>\n      <td>Santana</td>\n      <td>Maria, Maria</td>\n      <td>1900-01-01 00:04:18</td>\n      <td>Rock</td>\n      <td>2000-02-12</td>\n      <td>2000-04-08</td>\n      <td>1</td>\n    </tr>\n    <tr>\n      <th>2</th>\n      <td>2000</td>\n      <td>Savage Garden</td>\n      <td>I Knew I Loved You</td>\n      <td>1900-01-01 00:04:07</td>\n      <td>Rock</td>\n      <td>1999-10-23</td>\n      <td>2000-01-29</td>\n      <td>2</td>\n    </tr>\n    <tr>\n      <th>3</th>\n      <td>2000</td>\n      <td>Madonna</td>\n      <td>Music</td>\n      <td>1900-01-01 00:03:45</td>\n      <td>Rock</td>\n      <td>2000-08-12</td>\n      <td>2000-09-16</td>\n      <td>3</td>\n    </tr>\n    <tr>\n      <th>4</th>\n      <td>2000</td>\n      <td>Aguilera, Christina</td>\n      <td>Come On Over Baby (All I Want Is You)</td>\n      <td>1900-01-01 00:03:38</td>\n      <td>Rock</td>\n      <td>2000-08-05</td>\n      <td>2000-10-14</td>\n      <td>4</td>\n    </tr>\n    <tr>\n      <th>...</th>\n      <td>...</td>\n      <td>...</td>\n      <td>...</td>\n      <td>...</td>\n      <td>...</td>\n      <td>...</td>\n      <td>...</td>\n      <td>...</td>\n    </tr>\n    <tr>\n      <th>312</th>\n      <td>2000</td>\n      <td>Ghostface Killah</td>\n      <td>Cherchez LaGhost</td>\n      <td>1900-01-01 00:03:04</td>\n      <td>R&amp;B</td>\n      <td>2000-08-05</td>\n      <td>2000-08-05</td>\n      <td>312</td>\n    </tr>\n    <tr>\n      <th>313</th>\n      <td>2000</td>\n      <td>Smith, Will</td>\n      <td>Freakin' It</td>\n      <td>1900-01-01 00:03:58</td>\n      <td>Rap</td>\n      <td>2000-02-12</td>\n      <td>2000-02-12</td>\n      <td>313</td>\n    </tr>\n    <tr>\n      <th>314</th>\n      <td>2000</td>\n      <td>Zombie Nation</td>\n      <td>Kernkraft 400</td>\n      <td>1900-01-01 00:03:30</td>\n      <td>Rock</td>\n      <td>2000-09-02</td>\n      <td>2000-09-02</td>\n      <td>314</td>\n    </tr>\n    <tr>\n      <th>315</th>\n      <td>2000</td>\n      <td>Eastsidaz, The</td>\n      <td>Got Beef</td>\n      <td>1900-01-01 00:03:58</td>\n      <td>Rap</td>\n      <td>2000-07-01</td>\n      <td>2000-07-01</td>\n      <td>315</td>\n    </tr>\n    <tr>\n      <th>316</th>\n      <td>2000</td>\n      <td>Fragma</td>\n      <td>Toca's Miracle</td>\n      <td>1900-01-01 00:03:22</td>\n      <td>R&amp;B</td>\n      <td>2000-10-28</td>\n      <td>2000-10-28</td>\n      <td>316</td>\n    </tr>\n  </tbody>\n</table>\n<p>317 rows × 8 columns</p>\n</div>"
     },
     "metadata": {},
     "execution_count": 144
    }
   ],
   "source": [
    "# Split to 2 table\n",
    "song_detail = ['year', 'artist.inverted', 'track', 'time', 'genre', 'date.entered', 'date.peaked']\n",
    "df2_song = df2_tidy[song_detail].drop_duplicates()\n",
    "df2_song['ID'] = np.arange(0,df2_song.shape[0])\n",
    "df2_song"
   ]
  },
  {
   "cell_type": "code",
   "execution_count": 145,
   "metadata": {},
   "outputs": [
    {
     "output_type": "execute_result",
     "data": {
      "text/plain": [
       "       ID date.entered date.peaked  week  rank       date\n",
       "0       0   2000-09-23  2000-11-18     1    78 2000-09-23\n",
       "1       0   2000-09-23  2000-11-18     2    63 2000-09-30\n",
       "2       0   2000-09-23  2000-11-18     3    49 2000-10-07\n",
       "3       0   2000-09-23  2000-11-18     4    33 2000-10-14\n",
       "4       0   2000-09-23  2000-11-18     5    23 2000-10-21\n",
       "...   ...          ...         ...   ...   ...        ...\n",
       "5327  314   2000-09-02  2000-09-02     1    99 2000-09-02\n",
       "5328  314   2000-09-02  2000-09-02     2    99 2000-09-09\n",
       "5329  315   2000-07-01  2000-07-01     1    99 2000-07-01\n",
       "5330  315   2000-07-01  2000-07-01     2    99 2000-07-08\n",
       "5331  316   2000-10-28  2000-10-28     1    99 2000-10-28\n",
       "\n",
       "[5332 rows x 6 columns]"
      ],
      "text/html": "<div>\n<style scoped>\n    .dataframe tbody tr th:only-of-type {\n        vertical-align: middle;\n    }\n\n    .dataframe tbody tr th {\n        vertical-align: top;\n    }\n\n    .dataframe thead th {\n        text-align: right;\n    }\n</style>\n<table border=\"1\" class=\"dataframe\">\n  <thead>\n    <tr style=\"text-align: right;\">\n      <th></th>\n      <th>ID</th>\n      <th>date.entered</th>\n      <th>date.peaked</th>\n      <th>week</th>\n      <th>rank</th>\n      <th>date</th>\n    </tr>\n  </thead>\n  <tbody>\n    <tr>\n      <th>0</th>\n      <td>0</td>\n      <td>2000-09-23</td>\n      <td>2000-11-18</td>\n      <td>1</td>\n      <td>78</td>\n      <td>2000-09-23</td>\n    </tr>\n    <tr>\n      <th>1</th>\n      <td>0</td>\n      <td>2000-09-23</td>\n      <td>2000-11-18</td>\n      <td>2</td>\n      <td>63</td>\n      <td>2000-09-30</td>\n    </tr>\n    <tr>\n      <th>2</th>\n      <td>0</td>\n      <td>2000-09-23</td>\n      <td>2000-11-18</td>\n      <td>3</td>\n      <td>49</td>\n      <td>2000-10-07</td>\n    </tr>\n    <tr>\n      <th>3</th>\n      <td>0</td>\n      <td>2000-09-23</td>\n      <td>2000-11-18</td>\n      <td>4</td>\n      <td>33</td>\n      <td>2000-10-14</td>\n    </tr>\n    <tr>\n      <th>4</th>\n      <td>0</td>\n      <td>2000-09-23</td>\n      <td>2000-11-18</td>\n      <td>5</td>\n      <td>23</td>\n      <td>2000-10-21</td>\n    </tr>\n    <tr>\n      <th>...</th>\n      <td>...</td>\n      <td>...</td>\n      <td>...</td>\n      <td>...</td>\n      <td>...</td>\n      <td>...</td>\n    </tr>\n    <tr>\n      <th>5327</th>\n      <td>314</td>\n      <td>2000-09-02</td>\n      <td>2000-09-02</td>\n      <td>1</td>\n      <td>99</td>\n      <td>2000-09-02</td>\n    </tr>\n    <tr>\n      <th>5328</th>\n      <td>314</td>\n      <td>2000-09-02</td>\n      <td>2000-09-02</td>\n      <td>2</td>\n      <td>99</td>\n      <td>2000-09-09</td>\n    </tr>\n    <tr>\n      <th>5329</th>\n      <td>315</td>\n      <td>2000-07-01</td>\n      <td>2000-07-01</td>\n      <td>1</td>\n      <td>99</td>\n      <td>2000-07-01</td>\n    </tr>\n    <tr>\n      <th>5330</th>\n      <td>315</td>\n      <td>2000-07-01</td>\n      <td>2000-07-01</td>\n      <td>2</td>\n      <td>99</td>\n      <td>2000-07-08</td>\n    </tr>\n    <tr>\n      <th>5331</th>\n      <td>316</td>\n      <td>2000-10-28</td>\n      <td>2000-10-28</td>\n      <td>1</td>\n      <td>99</td>\n      <td>2000-10-28</td>\n    </tr>\n  </tbody>\n</table>\n<p>5332 rows × 6 columns</p>\n</div>"
     },
     "metadata": {},
     "execution_count": 145
    }
   ],
   "source": [
    "df2_tidy_id = pd.merge(df2_tidy, df_song[['track', 'ID']], on='track')\n",
    "df2_rank = df2_tidy_id[['ID', 'date.entered', 'date.peaked', 'week', 'rank']]\n",
    "df2_rank['date'] = df2_rank['date.entered'] + pd.to_timedelta(df2_rank['week']-1, unit='w')\n",
    "df2_rank"
   ]
  },
  {
   "cell_type": "code",
   "execution_count": 146,
   "metadata": {},
   "outputs": [
    {
     "output_type": "execute_result",
     "data": {
      "text/plain": [
       "  country  year   m014  m1524   m2534  m3544  m4554  m5564    m65  mu   f014\n",
       "0      AD  2000    0.0    0.0     1.0    0.0      0      0    0.0 NaN    NaN\n",
       "1      AE  2000    2.0    4.0     4.0    6.0      5     12   10.0 NaN    3.0\n",
       "2      AF  2000   52.0  228.0   183.0  149.0    129     94   80.0 NaN   93.0\n",
       "3      AG  2000    0.0    0.0     0.0    0.0      0      0    1.0 NaN    1.0\n",
       "4      AL  2000    2.0   19.0    21.0   14.0     24     19   16.0 NaN    3.0\n",
       "5      AM  2000    2.0  152.0   130.0  131.0     63     26   21.0 NaN    1.0\n",
       "6      AN  2000    0.0    0.0     1.0    2.0      0      0    0.0 NaN    0.0\n",
       "7      AO  2000  186.0  999.0  1003.0  912.0    482    312  194.0 NaN  247.0\n",
       "8      AR  2000   97.0  278.0   594.0  402.0    419    368  330.0 NaN  121.0\n",
       "9      AS  2000    NaN    NaN     NaN    NaN      1      1    NaN NaN    NaN"
      ],
      "text/html": "<div>\n<style scoped>\n    .dataframe tbody tr th:only-of-type {\n        vertical-align: middle;\n    }\n\n    .dataframe tbody tr th {\n        vertical-align: top;\n    }\n\n    .dataframe thead th {\n        text-align: right;\n    }\n</style>\n<table border=\"1\" class=\"dataframe\">\n  <thead>\n    <tr style=\"text-align: right;\">\n      <th></th>\n      <th>country</th>\n      <th>year</th>\n      <th>m014</th>\n      <th>m1524</th>\n      <th>m2534</th>\n      <th>m3544</th>\n      <th>m4554</th>\n      <th>m5564</th>\n      <th>m65</th>\n      <th>mu</th>\n      <th>f014</th>\n    </tr>\n  </thead>\n  <tbody>\n    <tr>\n      <th>0</th>\n      <td>AD</td>\n      <td>2000</td>\n      <td>0.0</td>\n      <td>0.0</td>\n      <td>1.0</td>\n      <td>0.0</td>\n      <td>0</td>\n      <td>0</td>\n      <td>0.0</td>\n      <td>NaN</td>\n      <td>NaN</td>\n    </tr>\n    <tr>\n      <th>1</th>\n      <td>AE</td>\n      <td>2000</td>\n      <td>2.0</td>\n      <td>4.0</td>\n      <td>4.0</td>\n      <td>6.0</td>\n      <td>5</td>\n      <td>12</td>\n      <td>10.0</td>\n      <td>NaN</td>\n      <td>3.0</td>\n    </tr>\n    <tr>\n      <th>2</th>\n      <td>AF</td>\n      <td>2000</td>\n      <td>52.0</td>\n      <td>228.0</td>\n      <td>183.0</td>\n      <td>149.0</td>\n      <td>129</td>\n      <td>94</td>\n      <td>80.0</td>\n      <td>NaN</td>\n      <td>93.0</td>\n    </tr>\n    <tr>\n      <th>3</th>\n      <td>AG</td>\n      <td>2000</td>\n      <td>0.0</td>\n      <td>0.0</td>\n      <td>0.0</td>\n      <td>0.0</td>\n      <td>0</td>\n      <td>0</td>\n      <td>1.0</td>\n      <td>NaN</td>\n      <td>1.0</td>\n    </tr>\n    <tr>\n      <th>4</th>\n      <td>AL</td>\n      <td>2000</td>\n      <td>2.0</td>\n      <td>19.0</td>\n      <td>21.0</td>\n      <td>14.0</td>\n      <td>24</td>\n      <td>19</td>\n      <td>16.0</td>\n      <td>NaN</td>\n      <td>3.0</td>\n    </tr>\n    <tr>\n      <th>5</th>\n      <td>AM</td>\n      <td>2000</td>\n      <td>2.0</td>\n      <td>152.0</td>\n      <td>130.0</td>\n      <td>131.0</td>\n      <td>63</td>\n      <td>26</td>\n      <td>21.0</td>\n      <td>NaN</td>\n      <td>1.0</td>\n    </tr>\n    <tr>\n      <th>6</th>\n      <td>AN</td>\n      <td>2000</td>\n      <td>0.0</td>\n      <td>0.0</td>\n      <td>1.0</td>\n      <td>2.0</td>\n      <td>0</td>\n      <td>0</td>\n      <td>0.0</td>\n      <td>NaN</td>\n      <td>0.0</td>\n    </tr>\n    <tr>\n      <th>7</th>\n      <td>AO</td>\n      <td>2000</td>\n      <td>186.0</td>\n      <td>999.0</td>\n      <td>1003.0</td>\n      <td>912.0</td>\n      <td>482</td>\n      <td>312</td>\n      <td>194.0</td>\n      <td>NaN</td>\n      <td>247.0</td>\n    </tr>\n    <tr>\n      <th>8</th>\n      <td>AR</td>\n      <td>2000</td>\n      <td>97.0</td>\n      <td>278.0</td>\n      <td>594.0</td>\n      <td>402.0</td>\n      <td>419</td>\n      <td>368</td>\n      <td>330.0</td>\n      <td>NaN</td>\n      <td>121.0</td>\n    </tr>\n    <tr>\n      <th>9</th>\n      <td>AS</td>\n      <td>2000</td>\n      <td>NaN</td>\n      <td>NaN</td>\n      <td>NaN</td>\n      <td>NaN</td>\n      <td>1</td>\n      <td>1</td>\n      <td>NaN</td>\n      <td>NaN</td>\n      <td>NaN</td>\n    </tr>\n  </tbody>\n</table>\n</div>"
     },
     "metadata": {},
     "execution_count": 146
    }
   ],
   "source": [
    "df3 = pd.read_csv('data/tb-raw.csv')\n",
    "df3"
   ]
  },
  {
   "cell_type": "code",
   "execution_count": 147,
   "metadata": {},
   "outputs": [
    {
     "output_type": "execute_result",
     "data": {
      "text/plain": [
       "   country  year sex-age  count sex age_lower age_upper\n",
       "0       AD  2000    m014    0.0   m         0        14\n",
       "1       AE  2000    m014    2.0   m         0        14\n",
       "2       AF  2000    m014   52.0   m         0        14\n",
       "3       AG  2000    m014    0.0   m         0        14\n",
       "4       AL  2000    m014    2.0   m         0        14\n",
       "..     ...   ...     ...    ...  ..       ...       ...\n",
       "85      AM  2000    f014    1.0   f         0        14\n",
       "86      AN  2000    f014    0.0   f         0        14\n",
       "87      AO  2000    f014  247.0   f         0        14\n",
       "88      AR  2000    f014  121.0   f         0        14\n",
       "89      AS  2000    f014    NaN   f         0        14\n",
       "\n",
       "[90 rows x 7 columns]"
      ],
      "text/html": "<div>\n<style scoped>\n    .dataframe tbody tr th:only-of-type {\n        vertical-align: middle;\n    }\n\n    .dataframe tbody tr th {\n        vertical-align: top;\n    }\n\n    .dataframe thead th {\n        text-align: right;\n    }\n</style>\n<table border=\"1\" class=\"dataframe\">\n  <thead>\n    <tr style=\"text-align: right;\">\n      <th></th>\n      <th>country</th>\n      <th>year</th>\n      <th>sex-age</th>\n      <th>count</th>\n      <th>sex</th>\n      <th>age_lower</th>\n      <th>age_upper</th>\n    </tr>\n  </thead>\n  <tbody>\n    <tr>\n      <th>0</th>\n      <td>AD</td>\n      <td>2000</td>\n      <td>m014</td>\n      <td>0.0</td>\n      <td>m</td>\n      <td>0</td>\n      <td>14</td>\n    </tr>\n    <tr>\n      <th>1</th>\n      <td>AE</td>\n      <td>2000</td>\n      <td>m014</td>\n      <td>2.0</td>\n      <td>m</td>\n      <td>0</td>\n      <td>14</td>\n    </tr>\n    <tr>\n      <th>2</th>\n      <td>AF</td>\n      <td>2000</td>\n      <td>m014</td>\n      <td>52.0</td>\n      <td>m</td>\n      <td>0</td>\n      <td>14</td>\n    </tr>\n    <tr>\n      <th>3</th>\n      <td>AG</td>\n      <td>2000</td>\n      <td>m014</td>\n      <td>0.0</td>\n      <td>m</td>\n      <td>0</td>\n      <td>14</td>\n    </tr>\n    <tr>\n      <th>4</th>\n      <td>AL</td>\n      <td>2000</td>\n      <td>m014</td>\n      <td>2.0</td>\n      <td>m</td>\n      <td>0</td>\n      <td>14</td>\n    </tr>\n    <tr>\n      <th>...</th>\n      <td>...</td>\n      <td>...</td>\n      <td>...</td>\n      <td>...</td>\n      <td>...</td>\n      <td>...</td>\n      <td>...</td>\n    </tr>\n    <tr>\n      <th>85</th>\n      <td>AM</td>\n      <td>2000</td>\n      <td>f014</td>\n      <td>1.0</td>\n      <td>f</td>\n      <td>0</td>\n      <td>14</td>\n    </tr>\n    <tr>\n      <th>86</th>\n      <td>AN</td>\n      <td>2000</td>\n      <td>f014</td>\n      <td>0.0</td>\n      <td>f</td>\n      <td>0</td>\n      <td>14</td>\n    </tr>\n    <tr>\n      <th>87</th>\n      <td>AO</td>\n      <td>2000</td>\n      <td>f014</td>\n      <td>247.0</td>\n      <td>f</td>\n      <td>0</td>\n      <td>14</td>\n    </tr>\n    <tr>\n      <th>88</th>\n      <td>AR</td>\n      <td>2000</td>\n      <td>f014</td>\n      <td>121.0</td>\n      <td>f</td>\n      <td>0</td>\n      <td>14</td>\n    </tr>\n    <tr>\n      <th>89</th>\n      <td>AS</td>\n      <td>2000</td>\n      <td>f014</td>\n      <td>NaN</td>\n      <td>f</td>\n      <td>0</td>\n      <td>14</td>\n    </tr>\n  </tbody>\n</table>\n<p>90 rows × 7 columns</p>\n</div>"
     },
     "metadata": {},
     "execution_count": 147
    }
   ],
   "source": [
    "df3_tidy = pd.melt(df3, id_vars=['country', 'year'], var_name='sex-age', value_name='count')\n",
    "df_temp = df3_tiny['sex-age'].str.extract('(\\D)(\\d+)(\\d{2})')\n",
    "df3_tidy['sex'] = df_temp[0]\n",
    "df3_tidy['age_lower'] = df_temp[1]\n",
    "df3_tidy['age_upper'] = df_temp[2]\n",
    "df3_tidy"
   ]
  },
  {
   "cell_type": "code",
   "execution_count": 148,
   "metadata": {},
   "outputs": [
    {
     "output_type": "execute_result",
     "data": {
      "text/plain": [
       "         id  year  month element  d1    d2    d3  d4    d5  d6  d7  d8\n",
       "0   MX17004  2010      1    tmax NaN   NaN   NaN NaN   NaN NaN NaN NaN\n",
       "1   MX17004  2010      1    tmin NaN   NaN   NaN NaN   NaN NaN NaN NaN\n",
       "2  MX17004   2010      2    tmax NaN  27.3  24.1 NaN   NaN NaN NaN NaN\n",
       "3   MX17004  2010      2    tmin NaN  14.4  14.4 NaN   NaN NaN NaN NaN\n",
       "4   MX17004  2010      3    tmax NaN   NaN   NaN NaN  32.1 NaN NaN NaN\n",
       "5   MX17004  2010      3    tmin NaN   NaN   NaN NaN  14.2 NaN NaN NaN\n",
       "6   MX17004  2010      4    tmax NaN   NaN   NaN NaN   NaN NaN NaN NaN\n",
       "7   MX17004  2010      4    tmin NaN   NaN   NaN NaN   NaN NaN NaN NaN\n",
       "8   MX17004  2010      5    tmax NaN   NaN   NaN NaN   NaN NaN NaN NaN\n",
       "9   MX17004  2010      5    tmin NaN   NaN   NaN NaN   NaN NaN NaN NaN"
      ],
      "text/html": "<div>\n<style scoped>\n    .dataframe tbody tr th:only-of-type {\n        vertical-align: middle;\n    }\n\n    .dataframe tbody tr th {\n        vertical-align: top;\n    }\n\n    .dataframe thead th {\n        text-align: right;\n    }\n</style>\n<table border=\"1\" class=\"dataframe\">\n  <thead>\n    <tr style=\"text-align: right;\">\n      <th></th>\n      <th>id</th>\n      <th>year</th>\n      <th>month</th>\n      <th>element</th>\n      <th>d1</th>\n      <th>d2</th>\n      <th>d3</th>\n      <th>d4</th>\n      <th>d5</th>\n      <th>d6</th>\n      <th>d7</th>\n      <th>d8</th>\n    </tr>\n  </thead>\n  <tbody>\n    <tr>\n      <th>0</th>\n      <td>MX17004</td>\n      <td>2010</td>\n      <td>1</td>\n      <td>tmax</td>\n      <td>NaN</td>\n      <td>NaN</td>\n      <td>NaN</td>\n      <td>NaN</td>\n      <td>NaN</td>\n      <td>NaN</td>\n      <td>NaN</td>\n      <td>NaN</td>\n    </tr>\n    <tr>\n      <th>1</th>\n      <td>MX17004</td>\n      <td>2010</td>\n      <td>1</td>\n      <td>tmin</td>\n      <td>NaN</td>\n      <td>NaN</td>\n      <td>NaN</td>\n      <td>NaN</td>\n      <td>NaN</td>\n      <td>NaN</td>\n      <td>NaN</td>\n      <td>NaN</td>\n    </tr>\n    <tr>\n      <th>2</th>\n      <td>MX17004</td>\n      <td>2010</td>\n      <td>2</td>\n      <td>tmax</td>\n      <td>NaN</td>\n      <td>27.3</td>\n      <td>24.1</td>\n      <td>NaN</td>\n      <td>NaN</td>\n      <td>NaN</td>\n      <td>NaN</td>\n      <td>NaN</td>\n    </tr>\n    <tr>\n      <th>3</th>\n      <td>MX17004</td>\n      <td>2010</td>\n      <td>2</td>\n      <td>tmin</td>\n      <td>NaN</td>\n      <td>14.4</td>\n      <td>14.4</td>\n      <td>NaN</td>\n      <td>NaN</td>\n      <td>NaN</td>\n      <td>NaN</td>\n      <td>NaN</td>\n    </tr>\n    <tr>\n      <th>4</th>\n      <td>MX17004</td>\n      <td>2010</td>\n      <td>3</td>\n      <td>tmax</td>\n      <td>NaN</td>\n      <td>NaN</td>\n      <td>NaN</td>\n      <td>NaN</td>\n      <td>32.1</td>\n      <td>NaN</td>\n      <td>NaN</td>\n      <td>NaN</td>\n    </tr>\n    <tr>\n      <th>5</th>\n      <td>MX17004</td>\n      <td>2010</td>\n      <td>3</td>\n      <td>tmin</td>\n      <td>NaN</td>\n      <td>NaN</td>\n      <td>NaN</td>\n      <td>NaN</td>\n      <td>14.2</td>\n      <td>NaN</td>\n      <td>NaN</td>\n      <td>NaN</td>\n    </tr>\n    <tr>\n      <th>6</th>\n      <td>MX17004</td>\n      <td>2010</td>\n      <td>4</td>\n      <td>tmax</td>\n      <td>NaN</td>\n      <td>NaN</td>\n      <td>NaN</td>\n      <td>NaN</td>\n      <td>NaN</td>\n      <td>NaN</td>\n      <td>NaN</td>\n      <td>NaN</td>\n    </tr>\n    <tr>\n      <th>7</th>\n      <td>MX17004</td>\n      <td>2010</td>\n      <td>4</td>\n      <td>tmin</td>\n      <td>NaN</td>\n      <td>NaN</td>\n      <td>NaN</td>\n      <td>NaN</td>\n      <td>NaN</td>\n      <td>NaN</td>\n      <td>NaN</td>\n      <td>NaN</td>\n    </tr>\n    <tr>\n      <th>8</th>\n      <td>MX17004</td>\n      <td>2010</td>\n      <td>5</td>\n      <td>tmax</td>\n      <td>NaN</td>\n      <td>NaN</td>\n      <td>NaN</td>\n      <td>NaN</td>\n      <td>NaN</td>\n      <td>NaN</td>\n      <td>NaN</td>\n      <td>NaN</td>\n    </tr>\n    <tr>\n      <th>9</th>\n      <td>MX17004</td>\n      <td>2010</td>\n      <td>5</td>\n      <td>tmin</td>\n      <td>NaN</td>\n      <td>NaN</td>\n      <td>NaN</td>\n      <td>NaN</td>\n      <td>NaN</td>\n      <td>NaN</td>\n      <td>NaN</td>\n      <td>NaN</td>\n    </tr>\n  </tbody>\n</table>\n</div>"
     },
     "metadata": {},
     "execution_count": 148
    }
   ],
   "source": [
    "df4 = pd.read_csv('data/weather-raw.csv')\n",
    "df4"
   ]
  },
  {
   "cell_type": "code",
   "execution_count": 149,
   "metadata": {},
   "outputs": [
    {
     "output_type": "execute_result",
     "data": {
      "text/plain": [
       "        time  year  month  day  tmax  tmin\n",
       "0 2010-02-02  2010      2    2  27.3  14.4\n",
       "1 2010-02-03  2010      2    3  24.1  14.4\n",
       "2 2010-03-05  2010      3    5  32.1  14.2"
      ],
      "text/html": "<div>\n<style scoped>\n    .dataframe tbody tr th:only-of-type {\n        vertical-align: middle;\n    }\n\n    .dataframe tbody tr th {\n        vertical-align: top;\n    }\n\n    .dataframe thead th {\n        text-align: right;\n    }\n</style>\n<table border=\"1\" class=\"dataframe\">\n  <thead>\n    <tr style=\"text-align: right;\">\n      <th></th>\n      <th>time</th>\n      <th>year</th>\n      <th>month</th>\n      <th>day</th>\n      <th>tmax</th>\n      <th>tmin</th>\n    </tr>\n  </thead>\n  <tbody>\n    <tr>\n      <th>0</th>\n      <td>2010-02-02</td>\n      <td>2010</td>\n      <td>2</td>\n      <td>2</td>\n      <td>27.3</td>\n      <td>14.4</td>\n    </tr>\n    <tr>\n      <th>1</th>\n      <td>2010-02-03</td>\n      <td>2010</td>\n      <td>2</td>\n      <td>3</td>\n      <td>24.1</td>\n      <td>14.4</td>\n    </tr>\n    <tr>\n      <th>2</th>\n      <td>2010-03-05</td>\n      <td>2010</td>\n      <td>3</td>\n      <td>5</td>\n      <td>32.1</td>\n      <td>14.2</td>\n    </tr>\n  </tbody>\n</table>\n</div>"
     },
     "metadata": {},
     "execution_count": 149
    }
   ],
   "source": [
    "df4_tidy = pd.melt(df4, id_vars=['id', 'year', 'month', 'element'], var_name='day', value_name='temp').dropna()\n",
    "df4_tidy['day'] = df4_tidy['day'].str.extract('\\D(\\d?)').astype('int')\n",
    "def convert_time(row):\n",
    "    return datetime(year=2010, month=row['month'], day=row['day'])\n",
    "df4_tidy['time'] = df4_tidy.apply(lambda row: convert_time(row), axis=1)\n",
    "df4_tidy = df4_tidy.pivot_table(index=['id', 'year', 'month', 'day', 'time'], columns='element', values='temp').reset_index()\n",
    "df4_tidy = df4_tidy.groupby('time').aggregate('mean').reset_index().rename_axis(None, axis=1)\n",
    "df4_tidy"
   ]
  },
  {
   "cell_type": "code",
   "execution_count": 150,
   "metadata": {},
   "outputs": [
    {
     "output_type": "stream",
     "name": "stdout",
     "text": [
      "<class 'pandas.core.frame.DataFrame'>\nRangeIndex: 3 entries, 0 to 2\nData columns (total 6 columns):\n #   Column  Non-Null Count  Dtype         \n---  ------  --------------  -----         \n 0   time    3 non-null      datetime64[ns]\n 1   year    3 non-null      int64         \n 2   month   3 non-null      int64         \n 3   day     3 non-null      int64         \n 4   tmax    3 non-null      float64       \n 5   tmin    3 non-null      float64       \ndtypes: datetime64[ns](1), float64(2), int64(3)\nmemory usage: 272.0 bytes\n"
     ]
    }
   ],
   "source": [
    "df4_tidy.info()"
   ]
  },
  {
   "cell_type": "code",
   "execution_count": null,
   "metadata": {},
   "outputs": [],
   "source": []
  }
 ]
}