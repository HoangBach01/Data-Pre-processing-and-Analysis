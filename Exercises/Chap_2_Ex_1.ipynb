{
 "metadata": {
  "language_info": {
   "codemirror_mode": {
    "name": "ipython",
    "version": 3
   },
   "file_extension": ".py",
   "mimetype": "text/x-python",
   "name": "python",
   "nbconvert_exporter": "python",
   "pygments_lexer": "ipython3",
   "version": "3.7.7-final"
  },
  "orig_nbformat": 2,
  "kernelspec": {
   "name": "python37764bitailearncondac55bf7adc40a450a9629c3e2b471f312",
   "display_name": "Python 3.7.7 64-bit ('ai_learn': conda)"
  }
 },
 "nbformat": 4,
 "nbformat_minor": 2,
 "cells": [
  {
   "cell_type": "code",
   "execution_count": 1,
   "metadata": {},
   "outputs": [],
   "source": [
    "import numpy as np\n",
    "import pandas as pd\n",
    "import matplotlib.pyplot as plt\n",
    "import seaborn as sb\n",
    "%matplotlib inline\n",
    "from sklearn.experimental import enable_iterative_imputer\n",
    "from sklearn.impute import KNNImputer\n",
    "from sklearn.preprocessing import OrdinalEncoder"
   ]
  },
  {
   "cell_type": "code",
   "execution_count": 2,
   "metadata": {},
   "outputs": [
    {
     "output_type": "execute_result",
     "data": {
      "text/plain": [
       "      MSSubClass MSZoning  LotFrontage  LotArea Street Alley LotShape  \\\n",
       "Id                                                                      \n",
       "1             60       RL         65.0     8450   Pave   NaN      Reg   \n",
       "2             20       RL         80.0     9600   Pave   NaN      Reg   \n",
       "3             60       RL         68.0    11250   Pave   NaN      IR1   \n",
       "4             70       RL         60.0     9550   Pave   NaN      IR1   \n",
       "5             60       RL         84.0    14260   Pave   NaN      IR1   \n",
       "...          ...      ...          ...      ...    ...   ...      ...   \n",
       "1456          60       RL         62.0     7917   Pave   NaN      Reg   \n",
       "1457          20       RL         85.0    13175   Pave   NaN      Reg   \n",
       "1458          70       RL         66.0     9042   Pave   NaN      Reg   \n",
       "1459          20       RL         68.0     9717   Pave   NaN      Reg   \n",
       "1460          20       RL         75.0     9937   Pave   NaN      Reg   \n",
       "\n",
       "     LandContour Utilities LotConfig  ... PoolArea PoolQC  Fence MiscFeature  \\\n",
       "Id                                    ...                                      \n",
       "1            Lvl    AllPub    Inside  ...        0    NaN    NaN         NaN   \n",
       "2            Lvl    AllPub       FR2  ...        0    NaN    NaN         NaN   \n",
       "3            Lvl    AllPub    Inside  ...        0    NaN    NaN         NaN   \n",
       "4            Lvl    AllPub    Corner  ...        0    NaN    NaN         NaN   \n",
       "5            Lvl    AllPub       FR2  ...        0    NaN    NaN         NaN   \n",
       "...          ...       ...       ...  ...      ...    ...    ...         ...   \n",
       "1456         Lvl    AllPub    Inside  ...        0    NaN    NaN         NaN   \n",
       "1457         Lvl    AllPub    Inside  ...        0    NaN  MnPrv         NaN   \n",
       "1458         Lvl    AllPub    Inside  ...        0    NaN  GdPrv        Shed   \n",
       "1459         Lvl    AllPub    Inside  ...        0    NaN    NaN         NaN   \n",
       "1460         Lvl    AllPub    Inside  ...        0    NaN    NaN         NaN   \n",
       "\n",
       "     MiscVal MoSold  YrSold  SaleType  SaleCondition  SalePrice  \n",
       "Id                                                               \n",
       "1          0      2    2008        WD         Normal     208500  \n",
       "2          0      5    2007        WD         Normal     181500  \n",
       "3          0      9    2008        WD         Normal     223500  \n",
       "4          0      2    2006        WD        Abnorml     140000  \n",
       "5          0     12    2008        WD         Normal     250000  \n",
       "...      ...    ...     ...       ...            ...        ...  \n",
       "1456       0      8    2007        WD         Normal     175000  \n",
       "1457       0      2    2010        WD         Normal     210000  \n",
       "1458    2500      5    2010        WD         Normal     266500  \n",
       "1459       0      4    2010        WD         Normal     142125  \n",
       "1460       0      6    2008        WD         Normal     147500  \n",
       "\n",
       "[1460 rows x 80 columns]"
      ],
      "text/html": "<div>\n<style scoped>\n    .dataframe tbody tr th:only-of-type {\n        vertical-align: middle;\n    }\n\n    .dataframe tbody tr th {\n        vertical-align: top;\n    }\n\n    .dataframe thead th {\n        text-align: right;\n    }\n</style>\n<table border=\"1\" class=\"dataframe\">\n  <thead>\n    <tr style=\"text-align: right;\">\n      <th></th>\n      <th>MSSubClass</th>\n      <th>MSZoning</th>\n      <th>LotFrontage</th>\n      <th>LotArea</th>\n      <th>Street</th>\n      <th>Alley</th>\n      <th>LotShape</th>\n      <th>LandContour</th>\n      <th>Utilities</th>\n      <th>LotConfig</th>\n      <th>...</th>\n      <th>PoolArea</th>\n      <th>PoolQC</th>\n      <th>Fence</th>\n      <th>MiscFeature</th>\n      <th>MiscVal</th>\n      <th>MoSold</th>\n      <th>YrSold</th>\n      <th>SaleType</th>\n      <th>SaleCondition</th>\n      <th>SalePrice</th>\n    </tr>\n    <tr>\n      <th>Id</th>\n      <th></th>\n      <th></th>\n      <th></th>\n      <th></th>\n      <th></th>\n      <th></th>\n      <th></th>\n      <th></th>\n      <th></th>\n      <th></th>\n      <th></th>\n      <th></th>\n      <th></th>\n      <th></th>\n      <th></th>\n      <th></th>\n      <th></th>\n      <th></th>\n      <th></th>\n      <th></th>\n      <th></th>\n    </tr>\n  </thead>\n  <tbody>\n    <tr>\n      <th>1</th>\n      <td>60</td>\n      <td>RL</td>\n      <td>65.0</td>\n      <td>8450</td>\n      <td>Pave</td>\n      <td>NaN</td>\n      <td>Reg</td>\n      <td>Lvl</td>\n      <td>AllPub</td>\n      <td>Inside</td>\n      <td>...</td>\n      <td>0</td>\n      <td>NaN</td>\n      <td>NaN</td>\n      <td>NaN</td>\n      <td>0</td>\n      <td>2</td>\n      <td>2008</td>\n      <td>WD</td>\n      <td>Normal</td>\n      <td>208500</td>\n    </tr>\n    <tr>\n      <th>2</th>\n      <td>20</td>\n      <td>RL</td>\n      <td>80.0</td>\n      <td>9600</td>\n      <td>Pave</td>\n      <td>NaN</td>\n      <td>Reg</td>\n      <td>Lvl</td>\n      <td>AllPub</td>\n      <td>FR2</td>\n      <td>...</td>\n      <td>0</td>\n      <td>NaN</td>\n      <td>NaN</td>\n      <td>NaN</td>\n      <td>0</td>\n      <td>5</td>\n      <td>2007</td>\n      <td>WD</td>\n      <td>Normal</td>\n      <td>181500</td>\n    </tr>\n    <tr>\n      <th>3</th>\n      <td>60</td>\n      <td>RL</td>\n      <td>68.0</td>\n      <td>11250</td>\n      <td>Pave</td>\n      <td>NaN</td>\n      <td>IR1</td>\n      <td>Lvl</td>\n      <td>AllPub</td>\n      <td>Inside</td>\n      <td>...</td>\n      <td>0</td>\n      <td>NaN</td>\n      <td>NaN</td>\n      <td>NaN</td>\n      <td>0</td>\n      <td>9</td>\n      <td>2008</td>\n      <td>WD</td>\n      <td>Normal</td>\n      <td>223500</td>\n    </tr>\n    <tr>\n      <th>4</th>\n      <td>70</td>\n      <td>RL</td>\n      <td>60.0</td>\n      <td>9550</td>\n      <td>Pave</td>\n      <td>NaN</td>\n      <td>IR1</td>\n      <td>Lvl</td>\n      <td>AllPub</td>\n      <td>Corner</td>\n      <td>...</td>\n      <td>0</td>\n      <td>NaN</td>\n      <td>NaN</td>\n      <td>NaN</td>\n      <td>0</td>\n      <td>2</td>\n      <td>2006</td>\n      <td>WD</td>\n      <td>Abnorml</td>\n      <td>140000</td>\n    </tr>\n    <tr>\n      <th>5</th>\n      <td>60</td>\n      <td>RL</td>\n      <td>84.0</td>\n      <td>14260</td>\n      <td>Pave</td>\n      <td>NaN</td>\n      <td>IR1</td>\n      <td>Lvl</td>\n      <td>AllPub</td>\n      <td>FR2</td>\n      <td>...</td>\n      <td>0</td>\n      <td>NaN</td>\n      <td>NaN</td>\n      <td>NaN</td>\n      <td>0</td>\n      <td>12</td>\n      <td>2008</td>\n      <td>WD</td>\n      <td>Normal</td>\n      <td>250000</td>\n    </tr>\n    <tr>\n      <th>...</th>\n      <td>...</td>\n      <td>...</td>\n      <td>...</td>\n      <td>...</td>\n      <td>...</td>\n      <td>...</td>\n      <td>...</td>\n      <td>...</td>\n      <td>...</td>\n      <td>...</td>\n      <td>...</td>\n      <td>...</td>\n      <td>...</td>\n      <td>...</td>\n      <td>...</td>\n      <td>...</td>\n      <td>...</td>\n      <td>...</td>\n      <td>...</td>\n      <td>...</td>\n      <td>...</td>\n    </tr>\n    <tr>\n      <th>1456</th>\n      <td>60</td>\n      <td>RL</td>\n      <td>62.0</td>\n      <td>7917</td>\n      <td>Pave</td>\n      <td>NaN</td>\n      <td>Reg</td>\n      <td>Lvl</td>\n      <td>AllPub</td>\n      <td>Inside</td>\n      <td>...</td>\n      <td>0</td>\n      <td>NaN</td>\n      <td>NaN</td>\n      <td>NaN</td>\n      <td>0</td>\n      <td>8</td>\n      <td>2007</td>\n      <td>WD</td>\n      <td>Normal</td>\n      <td>175000</td>\n    </tr>\n    <tr>\n      <th>1457</th>\n      <td>20</td>\n      <td>RL</td>\n      <td>85.0</td>\n      <td>13175</td>\n      <td>Pave</td>\n      <td>NaN</td>\n      <td>Reg</td>\n      <td>Lvl</td>\n      <td>AllPub</td>\n      <td>Inside</td>\n      <td>...</td>\n      <td>0</td>\n      <td>NaN</td>\n      <td>MnPrv</td>\n      <td>NaN</td>\n      <td>0</td>\n      <td>2</td>\n      <td>2010</td>\n      <td>WD</td>\n      <td>Normal</td>\n      <td>210000</td>\n    </tr>\n    <tr>\n      <th>1458</th>\n      <td>70</td>\n      <td>RL</td>\n      <td>66.0</td>\n      <td>9042</td>\n      <td>Pave</td>\n      <td>NaN</td>\n      <td>Reg</td>\n      <td>Lvl</td>\n      <td>AllPub</td>\n      <td>Inside</td>\n      <td>...</td>\n      <td>0</td>\n      <td>NaN</td>\n      <td>GdPrv</td>\n      <td>Shed</td>\n      <td>2500</td>\n      <td>5</td>\n      <td>2010</td>\n      <td>WD</td>\n      <td>Normal</td>\n      <td>266500</td>\n    </tr>\n    <tr>\n      <th>1459</th>\n      <td>20</td>\n      <td>RL</td>\n      <td>68.0</td>\n      <td>9717</td>\n      <td>Pave</td>\n      <td>NaN</td>\n      <td>Reg</td>\n      <td>Lvl</td>\n      <td>AllPub</td>\n      <td>Inside</td>\n      <td>...</td>\n      <td>0</td>\n      <td>NaN</td>\n      <td>NaN</td>\n      <td>NaN</td>\n      <td>0</td>\n      <td>4</td>\n      <td>2010</td>\n      <td>WD</td>\n      <td>Normal</td>\n      <td>142125</td>\n    </tr>\n    <tr>\n      <th>1460</th>\n      <td>20</td>\n      <td>RL</td>\n      <td>75.0</td>\n      <td>9937</td>\n      <td>Pave</td>\n      <td>NaN</td>\n      <td>Reg</td>\n      <td>Lvl</td>\n      <td>AllPub</td>\n      <td>Inside</td>\n      <td>...</td>\n      <td>0</td>\n      <td>NaN</td>\n      <td>NaN</td>\n      <td>NaN</td>\n      <td>0</td>\n      <td>6</td>\n      <td>2008</td>\n      <td>WD</td>\n      <td>Normal</td>\n      <td>147500</td>\n    </tr>\n  </tbody>\n</table>\n<p>1460 rows × 80 columns</p>\n</div>"
     },
     "metadata": {},
     "execution_count": 2
    }
   ],
   "source": [
    "df = pd.read_csv('train.csv', index_col=0)\n",
    "df"
   ]
  },
  {
   "cell_type": "code",
   "execution_count": 3,
   "metadata": {},
   "outputs": [
    {
     "output_type": "stream",
     "name": "stdout",
     "text": [
      "<class 'pandas.core.frame.DataFrame'>\nInt64Index: 1460 entries, 1 to 1460\nData columns (total 80 columns):\n #   Column         Non-Null Count  Dtype  \n---  ------         --------------  -----  \n 0   MSSubClass     1460 non-null   int64  \n 1   MSZoning       1460 non-null   object \n 2   LotFrontage    1201 non-null   float64\n 3   LotArea        1460 non-null   int64  \n 4   Street         1460 non-null   object \n 5   Alley          91 non-null     object \n 6   LotShape       1460 non-null   object \n 7   LandContour    1460 non-null   object \n 8   Utilities      1460 non-null   object \n 9   LotConfig      1460 non-null   object \n 10  LandSlope      1460 non-null   object \n 11  Neighborhood   1460 non-null   object \n 12  Condition1     1460 non-null   object \n 13  Condition2     1460 non-null   object \n 14  BldgType       1460 non-null   object \n 15  HouseStyle     1460 non-null   object \n 16  OverallQual    1460 non-null   int64  \n 17  OverallCond    1460 non-null   int64  \n 18  YearBuilt      1460 non-null   int64  \n 19  YearRemodAdd   1460 non-null   int64  \n 20  RoofStyle      1460 non-null   object \n 21  RoofMatl       1460 non-null   object \n 22  Exterior1st    1460 non-null   object \n 23  Exterior2nd    1460 non-null   object \n 24  MasVnrType     1452 non-null   object \n 25  MasVnrArea     1452 non-null   float64\n 26  ExterQual      1460 non-null   object \n 27  ExterCond      1460 non-null   object \n 28  Foundation     1460 non-null   object \n 29  BsmtQual       1423 non-null   object \n 30  BsmtCond       1423 non-null   object \n 31  BsmtExposure   1422 non-null   object \n 32  BsmtFinType1   1423 non-null   object \n 33  BsmtFinSF1     1460 non-null   int64  \n 34  BsmtFinType2   1422 non-null   object \n 35  BsmtFinSF2     1460 non-null   int64  \n 36  BsmtUnfSF      1460 non-null   int64  \n 37  TotalBsmtSF    1460 non-null   int64  \n 38  Heating        1460 non-null   object \n 39  HeatingQC      1460 non-null   object \n 40  CentralAir     1460 non-null   object \n 41  Electrical     1459 non-null   object \n 42  1stFlrSF       1460 non-null   int64  \n 43  2ndFlrSF       1460 non-null   int64  \n 44  LowQualFinSF   1460 non-null   int64  \n 45  GrLivArea      1460 non-null   int64  \n 46  BsmtFullBath   1460 non-null   int64  \n 47  BsmtHalfBath   1460 non-null   int64  \n 48  FullBath       1460 non-null   int64  \n 49  HalfBath       1460 non-null   int64  \n 50  BedroomAbvGr   1460 non-null   int64  \n 51  KitchenAbvGr   1460 non-null   int64  \n 52  KitchenQual    1460 non-null   object \n 53  TotRmsAbvGrd   1460 non-null   int64  \n 54  Functional     1460 non-null   object \n 55  Fireplaces     1460 non-null   int64  \n 56  FireplaceQu    770 non-null    object \n 57  GarageType     1379 non-null   object \n 58  GarageYrBlt    1379 non-null   float64\n 59  GarageFinish   1379 non-null   object \n 60  GarageCars     1460 non-null   int64  \n 61  GarageArea     1460 non-null   int64  \n 62  GarageQual     1379 non-null   object \n 63  GarageCond     1379 non-null   object \n 64  PavedDrive     1460 non-null   object \n 65  WoodDeckSF     1460 non-null   int64  \n 66  OpenPorchSF    1460 non-null   int64  \n 67  EnclosedPorch  1460 non-null   int64  \n 68  3SsnPorch      1460 non-null   int64  \n 69  ScreenPorch    1460 non-null   int64  \n 70  PoolArea       1460 non-null   int64  \n 71  PoolQC         7 non-null      object \n 72  Fence          281 non-null    object \n 73  MiscFeature    54 non-null     object \n 74  MiscVal        1460 non-null   int64  \n 75  MoSold         1460 non-null   int64  \n 76  YrSold         1460 non-null   int64  \n 77  SaleType       1460 non-null   object \n 78  SaleCondition  1460 non-null   object \n 79  SalePrice      1460 non-null   int64  \ndtypes: float64(3), int64(34), object(43)\nmemory usage: 923.9+ KB\n"
     ]
    }
   ],
   "source": [
    "df.info()"
   ]
  },
  {
   "cell_type": "code",
   "execution_count": 4,
   "metadata": {},
   "outputs": [],
   "source": [
    "# Create a function to evaluate missing in data, check unique in object (categorical col)\n",
    "def check_nan(df):\n",
    "\n",
    "    check = []\n",
    "\n",
    "    for col in df.columns:\n",
    "\n",
    "        if df.dtypes[col] == 'object':\n",
    "            type = 'Object'\n",
    "            unique_obj = df[col].unique()\n",
    "        else:\n",
    "            type = 'Numeric'\n",
    "            unique_obj = ''\n",
    "\n",
    "        total_nan = df[col].isnull().sum()\n",
    "        percent_nan = total_nan/len(df[col])\n",
    "        check.append([col, type, total_nan, percent_nan, unique_obj])\n",
    "\n",
    "    check_df = pd.DataFrame(check, columns=['Col', 'Type', 'Total_NaN', 'Percent', 'Unique'])\n",
    "\n",
    "    return check_df"
   ]
  },
  {
   "cell_type": "code",
   "execution_count": 5,
   "metadata": {},
   "outputs": [
    {
     "output_type": "execute_result",
     "data": {
      "text/plain": [
       "              Col     Type  Total_NaN   Percent  \\\n",
       "0      MSSubClass  Numeric          0  0.000000   \n",
       "1        MSZoning   Object          0  0.000000   \n",
       "2     LotFrontage  Numeric        259  0.177397   \n",
       "3         LotArea  Numeric          0  0.000000   \n",
       "4          Street   Object          0  0.000000   \n",
       "..            ...      ...        ...       ...   \n",
       "75         MoSold  Numeric          0  0.000000   \n",
       "76         YrSold  Numeric          0  0.000000   \n",
       "77       SaleType   Object          0  0.000000   \n",
       "78  SaleCondition   Object          0  0.000000   \n",
       "79      SalePrice  Numeric          0  0.000000   \n",
       "\n",
       "                                               Unique  \n",
       "0                                                      \n",
       "1                           [RL, RM, C (all), FV, RH]  \n",
       "2                                                      \n",
       "3                                                      \n",
       "4                                        [Pave, Grvl]  \n",
       "..                                                ...  \n",
       "75                                                     \n",
       "76                                                     \n",
       "77  [WD, New, COD, ConLD, ConLI, CWD, ConLw, Con, ...  \n",
       "78  [Normal, Abnorml, Partial, AdjLand, Alloca, Fa...  \n",
       "79                                                     \n",
       "\n",
       "[80 rows x 5 columns]"
      ],
      "text/html": "<div>\n<style scoped>\n    .dataframe tbody tr th:only-of-type {\n        vertical-align: middle;\n    }\n\n    .dataframe tbody tr th {\n        vertical-align: top;\n    }\n\n    .dataframe thead th {\n        text-align: right;\n    }\n</style>\n<table border=\"1\" class=\"dataframe\">\n  <thead>\n    <tr style=\"text-align: right;\">\n      <th></th>\n      <th>Col</th>\n      <th>Type</th>\n      <th>Total_NaN</th>\n      <th>Percent</th>\n      <th>Unique</th>\n    </tr>\n  </thead>\n  <tbody>\n    <tr>\n      <th>0</th>\n      <td>MSSubClass</td>\n      <td>Numeric</td>\n      <td>0</td>\n      <td>0.000000</td>\n      <td></td>\n    </tr>\n    <tr>\n      <th>1</th>\n      <td>MSZoning</td>\n      <td>Object</td>\n      <td>0</td>\n      <td>0.000000</td>\n      <td>[RL, RM, C (all), FV, RH]</td>\n    </tr>\n    <tr>\n      <th>2</th>\n      <td>LotFrontage</td>\n      <td>Numeric</td>\n      <td>259</td>\n      <td>0.177397</td>\n      <td></td>\n    </tr>\n    <tr>\n      <th>3</th>\n      <td>LotArea</td>\n      <td>Numeric</td>\n      <td>0</td>\n      <td>0.000000</td>\n      <td></td>\n    </tr>\n    <tr>\n      <th>4</th>\n      <td>Street</td>\n      <td>Object</td>\n      <td>0</td>\n      <td>0.000000</td>\n      <td>[Pave, Grvl]</td>\n    </tr>\n    <tr>\n      <th>...</th>\n      <td>...</td>\n      <td>...</td>\n      <td>...</td>\n      <td>...</td>\n      <td>...</td>\n    </tr>\n    <tr>\n      <th>75</th>\n      <td>MoSold</td>\n      <td>Numeric</td>\n      <td>0</td>\n      <td>0.000000</td>\n      <td></td>\n    </tr>\n    <tr>\n      <th>76</th>\n      <td>YrSold</td>\n      <td>Numeric</td>\n      <td>0</td>\n      <td>0.000000</td>\n      <td></td>\n    </tr>\n    <tr>\n      <th>77</th>\n      <td>SaleType</td>\n      <td>Object</td>\n      <td>0</td>\n      <td>0.000000</td>\n      <td>[WD, New, COD, ConLD, ConLI, CWD, ConLw, Con, ...</td>\n    </tr>\n    <tr>\n      <th>78</th>\n      <td>SaleCondition</td>\n      <td>Object</td>\n      <td>0</td>\n      <td>0.000000</td>\n      <td>[Normal, Abnorml, Partial, AdjLand, Alloca, Fa...</td>\n    </tr>\n    <tr>\n      <th>79</th>\n      <td>SalePrice</td>\n      <td>Numeric</td>\n      <td>0</td>\n      <td>0.000000</td>\n      <td></td>\n    </tr>\n  </tbody>\n</table>\n<p>80 rows × 5 columns</p>\n</div>"
     },
     "metadata": {},
     "execution_count": 5
    }
   ],
   "source": [
    "check = check_nan(df)\n",
    "check"
   ]
  },
  {
   "cell_type": "code",
   "execution_count": 6,
   "metadata": {},
   "outputs": [
    {
     "output_type": "stream",
     "name": "stdout",
     "text": [
      "['RL' 'RM' 'C (all)' 'FV' 'RH']\n['Pave' 'Grvl']\n['Reg' 'IR1' 'IR2' 'IR3']\n['Lvl' 'Bnk' 'Low' 'HLS']\n['AllPub' 'NoSeWa']\n['Inside' 'FR2' 'Corner' 'CulDSac' 'FR3']\n['Gtl' 'Mod' 'Sev']\n['CollgCr' 'Veenker' 'Crawfor' 'NoRidge' 'Mitchel' 'Somerst' 'NWAmes'\n 'OldTown' 'BrkSide' 'Sawyer' 'NridgHt' 'NAmes' 'SawyerW' 'IDOTRR'\n 'MeadowV' 'Edwards' 'Timber' 'Gilbert' 'StoneBr' 'ClearCr' 'NPkVill'\n 'Blmngtn' 'BrDale' 'SWISU' 'Blueste']\n['Norm' 'Feedr' 'PosN' 'Artery' 'RRAe' 'RRNn' 'RRAn' 'PosA' 'RRNe']\n['Norm' 'Artery' 'RRNn' 'Feedr' 'PosN' 'PosA' 'RRAn' 'RRAe']\n['1Fam' '2fmCon' 'Duplex' 'TwnhsE' 'Twnhs']\n['2Story' '1Story' '1.5Fin' '1.5Unf' 'SFoyer' 'SLvl' '2.5Unf' '2.5Fin']\n['Gable' 'Hip' 'Gambrel' 'Mansard' 'Flat' 'Shed']\n['CompShg' 'WdShngl' 'Metal' 'WdShake' 'Membran' 'Tar&Grv' 'Roll'\n 'ClyTile']\n['VinylSd' 'MetalSd' 'Wd Sdng' 'HdBoard' 'BrkFace' 'WdShing' 'CemntBd'\n 'Plywood' 'AsbShng' 'Stucco' 'BrkComm' 'AsphShn' 'Stone' 'ImStucc'\n 'CBlock']\n['VinylSd' 'MetalSd' 'Wd Shng' 'HdBoard' 'Plywood' 'Wd Sdng' 'CmentBd'\n 'BrkFace' 'Stucco' 'AsbShng' 'Brk Cmn' 'ImStucc' 'AsphShn' 'Stone'\n 'Other' 'CBlock']\n['Gd' 'TA' 'Ex' 'Fa']\n['TA' 'Gd' 'Fa' 'Po' 'Ex']\n['PConc' 'CBlock' 'BrkTil' 'Wood' 'Slab' 'Stone']\n['GasA' 'GasW' 'Grav' 'Wall' 'OthW' 'Floor']\n['Ex' 'Gd' 'TA' 'Fa' 'Po']\n['Y' 'N']\n['Gd' 'TA' 'Ex' 'Fa']\n['Typ' 'Min1' 'Maj1' 'Min2' 'Mod' 'Maj2' 'Sev']\n['Y' 'N' 'P']\n['WD' 'New' 'COD' 'ConLD' 'ConLI' 'CWD' 'ConLw' 'Con' 'Oth']\n['Normal' 'Abnorml' 'Partial' 'AdjLand' 'Alloca' 'Family']\n"
     ]
    }
   ],
   "source": [
    "# Check Type Object + Total_NaN == 0, to see Unique, if have any incorrect\n",
    "re_check_obj = check[(check['Type'] == 'Object') & (check['Total_NaN'] == 0)]['Unique']\n",
    "for i in range(len(re_check_obj)):\n",
    "    print(re_check_obj.iloc[i])\n",
    "# Check to see object like '?', 'Unknown', 'Dont know', 'Not Available' ... \n",
    "# It seem re_check_obj clean"
   ]
  },
  {
   "cell_type": "code",
   "execution_count": 7,
   "metadata": {},
   "outputs": [
    {
     "output_type": "execute_result",
     "data": {
      "text/plain": [
       "             Col     Type  Total_NaN   Percent  \\\n",
       "2    LotFrontage  Numeric        259  0.177397   \n",
       "5          Alley   Object       1369  0.937671   \n",
       "24    MasVnrType   Object          8  0.005479   \n",
       "25    MasVnrArea  Numeric          8  0.005479   \n",
       "29      BsmtQual   Object         37  0.025342   \n",
       "30      BsmtCond   Object         37  0.025342   \n",
       "31  BsmtExposure   Object         38  0.026027   \n",
       "32  BsmtFinType1   Object         37  0.025342   \n",
       "34  BsmtFinType2   Object         38  0.026027   \n",
       "41    Electrical   Object          1  0.000685   \n",
       "56   FireplaceQu   Object        690  0.472603   \n",
       "57    GarageType   Object         81  0.055479   \n",
       "58   GarageYrBlt  Numeric         81  0.055479   \n",
       "59  GarageFinish   Object         81  0.055479   \n",
       "62    GarageQual   Object         81  0.055479   \n",
       "63    GarageCond   Object         81  0.055479   \n",
       "71        PoolQC   Object       1453  0.995205   \n",
       "72         Fence   Object       1179  0.807534   \n",
       "73   MiscFeature   Object       1406  0.963014   \n",
       "\n",
       "                                               Unique  \n",
       "2                                                      \n",
       "5                                   [nan, Grvl, Pave]  \n",
       "24                [BrkFace, None, Stone, BrkCmn, nan]  \n",
       "25                                                     \n",
       "29                              [Gd, TA, Ex, nan, Fa]  \n",
       "30                              [TA, Gd, nan, Fa, Po]  \n",
       "31                              [No, Gd, Mn, Av, nan]  \n",
       "32                [GLQ, ALQ, Unf, Rec, BLQ, nan, LwQ]  \n",
       "34                [Unf, BLQ, nan, ALQ, Rec, LwQ, GLQ]  \n",
       "41             [SBrkr, FuseF, FuseA, FuseP, Mix, nan]  \n",
       "56                          [nan, TA, Gd, Fa, Ex, Po]  \n",
       "57  [Attchd, Detchd, BuiltIn, CarPort, nan, Basmen...  \n",
       "58                                                     \n",
       "59                               [RFn, Unf, Fin, nan]  \n",
       "62                          [TA, Fa, Gd, nan, Ex, Po]  \n",
       "63                          [TA, Fa, nan, Gd, Po, Ex]  \n",
       "71                                  [nan, Ex, Fa, Gd]  \n",
       "72                    [nan, MnPrv, GdWo, GdPrv, MnWw]  \n",
       "73                      [nan, Shed, Gar2, Othr, TenC]  "
      ],
      "text/html": "<div>\n<style scoped>\n    .dataframe tbody tr th:only-of-type {\n        vertical-align: middle;\n    }\n\n    .dataframe tbody tr th {\n        vertical-align: top;\n    }\n\n    .dataframe thead th {\n        text-align: right;\n    }\n</style>\n<table border=\"1\" class=\"dataframe\">\n  <thead>\n    <tr style=\"text-align: right;\">\n      <th></th>\n      <th>Col</th>\n      <th>Type</th>\n      <th>Total_NaN</th>\n      <th>Percent</th>\n      <th>Unique</th>\n    </tr>\n  </thead>\n  <tbody>\n    <tr>\n      <th>2</th>\n      <td>LotFrontage</td>\n      <td>Numeric</td>\n      <td>259</td>\n      <td>0.177397</td>\n      <td></td>\n    </tr>\n    <tr>\n      <th>5</th>\n      <td>Alley</td>\n      <td>Object</td>\n      <td>1369</td>\n      <td>0.937671</td>\n      <td>[nan, Grvl, Pave]</td>\n    </tr>\n    <tr>\n      <th>24</th>\n      <td>MasVnrType</td>\n      <td>Object</td>\n      <td>8</td>\n      <td>0.005479</td>\n      <td>[BrkFace, None, Stone, BrkCmn, nan]</td>\n    </tr>\n    <tr>\n      <th>25</th>\n      <td>MasVnrArea</td>\n      <td>Numeric</td>\n      <td>8</td>\n      <td>0.005479</td>\n      <td></td>\n    </tr>\n    <tr>\n      <th>29</th>\n      <td>BsmtQual</td>\n      <td>Object</td>\n      <td>37</td>\n      <td>0.025342</td>\n      <td>[Gd, TA, Ex, nan, Fa]</td>\n    </tr>\n    <tr>\n      <th>30</th>\n      <td>BsmtCond</td>\n      <td>Object</td>\n      <td>37</td>\n      <td>0.025342</td>\n      <td>[TA, Gd, nan, Fa, Po]</td>\n    </tr>\n    <tr>\n      <th>31</th>\n      <td>BsmtExposure</td>\n      <td>Object</td>\n      <td>38</td>\n      <td>0.026027</td>\n      <td>[No, Gd, Mn, Av, nan]</td>\n    </tr>\n    <tr>\n      <th>32</th>\n      <td>BsmtFinType1</td>\n      <td>Object</td>\n      <td>37</td>\n      <td>0.025342</td>\n      <td>[GLQ, ALQ, Unf, Rec, BLQ, nan, LwQ]</td>\n    </tr>\n    <tr>\n      <th>34</th>\n      <td>BsmtFinType2</td>\n      <td>Object</td>\n      <td>38</td>\n      <td>0.026027</td>\n      <td>[Unf, BLQ, nan, ALQ, Rec, LwQ, GLQ]</td>\n    </tr>\n    <tr>\n      <th>41</th>\n      <td>Electrical</td>\n      <td>Object</td>\n      <td>1</td>\n      <td>0.000685</td>\n      <td>[SBrkr, FuseF, FuseA, FuseP, Mix, nan]</td>\n    </tr>\n    <tr>\n      <th>56</th>\n      <td>FireplaceQu</td>\n      <td>Object</td>\n      <td>690</td>\n      <td>0.472603</td>\n      <td>[nan, TA, Gd, Fa, Ex, Po]</td>\n    </tr>\n    <tr>\n      <th>57</th>\n      <td>GarageType</td>\n      <td>Object</td>\n      <td>81</td>\n      <td>0.055479</td>\n      <td>[Attchd, Detchd, BuiltIn, CarPort, nan, Basmen...</td>\n    </tr>\n    <tr>\n      <th>58</th>\n      <td>GarageYrBlt</td>\n      <td>Numeric</td>\n      <td>81</td>\n      <td>0.055479</td>\n      <td></td>\n    </tr>\n    <tr>\n      <th>59</th>\n      <td>GarageFinish</td>\n      <td>Object</td>\n      <td>81</td>\n      <td>0.055479</td>\n      <td>[RFn, Unf, Fin, nan]</td>\n    </tr>\n    <tr>\n      <th>62</th>\n      <td>GarageQual</td>\n      <td>Object</td>\n      <td>81</td>\n      <td>0.055479</td>\n      <td>[TA, Fa, Gd, nan, Ex, Po]</td>\n    </tr>\n    <tr>\n      <th>63</th>\n      <td>GarageCond</td>\n      <td>Object</td>\n      <td>81</td>\n      <td>0.055479</td>\n      <td>[TA, Fa, nan, Gd, Po, Ex]</td>\n    </tr>\n    <tr>\n      <th>71</th>\n      <td>PoolQC</td>\n      <td>Object</td>\n      <td>1453</td>\n      <td>0.995205</td>\n      <td>[nan, Ex, Fa, Gd]</td>\n    </tr>\n    <tr>\n      <th>72</th>\n      <td>Fence</td>\n      <td>Object</td>\n      <td>1179</td>\n      <td>0.807534</td>\n      <td>[nan, MnPrv, GdWo, GdPrv, MnWw]</td>\n    </tr>\n    <tr>\n      <th>73</th>\n      <td>MiscFeature</td>\n      <td>Object</td>\n      <td>1406</td>\n      <td>0.963014</td>\n      <td>[nan, Shed, Gar2, Othr, TenC]</td>\n    </tr>\n  </tbody>\n</table>\n</div>"
     },
     "metadata": {},
     "execution_count": 7
    }
   ],
   "source": [
    "# See miss_df\n",
    "miss_df = check[check['Total_NaN'] != 0]\n",
    "miss_df\n",
    "# <20% percent of missing seem can use imputation, drop all col > 20% misssing"
   ]
  },
  {
   "cell_type": "code",
   "execution_count": 8,
   "metadata": {},
   "outputs": [
    {
     "output_type": "execute_result",
     "data": {
      "text/plain": [
       "             Col     Type  Total_NaN   Percent  \\\n",
       "2    LotFrontage  Numeric        259  0.177397   \n",
       "24    MasVnrType   Object          8  0.005479   \n",
       "25    MasVnrArea  Numeric          8  0.005479   \n",
       "29      BsmtQual   Object         37  0.025342   \n",
       "30      BsmtCond   Object         37  0.025342   \n",
       "31  BsmtExposure   Object         38  0.026027   \n",
       "32  BsmtFinType1   Object         37  0.025342   \n",
       "34  BsmtFinType2   Object         38  0.026027   \n",
       "41    Electrical   Object          1  0.000685   \n",
       "57    GarageType   Object         81  0.055479   \n",
       "58   GarageYrBlt  Numeric         81  0.055479   \n",
       "59  GarageFinish   Object         81  0.055479   \n",
       "62    GarageQual   Object         81  0.055479   \n",
       "63    GarageCond   Object         81  0.055479   \n",
       "\n",
       "                                               Unique  \n",
       "2                                                      \n",
       "24                [BrkFace, None, Stone, BrkCmn, nan]  \n",
       "25                                                     \n",
       "29                              [Gd, TA, Ex, nan, Fa]  \n",
       "30                              [TA, Gd, nan, Fa, Po]  \n",
       "31                              [No, Gd, Mn, Av, nan]  \n",
       "32                [GLQ, ALQ, Unf, Rec, BLQ, nan, LwQ]  \n",
       "34                [Unf, BLQ, nan, ALQ, Rec, LwQ, GLQ]  \n",
       "41             [SBrkr, FuseF, FuseA, FuseP, Mix, nan]  \n",
       "57  [Attchd, Detchd, BuiltIn, CarPort, nan, Basmen...  \n",
       "58                                                     \n",
       "59                               [RFn, Unf, Fin, nan]  \n",
       "62                          [TA, Fa, Gd, nan, Ex, Po]  \n",
       "63                          [TA, Fa, nan, Gd, Po, Ex]  "
      ],
      "text/html": "<div>\n<style scoped>\n    .dataframe tbody tr th:only-of-type {\n        vertical-align: middle;\n    }\n\n    .dataframe tbody tr th {\n        vertical-align: top;\n    }\n\n    .dataframe thead th {\n        text-align: right;\n    }\n</style>\n<table border=\"1\" class=\"dataframe\">\n  <thead>\n    <tr style=\"text-align: right;\">\n      <th></th>\n      <th>Col</th>\n      <th>Type</th>\n      <th>Total_NaN</th>\n      <th>Percent</th>\n      <th>Unique</th>\n    </tr>\n  </thead>\n  <tbody>\n    <tr>\n      <th>2</th>\n      <td>LotFrontage</td>\n      <td>Numeric</td>\n      <td>259</td>\n      <td>0.177397</td>\n      <td></td>\n    </tr>\n    <tr>\n      <th>24</th>\n      <td>MasVnrType</td>\n      <td>Object</td>\n      <td>8</td>\n      <td>0.005479</td>\n      <td>[BrkFace, None, Stone, BrkCmn, nan]</td>\n    </tr>\n    <tr>\n      <th>25</th>\n      <td>MasVnrArea</td>\n      <td>Numeric</td>\n      <td>8</td>\n      <td>0.005479</td>\n      <td></td>\n    </tr>\n    <tr>\n      <th>29</th>\n      <td>BsmtQual</td>\n      <td>Object</td>\n      <td>37</td>\n      <td>0.025342</td>\n      <td>[Gd, TA, Ex, nan, Fa]</td>\n    </tr>\n    <tr>\n      <th>30</th>\n      <td>BsmtCond</td>\n      <td>Object</td>\n      <td>37</td>\n      <td>0.025342</td>\n      <td>[TA, Gd, nan, Fa, Po]</td>\n    </tr>\n    <tr>\n      <th>31</th>\n      <td>BsmtExposure</td>\n      <td>Object</td>\n      <td>38</td>\n      <td>0.026027</td>\n      <td>[No, Gd, Mn, Av, nan]</td>\n    </tr>\n    <tr>\n      <th>32</th>\n      <td>BsmtFinType1</td>\n      <td>Object</td>\n      <td>37</td>\n      <td>0.025342</td>\n      <td>[GLQ, ALQ, Unf, Rec, BLQ, nan, LwQ]</td>\n    </tr>\n    <tr>\n      <th>34</th>\n      <td>BsmtFinType2</td>\n      <td>Object</td>\n      <td>38</td>\n      <td>0.026027</td>\n      <td>[Unf, BLQ, nan, ALQ, Rec, LwQ, GLQ]</td>\n    </tr>\n    <tr>\n      <th>41</th>\n      <td>Electrical</td>\n      <td>Object</td>\n      <td>1</td>\n      <td>0.000685</td>\n      <td>[SBrkr, FuseF, FuseA, FuseP, Mix, nan]</td>\n    </tr>\n    <tr>\n      <th>57</th>\n      <td>GarageType</td>\n      <td>Object</td>\n      <td>81</td>\n      <td>0.055479</td>\n      <td>[Attchd, Detchd, BuiltIn, CarPort, nan, Basmen...</td>\n    </tr>\n    <tr>\n      <th>58</th>\n      <td>GarageYrBlt</td>\n      <td>Numeric</td>\n      <td>81</td>\n      <td>0.055479</td>\n      <td></td>\n    </tr>\n    <tr>\n      <th>59</th>\n      <td>GarageFinish</td>\n      <td>Object</td>\n      <td>81</td>\n      <td>0.055479</td>\n      <td>[RFn, Unf, Fin, nan]</td>\n    </tr>\n    <tr>\n      <th>62</th>\n      <td>GarageQual</td>\n      <td>Object</td>\n      <td>81</td>\n      <td>0.055479</td>\n      <td>[TA, Fa, Gd, nan, Ex, Po]</td>\n    </tr>\n    <tr>\n      <th>63</th>\n      <td>GarageCond</td>\n      <td>Object</td>\n      <td>81</td>\n      <td>0.055479</td>\n      <td>[TA, Fa, nan, Gd, Po, Ex]</td>\n    </tr>\n  </tbody>\n</table>\n</div>"
     },
     "metadata": {},
     "execution_count": 8
    }
   ],
   "source": [
    "col_drop = miss_df[miss_df['Percent'] > 0.2]['Col']\n",
    "df.drop(columns=col_drop.tolist(), inplace=True)\n",
    "# update miss_df, result\n",
    "check.drop(col_drop.index, inplace=True)\n",
    "miss_df.drop(col_drop.index, inplace=True)\n",
    "miss_df"
   ]
  },
  {
   "cell_type": "code",
   "execution_count": 10,
   "metadata": {},
   "outputs": [
    {
     "output_type": "execute_result",
     "data": {
      "text/plain": [
       "      MSSubClass  MSZoning  LotFrontage  LotArea  Street  LotShape  \\\n",
       "Id                                                                   \n",
       "1             60       3.0         65.0     8450     1.0       3.0   \n",
       "2             20       3.0         80.0     9600     1.0       3.0   \n",
       "3             60       3.0         68.0    11250     1.0       0.0   \n",
       "4             70       3.0         60.0     9550     1.0       0.0   \n",
       "5             60       3.0         84.0    14260     1.0       0.0   \n",
       "...          ...       ...          ...      ...     ...       ...   \n",
       "1456          60       3.0         62.0     7917     1.0       3.0   \n",
       "1457          20       3.0         85.0    13175     1.0       3.0   \n",
       "1458          70       3.0         66.0     9042     1.0       3.0   \n",
       "1459          20       3.0         68.0     9717     1.0       3.0   \n",
       "1460          20       3.0         75.0     9937     1.0       3.0   \n",
       "\n",
       "      LandContour  Utilities  LotConfig  LandSlope  ...  EnclosedPorch  \\\n",
       "Id                                                  ...                  \n",
       "1             3.0        0.0        4.0        0.0  ...              0   \n",
       "2             3.0        0.0        2.0        0.0  ...              0   \n",
       "3             3.0        0.0        4.0        0.0  ...              0   \n",
       "4             3.0        0.0        0.0        0.0  ...            272   \n",
       "5             3.0        0.0        2.0        0.0  ...              0   \n",
       "...           ...        ...        ...        ...  ...            ...   \n",
       "1456          3.0        0.0        4.0        0.0  ...              0   \n",
       "1457          3.0        0.0        4.0        0.0  ...              0   \n",
       "1458          3.0        0.0        4.0        0.0  ...              0   \n",
       "1459          3.0        0.0        4.0        0.0  ...            112   \n",
       "1460          3.0        0.0        4.0        0.0  ...              0   \n",
       "\n",
       "      3SsnPorch  ScreenPorch  PoolArea  MiscVal  MoSold  YrSold  SaleType  \\\n",
       "Id                                                                          \n",
       "1             0            0         0        0       2    2008       8.0   \n",
       "2             0            0         0        0       5    2007       8.0   \n",
       "3             0            0         0        0       9    2008       8.0   \n",
       "4             0            0         0        0       2    2006       8.0   \n",
       "5             0            0         0        0      12    2008       8.0   \n",
       "...         ...          ...       ...      ...     ...     ...       ...   \n",
       "1456          0            0         0        0       8    2007       8.0   \n",
       "1457          0            0         0        0       2    2010       8.0   \n",
       "1458          0            0         0     2500       5    2010       8.0   \n",
       "1459          0            0         0        0       4    2010       8.0   \n",
       "1460          0            0         0        0       6    2008       8.0   \n",
       "\n",
       "      SaleCondition  SalePrice  \n",
       "Id                              \n",
       "1               4.0     208500  \n",
       "2               4.0     181500  \n",
       "3               4.0     223500  \n",
       "4               0.0     140000  \n",
       "5               4.0     250000  \n",
       "...             ...        ...  \n",
       "1456            4.0     175000  \n",
       "1457            4.0     210000  \n",
       "1458            4.0     266500  \n",
       "1459            4.0     142125  \n",
       "1460            4.0     147500  \n",
       "\n",
       "[1460 rows x 75 columns]"
      ],
      "text/html": "<div>\n<style scoped>\n    .dataframe tbody tr th:only-of-type {\n        vertical-align: middle;\n    }\n\n    .dataframe tbody tr th {\n        vertical-align: top;\n    }\n\n    .dataframe thead th {\n        text-align: right;\n    }\n</style>\n<table border=\"1\" class=\"dataframe\">\n  <thead>\n    <tr style=\"text-align: right;\">\n      <th></th>\n      <th>MSSubClass</th>\n      <th>MSZoning</th>\n      <th>LotFrontage</th>\n      <th>LotArea</th>\n      <th>Street</th>\n      <th>LotShape</th>\n      <th>LandContour</th>\n      <th>Utilities</th>\n      <th>LotConfig</th>\n      <th>LandSlope</th>\n      <th>...</th>\n      <th>EnclosedPorch</th>\n      <th>3SsnPorch</th>\n      <th>ScreenPorch</th>\n      <th>PoolArea</th>\n      <th>MiscVal</th>\n      <th>MoSold</th>\n      <th>YrSold</th>\n      <th>SaleType</th>\n      <th>SaleCondition</th>\n      <th>SalePrice</th>\n    </tr>\n    <tr>\n      <th>Id</th>\n      <th></th>\n      <th></th>\n      <th></th>\n      <th></th>\n      <th></th>\n      <th></th>\n      <th></th>\n      <th></th>\n      <th></th>\n      <th></th>\n      <th></th>\n      <th></th>\n      <th></th>\n      <th></th>\n      <th></th>\n      <th></th>\n      <th></th>\n      <th></th>\n      <th></th>\n      <th></th>\n      <th></th>\n    </tr>\n  </thead>\n  <tbody>\n    <tr>\n      <th>1</th>\n      <td>60</td>\n      <td>3.0</td>\n      <td>65.0</td>\n      <td>8450</td>\n      <td>1.0</td>\n      <td>3.0</td>\n      <td>3.0</td>\n      <td>0.0</td>\n      <td>4.0</td>\n      <td>0.0</td>\n      <td>...</td>\n      <td>0</td>\n      <td>0</td>\n      <td>0</td>\n      <td>0</td>\n      <td>0</td>\n      <td>2</td>\n      <td>2008</td>\n      <td>8.0</td>\n      <td>4.0</td>\n      <td>208500</td>\n    </tr>\n    <tr>\n      <th>2</th>\n      <td>20</td>\n      <td>3.0</td>\n      <td>80.0</td>\n      <td>9600</td>\n      <td>1.0</td>\n      <td>3.0</td>\n      <td>3.0</td>\n      <td>0.0</td>\n      <td>2.0</td>\n      <td>0.0</td>\n      <td>...</td>\n      <td>0</td>\n      <td>0</td>\n      <td>0</td>\n      <td>0</td>\n      <td>0</td>\n      <td>5</td>\n      <td>2007</td>\n      <td>8.0</td>\n      <td>4.0</td>\n      <td>181500</td>\n    </tr>\n    <tr>\n      <th>3</th>\n      <td>60</td>\n      <td>3.0</td>\n      <td>68.0</td>\n      <td>11250</td>\n      <td>1.0</td>\n      <td>0.0</td>\n      <td>3.0</td>\n      <td>0.0</td>\n      <td>4.0</td>\n      <td>0.0</td>\n      <td>...</td>\n      <td>0</td>\n      <td>0</td>\n      <td>0</td>\n      <td>0</td>\n      <td>0</td>\n      <td>9</td>\n      <td>2008</td>\n      <td>8.0</td>\n      <td>4.0</td>\n      <td>223500</td>\n    </tr>\n    <tr>\n      <th>4</th>\n      <td>70</td>\n      <td>3.0</td>\n      <td>60.0</td>\n      <td>9550</td>\n      <td>1.0</td>\n      <td>0.0</td>\n      <td>3.0</td>\n      <td>0.0</td>\n      <td>0.0</td>\n      <td>0.0</td>\n      <td>...</td>\n      <td>272</td>\n      <td>0</td>\n      <td>0</td>\n      <td>0</td>\n      <td>0</td>\n      <td>2</td>\n      <td>2006</td>\n      <td>8.0</td>\n      <td>0.0</td>\n      <td>140000</td>\n    </tr>\n    <tr>\n      <th>5</th>\n      <td>60</td>\n      <td>3.0</td>\n      <td>84.0</td>\n      <td>14260</td>\n      <td>1.0</td>\n      <td>0.0</td>\n      <td>3.0</td>\n      <td>0.0</td>\n      <td>2.0</td>\n      <td>0.0</td>\n      <td>...</td>\n      <td>0</td>\n      <td>0</td>\n      <td>0</td>\n      <td>0</td>\n      <td>0</td>\n      <td>12</td>\n      <td>2008</td>\n      <td>8.0</td>\n      <td>4.0</td>\n      <td>250000</td>\n    </tr>\n    <tr>\n      <th>...</th>\n      <td>...</td>\n      <td>...</td>\n      <td>...</td>\n      <td>...</td>\n      <td>...</td>\n      <td>...</td>\n      <td>...</td>\n      <td>...</td>\n      <td>...</td>\n      <td>...</td>\n      <td>...</td>\n      <td>...</td>\n      <td>...</td>\n      <td>...</td>\n      <td>...</td>\n      <td>...</td>\n      <td>...</td>\n      <td>...</td>\n      <td>...</td>\n      <td>...</td>\n      <td>...</td>\n    </tr>\n    <tr>\n      <th>1456</th>\n      <td>60</td>\n      <td>3.0</td>\n      <td>62.0</td>\n      <td>7917</td>\n      <td>1.0</td>\n      <td>3.0</td>\n      <td>3.0</td>\n      <td>0.0</td>\n      <td>4.0</td>\n      <td>0.0</td>\n      <td>...</td>\n      <td>0</td>\n      <td>0</td>\n      <td>0</td>\n      <td>0</td>\n      <td>0</td>\n      <td>8</td>\n      <td>2007</td>\n      <td>8.0</td>\n      <td>4.0</td>\n      <td>175000</td>\n    </tr>\n    <tr>\n      <th>1457</th>\n      <td>20</td>\n      <td>3.0</td>\n      <td>85.0</td>\n      <td>13175</td>\n      <td>1.0</td>\n      <td>3.0</td>\n      <td>3.0</td>\n      <td>0.0</td>\n      <td>4.0</td>\n      <td>0.0</td>\n      <td>...</td>\n      <td>0</td>\n      <td>0</td>\n      <td>0</td>\n      <td>0</td>\n      <td>0</td>\n      <td>2</td>\n      <td>2010</td>\n      <td>8.0</td>\n      <td>4.0</td>\n      <td>210000</td>\n    </tr>\n    <tr>\n      <th>1458</th>\n      <td>70</td>\n      <td>3.0</td>\n      <td>66.0</td>\n      <td>9042</td>\n      <td>1.0</td>\n      <td>3.0</td>\n      <td>3.0</td>\n      <td>0.0</td>\n      <td>4.0</td>\n      <td>0.0</td>\n      <td>...</td>\n      <td>0</td>\n      <td>0</td>\n      <td>0</td>\n      <td>0</td>\n      <td>2500</td>\n      <td>5</td>\n      <td>2010</td>\n      <td>8.0</td>\n      <td>4.0</td>\n      <td>266500</td>\n    </tr>\n    <tr>\n      <th>1459</th>\n      <td>20</td>\n      <td>3.0</td>\n      <td>68.0</td>\n      <td>9717</td>\n      <td>1.0</td>\n      <td>3.0</td>\n      <td>3.0</td>\n      <td>0.0</td>\n      <td>4.0</td>\n      <td>0.0</td>\n      <td>...</td>\n      <td>112</td>\n      <td>0</td>\n      <td>0</td>\n      <td>0</td>\n      <td>0</td>\n      <td>4</td>\n      <td>2010</td>\n      <td>8.0</td>\n      <td>4.0</td>\n      <td>142125</td>\n    </tr>\n    <tr>\n      <th>1460</th>\n      <td>20</td>\n      <td>3.0</td>\n      <td>75.0</td>\n      <td>9937</td>\n      <td>1.0</td>\n      <td>3.0</td>\n      <td>3.0</td>\n      <td>0.0</td>\n      <td>4.0</td>\n      <td>0.0</td>\n      <td>...</td>\n      <td>0</td>\n      <td>0</td>\n      <td>0</td>\n      <td>0</td>\n      <td>0</td>\n      <td>6</td>\n      <td>2008</td>\n      <td>8.0</td>\n      <td>4.0</td>\n      <td>147500</td>\n    </tr>\n  </tbody>\n</table>\n<p>1460 rows × 75 columns</p>\n</div>"
     },
     "metadata": {},
     "execution_count": 10
    }
   ],
   "source": [
    "def convert_to_ordinal(data, col, encoder):\n",
    "    encoder[col] = OrdinalEncoder()\n",
    "    df_nonnull = np.array(data[col].dropna())\n",
    "    impute_ordinal = encoder[col].fit_transform(df_nonnull.reshape(-1,1))\n",
    "    data[col].loc[data[col].notnull()] = np.squeeze(impute_ordinal)\n",
    "\n",
    "list_categoric = check[check['Type'] == 'Object']['Col'].tolist()\n",
    "\n",
    "df_encode = df.copy()\n",
    "encoder_dict = {}\n",
    "for col in list_categoric:\n",
    "    convert_to_ordinal(df_encode, col, encoder_dict)\n",
    "df_encode"
   ]
  },
  {
   "cell_type": "code",
   "execution_count": 12,
   "metadata": {},
   "outputs": [
    {
     "output_type": "stream",
     "name": "stdout",
     "text": [
      "<class 'pandas.core.frame.DataFrame'>\nRangeIndex: 1460 entries, 0 to 1459\nData columns (total 75 columns):\n #   Column         Non-Null Count  Dtype  \n---  ------         --------------  -----  \n 0   MSSubClass     1460 non-null   float64\n 1   MSZoning       1460 non-null   float64\n 2   LotFrontage    1460 non-null   float64\n 3   LotArea        1460 non-null   float64\n 4   Street         1460 non-null   float64\n 5   LotShape       1460 non-null   float64\n 6   LandContour    1460 non-null   float64\n 7   Utilities      1460 non-null   float64\n 8   LotConfig      1460 non-null   float64\n 9   LandSlope      1460 non-null   float64\n 10  Neighborhood   1460 non-null   float64\n 11  Condition1     1460 non-null   float64\n 12  Condition2     1460 non-null   float64\n 13  BldgType       1460 non-null   float64\n 14  HouseStyle     1460 non-null   float64\n 15  OverallQual    1460 non-null   float64\n 16  OverallCond    1460 non-null   float64\n 17  YearBuilt      1460 non-null   float64\n 18  YearRemodAdd   1460 non-null   float64\n 19  RoofStyle      1460 non-null   float64\n 20  RoofMatl       1460 non-null   float64\n 21  Exterior1st    1460 non-null   float64\n 22  Exterior2nd    1460 non-null   float64\n 23  MasVnrType     1460 non-null   float64\n 24  MasVnrArea     1460 non-null   float64\n 25  ExterQual      1460 non-null   float64\n 26  ExterCond      1460 non-null   float64\n 27  Foundation     1460 non-null   float64\n 28  BsmtQual       1460 non-null   float64\n 29  BsmtCond       1460 non-null   float64\n 30  BsmtExposure   1460 non-null   float64\n 31  BsmtFinType1   1460 non-null   float64\n 32  BsmtFinSF1     1460 non-null   float64\n 33  BsmtFinType2   1460 non-null   float64\n 34  BsmtFinSF2     1460 non-null   float64\n 35  BsmtUnfSF      1460 non-null   float64\n 36  TotalBsmtSF    1460 non-null   float64\n 37  Heating        1460 non-null   float64\n 38  HeatingQC      1460 non-null   float64\n 39  CentralAir     1460 non-null   float64\n 40  Electrical     1460 non-null   float64\n 41  1stFlrSF       1460 non-null   float64\n 42  2ndFlrSF       1460 non-null   float64\n 43  LowQualFinSF   1460 non-null   float64\n 44  GrLivArea      1460 non-null   float64\n 45  BsmtFullBath   1460 non-null   float64\n 46  BsmtHalfBath   1460 non-null   float64\n 47  FullBath       1460 non-null   float64\n 48  HalfBath       1460 non-null   float64\n 49  BedroomAbvGr   1460 non-null   float64\n 50  KitchenAbvGr   1460 non-null   float64\n 51  KitchenQual    1460 non-null   float64\n 52  TotRmsAbvGrd   1460 non-null   float64\n 53  Functional     1460 non-null   float64\n 54  Fireplaces     1460 non-null   float64\n 55  GarageType     1460 non-null   float64\n 56  GarageYrBlt    1460 non-null   float64\n 57  GarageFinish   1460 non-null   float64\n 58  GarageCars     1460 non-null   float64\n 59  GarageArea     1460 non-null   float64\n 60  GarageQual     1460 non-null   float64\n 61  GarageCond     1460 non-null   float64\n 62  PavedDrive     1460 non-null   float64\n 63  WoodDeckSF     1460 non-null   float64\n 64  OpenPorchSF    1460 non-null   float64\n 65  EnclosedPorch  1460 non-null   float64\n 66  3SsnPorch      1460 non-null   float64\n 67  ScreenPorch    1460 non-null   float64\n 68  PoolArea       1460 non-null   float64\n 69  MiscVal        1460 non-null   float64\n 70  MoSold         1460 non-null   float64\n 71  YrSold         1460 non-null   float64\n 72  SaleType       1460 non-null   float64\n 73  SaleCondition  1460 non-null   float64\n 74  SalePrice      1460 non-null   float64\ndtypes: float64(75)\nmemory usage: 855.6 KB\n"
     ]
    }
   ],
   "source": [
    "imputer = KNNImputer(n_neighbors=3)\n",
    "imputed = imputer.fit_transform(df_encode)\n",
    "imputed_df = pd.DataFrame(np.round(imputed), columns=df_encode.columns)\n",
    "imputed_df.info()"
   ]
  },
  {
   "cell_type": "code",
   "execution_count": 13,
   "metadata": {},
   "outputs": [
    {
     "output_type": "execute_result",
     "data": {
      "text/plain": [
       "      MSSubClass  MSZoning  LotFrontage  LotArea  Street  LotShape  \\\n",
       "0           60.0       3.0         65.0   8450.0     1.0       3.0   \n",
       "1           20.0       3.0         80.0   9600.0     1.0       3.0   \n",
       "2           60.0       3.0         68.0  11250.0     1.0       0.0   \n",
       "3           70.0       3.0         60.0   9550.0     1.0       0.0   \n",
       "4           60.0       3.0         84.0  14260.0     1.0       0.0   \n",
       "...          ...       ...          ...      ...     ...       ...   \n",
       "1455        60.0       3.0         62.0   7917.0     1.0       3.0   \n",
       "1456        20.0       3.0         85.0  13175.0     1.0       3.0   \n",
       "1457        70.0       3.0         66.0   9042.0     1.0       3.0   \n",
       "1458        20.0       3.0         68.0   9717.0     1.0       3.0   \n",
       "1459        20.0       3.0         75.0   9937.0     1.0       3.0   \n",
       "\n",
       "      LandContour  Utilities  LotConfig  LandSlope  ...  EnclosedPorch  \\\n",
       "0             3.0        0.0        4.0        0.0  ...            0.0   \n",
       "1             3.0        0.0        2.0        0.0  ...            0.0   \n",
       "2             3.0        0.0        4.0        0.0  ...            0.0   \n",
       "3             3.0        0.0        0.0        0.0  ...          272.0   \n",
       "4             3.0        0.0        2.0        0.0  ...            0.0   \n",
       "...           ...        ...        ...        ...  ...            ...   \n",
       "1455          3.0        0.0        4.0        0.0  ...            0.0   \n",
       "1456          3.0        0.0        4.0        0.0  ...            0.0   \n",
       "1457          3.0        0.0        4.0        0.0  ...            0.0   \n",
       "1458          3.0        0.0        4.0        0.0  ...          112.0   \n",
       "1459          3.0        0.0        4.0        0.0  ...            0.0   \n",
       "\n",
       "      3SsnPorch  ScreenPorch  PoolArea  MiscVal  MoSold  YrSold  SaleType  \\\n",
       "0           0.0          0.0       0.0      0.0     2.0  2008.0       8.0   \n",
       "1           0.0          0.0       0.0      0.0     5.0  2007.0       8.0   \n",
       "2           0.0          0.0       0.0      0.0     9.0  2008.0       8.0   \n",
       "3           0.0          0.0       0.0      0.0     2.0  2006.0       8.0   \n",
       "4           0.0          0.0       0.0      0.0    12.0  2008.0       8.0   \n",
       "...         ...          ...       ...      ...     ...     ...       ...   \n",
       "1455        0.0          0.0       0.0      0.0     8.0  2007.0       8.0   \n",
       "1456        0.0          0.0       0.0      0.0     2.0  2010.0       8.0   \n",
       "1457        0.0          0.0       0.0   2500.0     5.0  2010.0       8.0   \n",
       "1458        0.0          0.0       0.0      0.0     4.0  2010.0       8.0   \n",
       "1459        0.0          0.0       0.0      0.0     6.0  2008.0       8.0   \n",
       "\n",
       "      SaleCondition  SalePrice  \n",
       "0               4.0   208500.0  \n",
       "1               4.0   181500.0  \n",
       "2               4.0   223500.0  \n",
       "3               0.0   140000.0  \n",
       "4               4.0   250000.0  \n",
       "...             ...        ...  \n",
       "1455            4.0   175000.0  \n",
       "1456            4.0   210000.0  \n",
       "1457            4.0   266500.0  \n",
       "1458            4.0   142125.0  \n",
       "1459            4.0   147500.0  \n",
       "\n",
       "[1460 rows x 75 columns]"
      ],
      "text/html": "<div>\n<style scoped>\n    .dataframe tbody tr th:only-of-type {\n        vertical-align: middle;\n    }\n\n    .dataframe tbody tr th {\n        vertical-align: top;\n    }\n\n    .dataframe thead th {\n        text-align: right;\n    }\n</style>\n<table border=\"1\" class=\"dataframe\">\n  <thead>\n    <tr style=\"text-align: right;\">\n      <th></th>\n      <th>MSSubClass</th>\n      <th>MSZoning</th>\n      <th>LotFrontage</th>\n      <th>LotArea</th>\n      <th>Street</th>\n      <th>LotShape</th>\n      <th>LandContour</th>\n      <th>Utilities</th>\n      <th>LotConfig</th>\n      <th>LandSlope</th>\n      <th>...</th>\n      <th>EnclosedPorch</th>\n      <th>3SsnPorch</th>\n      <th>ScreenPorch</th>\n      <th>PoolArea</th>\n      <th>MiscVal</th>\n      <th>MoSold</th>\n      <th>YrSold</th>\n      <th>SaleType</th>\n      <th>SaleCondition</th>\n      <th>SalePrice</th>\n    </tr>\n  </thead>\n  <tbody>\n    <tr>\n      <th>0</th>\n      <td>60.0</td>\n      <td>3.0</td>\n      <td>65.0</td>\n      <td>8450.0</td>\n      <td>1.0</td>\n      <td>3.0</td>\n      <td>3.0</td>\n      <td>0.0</td>\n      <td>4.0</td>\n      <td>0.0</td>\n      <td>...</td>\n      <td>0.0</td>\n      <td>0.0</td>\n      <td>0.0</td>\n      <td>0.0</td>\n      <td>0.0</td>\n      <td>2.0</td>\n      <td>2008.0</td>\n      <td>8.0</td>\n      <td>4.0</td>\n      <td>208500.0</td>\n    </tr>\n    <tr>\n      <th>1</th>\n      <td>20.0</td>\n      <td>3.0</td>\n      <td>80.0</td>\n      <td>9600.0</td>\n      <td>1.0</td>\n      <td>3.0</td>\n      <td>3.0</td>\n      <td>0.0</td>\n      <td>2.0</td>\n      <td>0.0</td>\n      <td>...</td>\n      <td>0.0</td>\n      <td>0.0</td>\n      <td>0.0</td>\n      <td>0.0</td>\n      <td>0.0</td>\n      <td>5.0</td>\n      <td>2007.0</td>\n      <td>8.0</td>\n      <td>4.0</td>\n      <td>181500.0</td>\n    </tr>\n    <tr>\n      <th>2</th>\n      <td>60.0</td>\n      <td>3.0</td>\n      <td>68.0</td>\n      <td>11250.0</td>\n      <td>1.0</td>\n      <td>0.0</td>\n      <td>3.0</td>\n      <td>0.0</td>\n      <td>4.0</td>\n      <td>0.0</td>\n      <td>...</td>\n      <td>0.0</td>\n      <td>0.0</td>\n      <td>0.0</td>\n      <td>0.0</td>\n      <td>0.0</td>\n      <td>9.0</td>\n      <td>2008.0</td>\n      <td>8.0</td>\n      <td>4.0</td>\n      <td>223500.0</td>\n    </tr>\n    <tr>\n      <th>3</th>\n      <td>70.0</td>\n      <td>3.0</td>\n      <td>60.0</td>\n      <td>9550.0</td>\n      <td>1.0</td>\n      <td>0.0</td>\n      <td>3.0</td>\n      <td>0.0</td>\n      <td>0.0</td>\n      <td>0.0</td>\n      <td>...</td>\n      <td>272.0</td>\n      <td>0.0</td>\n      <td>0.0</td>\n      <td>0.0</td>\n      <td>0.0</td>\n      <td>2.0</td>\n      <td>2006.0</td>\n      <td>8.0</td>\n      <td>0.0</td>\n      <td>140000.0</td>\n    </tr>\n    <tr>\n      <th>4</th>\n      <td>60.0</td>\n      <td>3.0</td>\n      <td>84.0</td>\n      <td>14260.0</td>\n      <td>1.0</td>\n      <td>0.0</td>\n      <td>3.0</td>\n      <td>0.0</td>\n      <td>2.0</td>\n      <td>0.0</td>\n      <td>...</td>\n      <td>0.0</td>\n      <td>0.0</td>\n      <td>0.0</td>\n      <td>0.0</td>\n      <td>0.0</td>\n      <td>12.0</td>\n      <td>2008.0</td>\n      <td>8.0</td>\n      <td>4.0</td>\n      <td>250000.0</td>\n    </tr>\n    <tr>\n      <th>...</th>\n      <td>...</td>\n      <td>...</td>\n      <td>...</td>\n      <td>...</td>\n      <td>...</td>\n      <td>...</td>\n      <td>...</td>\n      <td>...</td>\n      <td>...</td>\n      <td>...</td>\n      <td>...</td>\n      <td>...</td>\n      <td>...</td>\n      <td>...</td>\n      <td>...</td>\n      <td>...</td>\n      <td>...</td>\n      <td>...</td>\n      <td>...</td>\n      <td>...</td>\n      <td>...</td>\n    </tr>\n    <tr>\n      <th>1455</th>\n      <td>60.0</td>\n      <td>3.0</td>\n      <td>62.0</td>\n      <td>7917.0</td>\n      <td>1.0</td>\n      <td>3.0</td>\n      <td>3.0</td>\n      <td>0.0</td>\n      <td>4.0</td>\n      <td>0.0</td>\n      <td>...</td>\n      <td>0.0</td>\n      <td>0.0</td>\n      <td>0.0</td>\n      <td>0.0</td>\n      <td>0.0</td>\n      <td>8.0</td>\n      <td>2007.0</td>\n      <td>8.0</td>\n      <td>4.0</td>\n      <td>175000.0</td>\n    </tr>\n    <tr>\n      <th>1456</th>\n      <td>20.0</td>\n      <td>3.0</td>\n      <td>85.0</td>\n      <td>13175.0</td>\n      <td>1.0</td>\n      <td>3.0</td>\n      <td>3.0</td>\n      <td>0.0</td>\n      <td>4.0</td>\n      <td>0.0</td>\n      <td>...</td>\n      <td>0.0</td>\n      <td>0.0</td>\n      <td>0.0</td>\n      <td>0.0</td>\n      <td>0.0</td>\n      <td>2.0</td>\n      <td>2010.0</td>\n      <td>8.0</td>\n      <td>4.0</td>\n      <td>210000.0</td>\n    </tr>\n    <tr>\n      <th>1457</th>\n      <td>70.0</td>\n      <td>3.0</td>\n      <td>66.0</td>\n      <td>9042.0</td>\n      <td>1.0</td>\n      <td>3.0</td>\n      <td>3.0</td>\n      <td>0.0</td>\n      <td>4.0</td>\n      <td>0.0</td>\n      <td>...</td>\n      <td>0.0</td>\n      <td>0.0</td>\n      <td>0.0</td>\n      <td>0.0</td>\n      <td>2500.0</td>\n      <td>5.0</td>\n      <td>2010.0</td>\n      <td>8.0</td>\n      <td>4.0</td>\n      <td>266500.0</td>\n    </tr>\n    <tr>\n      <th>1458</th>\n      <td>20.0</td>\n      <td>3.0</td>\n      <td>68.0</td>\n      <td>9717.0</td>\n      <td>1.0</td>\n      <td>3.0</td>\n      <td>3.0</td>\n      <td>0.0</td>\n      <td>4.0</td>\n      <td>0.0</td>\n      <td>...</td>\n      <td>112.0</td>\n      <td>0.0</td>\n      <td>0.0</td>\n      <td>0.0</td>\n      <td>0.0</td>\n      <td>4.0</td>\n      <td>2010.0</td>\n      <td>8.0</td>\n      <td>4.0</td>\n      <td>142125.0</td>\n    </tr>\n    <tr>\n      <th>1459</th>\n      <td>20.0</td>\n      <td>3.0</td>\n      <td>75.0</td>\n      <td>9937.0</td>\n      <td>1.0</td>\n      <td>3.0</td>\n      <td>3.0</td>\n      <td>0.0</td>\n      <td>4.0</td>\n      <td>0.0</td>\n      <td>...</td>\n      <td>0.0</td>\n      <td>0.0</td>\n      <td>0.0</td>\n      <td>0.0</td>\n      <td>0.0</td>\n      <td>6.0</td>\n      <td>2008.0</td>\n      <td>8.0</td>\n      <td>4.0</td>\n      <td>147500.0</td>\n    </tr>\n  </tbody>\n</table>\n<p>1460 rows × 75 columns</p>\n</div>"
     },
     "metadata": {},
     "execution_count": 13
    }
   ],
   "source": [
    "imputed_df"
   ]
  },
  {
   "cell_type": "code",
   "execution_count": 14,
   "metadata": {},
   "outputs": [
    {
     "output_type": "execute_result",
     "data": {
      "text/plain": [
       "      MSSubClass MSZoning  LotFrontage  LotArea Street LotShape LandContour  \\\n",
       "0           60.0       RL         65.0   8450.0   Pave      Reg         Lvl   \n",
       "1           20.0       RL         80.0   9600.0   Pave      Reg         Lvl   \n",
       "2           60.0       RL         68.0  11250.0   Pave      IR1         Lvl   \n",
       "3           70.0       RL         60.0   9550.0   Pave      IR1         Lvl   \n",
       "4           60.0       RL         84.0  14260.0   Pave      IR1         Lvl   \n",
       "...          ...      ...          ...      ...    ...      ...         ...   \n",
       "1455        60.0       RL         62.0   7917.0   Pave      Reg         Lvl   \n",
       "1456        20.0       RL         85.0  13175.0   Pave      Reg         Lvl   \n",
       "1457        70.0       RL         66.0   9042.0   Pave      Reg         Lvl   \n",
       "1458        20.0       RL         68.0   9717.0   Pave      Reg         Lvl   \n",
       "1459        20.0       RL         75.0   9937.0   Pave      Reg         Lvl   \n",
       "\n",
       "     Utilities LotConfig LandSlope  ... EnclosedPorch 3SsnPorch ScreenPorch  \\\n",
       "0       AllPub    Inside       Gtl  ...           0.0       0.0         0.0   \n",
       "1       AllPub       FR2       Gtl  ...           0.0       0.0         0.0   \n",
       "2       AllPub    Inside       Gtl  ...           0.0       0.0         0.0   \n",
       "3       AllPub    Corner       Gtl  ...         272.0       0.0         0.0   \n",
       "4       AllPub       FR2       Gtl  ...           0.0       0.0         0.0   \n",
       "...        ...       ...       ...  ...           ...       ...         ...   \n",
       "1455    AllPub    Inside       Gtl  ...           0.0       0.0         0.0   \n",
       "1456    AllPub    Inside       Gtl  ...           0.0       0.0         0.0   \n",
       "1457    AllPub    Inside       Gtl  ...           0.0       0.0         0.0   \n",
       "1458    AllPub    Inside       Gtl  ...         112.0       0.0         0.0   \n",
       "1459    AllPub    Inside       Gtl  ...           0.0       0.0         0.0   \n",
       "\n",
       "     PoolArea MiscVal  MoSold  YrSold  SaleType  SaleCondition SalePrice  \n",
       "0         0.0     0.0     2.0  2008.0        WD         Normal  208500.0  \n",
       "1         0.0     0.0     5.0  2007.0        WD         Normal  181500.0  \n",
       "2         0.0     0.0     9.0  2008.0        WD         Normal  223500.0  \n",
       "3         0.0     0.0     2.0  2006.0        WD        Abnorml  140000.0  \n",
       "4         0.0     0.0    12.0  2008.0        WD         Normal  250000.0  \n",
       "...       ...     ...     ...     ...       ...            ...       ...  \n",
       "1455      0.0     0.0     8.0  2007.0        WD         Normal  175000.0  \n",
       "1456      0.0     0.0     2.0  2010.0        WD         Normal  210000.0  \n",
       "1457      0.0  2500.0     5.0  2010.0        WD         Normal  266500.0  \n",
       "1458      0.0     0.0     4.0  2010.0        WD         Normal  142125.0  \n",
       "1459      0.0     0.0     6.0  2008.0        WD         Normal  147500.0  \n",
       "\n",
       "[1460 rows x 75 columns]"
      ],
      "text/html": "<div>\n<style scoped>\n    .dataframe tbody tr th:only-of-type {\n        vertical-align: middle;\n    }\n\n    .dataframe tbody tr th {\n        vertical-align: top;\n    }\n\n    .dataframe thead th {\n        text-align: right;\n    }\n</style>\n<table border=\"1\" class=\"dataframe\">\n  <thead>\n    <tr style=\"text-align: right;\">\n      <th></th>\n      <th>MSSubClass</th>\n      <th>MSZoning</th>\n      <th>LotFrontage</th>\n      <th>LotArea</th>\n      <th>Street</th>\n      <th>LotShape</th>\n      <th>LandContour</th>\n      <th>Utilities</th>\n      <th>LotConfig</th>\n      <th>LandSlope</th>\n      <th>...</th>\n      <th>EnclosedPorch</th>\n      <th>3SsnPorch</th>\n      <th>ScreenPorch</th>\n      <th>PoolArea</th>\n      <th>MiscVal</th>\n      <th>MoSold</th>\n      <th>YrSold</th>\n      <th>SaleType</th>\n      <th>SaleCondition</th>\n      <th>SalePrice</th>\n    </tr>\n  </thead>\n  <tbody>\n    <tr>\n      <th>0</th>\n      <td>60.0</td>\n      <td>RL</td>\n      <td>65.0</td>\n      <td>8450.0</td>\n      <td>Pave</td>\n      <td>Reg</td>\n      <td>Lvl</td>\n      <td>AllPub</td>\n      <td>Inside</td>\n      <td>Gtl</td>\n      <td>...</td>\n      <td>0.0</td>\n      <td>0.0</td>\n      <td>0.0</td>\n      <td>0.0</td>\n      <td>0.0</td>\n      <td>2.0</td>\n      <td>2008.0</td>\n      <td>WD</td>\n      <td>Normal</td>\n      <td>208500.0</td>\n    </tr>\n    <tr>\n      <th>1</th>\n      <td>20.0</td>\n      <td>RL</td>\n      <td>80.0</td>\n      <td>9600.0</td>\n      <td>Pave</td>\n      <td>Reg</td>\n      <td>Lvl</td>\n      <td>AllPub</td>\n      <td>FR2</td>\n      <td>Gtl</td>\n      <td>...</td>\n      <td>0.0</td>\n      <td>0.0</td>\n      <td>0.0</td>\n      <td>0.0</td>\n      <td>0.0</td>\n      <td>5.0</td>\n      <td>2007.0</td>\n      <td>WD</td>\n      <td>Normal</td>\n      <td>181500.0</td>\n    </tr>\n    <tr>\n      <th>2</th>\n      <td>60.0</td>\n      <td>RL</td>\n      <td>68.0</td>\n      <td>11250.0</td>\n      <td>Pave</td>\n      <td>IR1</td>\n      <td>Lvl</td>\n      <td>AllPub</td>\n      <td>Inside</td>\n      <td>Gtl</td>\n      <td>...</td>\n      <td>0.0</td>\n      <td>0.0</td>\n      <td>0.0</td>\n      <td>0.0</td>\n      <td>0.0</td>\n      <td>9.0</td>\n      <td>2008.0</td>\n      <td>WD</td>\n      <td>Normal</td>\n      <td>223500.0</td>\n    </tr>\n    <tr>\n      <th>3</th>\n      <td>70.0</td>\n      <td>RL</td>\n      <td>60.0</td>\n      <td>9550.0</td>\n      <td>Pave</td>\n      <td>IR1</td>\n      <td>Lvl</td>\n      <td>AllPub</td>\n      <td>Corner</td>\n      <td>Gtl</td>\n      <td>...</td>\n      <td>272.0</td>\n      <td>0.0</td>\n      <td>0.0</td>\n      <td>0.0</td>\n      <td>0.0</td>\n      <td>2.0</td>\n      <td>2006.0</td>\n      <td>WD</td>\n      <td>Abnorml</td>\n      <td>140000.0</td>\n    </tr>\n    <tr>\n      <th>4</th>\n      <td>60.0</td>\n      <td>RL</td>\n      <td>84.0</td>\n      <td>14260.0</td>\n      <td>Pave</td>\n      <td>IR1</td>\n      <td>Lvl</td>\n      <td>AllPub</td>\n      <td>FR2</td>\n      <td>Gtl</td>\n      <td>...</td>\n      <td>0.0</td>\n      <td>0.0</td>\n      <td>0.0</td>\n      <td>0.0</td>\n      <td>0.0</td>\n      <td>12.0</td>\n      <td>2008.0</td>\n      <td>WD</td>\n      <td>Normal</td>\n      <td>250000.0</td>\n    </tr>\n    <tr>\n      <th>...</th>\n      <td>...</td>\n      <td>...</td>\n      <td>...</td>\n      <td>...</td>\n      <td>...</td>\n      <td>...</td>\n      <td>...</td>\n      <td>...</td>\n      <td>...</td>\n      <td>...</td>\n      <td>...</td>\n      <td>...</td>\n      <td>...</td>\n      <td>...</td>\n      <td>...</td>\n      <td>...</td>\n      <td>...</td>\n      <td>...</td>\n      <td>...</td>\n      <td>...</td>\n      <td>...</td>\n    </tr>\n    <tr>\n      <th>1455</th>\n      <td>60.0</td>\n      <td>RL</td>\n      <td>62.0</td>\n      <td>7917.0</td>\n      <td>Pave</td>\n      <td>Reg</td>\n      <td>Lvl</td>\n      <td>AllPub</td>\n      <td>Inside</td>\n      <td>Gtl</td>\n      <td>...</td>\n      <td>0.0</td>\n      <td>0.0</td>\n      <td>0.0</td>\n      <td>0.0</td>\n      <td>0.0</td>\n      <td>8.0</td>\n      <td>2007.0</td>\n      <td>WD</td>\n      <td>Normal</td>\n      <td>175000.0</td>\n    </tr>\n    <tr>\n      <th>1456</th>\n      <td>20.0</td>\n      <td>RL</td>\n      <td>85.0</td>\n      <td>13175.0</td>\n      <td>Pave</td>\n      <td>Reg</td>\n      <td>Lvl</td>\n      <td>AllPub</td>\n      <td>Inside</td>\n      <td>Gtl</td>\n      <td>...</td>\n      <td>0.0</td>\n      <td>0.0</td>\n      <td>0.0</td>\n      <td>0.0</td>\n      <td>0.0</td>\n      <td>2.0</td>\n      <td>2010.0</td>\n      <td>WD</td>\n      <td>Normal</td>\n      <td>210000.0</td>\n    </tr>\n    <tr>\n      <th>1457</th>\n      <td>70.0</td>\n      <td>RL</td>\n      <td>66.0</td>\n      <td>9042.0</td>\n      <td>Pave</td>\n      <td>Reg</td>\n      <td>Lvl</td>\n      <td>AllPub</td>\n      <td>Inside</td>\n      <td>Gtl</td>\n      <td>...</td>\n      <td>0.0</td>\n      <td>0.0</td>\n      <td>0.0</td>\n      <td>0.0</td>\n      <td>2500.0</td>\n      <td>5.0</td>\n      <td>2010.0</td>\n      <td>WD</td>\n      <td>Normal</td>\n      <td>266500.0</td>\n    </tr>\n    <tr>\n      <th>1458</th>\n      <td>20.0</td>\n      <td>RL</td>\n      <td>68.0</td>\n      <td>9717.0</td>\n      <td>Pave</td>\n      <td>Reg</td>\n      <td>Lvl</td>\n      <td>AllPub</td>\n      <td>Inside</td>\n      <td>Gtl</td>\n      <td>...</td>\n      <td>112.0</td>\n      <td>0.0</td>\n      <td>0.0</td>\n      <td>0.0</td>\n      <td>0.0</td>\n      <td>4.0</td>\n      <td>2010.0</td>\n      <td>WD</td>\n      <td>Normal</td>\n      <td>142125.0</td>\n    </tr>\n    <tr>\n      <th>1459</th>\n      <td>20.0</td>\n      <td>RL</td>\n      <td>75.0</td>\n      <td>9937.0</td>\n      <td>Pave</td>\n      <td>Reg</td>\n      <td>Lvl</td>\n      <td>AllPub</td>\n      <td>Inside</td>\n      <td>Gtl</td>\n      <td>...</td>\n      <td>0.0</td>\n      <td>0.0</td>\n      <td>0.0</td>\n      <td>0.0</td>\n      <td>0.0</td>\n      <td>6.0</td>\n      <td>2008.0</td>\n      <td>WD</td>\n      <td>Normal</td>\n      <td>147500.0</td>\n    </tr>\n  </tbody>\n</table>\n<p>1460 rows × 75 columns</p>\n</div>"
     },
     "metadata": {},
     "execution_count": 14
    }
   ],
   "source": [
    "df_final = imputed_df.copy()\n",
    "for col in list_categoric:\n",
    "    df_final[col] = encoder_dict[col].inverse_transform(imputed_df[col].values.reshape(-1,1))\n",
    "df_final"
   ]
  },
  {
   "cell_type": "code",
   "execution_count": 15,
   "metadata": {},
   "outputs": [
    {
     "output_type": "stream",
     "name": "stdout",
     "text": [
      "<class 'pandas.core.frame.DataFrame'>\nRangeIndex: 1460 entries, 0 to 1459\nData columns (total 75 columns):\n #   Column         Non-Null Count  Dtype  \n---  ------         --------------  -----  \n 0   MSSubClass     1460 non-null   float64\n 1   MSZoning       1460 non-null   object \n 2   LotFrontage    1460 non-null   float64\n 3   LotArea        1460 non-null   float64\n 4   Street         1460 non-null   object \n 5   LotShape       1460 non-null   object \n 6   LandContour    1460 non-null   object \n 7   Utilities      1460 non-null   object \n 8   LotConfig      1460 non-null   object \n 9   LandSlope      1460 non-null   object \n 10  Neighborhood   1460 non-null   object \n 11  Condition1     1460 non-null   object \n 12  Condition2     1460 non-null   object \n 13  BldgType       1460 non-null   object \n 14  HouseStyle     1460 non-null   object \n 15  OverallQual    1460 non-null   float64\n 16  OverallCond    1460 non-null   float64\n 17  YearBuilt      1460 non-null   float64\n 18  YearRemodAdd   1460 non-null   float64\n 19  RoofStyle      1460 non-null   object \n 20  RoofMatl       1460 non-null   object \n 21  Exterior1st    1460 non-null   object \n 22  Exterior2nd    1460 non-null   object \n 23  MasVnrType     1460 non-null   object \n 24  MasVnrArea     1460 non-null   float64\n 25  ExterQual      1460 non-null   object \n 26  ExterCond      1460 non-null   object \n 27  Foundation     1460 non-null   object \n 28  BsmtQual       1460 non-null   object \n 29  BsmtCond       1460 non-null   object \n 30  BsmtExposure   1460 non-null   object \n 31  BsmtFinType1   1460 non-null   object \n 32  BsmtFinSF1     1460 non-null   float64\n 33  BsmtFinType2   1460 non-null   object \n 34  BsmtFinSF2     1460 non-null   float64\n 35  BsmtUnfSF      1460 non-null   float64\n 36  TotalBsmtSF    1460 non-null   float64\n 37  Heating        1460 non-null   object \n 38  HeatingQC      1460 non-null   object \n 39  CentralAir     1460 non-null   object \n 40  Electrical     1460 non-null   object \n 41  1stFlrSF       1460 non-null   float64\n 42  2ndFlrSF       1460 non-null   float64\n 43  LowQualFinSF   1460 non-null   float64\n 44  GrLivArea      1460 non-null   float64\n 45  BsmtFullBath   1460 non-null   float64\n 46  BsmtHalfBath   1460 non-null   float64\n 47  FullBath       1460 non-null   float64\n 48  HalfBath       1460 non-null   float64\n 49  BedroomAbvGr   1460 non-null   float64\n 50  KitchenAbvGr   1460 non-null   float64\n 51  KitchenQual    1460 non-null   object \n 52  TotRmsAbvGrd   1460 non-null   float64\n 53  Functional     1460 non-null   object \n 54  Fireplaces     1460 non-null   float64\n 55  GarageType     1460 non-null   object \n 56  GarageYrBlt    1460 non-null   float64\n 57  GarageFinish   1460 non-null   object \n 58  GarageCars     1460 non-null   float64\n 59  GarageArea     1460 non-null   float64\n 60  GarageQual     1460 non-null   object \n 61  GarageCond     1460 non-null   object \n 62  PavedDrive     1460 non-null   object \n 63  WoodDeckSF     1460 non-null   float64\n 64  OpenPorchSF    1460 non-null   float64\n 65  EnclosedPorch  1460 non-null   float64\n 66  3SsnPorch      1460 non-null   float64\n 67  ScreenPorch    1460 non-null   float64\n 68  PoolArea       1460 non-null   float64\n 69  MiscVal        1460 non-null   float64\n 70  MoSold         1460 non-null   float64\n 71  YrSold         1460 non-null   float64\n 72  SaleType       1460 non-null   object \n 73  SaleCondition  1460 non-null   object \n 74  SalePrice      1460 non-null   float64\ndtypes: float64(37), object(38)\nmemory usage: 855.6+ KB\n"
     ]
    }
   ],
   "source": [
    "df_final.info()"
   ]
  },
  {
   "cell_type": "code",
   "execution_count": null,
   "metadata": {},
   "outputs": [],
   "source": []
  }
 ]
}