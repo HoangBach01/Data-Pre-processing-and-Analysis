{
 "metadata": {
  "language_info": {
   "codemirror_mode": {
    "name": "ipython",
    "version": 3
   },
   "file_extension": ".py",
   "mimetype": "text/x-python",
   "name": "python",
   "nbconvert_exporter": "python",
   "pygments_lexer": "ipython3",
   "version": "3.8.2-final"
  },
  "orig_nbformat": 2,
  "kernelspec": {
   "name": "Python 3.8.2 64-bit ('bach': conda)",
   "display_name": "Python 3.8.2 64-bit ('bach': conda)",
   "metadata": {
    "interpreter": {
     "hash": "44248fc6fba31ccd316020c39f5d180d1c53a792904f744ffa1532e2b735bc52"
    }
   }
  }
 },
 "nbformat": 4,
 "nbformat_minor": 2,
 "cells": [
  {
   "cell_type": "code",
   "execution_count": 10,
   "metadata": {},
   "outputs": [],
   "source": [
    "import numpy as np\n",
    "import pandas as pd\n",
    "import re\n",
    "import glob"
   ]
  },
  {
   "cell_type": "code",
   "execution_count": 24,
   "metadata": {},
   "outputs": [
    {
     "output_type": "execute_result",
     "data": {
      "text/plain": [
       "     rank       name  frequency   sex  year\n",
       "0       1       Noah        863  Male  2015\n",
       "1       2       Liam        709  Male  2015\n",
       "2       3  Alexander        703  Male  2015\n",
       "3       4      Jacob        650  Male  2015\n",
       "4       5    William        618  Male  2015\n",
       "..    ...        ...        ...   ...   ...\n",
       "196    97        Max        170  Male  2014\n",
       "197    98      Brody        168  Male  2014\n",
       "198    99     Jaxson        168  Male  2014\n",
       "199   100     George        166  Male  2014\n",
       "200   101   Theodore        166  Male  2014\n",
       "\n",
       "[201 rows x 5 columns]"
      ],
      "text/html": "<div>\n<style scoped>\n    .dataframe tbody tr th:only-of-type {\n        vertical-align: middle;\n    }\n\n    .dataframe tbody tr th {\n        vertical-align: top;\n    }\n\n    .dataframe thead th {\n        text-align: right;\n    }\n</style>\n<table border=\"1\" class=\"dataframe\">\n  <thead>\n    <tr style=\"text-align: right;\">\n      <th></th>\n      <th>rank</th>\n      <th>name</th>\n      <th>frequency</th>\n      <th>sex</th>\n      <th>year</th>\n    </tr>\n  </thead>\n  <tbody>\n    <tr>\n      <th>0</th>\n      <td>1</td>\n      <td>Noah</td>\n      <td>863</td>\n      <td>Male</td>\n      <td>2015</td>\n    </tr>\n    <tr>\n      <th>1</th>\n      <td>2</td>\n      <td>Liam</td>\n      <td>709</td>\n      <td>Male</td>\n      <td>2015</td>\n    </tr>\n    <tr>\n      <th>2</th>\n      <td>3</td>\n      <td>Alexander</td>\n      <td>703</td>\n      <td>Male</td>\n      <td>2015</td>\n    </tr>\n    <tr>\n      <th>3</th>\n      <td>4</td>\n      <td>Jacob</td>\n      <td>650</td>\n      <td>Male</td>\n      <td>2015</td>\n    </tr>\n    <tr>\n      <th>4</th>\n      <td>5</td>\n      <td>William</td>\n      <td>618</td>\n      <td>Male</td>\n      <td>2015</td>\n    </tr>\n    <tr>\n      <th>...</th>\n      <td>...</td>\n      <td>...</td>\n      <td>...</td>\n      <td>...</td>\n      <td>...</td>\n    </tr>\n    <tr>\n      <th>196</th>\n      <td>97</td>\n      <td>Max</td>\n      <td>170</td>\n      <td>Male</td>\n      <td>2014</td>\n    </tr>\n    <tr>\n      <th>197</th>\n      <td>98</td>\n      <td>Brody</td>\n      <td>168</td>\n      <td>Male</td>\n      <td>2014</td>\n    </tr>\n    <tr>\n      <th>198</th>\n      <td>99</td>\n      <td>Jaxson</td>\n      <td>168</td>\n      <td>Male</td>\n      <td>2014</td>\n    </tr>\n    <tr>\n      <th>199</th>\n      <td>100</td>\n      <td>George</td>\n      <td>166</td>\n      <td>Male</td>\n      <td>2014</td>\n    </tr>\n    <tr>\n      <th>200</th>\n      <td>101</td>\n      <td>Theodore</td>\n      <td>166</td>\n      <td>Male</td>\n      <td>2014</td>\n    </tr>\n  </tbody>\n</table>\n<p>201 rows × 5 columns</p>\n</div>"
     },
     "metadata": {},
     "execution_count": 24
    }
   ],
   "source": [
    "list_file = glob.glob('data/201*-baby-names-illinois.csv')\n",
    "df = pd.DataFrame()\n",
    "for file in list_file:\n",
    "    df_temp = pd.read_csv(file)\n",
    "    df_temp['year'] = pd.to_numeric(re.findall('(\\d{4})', file)[0])\n",
    "    df = pd.concat([df, df_temp], ignore_index=True)\n",
    "df"
   ]
  },
  {
   "cell_type": "code",
   "execution_count": 29,
   "metadata": {},
   "outputs": [],
   "source": [
    "df['sex'] = df['sex'].astype('category')"
   ]
  },
  {
   "cell_type": "code",
   "execution_count": 30,
   "metadata": {},
   "outputs": [
    {
     "output_type": "stream",
     "name": "stdout",
     "text": [
      "<class 'pandas.core.frame.DataFrame'>\nRangeIndex: 201 entries, 0 to 200\nData columns (total 5 columns):\n #   Column     Non-Null Count  Dtype   \n---  ------     --------------  -----   \n 0   rank       201 non-null    int64   \n 1   name       201 non-null    object  \n 2   frequency  201 non-null    int64   \n 3   sex        201 non-null    category\n 4   year       201 non-null    int64   \ndtypes: category(1), int64(3), object(1)\nmemory usage: 6.7+ KB\n"
     ]
    }
   ],
   "source": [
    "df.info()"
   ]
  }
 ]
}