{
 "metadata": {
  "language_info": {
   "codemirror_mode": {
    "name": "ipython",
    "version": 3
   },
   "file_extension": ".py",
   "mimetype": "text/x-python",
   "name": "python",
   "nbconvert_exporter": "python",
   "pygments_lexer": "ipython3",
   "version": "3.7.7-final"
  },
  "orig_nbformat": 2,
  "kernelspec": {
   "name": "python37764bitailearncondac55bf7adc40a450a9629c3e2b471f312",
   "display_name": "Python 3.7.7 64-bit ('ai_learn': conda)"
  }
 },
 "nbformat": 4,
 "nbformat_minor": 2,
 "cells": [
  {
   "cell_type": "code",
   "execution_count": 1,
   "metadata": {},
   "outputs": [],
   "source": [
    "import numpy as np\n",
    "import pandas as pd\n",
    "import glob"
   ]
  },
  {
   "cell_type": "code",
   "execution_count": 2,
   "metadata": {},
   "outputs": [
    {
     "output_type": "execute_result",
     "data": {
      "text/plain": [
       "  Student  Physics  Chemistry  English  Math\n",
       "0    John       78         79       56    95\n",
       "1   Alice       58         72       91    81\n",
       "2  Rachel       22         61       88    64\n",
       "3     Tom       78         89       56    83"
      ],
      "text/html": "<div>\n<style scoped>\n    .dataframe tbody tr th:only-of-type {\n        vertical-align: middle;\n    }\n\n    .dataframe tbody tr th {\n        vertical-align: top;\n    }\n\n    .dataframe thead th {\n        text-align: right;\n    }\n</style>\n<table border=\"1\" class=\"dataframe\">\n  <thead>\n    <tr style=\"text-align: right;\">\n      <th></th>\n      <th>Student</th>\n      <th>Physics</th>\n      <th>Chemistry</th>\n      <th>English</th>\n      <th>Math</th>\n    </tr>\n  </thead>\n  <tbody>\n    <tr>\n      <th>0</th>\n      <td>John</td>\n      <td>78</td>\n      <td>79</td>\n      <td>56</td>\n      <td>95</td>\n    </tr>\n    <tr>\n      <th>1</th>\n      <td>Alice</td>\n      <td>58</td>\n      <td>72</td>\n      <td>91</td>\n      <td>81</td>\n    </tr>\n    <tr>\n      <th>2</th>\n      <td>Rachel</td>\n      <td>22</td>\n      <td>61</td>\n      <td>88</td>\n      <td>64</td>\n    </tr>\n    <tr>\n      <th>3</th>\n      <td>Tom</td>\n      <td>78</td>\n      <td>89</td>\n      <td>56</td>\n      <td>83</td>\n    </tr>\n  </tbody>\n</table>\n</div>"
     },
     "metadata": {},
     "execution_count": 2
    }
   ],
   "source": [
    "df = pd.read_excel('data/student.xlsx')\n",
    "df"
   ]
  },
  {
   "cell_type": "code",
   "execution_count": 7,
   "metadata": {},
   "outputs": [
    {
     "output_type": "execute_result",
     "data": {
      "text/plain": [
       "  Student variable  value\n",
       "0    John  Physics     78\n",
       "1   Alice  Physics     58\n",
       "2  Rachel  Physics     22\n",
       "3     Tom  Physics     78\n",
       "4    John     Math     95\n",
       "5   Alice     Math     81\n",
       "6  Rachel     Math     64\n",
       "7     Tom     Math     83"
      ],
      "text/html": "<div>\n<style scoped>\n    .dataframe tbody tr th:only-of-type {\n        vertical-align: middle;\n    }\n\n    .dataframe tbody tr th {\n        vertical-align: top;\n    }\n\n    .dataframe thead th {\n        text-align: right;\n    }\n</style>\n<table border=\"1\" class=\"dataframe\">\n  <thead>\n    <tr style=\"text-align: right;\">\n      <th></th>\n      <th>Student</th>\n      <th>variable</th>\n      <th>value</th>\n    </tr>\n  </thead>\n  <tbody>\n    <tr>\n      <th>0</th>\n      <td>John</td>\n      <td>Physics</td>\n      <td>78</td>\n    </tr>\n    <tr>\n      <th>1</th>\n      <td>Alice</td>\n      <td>Physics</td>\n      <td>58</td>\n    </tr>\n    <tr>\n      <th>2</th>\n      <td>Rachel</td>\n      <td>Physics</td>\n      <td>22</td>\n    </tr>\n    <tr>\n      <th>3</th>\n      <td>Tom</td>\n      <td>Physics</td>\n      <td>78</td>\n    </tr>\n    <tr>\n      <th>4</th>\n      <td>John</td>\n      <td>Math</td>\n      <td>95</td>\n    </tr>\n    <tr>\n      <th>5</th>\n      <td>Alice</td>\n      <td>Math</td>\n      <td>81</td>\n    </tr>\n    <tr>\n      <th>6</th>\n      <td>Rachel</td>\n      <td>Math</td>\n      <td>64</td>\n    </tr>\n    <tr>\n      <th>7</th>\n      <td>Tom</td>\n      <td>Math</td>\n      <td>83</td>\n    </tr>\n  </tbody>\n</table>\n</div>"
     },
     "metadata": {},
     "execution_count": 7
    }
   ],
   "source": [
    "df_melt = pd.melt(df, id_vars='Student', value_vars=['Physics', 'Math'])\n",
    "df_melt"
   ]
  },
  {
   "cell_type": "code",
   "execution_count": 16,
   "metadata": {},
   "outputs": [
    {
     "output_type": "execute_result",
     "data": {
      "text/plain": [
       "Subjects Student  Chemistry  English  Math  Physics\n",
       "0          Alice         72       91    81       58\n",
       "1           John         79       56    95       78\n",
       "2         Rachel         61       88    64       22\n",
       "3            Tom         89       56    83       78"
      ],
      "text/html": "<div>\n<style scoped>\n    .dataframe tbody tr th:only-of-type {\n        vertical-align: middle;\n    }\n\n    .dataframe tbody tr th {\n        vertical-align: top;\n    }\n\n    .dataframe thead th {\n        text-align: right;\n    }\n</style>\n<table border=\"1\" class=\"dataframe\">\n  <thead>\n    <tr style=\"text-align: right;\">\n      <th>Subjects</th>\n      <th>Student</th>\n      <th>Chemistry</th>\n      <th>English</th>\n      <th>Math</th>\n      <th>Physics</th>\n    </tr>\n  </thead>\n  <tbody>\n    <tr>\n      <th>0</th>\n      <td>Alice</td>\n      <td>72</td>\n      <td>91</td>\n      <td>81</td>\n      <td>58</td>\n    </tr>\n    <tr>\n      <th>1</th>\n      <td>John</td>\n      <td>79</td>\n      <td>56</td>\n      <td>95</td>\n      <td>78</td>\n    </tr>\n    <tr>\n      <th>2</th>\n      <td>Rachel</td>\n      <td>61</td>\n      <td>88</td>\n      <td>64</td>\n      <td>22</td>\n    </tr>\n    <tr>\n      <th>3</th>\n      <td>Tom</td>\n      <td>89</td>\n      <td>56</td>\n      <td>83</td>\n      <td>78</td>\n    </tr>\n  </tbody>\n</table>\n</div>"
     },
     "metadata": {},
     "execution_count": 16
    }
   ],
   "source": [
    "df_pivot = pd.pivot_table(df_melt, index='Student', columns='Subjects', values='value', aggfunc='mean').reset_index()\n",
    "df_pivot"
   ]
  },
  {
   "cell_type": "code",
   "execution_count": 19,
   "metadata": {},
   "outputs": [
    {
     "output_type": "execute_result",
     "data": {
      "text/plain": [
       "['data/titanic-test.csv', 'data/titanic-train.csv']"
      ]
     },
     "metadata": {},
     "execution_count": 19
    }
   ],
   "source": [
    "file_name = glob.glob('data/titanic*.csv')\n",
    "file_name"
   ]
  },
  {
   "cell_type": "code",
   "execution_count": 45,
   "metadata": {},
   "outputs": [
    {
     "output_type": "execute_result",
     "data": {
      "text/plain": [
       "      PassengerId  Pclass                                          Name  \\\n",
       "0             892       3                              Kelly, Mr. James   \n",
       "1             893       3              Wilkes, Mrs. James (Ellen Needs)   \n",
       "2             894       2                     Myles, Mr. Thomas Francis   \n",
       "3             895       3                              Wirz, Mr. Albert   \n",
       "4             896       3  Hirvonen, Mrs. Alexander (Helga E Lindqvist)   \n",
       "...           ...     ...                                           ...   \n",
       "1304          887       2                         Montvila, Rev. Juozas   \n",
       "1305          888       1                  Graham, Miss. Margaret Edith   \n",
       "1306          889       3      Johnston, Miss. Catherine Helen \"Carrie\"   \n",
       "1307          890       1                         Behr, Mr. Karl Howell   \n",
       "1308          891       3                           Dooley, Mr. Patrick   \n",
       "\n",
       "         Sex   Age  SibSp  Parch      Ticket     Fare Cabin Embarked  Survived  \n",
       "0       male  34.5      0      0      330911   7.8292   NaN        Q       NaN  \n",
       "1     female  47.0      1      0      363272   7.0000   NaN        S       NaN  \n",
       "2       male  62.0      0      0      240276   9.6875   NaN        Q       NaN  \n",
       "3       male  27.0      0      0      315154   8.6625   NaN        S       NaN  \n",
       "4     female  22.0      1      1     3101298  12.2875   NaN        S       NaN  \n",
       "...      ...   ...    ...    ...         ...      ...   ...      ...       ...  \n",
       "1304    male  27.0      0      0      211536  13.0000   NaN        S       0.0  \n",
       "1305  female  19.0      0      0      112053  30.0000   B42        S       1.0  \n",
       "1306  female   NaN      1      2  W./C. 6607  23.4500   NaN        S       0.0  \n",
       "1307    male  26.0      0      0      111369  30.0000  C148        C       1.0  \n",
       "1308    male  32.0      0      0      370376   7.7500   NaN        Q       0.0  \n",
       "\n",
       "[1309 rows x 12 columns]"
      ],
      "text/html": "<div>\n<style scoped>\n    .dataframe tbody tr th:only-of-type {\n        vertical-align: middle;\n    }\n\n    .dataframe tbody tr th {\n        vertical-align: top;\n    }\n\n    .dataframe thead th {\n        text-align: right;\n    }\n</style>\n<table border=\"1\" class=\"dataframe\">\n  <thead>\n    <tr style=\"text-align: right;\">\n      <th></th>\n      <th>PassengerId</th>\n      <th>Pclass</th>\n      <th>Name</th>\n      <th>Sex</th>\n      <th>Age</th>\n      <th>SibSp</th>\n      <th>Parch</th>\n      <th>Ticket</th>\n      <th>Fare</th>\n      <th>Cabin</th>\n      <th>Embarked</th>\n      <th>Survived</th>\n    </tr>\n  </thead>\n  <tbody>\n    <tr>\n      <th>0</th>\n      <td>892</td>\n      <td>3</td>\n      <td>Kelly, Mr. James</td>\n      <td>male</td>\n      <td>34.5</td>\n      <td>0</td>\n      <td>0</td>\n      <td>330911</td>\n      <td>7.8292</td>\n      <td>NaN</td>\n      <td>Q</td>\n      <td>NaN</td>\n    </tr>\n    <tr>\n      <th>1</th>\n      <td>893</td>\n      <td>3</td>\n      <td>Wilkes, Mrs. James (Ellen Needs)</td>\n      <td>female</td>\n      <td>47.0</td>\n      <td>1</td>\n      <td>0</td>\n      <td>363272</td>\n      <td>7.0000</td>\n      <td>NaN</td>\n      <td>S</td>\n      <td>NaN</td>\n    </tr>\n    <tr>\n      <th>2</th>\n      <td>894</td>\n      <td>2</td>\n      <td>Myles, Mr. Thomas Francis</td>\n      <td>male</td>\n      <td>62.0</td>\n      <td>0</td>\n      <td>0</td>\n      <td>240276</td>\n      <td>9.6875</td>\n      <td>NaN</td>\n      <td>Q</td>\n      <td>NaN</td>\n    </tr>\n    <tr>\n      <th>3</th>\n      <td>895</td>\n      <td>3</td>\n      <td>Wirz, Mr. Albert</td>\n      <td>male</td>\n      <td>27.0</td>\n      <td>0</td>\n      <td>0</td>\n      <td>315154</td>\n      <td>8.6625</td>\n      <td>NaN</td>\n      <td>S</td>\n      <td>NaN</td>\n    </tr>\n    <tr>\n      <th>4</th>\n      <td>896</td>\n      <td>3</td>\n      <td>Hirvonen, Mrs. Alexander (Helga E Lindqvist)</td>\n      <td>female</td>\n      <td>22.0</td>\n      <td>1</td>\n      <td>1</td>\n      <td>3101298</td>\n      <td>12.2875</td>\n      <td>NaN</td>\n      <td>S</td>\n      <td>NaN</td>\n    </tr>\n    <tr>\n      <th>...</th>\n      <td>...</td>\n      <td>...</td>\n      <td>...</td>\n      <td>...</td>\n      <td>...</td>\n      <td>...</td>\n      <td>...</td>\n      <td>...</td>\n      <td>...</td>\n      <td>...</td>\n      <td>...</td>\n      <td>...</td>\n    </tr>\n    <tr>\n      <th>1304</th>\n      <td>887</td>\n      <td>2</td>\n      <td>Montvila, Rev. Juozas</td>\n      <td>male</td>\n      <td>27.0</td>\n      <td>0</td>\n      <td>0</td>\n      <td>211536</td>\n      <td>13.0000</td>\n      <td>NaN</td>\n      <td>S</td>\n      <td>0.0</td>\n    </tr>\n    <tr>\n      <th>1305</th>\n      <td>888</td>\n      <td>1</td>\n      <td>Graham, Miss. Margaret Edith</td>\n      <td>female</td>\n      <td>19.0</td>\n      <td>0</td>\n      <td>0</td>\n      <td>112053</td>\n      <td>30.0000</td>\n      <td>B42</td>\n      <td>S</td>\n      <td>1.0</td>\n    </tr>\n    <tr>\n      <th>1306</th>\n      <td>889</td>\n      <td>3</td>\n      <td>Johnston, Miss. Catherine Helen \"Carrie\"</td>\n      <td>female</td>\n      <td>NaN</td>\n      <td>1</td>\n      <td>2</td>\n      <td>W./C. 6607</td>\n      <td>23.4500</td>\n      <td>NaN</td>\n      <td>S</td>\n      <td>0.0</td>\n    </tr>\n    <tr>\n      <th>1307</th>\n      <td>890</td>\n      <td>1</td>\n      <td>Behr, Mr. Karl Howell</td>\n      <td>male</td>\n      <td>26.0</td>\n      <td>0</td>\n      <td>0</td>\n      <td>111369</td>\n      <td>30.0000</td>\n      <td>C148</td>\n      <td>C</td>\n      <td>1.0</td>\n    </tr>\n    <tr>\n      <th>1308</th>\n      <td>891</td>\n      <td>3</td>\n      <td>Dooley, Mr. Patrick</td>\n      <td>male</td>\n      <td>32.0</td>\n      <td>0</td>\n      <td>0</td>\n      <td>370376</td>\n      <td>7.7500</td>\n      <td>NaN</td>\n      <td>Q</td>\n      <td>0.0</td>\n    </tr>\n  </tbody>\n</table>\n<p>1309 rows × 12 columns</p>\n</div>"
     },
     "metadata": {},
     "execution_count": 45
    }
   ],
   "source": [
    "# df_1 = pd.read_csv('data/titanic-train.csv')\n",
    "# df_2 = pd.read_csv('data/titanic-test.csv')\n",
    "df_final = pd.DataFrame()\n",
    "for name in file_name:\n",
    "    df_temp = pd.read_csv(name)\n",
    "    df_final = pd.concat([df_final, df_temp], ignore_index=True)\n",
    "df_final"
   ]
  },
  {
   "cell_type": "code",
   "execution_count": 36,
   "metadata": {},
   "outputs": [
    {
     "output_type": "execute_result",
     "data": {
      "text/plain": [
       "     PassengerId  Survived  Pclass  \\\n",
       "0              1         0       3   \n",
       "1              2         1       1   \n",
       "2              3         1       3   \n",
       "3              4         1       1   \n",
       "4              5         0       3   \n",
       "..           ...       ...     ...   \n",
       "886          887         0       2   \n",
       "887          888         1       1   \n",
       "888          889         0       3   \n",
       "889          890         1       1   \n",
       "890          891         0       3   \n",
       "\n",
       "                                                  Name     Sex   Age  SibSp  \\\n",
       "0                              Braund, Mr. Owen Harris    male  22.0      1   \n",
       "1    Cumings, Mrs. John Bradley (Florence Briggs Th...  female  38.0      1   \n",
       "2                               Heikkinen, Miss. Laina  female  26.0      0   \n",
       "3         Futrelle, Mrs. Jacques Heath (Lily May Peel)  female  35.0      1   \n",
       "4                             Allen, Mr. William Henry    male  35.0      0   \n",
       "..                                                 ...     ...   ...    ...   \n",
       "886                              Montvila, Rev. Juozas    male  27.0      0   \n",
       "887                       Graham, Miss. Margaret Edith  female  19.0      0   \n",
       "888           Johnston, Miss. Catherine Helen \"Carrie\"  female   NaN      1   \n",
       "889                              Behr, Mr. Karl Howell    male  26.0      0   \n",
       "890                                Dooley, Mr. Patrick    male  32.0      0   \n",
       "\n",
       "     Parch            Ticket     Fare Cabin Embarked  \n",
       "0        0         A/5 21171   7.2500   NaN        S  \n",
       "1        0          PC 17599  71.2833   C85        C  \n",
       "2        0  STON/O2. 3101282   7.9250   NaN        S  \n",
       "3        0            113803  53.1000  C123        S  \n",
       "4        0            373450   8.0500   NaN        S  \n",
       "..     ...               ...      ...   ...      ...  \n",
       "886      0            211536  13.0000   NaN        S  \n",
       "887      0            112053  30.0000   B42        S  \n",
       "888      2        W./C. 6607  23.4500   NaN        S  \n",
       "889      0            111369  30.0000  C148        C  \n",
       "890      0            370376   7.7500   NaN        Q  \n",
       "\n",
       "[891 rows x 12 columns]"
      ],
      "text/html": "<div>\n<style scoped>\n    .dataframe tbody tr th:only-of-type {\n        vertical-align: middle;\n    }\n\n    .dataframe tbody tr th {\n        vertical-align: top;\n    }\n\n    .dataframe thead th {\n        text-align: right;\n    }\n</style>\n<table border=\"1\" class=\"dataframe\">\n  <thead>\n    <tr style=\"text-align: right;\">\n      <th></th>\n      <th>PassengerId</th>\n      <th>Survived</th>\n      <th>Pclass</th>\n      <th>Name</th>\n      <th>Sex</th>\n      <th>Age</th>\n      <th>SibSp</th>\n      <th>Parch</th>\n      <th>Ticket</th>\n      <th>Fare</th>\n      <th>Cabin</th>\n      <th>Embarked</th>\n    </tr>\n  </thead>\n  <tbody>\n    <tr>\n      <th>0</th>\n      <td>1</td>\n      <td>0</td>\n      <td>3</td>\n      <td>Braund, Mr. Owen Harris</td>\n      <td>male</td>\n      <td>22.0</td>\n      <td>1</td>\n      <td>0</td>\n      <td>A/5 21171</td>\n      <td>7.2500</td>\n      <td>NaN</td>\n      <td>S</td>\n    </tr>\n    <tr>\n      <th>1</th>\n      <td>2</td>\n      <td>1</td>\n      <td>1</td>\n      <td>Cumings, Mrs. John Bradley (Florence Briggs Th...</td>\n      <td>female</td>\n      <td>38.0</td>\n      <td>1</td>\n      <td>0</td>\n      <td>PC 17599</td>\n      <td>71.2833</td>\n      <td>C85</td>\n      <td>C</td>\n    </tr>\n    <tr>\n      <th>2</th>\n      <td>3</td>\n      <td>1</td>\n      <td>3</td>\n      <td>Heikkinen, Miss. Laina</td>\n      <td>female</td>\n      <td>26.0</td>\n      <td>0</td>\n      <td>0</td>\n      <td>STON/O2. 3101282</td>\n      <td>7.9250</td>\n      <td>NaN</td>\n      <td>S</td>\n    </tr>\n    <tr>\n      <th>3</th>\n      <td>4</td>\n      <td>1</td>\n      <td>1</td>\n      <td>Futrelle, Mrs. Jacques Heath (Lily May Peel)</td>\n      <td>female</td>\n      <td>35.0</td>\n      <td>1</td>\n      <td>0</td>\n      <td>113803</td>\n      <td>53.1000</td>\n      <td>C123</td>\n      <td>S</td>\n    </tr>\n    <tr>\n      <th>4</th>\n      <td>5</td>\n      <td>0</td>\n      <td>3</td>\n      <td>Allen, Mr. William Henry</td>\n      <td>male</td>\n      <td>35.0</td>\n      <td>0</td>\n      <td>0</td>\n      <td>373450</td>\n      <td>8.0500</td>\n      <td>NaN</td>\n      <td>S</td>\n    </tr>\n    <tr>\n      <th>...</th>\n      <td>...</td>\n      <td>...</td>\n      <td>...</td>\n      <td>...</td>\n      <td>...</td>\n      <td>...</td>\n      <td>...</td>\n      <td>...</td>\n      <td>...</td>\n      <td>...</td>\n      <td>...</td>\n      <td>...</td>\n    </tr>\n    <tr>\n      <th>886</th>\n      <td>887</td>\n      <td>0</td>\n      <td>2</td>\n      <td>Montvila, Rev. Juozas</td>\n      <td>male</td>\n      <td>27.0</td>\n      <td>0</td>\n      <td>0</td>\n      <td>211536</td>\n      <td>13.0000</td>\n      <td>NaN</td>\n      <td>S</td>\n    </tr>\n    <tr>\n      <th>887</th>\n      <td>888</td>\n      <td>1</td>\n      <td>1</td>\n      <td>Graham, Miss. Margaret Edith</td>\n      <td>female</td>\n      <td>19.0</td>\n      <td>0</td>\n      <td>0</td>\n      <td>112053</td>\n      <td>30.0000</td>\n      <td>B42</td>\n      <td>S</td>\n    </tr>\n    <tr>\n      <th>888</th>\n      <td>889</td>\n      <td>0</td>\n      <td>3</td>\n      <td>Johnston, Miss. Catherine Helen \"Carrie\"</td>\n      <td>female</td>\n      <td>NaN</td>\n      <td>1</td>\n      <td>2</td>\n      <td>W./C. 6607</td>\n      <td>23.4500</td>\n      <td>NaN</td>\n      <td>S</td>\n    </tr>\n    <tr>\n      <th>889</th>\n      <td>890</td>\n      <td>1</td>\n      <td>1</td>\n      <td>Behr, Mr. Karl Howell</td>\n      <td>male</td>\n      <td>26.0</td>\n      <td>0</td>\n      <td>0</td>\n      <td>111369</td>\n      <td>30.0000</td>\n      <td>C148</td>\n      <td>C</td>\n    </tr>\n    <tr>\n      <th>890</th>\n      <td>891</td>\n      <td>0</td>\n      <td>3</td>\n      <td>Dooley, Mr. Patrick</td>\n      <td>male</td>\n      <td>32.0</td>\n      <td>0</td>\n      <td>0</td>\n      <td>370376</td>\n      <td>7.7500</td>\n      <td>NaN</td>\n      <td>Q</td>\n    </tr>\n  </tbody>\n</table>\n<p>891 rows × 12 columns</p>\n</div>"
     },
     "metadata": {},
     "execution_count": 36
    }
   ],
   "source": [
    "df_1"
   ]
  },
  {
   "cell_type": "code",
   "execution_count": 37,
   "metadata": {},
   "outputs": [
    {
     "output_type": "execute_result",
     "data": {
      "text/plain": [
       "     PassengerId  Pclass                                          Name  \\\n",
       "0            892       3                              Kelly, Mr. James   \n",
       "1            893       3              Wilkes, Mrs. James (Ellen Needs)   \n",
       "2            894       2                     Myles, Mr. Thomas Francis   \n",
       "3            895       3                              Wirz, Mr. Albert   \n",
       "4            896       3  Hirvonen, Mrs. Alexander (Helga E Lindqvist)   \n",
       "..           ...     ...                                           ...   \n",
       "413         1305       3                            Spector, Mr. Woolf   \n",
       "414         1306       1                  Oliva y Ocana, Dona. Fermina   \n",
       "415         1307       3                  Saether, Mr. Simon Sivertsen   \n",
       "416         1308       3                           Ware, Mr. Frederick   \n",
       "417         1309       3                      Peter, Master. Michael J   \n",
       "\n",
       "        Sex   Age  SibSp  Parch              Ticket      Fare Cabin Embarked  \n",
       "0      male  34.5      0      0              330911    7.8292   NaN        Q  \n",
       "1    female  47.0      1      0              363272    7.0000   NaN        S  \n",
       "2      male  62.0      0      0              240276    9.6875   NaN        Q  \n",
       "3      male  27.0      0      0              315154    8.6625   NaN        S  \n",
       "4    female  22.0      1      1             3101298   12.2875   NaN        S  \n",
       "..      ...   ...    ...    ...                 ...       ...   ...      ...  \n",
       "413    male   NaN      0      0           A.5. 3236    8.0500   NaN        S  \n",
       "414  female  39.0      0      0            PC 17758  108.9000  C105        C  \n",
       "415    male  38.5      0      0  SOTON/O.Q. 3101262    7.2500   NaN        S  \n",
       "416    male   NaN      0      0              359309    8.0500   NaN        S  \n",
       "417    male   NaN      1      1                2668   22.3583   NaN        C  \n",
       "\n",
       "[418 rows x 11 columns]"
      ],
      "text/html": "<div>\n<style scoped>\n    .dataframe tbody tr th:only-of-type {\n        vertical-align: middle;\n    }\n\n    .dataframe tbody tr th {\n        vertical-align: top;\n    }\n\n    .dataframe thead th {\n        text-align: right;\n    }\n</style>\n<table border=\"1\" class=\"dataframe\">\n  <thead>\n    <tr style=\"text-align: right;\">\n      <th></th>\n      <th>PassengerId</th>\n      <th>Pclass</th>\n      <th>Name</th>\n      <th>Sex</th>\n      <th>Age</th>\n      <th>SibSp</th>\n      <th>Parch</th>\n      <th>Ticket</th>\n      <th>Fare</th>\n      <th>Cabin</th>\n      <th>Embarked</th>\n    </tr>\n  </thead>\n  <tbody>\n    <tr>\n      <th>0</th>\n      <td>892</td>\n      <td>3</td>\n      <td>Kelly, Mr. James</td>\n      <td>male</td>\n      <td>34.5</td>\n      <td>0</td>\n      <td>0</td>\n      <td>330911</td>\n      <td>7.8292</td>\n      <td>NaN</td>\n      <td>Q</td>\n    </tr>\n    <tr>\n      <th>1</th>\n      <td>893</td>\n      <td>3</td>\n      <td>Wilkes, Mrs. James (Ellen Needs)</td>\n      <td>female</td>\n      <td>47.0</td>\n      <td>1</td>\n      <td>0</td>\n      <td>363272</td>\n      <td>7.0000</td>\n      <td>NaN</td>\n      <td>S</td>\n    </tr>\n    <tr>\n      <th>2</th>\n      <td>894</td>\n      <td>2</td>\n      <td>Myles, Mr. Thomas Francis</td>\n      <td>male</td>\n      <td>62.0</td>\n      <td>0</td>\n      <td>0</td>\n      <td>240276</td>\n      <td>9.6875</td>\n      <td>NaN</td>\n      <td>Q</td>\n    </tr>\n    <tr>\n      <th>3</th>\n      <td>895</td>\n      <td>3</td>\n      <td>Wirz, Mr. Albert</td>\n      <td>male</td>\n      <td>27.0</td>\n      <td>0</td>\n      <td>0</td>\n      <td>315154</td>\n      <td>8.6625</td>\n      <td>NaN</td>\n      <td>S</td>\n    </tr>\n    <tr>\n      <th>4</th>\n      <td>896</td>\n      <td>3</td>\n      <td>Hirvonen, Mrs. Alexander (Helga E Lindqvist)</td>\n      <td>female</td>\n      <td>22.0</td>\n      <td>1</td>\n      <td>1</td>\n      <td>3101298</td>\n      <td>12.2875</td>\n      <td>NaN</td>\n      <td>S</td>\n    </tr>\n    <tr>\n      <th>...</th>\n      <td>...</td>\n      <td>...</td>\n      <td>...</td>\n      <td>...</td>\n      <td>...</td>\n      <td>...</td>\n      <td>...</td>\n      <td>...</td>\n      <td>...</td>\n      <td>...</td>\n      <td>...</td>\n    </tr>\n    <tr>\n      <th>413</th>\n      <td>1305</td>\n      <td>3</td>\n      <td>Spector, Mr. Woolf</td>\n      <td>male</td>\n      <td>NaN</td>\n      <td>0</td>\n      <td>0</td>\n      <td>A.5. 3236</td>\n      <td>8.0500</td>\n      <td>NaN</td>\n      <td>S</td>\n    </tr>\n    <tr>\n      <th>414</th>\n      <td>1306</td>\n      <td>1</td>\n      <td>Oliva y Ocana, Dona. Fermina</td>\n      <td>female</td>\n      <td>39.0</td>\n      <td>0</td>\n      <td>0</td>\n      <td>PC 17758</td>\n      <td>108.9000</td>\n      <td>C105</td>\n      <td>C</td>\n    </tr>\n    <tr>\n      <th>415</th>\n      <td>1307</td>\n      <td>3</td>\n      <td>Saether, Mr. Simon Sivertsen</td>\n      <td>male</td>\n      <td>38.5</td>\n      <td>0</td>\n      <td>0</td>\n      <td>SOTON/O.Q. 3101262</td>\n      <td>7.2500</td>\n      <td>NaN</td>\n      <td>S</td>\n    </tr>\n    <tr>\n      <th>416</th>\n      <td>1308</td>\n      <td>3</td>\n      <td>Ware, Mr. Frederick</td>\n      <td>male</td>\n      <td>NaN</td>\n      <td>0</td>\n      <td>0</td>\n      <td>359309</td>\n      <td>8.0500</td>\n      <td>NaN</td>\n      <td>S</td>\n    </tr>\n    <tr>\n      <th>417</th>\n      <td>1309</td>\n      <td>3</td>\n      <td>Peter, Master. Michael J</td>\n      <td>male</td>\n      <td>NaN</td>\n      <td>1</td>\n      <td>1</td>\n      <td>2668</td>\n      <td>22.3583</td>\n      <td>NaN</td>\n      <td>C</td>\n    </tr>\n  </tbody>\n</table>\n<p>418 rows × 11 columns</p>\n</div>"
     },
     "metadata": {},
     "execution_count": 37
    }
   ],
   "source": [
    "df_2"
   ]
  },
  {
   "cell_type": "code",
   "execution_count": 39,
   "metadata": {},
   "outputs": [
    {
     "output_type": "execute_result",
     "data": {
      "text/plain": [
       "  employee        group\n",
       "0      Bob   Accounting\n",
       "1     Jake  Engineering\n",
       "2     Lisa  Engineering\n",
       "3      Sue           HR\n",
       "4     John           IT\n",
       "5    Billy           HR"
      ],
      "text/html": "<div>\n<style scoped>\n    .dataframe tbody tr th:only-of-type {\n        vertical-align: middle;\n    }\n\n    .dataframe tbody tr th {\n        vertical-align: top;\n    }\n\n    .dataframe thead th {\n        text-align: right;\n    }\n</style>\n<table border=\"1\" class=\"dataframe\">\n  <thead>\n    <tr style=\"text-align: right;\">\n      <th></th>\n      <th>employee</th>\n      <th>group</th>\n    </tr>\n  </thead>\n  <tbody>\n    <tr>\n      <th>0</th>\n      <td>Bob</td>\n      <td>Accounting</td>\n    </tr>\n    <tr>\n      <th>1</th>\n      <td>Jake</td>\n      <td>Engineering</td>\n    </tr>\n    <tr>\n      <th>2</th>\n      <td>Lisa</td>\n      <td>Engineering</td>\n    </tr>\n    <tr>\n      <th>3</th>\n      <td>Sue</td>\n      <td>HR</td>\n    </tr>\n    <tr>\n      <th>4</th>\n      <td>John</td>\n      <td>IT</td>\n    </tr>\n    <tr>\n      <th>5</th>\n      <td>Billy</td>\n      <td>HR</td>\n    </tr>\n  </tbody>\n</table>\n</div>"
     },
     "metadata": {},
     "execution_count": 39
    }
   ],
   "source": [
    "df1 = pd.read_csv('data/employees1.csv', index_col=0)\n",
    "df2 = pd.read_csv('data/employees2.csv', index_col=0)\n",
    "df1"
   ]
  },
  {
   "cell_type": "code",
   "execution_count": 43,
   "metadata": {},
   "outputs": [
    {
     "output_type": "execute_result",
     "data": {
      "text/plain": [
       "  employee        group  hire_date\n",
       "0      Bob   Accounting       2008\n",
       "1     Jake  Engineering       2012\n",
       "2     Lisa  Engineering       2004\n",
       "3      Sue           HR       2014\n",
       "4     John           IT       2010\n",
       "5    Billy           HR       2015"
      ],
      "text/html": "<div>\n<style scoped>\n    .dataframe tbody tr th:only-of-type {\n        vertical-align: middle;\n    }\n\n    .dataframe tbody tr th {\n        vertical-align: top;\n    }\n\n    .dataframe thead th {\n        text-align: right;\n    }\n</style>\n<table border=\"1\" class=\"dataframe\">\n  <thead>\n    <tr style=\"text-align: right;\">\n      <th></th>\n      <th>employee</th>\n      <th>group</th>\n      <th>hire_date</th>\n    </tr>\n  </thead>\n  <tbody>\n    <tr>\n      <th>0</th>\n      <td>Bob</td>\n      <td>Accounting</td>\n      <td>2008</td>\n    </tr>\n    <tr>\n      <th>1</th>\n      <td>Jake</td>\n      <td>Engineering</td>\n      <td>2012</td>\n    </tr>\n    <tr>\n      <th>2</th>\n      <td>Lisa</td>\n      <td>Engineering</td>\n      <td>2004</td>\n    </tr>\n    <tr>\n      <th>3</th>\n      <td>Sue</td>\n      <td>HR</td>\n      <td>2014</td>\n    </tr>\n    <tr>\n      <th>4</th>\n      <td>John</td>\n      <td>IT</td>\n      <td>2010</td>\n    </tr>\n    <tr>\n      <th>5</th>\n      <td>Billy</td>\n      <td>HR</td>\n      <td>2015</td>\n    </tr>\n  </tbody>\n</table>\n</div>"
     },
     "metadata": {},
     "execution_count": 43
    }
   ],
   "source": [
    "pd.merge(df1, df2, on='employee')"
   ]
  },
  {
   "cell_type": "code",
   "execution_count": 8,
   "metadata": {},
   "outputs": [],
   "source": [
    "df = pd.DataFrame({'City': ['Houston', 'Austin', 'Hoover'],\n",
    "                   'State': ['Texas', 'Texas', 'Alabama'],\n",
    "                   'Name':['Aria', 'Penelope', 'Niko'],\n",
    "                   'Mango':[4, 10, 90],\n",
    "                   'Orange': [10, 8, 14], \n",
    "                   'Watermelon':[40, 99, 43],\n",
    "                   'Gin':[16, 200, 34],\n",
    "                   'Vodka':[20, 33, 18]},\n",
    "                 columns=['City', 'State', 'Name', 'Mango', 'Orange', 'Watermelon', 'Gin', 'Vodka'])"
   ]
  },
  {
   "cell_type": "code",
   "execution_count": 9,
   "metadata": {},
   "outputs": [
    {
     "output_type": "execute_result",
     "data": {
      "text/plain": [
       "      City    State      Name  Mango  Orange  Watermelon  Gin  Vodka\n",
       "0  Houston    Texas      Aria      4      10          40   16     20\n",
       "1   Austin    Texas  Penelope     10       8          99  200     33\n",
       "2   Hoover  Alabama      Niko     90      14          43   34     18"
      ],
      "text/html": "<div>\n<style scoped>\n    .dataframe tbody tr th:only-of-type {\n        vertical-align: middle;\n    }\n\n    .dataframe tbody tr th {\n        vertical-align: top;\n    }\n\n    .dataframe thead th {\n        text-align: right;\n    }\n</style>\n<table border=\"1\" class=\"dataframe\">\n  <thead>\n    <tr style=\"text-align: right;\">\n      <th></th>\n      <th>City</th>\n      <th>State</th>\n      <th>Name</th>\n      <th>Mango</th>\n      <th>Orange</th>\n      <th>Watermelon</th>\n      <th>Gin</th>\n      <th>Vodka</th>\n    </tr>\n  </thead>\n  <tbody>\n    <tr>\n      <th>0</th>\n      <td>Houston</td>\n      <td>Texas</td>\n      <td>Aria</td>\n      <td>4</td>\n      <td>10</td>\n      <td>40</td>\n      <td>16</td>\n      <td>20</td>\n    </tr>\n    <tr>\n      <th>1</th>\n      <td>Austin</td>\n      <td>Texas</td>\n      <td>Penelope</td>\n      <td>10</td>\n      <td>8</td>\n      <td>99</td>\n      <td>200</td>\n      <td>33</td>\n    </tr>\n    <tr>\n      <th>2</th>\n      <td>Hoover</td>\n      <td>Alabama</td>\n      <td>Niko</td>\n      <td>90</td>\n      <td>14</td>\n      <td>43</td>\n      <td>34</td>\n      <td>18</td>\n    </tr>\n  </tbody>\n</table>\n</div>"
     },
     "metadata": {},
     "execution_count": 9
    }
   ],
   "source": [
    "df"
   ]
  },
  {
   "cell_type": "code",
   "execution_count": 12,
   "metadata": {},
   "outputs": [
    {
     "output_type": "execute_result",
     "data": {
      "text/plain": [
       "      City    State      Name  Gin  Vodka       Fruit  Fruit_count\n",
       "0  Houston    Texas      Aria   16     20       Mango            4\n",
       "1   Austin    Texas  Penelope  200     33       Mango           10\n",
       "2   Hoover  Alabama      Niko   34     18       Mango           90\n",
       "3  Houston    Texas      Aria   16     20      Orange           10\n",
       "4   Austin    Texas  Penelope  200     33      Orange            8\n",
       "5   Hoover  Alabama      Niko   34     18      Orange           14\n",
       "6  Houston    Texas      Aria   16     20  Watermelon           40\n",
       "7   Austin    Texas  Penelope  200     33  Watermelon           99\n",
       "8   Hoover  Alabama      Niko   34     18  Watermelon           43"
      ],
      "text/html": "<div>\n<style scoped>\n    .dataframe tbody tr th:only-of-type {\n        vertical-align: middle;\n    }\n\n    .dataframe tbody tr th {\n        vertical-align: top;\n    }\n\n    .dataframe thead th {\n        text-align: right;\n    }\n</style>\n<table border=\"1\" class=\"dataframe\">\n  <thead>\n    <tr style=\"text-align: right;\">\n      <th></th>\n      <th>City</th>\n      <th>State</th>\n      <th>Name</th>\n      <th>Gin</th>\n      <th>Vodka</th>\n      <th>Fruit</th>\n      <th>Fruit_count</th>\n    </tr>\n  </thead>\n  <tbody>\n    <tr>\n      <th>0</th>\n      <td>Houston</td>\n      <td>Texas</td>\n      <td>Aria</td>\n      <td>16</td>\n      <td>20</td>\n      <td>Mango</td>\n      <td>4</td>\n    </tr>\n    <tr>\n      <th>1</th>\n      <td>Austin</td>\n      <td>Texas</td>\n      <td>Penelope</td>\n      <td>200</td>\n      <td>33</td>\n      <td>Mango</td>\n      <td>10</td>\n    </tr>\n    <tr>\n      <th>2</th>\n      <td>Hoover</td>\n      <td>Alabama</td>\n      <td>Niko</td>\n      <td>34</td>\n      <td>18</td>\n      <td>Mango</td>\n      <td>90</td>\n    </tr>\n    <tr>\n      <th>3</th>\n      <td>Houston</td>\n      <td>Texas</td>\n      <td>Aria</td>\n      <td>16</td>\n      <td>20</td>\n      <td>Orange</td>\n      <td>10</td>\n    </tr>\n    <tr>\n      <th>4</th>\n      <td>Austin</td>\n      <td>Texas</td>\n      <td>Penelope</td>\n      <td>200</td>\n      <td>33</td>\n      <td>Orange</td>\n      <td>8</td>\n    </tr>\n    <tr>\n      <th>5</th>\n      <td>Hoover</td>\n      <td>Alabama</td>\n      <td>Niko</td>\n      <td>34</td>\n      <td>18</td>\n      <td>Orange</td>\n      <td>14</td>\n    </tr>\n    <tr>\n      <th>6</th>\n      <td>Houston</td>\n      <td>Texas</td>\n      <td>Aria</td>\n      <td>16</td>\n      <td>20</td>\n      <td>Watermelon</td>\n      <td>40</td>\n    </tr>\n    <tr>\n      <th>7</th>\n      <td>Austin</td>\n      <td>Texas</td>\n      <td>Penelope</td>\n      <td>200</td>\n      <td>33</td>\n      <td>Watermelon</td>\n      <td>99</td>\n    </tr>\n    <tr>\n      <th>8</th>\n      <td>Hoover</td>\n      <td>Alabama</td>\n      <td>Niko</td>\n      <td>34</td>\n      <td>18</td>\n      <td>Watermelon</td>\n      <td>43</td>\n    </tr>\n  </tbody>\n</table>\n</div>"
     },
     "metadata": {},
     "execution_count": 12
    }
   ],
   "source": [
    "df1 = pd.melt(df, id_vars=['City', 'State', 'Name', 'Gin', 'Vodka'], var_name='Fruit', value_name='Fruit_count')\n",
    "df1"
   ]
  },
  {
   "cell_type": "code",
   "execution_count": 14,
   "metadata": {},
   "outputs": [
    {
     "output_type": "execute_result",
     "data": {
      "text/plain": [
       "       City    State      Name       Fruit  Fruit_count   Wine  Wine_count\n",
       "0   Houston    Texas      Aria       Mango            4    Gin          16\n",
       "1    Austin    Texas  Penelope       Mango           10    Gin         200\n",
       "2    Hoover  Alabama      Niko       Mango           90    Gin          34\n",
       "3   Houston    Texas      Aria      Orange           10    Gin          16\n",
       "4    Austin    Texas  Penelope      Orange            8    Gin         200\n",
       "5    Hoover  Alabama      Niko      Orange           14    Gin          34\n",
       "6   Houston    Texas      Aria  Watermelon           40    Gin          16\n",
       "7    Austin    Texas  Penelope  Watermelon           99    Gin         200\n",
       "8    Hoover  Alabama      Niko  Watermelon           43    Gin          34\n",
       "9   Houston    Texas      Aria       Mango            4  Vodka          20\n",
       "10   Austin    Texas  Penelope       Mango           10  Vodka          33\n",
       "11   Hoover  Alabama      Niko       Mango           90  Vodka          18\n",
       "12  Houston    Texas      Aria      Orange           10  Vodka          20\n",
       "13   Austin    Texas  Penelope      Orange            8  Vodka          33\n",
       "14   Hoover  Alabama      Niko      Orange           14  Vodka          18\n",
       "15  Houston    Texas      Aria  Watermelon           40  Vodka          20\n",
       "16   Austin    Texas  Penelope  Watermelon           99  Vodka          33\n",
       "17   Hoover  Alabama      Niko  Watermelon           43  Vodka          18"
      ],
      "text/html": "<div>\n<style scoped>\n    .dataframe tbody tr th:only-of-type {\n        vertical-align: middle;\n    }\n\n    .dataframe tbody tr th {\n        vertical-align: top;\n    }\n\n    .dataframe thead th {\n        text-align: right;\n    }\n</style>\n<table border=\"1\" class=\"dataframe\">\n  <thead>\n    <tr style=\"text-align: right;\">\n      <th></th>\n      <th>City</th>\n      <th>State</th>\n      <th>Name</th>\n      <th>Fruit</th>\n      <th>Fruit_count</th>\n      <th>Wine</th>\n      <th>Wine_count</th>\n    </tr>\n  </thead>\n  <tbody>\n    <tr>\n      <th>0</th>\n      <td>Houston</td>\n      <td>Texas</td>\n      <td>Aria</td>\n      <td>Mango</td>\n      <td>4</td>\n      <td>Gin</td>\n      <td>16</td>\n    </tr>\n    <tr>\n      <th>1</th>\n      <td>Austin</td>\n      <td>Texas</td>\n      <td>Penelope</td>\n      <td>Mango</td>\n      <td>10</td>\n      <td>Gin</td>\n      <td>200</td>\n    </tr>\n    <tr>\n      <th>2</th>\n      <td>Hoover</td>\n      <td>Alabama</td>\n      <td>Niko</td>\n      <td>Mango</td>\n      <td>90</td>\n      <td>Gin</td>\n      <td>34</td>\n    </tr>\n    <tr>\n      <th>3</th>\n      <td>Houston</td>\n      <td>Texas</td>\n      <td>Aria</td>\n      <td>Orange</td>\n      <td>10</td>\n      <td>Gin</td>\n      <td>16</td>\n    </tr>\n    <tr>\n      <th>4</th>\n      <td>Austin</td>\n      <td>Texas</td>\n      <td>Penelope</td>\n      <td>Orange</td>\n      <td>8</td>\n      <td>Gin</td>\n      <td>200</td>\n    </tr>\n    <tr>\n      <th>5</th>\n      <td>Hoover</td>\n      <td>Alabama</td>\n      <td>Niko</td>\n      <td>Orange</td>\n      <td>14</td>\n      <td>Gin</td>\n      <td>34</td>\n    </tr>\n    <tr>\n      <th>6</th>\n      <td>Houston</td>\n      <td>Texas</td>\n      <td>Aria</td>\n      <td>Watermelon</td>\n      <td>40</td>\n      <td>Gin</td>\n      <td>16</td>\n    </tr>\n    <tr>\n      <th>7</th>\n      <td>Austin</td>\n      <td>Texas</td>\n      <td>Penelope</td>\n      <td>Watermelon</td>\n      <td>99</td>\n      <td>Gin</td>\n      <td>200</td>\n    </tr>\n    <tr>\n      <th>8</th>\n      <td>Hoover</td>\n      <td>Alabama</td>\n      <td>Niko</td>\n      <td>Watermelon</td>\n      <td>43</td>\n      <td>Gin</td>\n      <td>34</td>\n    </tr>\n    <tr>\n      <th>9</th>\n      <td>Houston</td>\n      <td>Texas</td>\n      <td>Aria</td>\n      <td>Mango</td>\n      <td>4</td>\n      <td>Vodka</td>\n      <td>20</td>\n    </tr>\n    <tr>\n      <th>10</th>\n      <td>Austin</td>\n      <td>Texas</td>\n      <td>Penelope</td>\n      <td>Mango</td>\n      <td>10</td>\n      <td>Vodka</td>\n      <td>33</td>\n    </tr>\n    <tr>\n      <th>11</th>\n      <td>Hoover</td>\n      <td>Alabama</td>\n      <td>Niko</td>\n      <td>Mango</td>\n      <td>90</td>\n      <td>Vodka</td>\n      <td>18</td>\n    </tr>\n    <tr>\n      <th>12</th>\n      <td>Houston</td>\n      <td>Texas</td>\n      <td>Aria</td>\n      <td>Orange</td>\n      <td>10</td>\n      <td>Vodka</td>\n      <td>20</td>\n    </tr>\n    <tr>\n      <th>13</th>\n      <td>Austin</td>\n      <td>Texas</td>\n      <td>Penelope</td>\n      <td>Orange</td>\n      <td>8</td>\n      <td>Vodka</td>\n      <td>33</td>\n    </tr>\n    <tr>\n      <th>14</th>\n      <td>Hoover</td>\n      <td>Alabama</td>\n      <td>Niko</td>\n      <td>Orange</td>\n      <td>14</td>\n      <td>Vodka</td>\n      <td>18</td>\n    </tr>\n    <tr>\n      <th>15</th>\n      <td>Houston</td>\n      <td>Texas</td>\n      <td>Aria</td>\n      <td>Watermelon</td>\n      <td>40</td>\n      <td>Vodka</td>\n      <td>20</td>\n    </tr>\n    <tr>\n      <th>16</th>\n      <td>Austin</td>\n      <td>Texas</td>\n      <td>Penelope</td>\n      <td>Watermelon</td>\n      <td>99</td>\n      <td>Vodka</td>\n      <td>33</td>\n    </tr>\n    <tr>\n      <th>17</th>\n      <td>Hoover</td>\n      <td>Alabama</td>\n      <td>Niko</td>\n      <td>Watermelon</td>\n      <td>43</td>\n      <td>Vodka</td>\n      <td>18</td>\n    </tr>\n  </tbody>\n</table>\n</div>"
     },
     "metadata": {},
     "execution_count": 14
    }
   ],
   "source": [
    "df2 = pd.melt(df1, id_vars=['City', 'State', 'Name', 'Fruit', 'Fruit_count'], var_name='Wine', value_name='Wine_count')\n",
    "df2"
   ]
  },
  {
   "cell_type": "code",
   "execution_count": null,
   "metadata": {},
   "outputs": [],
   "source": []
  }
 ]
}